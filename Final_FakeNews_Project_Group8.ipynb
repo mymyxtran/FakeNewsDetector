{
  "nbformat": 4,
  "nbformat_minor": 0,
  "metadata": {
    "colab": {
      "name": "Final_FakeNews_Project_Group8.ipynb",
      "provenance": [],
      "collapsed_sections": [],
      "toc_visible": true
    },
    "kernelspec": {
      "display_name": "Python 3",
      "name": "python3"
    },
    "language_info": {
      "name": "python"
    },
    "widgets": {
      "application/vnd.jupyter.widget-state+json": {
        "637d92518141420aac500f34ac6c4c16": {
          "model_module": "@jupyter-widgets/controls",
          "model_name": "HBoxModel",
          "state": {
            "_view_name": "HBoxView",
            "_dom_classes": [],
            "_model_name": "HBoxModel",
            "_view_module": "@jupyter-widgets/controls",
            "_model_module_version": "1.5.0",
            "_view_count": null,
            "_view_module_version": "1.5.0",
            "box_style": "",
            "layout": "IPY_MODEL_e39dd6a9ddb343d3bbd454ac28bf6ab3",
            "_model_module": "@jupyter-widgets/controls",
            "children": [
              "IPY_MODEL_2dd27a3a255843fe917afd1406520164",
              "IPY_MODEL_d1d293363b3146bc837639cfdbe3abe3"
            ]
          }
        },
        "e39dd6a9ddb343d3bbd454ac28bf6ab3": {
          "model_module": "@jupyter-widgets/base",
          "model_name": "LayoutModel",
          "state": {
            "_view_name": "LayoutView",
            "grid_template_rows": null,
            "right": null,
            "justify_content": null,
            "_view_module": "@jupyter-widgets/base",
            "overflow": null,
            "_model_module_version": "1.2.0",
            "_view_count": null,
            "flex_flow": null,
            "width": null,
            "min_width": null,
            "border": null,
            "align_items": null,
            "bottom": null,
            "_model_module": "@jupyter-widgets/base",
            "top": null,
            "grid_column": null,
            "overflow_y": null,
            "overflow_x": null,
            "grid_auto_flow": null,
            "grid_area": null,
            "grid_template_columns": null,
            "flex": null,
            "_model_name": "LayoutModel",
            "justify_items": null,
            "grid_row": null,
            "max_height": null,
            "align_content": null,
            "visibility": null,
            "align_self": null,
            "height": null,
            "min_height": null,
            "padding": null,
            "grid_auto_rows": null,
            "grid_gap": null,
            "max_width": null,
            "order": null,
            "_view_module_version": "1.2.0",
            "grid_template_areas": null,
            "object_position": null,
            "object_fit": null,
            "grid_auto_columns": null,
            "margin": null,
            "display": null,
            "left": null
          }
        },
        "2dd27a3a255843fe917afd1406520164": {
          "model_module": "@jupyter-widgets/controls",
          "model_name": "FloatProgressModel",
          "state": {
            "_view_name": "ProgressView",
            "style": "IPY_MODEL_58bdbe90c7f6432084a738f94f05e56b",
            "_dom_classes": [],
            "description": "100%",
            "_model_name": "FloatProgressModel",
            "bar_style": "success",
            "max": 15,
            "_view_module": "@jupyter-widgets/controls",
            "_model_module_version": "1.5.0",
            "value": 15,
            "_view_count": null,
            "_view_module_version": "1.5.0",
            "orientation": "horizontal",
            "min": 0,
            "description_tooltip": null,
            "_model_module": "@jupyter-widgets/controls",
            "layout": "IPY_MODEL_0a899376a64c49009c6e00be0de810a1"
          }
        },
        "d1d293363b3146bc837639cfdbe3abe3": {
          "model_module": "@jupyter-widgets/controls",
          "model_name": "HTMLModel",
          "state": {
            "_view_name": "HTMLView",
            "style": "IPY_MODEL_631468226e494ec6b7a11fa6208512b2",
            "_dom_classes": [],
            "description": "",
            "_model_name": "HTMLModel",
            "placeholder": "​",
            "_view_module": "@jupyter-widgets/controls",
            "_model_module_version": "1.5.0",
            "value": " 15/15 [6:33:56&lt;00:00, 1575.76s/it]",
            "_view_count": null,
            "_view_module_version": "1.5.0",
            "description_tooltip": null,
            "_model_module": "@jupyter-widgets/controls",
            "layout": "IPY_MODEL_f805f1c9f3744e55b62b0b489854c300"
          }
        },
        "58bdbe90c7f6432084a738f94f05e56b": {
          "model_module": "@jupyter-widgets/controls",
          "model_name": "ProgressStyleModel",
          "state": {
            "_view_name": "StyleView",
            "_model_name": "ProgressStyleModel",
            "description_width": "initial",
            "_view_module": "@jupyter-widgets/base",
            "_model_module_version": "1.5.0",
            "_view_count": null,
            "_view_module_version": "1.2.0",
            "bar_color": null,
            "_model_module": "@jupyter-widgets/controls"
          }
        },
        "0a899376a64c49009c6e00be0de810a1": {
          "model_module": "@jupyter-widgets/base",
          "model_name": "LayoutModel",
          "state": {
            "_view_name": "LayoutView",
            "grid_template_rows": null,
            "right": null,
            "justify_content": null,
            "_view_module": "@jupyter-widgets/base",
            "overflow": null,
            "_model_module_version": "1.2.0",
            "_view_count": null,
            "flex_flow": null,
            "width": null,
            "min_width": null,
            "border": null,
            "align_items": null,
            "bottom": null,
            "_model_module": "@jupyter-widgets/base",
            "top": null,
            "grid_column": null,
            "overflow_y": null,
            "overflow_x": null,
            "grid_auto_flow": null,
            "grid_area": null,
            "grid_template_columns": null,
            "flex": null,
            "_model_name": "LayoutModel",
            "justify_items": null,
            "grid_row": null,
            "max_height": null,
            "align_content": null,
            "visibility": null,
            "align_self": null,
            "height": null,
            "min_height": null,
            "padding": null,
            "grid_auto_rows": null,
            "grid_gap": null,
            "max_width": null,
            "order": null,
            "_view_module_version": "1.2.0",
            "grid_template_areas": null,
            "object_position": null,
            "object_fit": null,
            "grid_auto_columns": null,
            "margin": null,
            "display": null,
            "left": null
          }
        },
        "631468226e494ec6b7a11fa6208512b2": {
          "model_module": "@jupyter-widgets/controls",
          "model_name": "DescriptionStyleModel",
          "state": {
            "_view_name": "StyleView",
            "_model_name": "DescriptionStyleModel",
            "description_width": "",
            "_view_module": "@jupyter-widgets/base",
            "_model_module_version": "1.5.0",
            "_view_count": null,
            "_view_module_version": "1.2.0",
            "_model_module": "@jupyter-widgets/controls"
          }
        },
        "f805f1c9f3744e55b62b0b489854c300": {
          "model_module": "@jupyter-widgets/base",
          "model_name": "LayoutModel",
          "state": {
            "_view_name": "LayoutView",
            "grid_template_rows": null,
            "right": null,
            "justify_content": null,
            "_view_module": "@jupyter-widgets/base",
            "overflow": null,
            "_model_module_version": "1.2.0",
            "_view_count": null,
            "flex_flow": null,
            "width": null,
            "min_width": null,
            "border": null,
            "align_items": null,
            "bottom": null,
            "_model_module": "@jupyter-widgets/base",
            "top": null,
            "grid_column": null,
            "overflow_y": null,
            "overflow_x": null,
            "grid_auto_flow": null,
            "grid_area": null,
            "grid_template_columns": null,
            "flex": null,
            "_model_name": "LayoutModel",
            "justify_items": null,
            "grid_row": null,
            "max_height": null,
            "align_content": null,
            "visibility": null,
            "align_self": null,
            "height": null,
            "min_height": null,
            "padding": null,
            "grid_auto_rows": null,
            "grid_gap": null,
            "max_width": null,
            "order": null,
            "_view_module_version": "1.2.0",
            "grid_template_areas": null,
            "object_position": null,
            "object_fit": null,
            "grid_auto_columns": null,
            "margin": null,
            "display": null,
            "left": null
          }
        },
        "d45b393aedf547bfa387c04fa470fc77": {
          "model_module": "@jupyter-widgets/controls",
          "model_name": "HBoxModel",
          "state": {
            "_view_name": "HBoxView",
            "_dom_classes": [],
            "_model_name": "HBoxModel",
            "_view_module": "@jupyter-widgets/controls",
            "_model_module_version": "1.5.0",
            "_view_count": null,
            "_view_module_version": "1.5.0",
            "box_style": "",
            "layout": "IPY_MODEL_6065d4e5b59f4dc3b24807c0b8666ce5",
            "_model_module": "@jupyter-widgets/controls",
            "children": [
              "IPY_MODEL_d8209b968b674c5582bebd428167c6dd",
              "IPY_MODEL_03f0829a5a3f424f9175404e1e63424a"
            ]
          }
        },
        "6065d4e5b59f4dc3b24807c0b8666ce5": {
          "model_module": "@jupyter-widgets/base",
          "model_name": "LayoutModel",
          "state": {
            "_view_name": "LayoutView",
            "grid_template_rows": null,
            "right": null,
            "justify_content": null,
            "_view_module": "@jupyter-widgets/base",
            "overflow": null,
            "_model_module_version": "1.2.0",
            "_view_count": null,
            "flex_flow": null,
            "width": null,
            "min_width": null,
            "border": null,
            "align_items": null,
            "bottom": null,
            "_model_module": "@jupyter-widgets/base",
            "top": null,
            "grid_column": null,
            "overflow_y": null,
            "overflow_x": null,
            "grid_auto_flow": null,
            "grid_area": null,
            "grid_template_columns": null,
            "flex": null,
            "_model_name": "LayoutModel",
            "justify_items": null,
            "grid_row": null,
            "max_height": null,
            "align_content": null,
            "visibility": null,
            "align_self": null,
            "height": null,
            "min_height": null,
            "padding": null,
            "grid_auto_rows": null,
            "grid_gap": null,
            "max_width": null,
            "order": null,
            "_view_module_version": "1.2.0",
            "grid_template_areas": null,
            "object_position": null,
            "object_fit": null,
            "grid_auto_columns": null,
            "margin": null,
            "display": null,
            "left": null
          }
        },
        "d8209b968b674c5582bebd428167c6dd": {
          "model_module": "@jupyter-widgets/controls",
          "model_name": "FloatProgressModel",
          "state": {
            "_view_name": "ProgressView",
            "style": "IPY_MODEL_880dad1e5e3e4758bead845c47ba54e9",
            "_dom_classes": [],
            "description": "Epoch 0: 100%",
            "_model_name": "FloatProgressModel",
            "bar_style": "",
            "max": 75,
            "_view_module": "@jupyter-widgets/controls",
            "_model_module_version": "1.5.0",
            "value": 75,
            "_view_count": null,
            "_view_module_version": "1.5.0",
            "orientation": "horizontal",
            "min": 0,
            "description_tooltip": null,
            "_model_module": "@jupyter-widgets/controls",
            "layout": "IPY_MODEL_c25364bc73a2409bb587c7f5a62b17f0"
          }
        },
        "03f0829a5a3f424f9175404e1e63424a": {
          "model_module": "@jupyter-widgets/controls",
          "model_name": "HTMLModel",
          "state": {
            "_view_name": "HTMLView",
            "style": "IPY_MODEL_43be4e693b774598b48476723a53802c",
            "_dom_classes": [],
            "description": "",
            "_model_name": "HTMLModel",
            "placeholder": "​",
            "_view_module": "@jupyter-widgets/controls",
            "_model_module_version": "1.5.0",
            "value": " 75/75 [25:34&lt;00:00,  9.71s/it, loss=0.536]",
            "_view_count": null,
            "_view_module_version": "1.5.0",
            "description_tooltip": null,
            "_model_module": "@jupyter-widgets/controls",
            "layout": "IPY_MODEL_3e613cec5a4e4fd9be6bbcd0561b0266"
          }
        },
        "880dad1e5e3e4758bead845c47ba54e9": {
          "model_module": "@jupyter-widgets/controls",
          "model_name": "ProgressStyleModel",
          "state": {
            "_view_name": "StyleView",
            "_model_name": "ProgressStyleModel",
            "description_width": "initial",
            "_view_module": "@jupyter-widgets/base",
            "_model_module_version": "1.5.0",
            "_view_count": null,
            "_view_module_version": "1.2.0",
            "bar_color": null,
            "_model_module": "@jupyter-widgets/controls"
          }
        },
        "c25364bc73a2409bb587c7f5a62b17f0": {
          "model_module": "@jupyter-widgets/base",
          "model_name": "LayoutModel",
          "state": {
            "_view_name": "LayoutView",
            "grid_template_rows": null,
            "right": null,
            "justify_content": null,
            "_view_module": "@jupyter-widgets/base",
            "overflow": null,
            "_model_module_version": "1.2.0",
            "_view_count": null,
            "flex_flow": null,
            "width": null,
            "min_width": null,
            "border": null,
            "align_items": null,
            "bottom": null,
            "_model_module": "@jupyter-widgets/base",
            "top": null,
            "grid_column": null,
            "overflow_y": null,
            "overflow_x": null,
            "grid_auto_flow": null,
            "grid_area": null,
            "grid_template_columns": null,
            "flex": null,
            "_model_name": "LayoutModel",
            "justify_items": null,
            "grid_row": null,
            "max_height": null,
            "align_content": null,
            "visibility": null,
            "align_self": null,
            "height": null,
            "min_height": null,
            "padding": null,
            "grid_auto_rows": null,
            "grid_gap": null,
            "max_width": null,
            "order": null,
            "_view_module_version": "1.2.0",
            "grid_template_areas": null,
            "object_position": null,
            "object_fit": null,
            "grid_auto_columns": null,
            "margin": null,
            "display": null,
            "left": null
          }
        },
        "43be4e693b774598b48476723a53802c": {
          "model_module": "@jupyter-widgets/controls",
          "model_name": "DescriptionStyleModel",
          "state": {
            "_view_name": "StyleView",
            "_model_name": "DescriptionStyleModel",
            "description_width": "",
            "_view_module": "@jupyter-widgets/base",
            "_model_module_version": "1.5.0",
            "_view_count": null,
            "_view_module_version": "1.2.0",
            "_model_module": "@jupyter-widgets/controls"
          }
        },
        "3e613cec5a4e4fd9be6bbcd0561b0266": {
          "model_module": "@jupyter-widgets/base",
          "model_name": "LayoutModel",
          "state": {
            "_view_name": "LayoutView",
            "grid_template_rows": null,
            "right": null,
            "justify_content": null,
            "_view_module": "@jupyter-widgets/base",
            "overflow": null,
            "_model_module_version": "1.2.0",
            "_view_count": null,
            "flex_flow": null,
            "width": null,
            "min_width": null,
            "border": null,
            "align_items": null,
            "bottom": null,
            "_model_module": "@jupyter-widgets/base",
            "top": null,
            "grid_column": null,
            "overflow_y": null,
            "overflow_x": null,
            "grid_auto_flow": null,
            "grid_area": null,
            "grid_template_columns": null,
            "flex": null,
            "_model_name": "LayoutModel",
            "justify_items": null,
            "grid_row": null,
            "max_height": null,
            "align_content": null,
            "visibility": null,
            "align_self": null,
            "height": null,
            "min_height": null,
            "padding": null,
            "grid_auto_rows": null,
            "grid_gap": null,
            "max_width": null,
            "order": null,
            "_view_module_version": "1.2.0",
            "grid_template_areas": null,
            "object_position": null,
            "object_fit": null,
            "grid_auto_columns": null,
            "margin": null,
            "display": null,
            "left": null
          }
        },
        "8ef2c7ba535d47148eb34c7714020109": {
          "model_module": "@jupyter-widgets/controls",
          "model_name": "HBoxModel",
          "state": {
            "_view_name": "HBoxView",
            "_dom_classes": [],
            "_model_name": "HBoxModel",
            "_view_module": "@jupyter-widgets/controls",
            "_model_module_version": "1.5.0",
            "_view_count": null,
            "_view_module_version": "1.5.0",
            "box_style": "",
            "layout": "IPY_MODEL_cc5d99ada9734c589fad3aa7cd383d2a",
            "_model_module": "@jupyter-widgets/controls",
            "children": [
              "IPY_MODEL_1631cd2534ea459ea7a4d7d6d3107f29",
              "IPY_MODEL_dffcbedfd91f4bbb9f82a25dcef8c5bd"
            ]
          }
        },
        "cc5d99ada9734c589fad3aa7cd383d2a": {
          "model_module": "@jupyter-widgets/base",
          "model_name": "LayoutModel",
          "state": {
            "_view_name": "LayoutView",
            "grid_template_rows": null,
            "right": null,
            "justify_content": null,
            "_view_module": "@jupyter-widgets/base",
            "overflow": null,
            "_model_module_version": "1.2.0",
            "_view_count": null,
            "flex_flow": null,
            "width": null,
            "min_width": null,
            "border": null,
            "align_items": null,
            "bottom": null,
            "_model_module": "@jupyter-widgets/base",
            "top": null,
            "grid_column": null,
            "overflow_y": null,
            "overflow_x": null,
            "grid_auto_flow": null,
            "grid_area": null,
            "grid_template_columns": null,
            "flex": null,
            "_model_name": "LayoutModel",
            "justify_items": null,
            "grid_row": null,
            "max_height": null,
            "align_content": null,
            "visibility": null,
            "align_self": null,
            "height": null,
            "min_height": null,
            "padding": null,
            "grid_auto_rows": null,
            "grid_gap": null,
            "max_width": null,
            "order": null,
            "_view_module_version": "1.2.0",
            "grid_template_areas": null,
            "object_position": null,
            "object_fit": null,
            "grid_auto_columns": null,
            "margin": null,
            "display": null,
            "left": null
          }
        },
        "1631cd2534ea459ea7a4d7d6d3107f29": {
          "model_module": "@jupyter-widgets/controls",
          "model_name": "FloatProgressModel",
          "state": {
            "_view_name": "ProgressView",
            "style": "IPY_MODEL_8be0bd471fe246c2a5f53fe56f3a82ac",
            "_dom_classes": [],
            "description": "100%",
            "_model_name": "FloatProgressModel",
            "bar_style": "",
            "max": 25,
            "_view_module": "@jupyter-widgets/controls",
            "_model_module_version": "1.5.0",
            "value": 25,
            "_view_count": null,
            "_view_module_version": "1.5.0",
            "orientation": "horizontal",
            "min": 0,
            "description_tooltip": null,
            "_model_module": "@jupyter-widgets/controls",
            "layout": "IPY_MODEL_db239320c39642bba1f869ae11558970"
          }
        },
        "dffcbedfd91f4bbb9f82a25dcef8c5bd": {
          "model_module": "@jupyter-widgets/controls",
          "model_name": "HTMLModel",
          "state": {
            "_view_name": "HTMLView",
            "style": "IPY_MODEL_07200d84fad544aa8a02845eaa0b6d00",
            "_dom_classes": [],
            "description": "",
            "_model_name": "HTMLModel",
            "placeholder": "​",
            "_view_module": "@jupyter-widgets/controls",
            "_model_module_version": "1.5.0",
            "value": " 25/25 [00:06&lt;00:00,  1.18it/s]",
            "_view_count": null,
            "_view_module_version": "1.5.0",
            "description_tooltip": null,
            "_model_module": "@jupyter-widgets/controls",
            "layout": "IPY_MODEL_ffe99a174d364a4d9af2c6a9d62418c4"
          }
        },
        "8be0bd471fe246c2a5f53fe56f3a82ac": {
          "model_module": "@jupyter-widgets/controls",
          "model_name": "ProgressStyleModel",
          "state": {
            "_view_name": "StyleView",
            "_model_name": "ProgressStyleModel",
            "description_width": "initial",
            "_view_module": "@jupyter-widgets/base",
            "_model_module_version": "1.5.0",
            "_view_count": null,
            "_view_module_version": "1.2.0",
            "bar_color": null,
            "_model_module": "@jupyter-widgets/controls"
          }
        },
        "db239320c39642bba1f869ae11558970": {
          "model_module": "@jupyter-widgets/base",
          "model_name": "LayoutModel",
          "state": {
            "_view_name": "LayoutView",
            "grid_template_rows": null,
            "right": null,
            "justify_content": null,
            "_view_module": "@jupyter-widgets/base",
            "overflow": null,
            "_model_module_version": "1.2.0",
            "_view_count": null,
            "flex_flow": null,
            "width": null,
            "min_width": null,
            "border": null,
            "align_items": null,
            "bottom": null,
            "_model_module": "@jupyter-widgets/base",
            "top": null,
            "grid_column": null,
            "overflow_y": null,
            "overflow_x": null,
            "grid_auto_flow": null,
            "grid_area": null,
            "grid_template_columns": null,
            "flex": null,
            "_model_name": "LayoutModel",
            "justify_items": null,
            "grid_row": null,
            "max_height": null,
            "align_content": null,
            "visibility": null,
            "align_self": null,
            "height": null,
            "min_height": null,
            "padding": null,
            "grid_auto_rows": null,
            "grid_gap": null,
            "max_width": null,
            "order": null,
            "_view_module_version": "1.2.0",
            "grid_template_areas": null,
            "object_position": null,
            "object_fit": null,
            "grid_auto_columns": null,
            "margin": null,
            "display": null,
            "left": null
          }
        },
        "07200d84fad544aa8a02845eaa0b6d00": {
          "model_module": "@jupyter-widgets/controls",
          "model_name": "DescriptionStyleModel",
          "state": {
            "_view_name": "StyleView",
            "_model_name": "DescriptionStyleModel",
            "description_width": "",
            "_view_module": "@jupyter-widgets/base",
            "_model_module_version": "1.5.0",
            "_view_count": null,
            "_view_module_version": "1.2.0",
            "_model_module": "@jupyter-widgets/controls"
          }
        },
        "ffe99a174d364a4d9af2c6a9d62418c4": {
          "model_module": "@jupyter-widgets/base",
          "model_name": "LayoutModel",
          "state": {
            "_view_name": "LayoutView",
            "grid_template_rows": null,
            "right": null,
            "justify_content": null,
            "_view_module": "@jupyter-widgets/base",
            "overflow": null,
            "_model_module_version": "1.2.0",
            "_view_count": null,
            "flex_flow": null,
            "width": null,
            "min_width": null,
            "border": null,
            "align_items": null,
            "bottom": null,
            "_model_module": "@jupyter-widgets/base",
            "top": null,
            "grid_column": null,
            "overflow_y": null,
            "overflow_x": null,
            "grid_auto_flow": null,
            "grid_area": null,
            "grid_template_columns": null,
            "flex": null,
            "_model_name": "LayoutModel",
            "justify_items": null,
            "grid_row": null,
            "max_height": null,
            "align_content": null,
            "visibility": null,
            "align_self": null,
            "height": null,
            "min_height": null,
            "padding": null,
            "grid_auto_rows": null,
            "grid_gap": null,
            "max_width": null,
            "order": null,
            "_view_module_version": "1.2.0",
            "grid_template_areas": null,
            "object_position": null,
            "object_fit": null,
            "grid_auto_columns": null,
            "margin": null,
            "display": null,
            "left": null
          }
        },
        "79616f6bfd0941ceaf319cb46cb37e2e": {
          "model_module": "@jupyter-widgets/controls",
          "model_name": "HBoxModel",
          "state": {
            "_view_name": "HBoxView",
            "_dom_classes": [],
            "_model_name": "HBoxModel",
            "_view_module": "@jupyter-widgets/controls",
            "_model_module_version": "1.5.0",
            "_view_count": null,
            "_view_module_version": "1.5.0",
            "box_style": "",
            "layout": "IPY_MODEL_6ccddc43290f4984a1e3ea3924f7e3b6",
            "_model_module": "@jupyter-widgets/controls",
            "children": [
              "IPY_MODEL_f141318923564a5584f48b16f0f4ce60",
              "IPY_MODEL_77ec7a74bab44d2aa7fe361899e4c38e"
            ]
          }
        },
        "6ccddc43290f4984a1e3ea3924f7e3b6": {
          "model_module": "@jupyter-widgets/base",
          "model_name": "LayoutModel",
          "state": {
            "_view_name": "LayoutView",
            "grid_template_rows": null,
            "right": null,
            "justify_content": null,
            "_view_module": "@jupyter-widgets/base",
            "overflow": null,
            "_model_module_version": "1.2.0",
            "_view_count": null,
            "flex_flow": null,
            "width": null,
            "min_width": null,
            "border": null,
            "align_items": null,
            "bottom": null,
            "_model_module": "@jupyter-widgets/base",
            "top": null,
            "grid_column": null,
            "overflow_y": null,
            "overflow_x": null,
            "grid_auto_flow": null,
            "grid_area": null,
            "grid_template_columns": null,
            "flex": null,
            "_model_name": "LayoutModel",
            "justify_items": null,
            "grid_row": null,
            "max_height": null,
            "align_content": null,
            "visibility": null,
            "align_self": null,
            "height": null,
            "min_height": null,
            "padding": null,
            "grid_auto_rows": null,
            "grid_gap": null,
            "max_width": null,
            "order": null,
            "_view_module_version": "1.2.0",
            "grid_template_areas": null,
            "object_position": null,
            "object_fit": null,
            "grid_auto_columns": null,
            "margin": null,
            "display": null,
            "left": null
          }
        },
        "f141318923564a5584f48b16f0f4ce60": {
          "model_module": "@jupyter-widgets/controls",
          "model_name": "FloatProgressModel",
          "state": {
            "_view_name": "ProgressView",
            "style": "IPY_MODEL_6752f51828584d06af3bda7c2c56874d",
            "_dom_classes": [],
            "description": "Epoch 1: 100%",
            "_model_name": "FloatProgressModel",
            "bar_style": "",
            "max": 75,
            "_view_module": "@jupyter-widgets/controls",
            "_model_module_version": "1.5.0",
            "value": 75,
            "_view_count": null,
            "_view_module_version": "1.5.0",
            "orientation": "horizontal",
            "min": 0,
            "description_tooltip": null,
            "_model_module": "@jupyter-widgets/controls",
            "layout": "IPY_MODEL_0f5fe152f82547f78077bfaa9498ba2e"
          }
        },
        "77ec7a74bab44d2aa7fe361899e4c38e": {
          "model_module": "@jupyter-widgets/controls",
          "model_name": "HTMLModel",
          "state": {
            "_view_name": "HTMLView",
            "style": "IPY_MODEL_dd0924ecfef642e59abe5e129451093b",
            "_dom_classes": [],
            "description": "",
            "_model_name": "HTMLModel",
            "placeholder": "​",
            "_view_module": "@jupyter-widgets/controls",
            "_model_module_version": "1.5.0",
            "value": " 75/75 [25:08&lt;00:00, 18.85s/it, loss=0.505]",
            "_view_count": null,
            "_view_module_version": "1.5.0",
            "description_tooltip": null,
            "_model_module": "@jupyter-widgets/controls",
            "layout": "IPY_MODEL_73eab66e940a46bab19d42e6e69343ae"
          }
        },
        "6752f51828584d06af3bda7c2c56874d": {
          "model_module": "@jupyter-widgets/controls",
          "model_name": "ProgressStyleModel",
          "state": {
            "_view_name": "StyleView",
            "_model_name": "ProgressStyleModel",
            "description_width": "initial",
            "_view_module": "@jupyter-widgets/base",
            "_model_module_version": "1.5.0",
            "_view_count": null,
            "_view_module_version": "1.2.0",
            "bar_color": null,
            "_model_module": "@jupyter-widgets/controls"
          }
        },
        "0f5fe152f82547f78077bfaa9498ba2e": {
          "model_module": "@jupyter-widgets/base",
          "model_name": "LayoutModel",
          "state": {
            "_view_name": "LayoutView",
            "grid_template_rows": null,
            "right": null,
            "justify_content": null,
            "_view_module": "@jupyter-widgets/base",
            "overflow": null,
            "_model_module_version": "1.2.0",
            "_view_count": null,
            "flex_flow": null,
            "width": null,
            "min_width": null,
            "border": null,
            "align_items": null,
            "bottom": null,
            "_model_module": "@jupyter-widgets/base",
            "top": null,
            "grid_column": null,
            "overflow_y": null,
            "overflow_x": null,
            "grid_auto_flow": null,
            "grid_area": null,
            "grid_template_columns": null,
            "flex": null,
            "_model_name": "LayoutModel",
            "justify_items": null,
            "grid_row": null,
            "max_height": null,
            "align_content": null,
            "visibility": null,
            "align_self": null,
            "height": null,
            "min_height": null,
            "padding": null,
            "grid_auto_rows": null,
            "grid_gap": null,
            "max_width": null,
            "order": null,
            "_view_module_version": "1.2.0",
            "grid_template_areas": null,
            "object_position": null,
            "object_fit": null,
            "grid_auto_columns": null,
            "margin": null,
            "display": null,
            "left": null
          }
        },
        "dd0924ecfef642e59abe5e129451093b": {
          "model_module": "@jupyter-widgets/controls",
          "model_name": "DescriptionStyleModel",
          "state": {
            "_view_name": "StyleView",
            "_model_name": "DescriptionStyleModel",
            "description_width": "",
            "_view_module": "@jupyter-widgets/base",
            "_model_module_version": "1.5.0",
            "_view_count": null,
            "_view_module_version": "1.2.0",
            "_model_module": "@jupyter-widgets/controls"
          }
        },
        "73eab66e940a46bab19d42e6e69343ae": {
          "model_module": "@jupyter-widgets/base",
          "model_name": "LayoutModel",
          "state": {
            "_view_name": "LayoutView",
            "grid_template_rows": null,
            "right": null,
            "justify_content": null,
            "_view_module": "@jupyter-widgets/base",
            "overflow": null,
            "_model_module_version": "1.2.0",
            "_view_count": null,
            "flex_flow": null,
            "width": null,
            "min_width": null,
            "border": null,
            "align_items": null,
            "bottom": null,
            "_model_module": "@jupyter-widgets/base",
            "top": null,
            "grid_column": null,
            "overflow_y": null,
            "overflow_x": null,
            "grid_auto_flow": null,
            "grid_area": null,
            "grid_template_columns": null,
            "flex": null,
            "_model_name": "LayoutModel",
            "justify_items": null,
            "grid_row": null,
            "max_height": null,
            "align_content": null,
            "visibility": null,
            "align_self": null,
            "height": null,
            "min_height": null,
            "padding": null,
            "grid_auto_rows": null,
            "grid_gap": null,
            "max_width": null,
            "order": null,
            "_view_module_version": "1.2.0",
            "grid_template_areas": null,
            "object_position": null,
            "object_fit": null,
            "grid_auto_columns": null,
            "margin": null,
            "display": null,
            "left": null
          }
        },
        "d4fd0823c8db437e8d995ff8ea62c528": {
          "model_module": "@jupyter-widgets/controls",
          "model_name": "HBoxModel",
          "state": {
            "_view_name": "HBoxView",
            "_dom_classes": [],
            "_model_name": "HBoxModel",
            "_view_module": "@jupyter-widgets/controls",
            "_model_module_version": "1.5.0",
            "_view_count": null,
            "_view_module_version": "1.5.0",
            "box_style": "",
            "layout": "IPY_MODEL_1a3c21c9c73746b4ba9cbdb23bdc5013",
            "_model_module": "@jupyter-widgets/controls",
            "children": [
              "IPY_MODEL_ae388d4da6854ad79846c2e5f677cb13",
              "IPY_MODEL_6782720296894d1e9de2caac3dda65c2"
            ]
          }
        },
        "1a3c21c9c73746b4ba9cbdb23bdc5013": {
          "model_module": "@jupyter-widgets/base",
          "model_name": "LayoutModel",
          "state": {
            "_view_name": "LayoutView",
            "grid_template_rows": null,
            "right": null,
            "justify_content": null,
            "_view_module": "@jupyter-widgets/base",
            "overflow": null,
            "_model_module_version": "1.2.0",
            "_view_count": null,
            "flex_flow": null,
            "width": null,
            "min_width": null,
            "border": null,
            "align_items": null,
            "bottom": null,
            "_model_module": "@jupyter-widgets/base",
            "top": null,
            "grid_column": null,
            "overflow_y": null,
            "overflow_x": null,
            "grid_auto_flow": null,
            "grid_area": null,
            "grid_template_columns": null,
            "flex": null,
            "_model_name": "LayoutModel",
            "justify_items": null,
            "grid_row": null,
            "max_height": null,
            "align_content": null,
            "visibility": null,
            "align_self": null,
            "height": null,
            "min_height": null,
            "padding": null,
            "grid_auto_rows": null,
            "grid_gap": null,
            "max_width": null,
            "order": null,
            "_view_module_version": "1.2.0",
            "grid_template_areas": null,
            "object_position": null,
            "object_fit": null,
            "grid_auto_columns": null,
            "margin": null,
            "display": null,
            "left": null
          }
        },
        "ae388d4da6854ad79846c2e5f677cb13": {
          "model_module": "@jupyter-widgets/controls",
          "model_name": "FloatProgressModel",
          "state": {
            "_view_name": "ProgressView",
            "style": "IPY_MODEL_777182b0500a4e169d623b4ca80f8895",
            "_dom_classes": [],
            "description": "100%",
            "_model_name": "FloatProgressModel",
            "bar_style": "",
            "max": 25,
            "_view_module": "@jupyter-widgets/controls",
            "_model_module_version": "1.5.0",
            "value": 25,
            "_view_count": null,
            "_view_module_version": "1.5.0",
            "orientation": "horizontal",
            "min": 0,
            "description_tooltip": null,
            "_model_module": "@jupyter-widgets/controls",
            "layout": "IPY_MODEL_1464d54f3ac344588a9eede684a95d17"
          }
        },
        "6782720296894d1e9de2caac3dda65c2": {
          "model_module": "@jupyter-widgets/controls",
          "model_name": "HTMLModel",
          "state": {
            "_view_name": "HTMLView",
            "style": "IPY_MODEL_f6b532c5c93d41978528c7417787cdf9",
            "_dom_classes": [],
            "description": "",
            "_model_name": "HTMLModel",
            "placeholder": "​",
            "_view_module": "@jupyter-widgets/controls",
            "_model_module_version": "1.5.0",
            "value": " 25/25 [00:06&lt;00:00,  1.21it/s]",
            "_view_count": null,
            "_view_module_version": "1.5.0",
            "description_tooltip": null,
            "_model_module": "@jupyter-widgets/controls",
            "layout": "IPY_MODEL_6d39b5f296be49beba213382c5275976"
          }
        },
        "777182b0500a4e169d623b4ca80f8895": {
          "model_module": "@jupyter-widgets/controls",
          "model_name": "ProgressStyleModel",
          "state": {
            "_view_name": "StyleView",
            "_model_name": "ProgressStyleModel",
            "description_width": "initial",
            "_view_module": "@jupyter-widgets/base",
            "_model_module_version": "1.5.0",
            "_view_count": null,
            "_view_module_version": "1.2.0",
            "bar_color": null,
            "_model_module": "@jupyter-widgets/controls"
          }
        },
        "1464d54f3ac344588a9eede684a95d17": {
          "model_module": "@jupyter-widgets/base",
          "model_name": "LayoutModel",
          "state": {
            "_view_name": "LayoutView",
            "grid_template_rows": null,
            "right": null,
            "justify_content": null,
            "_view_module": "@jupyter-widgets/base",
            "overflow": null,
            "_model_module_version": "1.2.0",
            "_view_count": null,
            "flex_flow": null,
            "width": null,
            "min_width": null,
            "border": null,
            "align_items": null,
            "bottom": null,
            "_model_module": "@jupyter-widgets/base",
            "top": null,
            "grid_column": null,
            "overflow_y": null,
            "overflow_x": null,
            "grid_auto_flow": null,
            "grid_area": null,
            "grid_template_columns": null,
            "flex": null,
            "_model_name": "LayoutModel",
            "justify_items": null,
            "grid_row": null,
            "max_height": null,
            "align_content": null,
            "visibility": null,
            "align_self": null,
            "height": null,
            "min_height": null,
            "padding": null,
            "grid_auto_rows": null,
            "grid_gap": null,
            "max_width": null,
            "order": null,
            "_view_module_version": "1.2.0",
            "grid_template_areas": null,
            "object_position": null,
            "object_fit": null,
            "grid_auto_columns": null,
            "margin": null,
            "display": null,
            "left": null
          }
        },
        "f6b532c5c93d41978528c7417787cdf9": {
          "model_module": "@jupyter-widgets/controls",
          "model_name": "DescriptionStyleModel",
          "state": {
            "_view_name": "StyleView",
            "_model_name": "DescriptionStyleModel",
            "description_width": "",
            "_view_module": "@jupyter-widgets/base",
            "_model_module_version": "1.5.0",
            "_view_count": null,
            "_view_module_version": "1.2.0",
            "_model_module": "@jupyter-widgets/controls"
          }
        },
        "6d39b5f296be49beba213382c5275976": {
          "model_module": "@jupyter-widgets/base",
          "model_name": "LayoutModel",
          "state": {
            "_view_name": "LayoutView",
            "grid_template_rows": null,
            "right": null,
            "justify_content": null,
            "_view_module": "@jupyter-widgets/base",
            "overflow": null,
            "_model_module_version": "1.2.0",
            "_view_count": null,
            "flex_flow": null,
            "width": null,
            "min_width": null,
            "border": null,
            "align_items": null,
            "bottom": null,
            "_model_module": "@jupyter-widgets/base",
            "top": null,
            "grid_column": null,
            "overflow_y": null,
            "overflow_x": null,
            "grid_auto_flow": null,
            "grid_area": null,
            "grid_template_columns": null,
            "flex": null,
            "_model_name": "LayoutModel",
            "justify_items": null,
            "grid_row": null,
            "max_height": null,
            "align_content": null,
            "visibility": null,
            "align_self": null,
            "height": null,
            "min_height": null,
            "padding": null,
            "grid_auto_rows": null,
            "grid_gap": null,
            "max_width": null,
            "order": null,
            "_view_module_version": "1.2.0",
            "grid_template_areas": null,
            "object_position": null,
            "object_fit": null,
            "grid_auto_columns": null,
            "margin": null,
            "display": null,
            "left": null
          }
        },
        "80762ed2fd304125bc4043149d3ddf3a": {
          "model_module": "@jupyter-widgets/controls",
          "model_name": "HBoxModel",
          "state": {
            "_view_name": "HBoxView",
            "_dom_classes": [],
            "_model_name": "HBoxModel",
            "_view_module": "@jupyter-widgets/controls",
            "_model_module_version": "1.5.0",
            "_view_count": null,
            "_view_module_version": "1.5.0",
            "box_style": "",
            "layout": "IPY_MODEL_f355453cfb844339a8c59766ccf5e47a",
            "_model_module": "@jupyter-widgets/controls",
            "children": [
              "IPY_MODEL_149f4dacf0ca433a81331a7c8a60f068",
              "IPY_MODEL_129cf0001baf49dc886d479dee09de5d"
            ]
          }
        },
        "f355453cfb844339a8c59766ccf5e47a": {
          "model_module": "@jupyter-widgets/base",
          "model_name": "LayoutModel",
          "state": {
            "_view_name": "LayoutView",
            "grid_template_rows": null,
            "right": null,
            "justify_content": null,
            "_view_module": "@jupyter-widgets/base",
            "overflow": null,
            "_model_module_version": "1.2.0",
            "_view_count": null,
            "flex_flow": null,
            "width": null,
            "min_width": null,
            "border": null,
            "align_items": null,
            "bottom": null,
            "_model_module": "@jupyter-widgets/base",
            "top": null,
            "grid_column": null,
            "overflow_y": null,
            "overflow_x": null,
            "grid_auto_flow": null,
            "grid_area": null,
            "grid_template_columns": null,
            "flex": null,
            "_model_name": "LayoutModel",
            "justify_items": null,
            "grid_row": null,
            "max_height": null,
            "align_content": null,
            "visibility": null,
            "align_self": null,
            "height": null,
            "min_height": null,
            "padding": null,
            "grid_auto_rows": null,
            "grid_gap": null,
            "max_width": null,
            "order": null,
            "_view_module_version": "1.2.0",
            "grid_template_areas": null,
            "object_position": null,
            "object_fit": null,
            "grid_auto_columns": null,
            "margin": null,
            "display": null,
            "left": null
          }
        },
        "149f4dacf0ca433a81331a7c8a60f068": {
          "model_module": "@jupyter-widgets/controls",
          "model_name": "FloatProgressModel",
          "state": {
            "_view_name": "ProgressView",
            "style": "IPY_MODEL_c7c89adee03c4eb2833c0f0fd1d5e158",
            "_dom_classes": [],
            "description": "Epoch 2: 100%",
            "_model_name": "FloatProgressModel",
            "bar_style": "",
            "max": 75,
            "_view_module": "@jupyter-widgets/controls",
            "_model_module_version": "1.5.0",
            "value": 75,
            "_view_count": null,
            "_view_module_version": "1.5.0",
            "orientation": "horizontal",
            "min": 0,
            "description_tooltip": null,
            "_model_module": "@jupyter-widgets/controls",
            "layout": "IPY_MODEL_0209cd3ea8824eb8990e08ab80bda31b"
          }
        },
        "129cf0001baf49dc886d479dee09de5d": {
          "model_module": "@jupyter-widgets/controls",
          "model_name": "HTMLModel",
          "state": {
            "_view_name": "HTMLView",
            "style": "IPY_MODEL_79976a9ee0744c04946fe95aa60f69a2",
            "_dom_classes": [],
            "description": "",
            "_model_name": "HTMLModel",
            "placeholder": "​",
            "_view_module": "@jupyter-widgets/controls",
            "_model_module_version": "1.5.0",
            "value": " 75/75 [25:12&lt;00:00, 32.88s/it, loss=0.33]",
            "_view_count": null,
            "_view_module_version": "1.5.0",
            "description_tooltip": null,
            "_model_module": "@jupyter-widgets/controls",
            "layout": "IPY_MODEL_1a86d74c27a145e0a802ba3e442eb149"
          }
        },
        "c7c89adee03c4eb2833c0f0fd1d5e158": {
          "model_module": "@jupyter-widgets/controls",
          "model_name": "ProgressStyleModel",
          "state": {
            "_view_name": "StyleView",
            "_model_name": "ProgressStyleModel",
            "description_width": "initial",
            "_view_module": "@jupyter-widgets/base",
            "_model_module_version": "1.5.0",
            "_view_count": null,
            "_view_module_version": "1.2.0",
            "bar_color": null,
            "_model_module": "@jupyter-widgets/controls"
          }
        },
        "0209cd3ea8824eb8990e08ab80bda31b": {
          "model_module": "@jupyter-widgets/base",
          "model_name": "LayoutModel",
          "state": {
            "_view_name": "LayoutView",
            "grid_template_rows": null,
            "right": null,
            "justify_content": null,
            "_view_module": "@jupyter-widgets/base",
            "overflow": null,
            "_model_module_version": "1.2.0",
            "_view_count": null,
            "flex_flow": null,
            "width": null,
            "min_width": null,
            "border": null,
            "align_items": null,
            "bottom": null,
            "_model_module": "@jupyter-widgets/base",
            "top": null,
            "grid_column": null,
            "overflow_y": null,
            "overflow_x": null,
            "grid_auto_flow": null,
            "grid_area": null,
            "grid_template_columns": null,
            "flex": null,
            "_model_name": "LayoutModel",
            "justify_items": null,
            "grid_row": null,
            "max_height": null,
            "align_content": null,
            "visibility": null,
            "align_self": null,
            "height": null,
            "min_height": null,
            "padding": null,
            "grid_auto_rows": null,
            "grid_gap": null,
            "max_width": null,
            "order": null,
            "_view_module_version": "1.2.0",
            "grid_template_areas": null,
            "object_position": null,
            "object_fit": null,
            "grid_auto_columns": null,
            "margin": null,
            "display": null,
            "left": null
          }
        },
        "79976a9ee0744c04946fe95aa60f69a2": {
          "model_module": "@jupyter-widgets/controls",
          "model_name": "DescriptionStyleModel",
          "state": {
            "_view_name": "StyleView",
            "_model_name": "DescriptionStyleModel",
            "description_width": "",
            "_view_module": "@jupyter-widgets/base",
            "_model_module_version": "1.5.0",
            "_view_count": null,
            "_view_module_version": "1.2.0",
            "_model_module": "@jupyter-widgets/controls"
          }
        },
        "1a86d74c27a145e0a802ba3e442eb149": {
          "model_module": "@jupyter-widgets/base",
          "model_name": "LayoutModel",
          "state": {
            "_view_name": "LayoutView",
            "grid_template_rows": null,
            "right": null,
            "justify_content": null,
            "_view_module": "@jupyter-widgets/base",
            "overflow": null,
            "_model_module_version": "1.2.0",
            "_view_count": null,
            "flex_flow": null,
            "width": null,
            "min_width": null,
            "border": null,
            "align_items": null,
            "bottom": null,
            "_model_module": "@jupyter-widgets/base",
            "top": null,
            "grid_column": null,
            "overflow_y": null,
            "overflow_x": null,
            "grid_auto_flow": null,
            "grid_area": null,
            "grid_template_columns": null,
            "flex": null,
            "_model_name": "LayoutModel",
            "justify_items": null,
            "grid_row": null,
            "max_height": null,
            "align_content": null,
            "visibility": null,
            "align_self": null,
            "height": null,
            "min_height": null,
            "padding": null,
            "grid_auto_rows": null,
            "grid_gap": null,
            "max_width": null,
            "order": null,
            "_view_module_version": "1.2.0",
            "grid_template_areas": null,
            "object_position": null,
            "object_fit": null,
            "grid_auto_columns": null,
            "margin": null,
            "display": null,
            "left": null
          }
        },
        "f984128af1c440c1bb5932a073b8aaef": {
          "model_module": "@jupyter-widgets/controls",
          "model_name": "HBoxModel",
          "state": {
            "_view_name": "HBoxView",
            "_dom_classes": [],
            "_model_name": "HBoxModel",
            "_view_module": "@jupyter-widgets/controls",
            "_model_module_version": "1.5.0",
            "_view_count": null,
            "_view_module_version": "1.5.0",
            "box_style": "",
            "layout": "IPY_MODEL_45f01edb0ae7416f832aff057d4c1fcd",
            "_model_module": "@jupyter-widgets/controls",
            "children": [
              "IPY_MODEL_89292f71c6454b97aa19d7972c723ee3",
              "IPY_MODEL_8c6eeed375df489ea670d2567642ff16"
            ]
          }
        },
        "45f01edb0ae7416f832aff057d4c1fcd": {
          "model_module": "@jupyter-widgets/base",
          "model_name": "LayoutModel",
          "state": {
            "_view_name": "LayoutView",
            "grid_template_rows": null,
            "right": null,
            "justify_content": null,
            "_view_module": "@jupyter-widgets/base",
            "overflow": null,
            "_model_module_version": "1.2.0",
            "_view_count": null,
            "flex_flow": null,
            "width": null,
            "min_width": null,
            "border": null,
            "align_items": null,
            "bottom": null,
            "_model_module": "@jupyter-widgets/base",
            "top": null,
            "grid_column": null,
            "overflow_y": null,
            "overflow_x": null,
            "grid_auto_flow": null,
            "grid_area": null,
            "grid_template_columns": null,
            "flex": null,
            "_model_name": "LayoutModel",
            "justify_items": null,
            "grid_row": null,
            "max_height": null,
            "align_content": null,
            "visibility": null,
            "align_self": null,
            "height": null,
            "min_height": null,
            "padding": null,
            "grid_auto_rows": null,
            "grid_gap": null,
            "max_width": null,
            "order": null,
            "_view_module_version": "1.2.0",
            "grid_template_areas": null,
            "object_position": null,
            "object_fit": null,
            "grid_auto_columns": null,
            "margin": null,
            "display": null,
            "left": null
          }
        },
        "89292f71c6454b97aa19d7972c723ee3": {
          "model_module": "@jupyter-widgets/controls",
          "model_name": "FloatProgressModel",
          "state": {
            "_view_name": "ProgressView",
            "style": "IPY_MODEL_9cf2278d760d4e899ec0fa66e01967b8",
            "_dom_classes": [],
            "description": "100%",
            "_model_name": "FloatProgressModel",
            "bar_style": "",
            "max": 25,
            "_view_module": "@jupyter-widgets/controls",
            "_model_module_version": "1.5.0",
            "value": 25,
            "_view_count": null,
            "_view_module_version": "1.5.0",
            "orientation": "horizontal",
            "min": 0,
            "description_tooltip": null,
            "_model_module": "@jupyter-widgets/controls",
            "layout": "IPY_MODEL_3721a02328c04a3aad0b09ac5b69392b"
          }
        },
        "8c6eeed375df489ea670d2567642ff16": {
          "model_module": "@jupyter-widgets/controls",
          "model_name": "HTMLModel",
          "state": {
            "_view_name": "HTMLView",
            "style": "IPY_MODEL_deb061368dda4b3683e4e2d7d738d138",
            "_dom_classes": [],
            "description": "",
            "_model_name": "HTMLModel",
            "placeholder": "​",
            "_view_module": "@jupyter-widgets/controls",
            "_model_module_version": "1.5.0",
            "value": " 25/25 [00:06&lt;00:00,  1.16it/s]",
            "_view_count": null,
            "_view_module_version": "1.5.0",
            "description_tooltip": null,
            "_model_module": "@jupyter-widgets/controls",
            "layout": "IPY_MODEL_fdc525afbf884128896b695f7eeee2ef"
          }
        },
        "9cf2278d760d4e899ec0fa66e01967b8": {
          "model_module": "@jupyter-widgets/controls",
          "model_name": "ProgressStyleModel",
          "state": {
            "_view_name": "StyleView",
            "_model_name": "ProgressStyleModel",
            "description_width": "initial",
            "_view_module": "@jupyter-widgets/base",
            "_model_module_version": "1.5.0",
            "_view_count": null,
            "_view_module_version": "1.2.0",
            "bar_color": null,
            "_model_module": "@jupyter-widgets/controls"
          }
        },
        "3721a02328c04a3aad0b09ac5b69392b": {
          "model_module": "@jupyter-widgets/base",
          "model_name": "LayoutModel",
          "state": {
            "_view_name": "LayoutView",
            "grid_template_rows": null,
            "right": null,
            "justify_content": null,
            "_view_module": "@jupyter-widgets/base",
            "overflow": null,
            "_model_module_version": "1.2.0",
            "_view_count": null,
            "flex_flow": null,
            "width": null,
            "min_width": null,
            "border": null,
            "align_items": null,
            "bottom": null,
            "_model_module": "@jupyter-widgets/base",
            "top": null,
            "grid_column": null,
            "overflow_y": null,
            "overflow_x": null,
            "grid_auto_flow": null,
            "grid_area": null,
            "grid_template_columns": null,
            "flex": null,
            "_model_name": "LayoutModel",
            "justify_items": null,
            "grid_row": null,
            "max_height": null,
            "align_content": null,
            "visibility": null,
            "align_self": null,
            "height": null,
            "min_height": null,
            "padding": null,
            "grid_auto_rows": null,
            "grid_gap": null,
            "max_width": null,
            "order": null,
            "_view_module_version": "1.2.0",
            "grid_template_areas": null,
            "object_position": null,
            "object_fit": null,
            "grid_auto_columns": null,
            "margin": null,
            "display": null,
            "left": null
          }
        },
        "deb061368dda4b3683e4e2d7d738d138": {
          "model_module": "@jupyter-widgets/controls",
          "model_name": "DescriptionStyleModel",
          "state": {
            "_view_name": "StyleView",
            "_model_name": "DescriptionStyleModel",
            "description_width": "",
            "_view_module": "@jupyter-widgets/base",
            "_model_module_version": "1.5.0",
            "_view_count": null,
            "_view_module_version": "1.2.0",
            "_model_module": "@jupyter-widgets/controls"
          }
        },
        "fdc525afbf884128896b695f7eeee2ef": {
          "model_module": "@jupyter-widgets/base",
          "model_name": "LayoutModel",
          "state": {
            "_view_name": "LayoutView",
            "grid_template_rows": null,
            "right": null,
            "justify_content": null,
            "_view_module": "@jupyter-widgets/base",
            "overflow": null,
            "_model_module_version": "1.2.0",
            "_view_count": null,
            "flex_flow": null,
            "width": null,
            "min_width": null,
            "border": null,
            "align_items": null,
            "bottom": null,
            "_model_module": "@jupyter-widgets/base",
            "top": null,
            "grid_column": null,
            "overflow_y": null,
            "overflow_x": null,
            "grid_auto_flow": null,
            "grid_area": null,
            "grid_template_columns": null,
            "flex": null,
            "_model_name": "LayoutModel",
            "justify_items": null,
            "grid_row": null,
            "max_height": null,
            "align_content": null,
            "visibility": null,
            "align_self": null,
            "height": null,
            "min_height": null,
            "padding": null,
            "grid_auto_rows": null,
            "grid_gap": null,
            "max_width": null,
            "order": null,
            "_view_module_version": "1.2.0",
            "grid_template_areas": null,
            "object_position": null,
            "object_fit": null,
            "grid_auto_columns": null,
            "margin": null,
            "display": null,
            "left": null
          }
        },
        "785dc04068d5451e878d8aff85be5992": {
          "model_module": "@jupyter-widgets/controls",
          "model_name": "HBoxModel",
          "state": {
            "_view_name": "HBoxView",
            "_dom_classes": [],
            "_model_name": "HBoxModel",
            "_view_module": "@jupyter-widgets/controls",
            "_model_module_version": "1.5.0",
            "_view_count": null,
            "_view_module_version": "1.5.0",
            "box_style": "",
            "layout": "IPY_MODEL_df3f6fa7a25143aeb2204688795b5eea",
            "_model_module": "@jupyter-widgets/controls",
            "children": [
              "IPY_MODEL_14a052b7eebf40ae9ef5fe5db2fd3282",
              "IPY_MODEL_4b443ee64fb7436d955dddc628c4efb8"
            ]
          }
        },
        "df3f6fa7a25143aeb2204688795b5eea": {
          "model_module": "@jupyter-widgets/base",
          "model_name": "LayoutModel",
          "state": {
            "_view_name": "LayoutView",
            "grid_template_rows": null,
            "right": null,
            "justify_content": null,
            "_view_module": "@jupyter-widgets/base",
            "overflow": null,
            "_model_module_version": "1.2.0",
            "_view_count": null,
            "flex_flow": null,
            "width": null,
            "min_width": null,
            "border": null,
            "align_items": null,
            "bottom": null,
            "_model_module": "@jupyter-widgets/base",
            "top": null,
            "grid_column": null,
            "overflow_y": null,
            "overflow_x": null,
            "grid_auto_flow": null,
            "grid_area": null,
            "grid_template_columns": null,
            "flex": null,
            "_model_name": "LayoutModel",
            "justify_items": null,
            "grid_row": null,
            "max_height": null,
            "align_content": null,
            "visibility": null,
            "align_self": null,
            "height": null,
            "min_height": null,
            "padding": null,
            "grid_auto_rows": null,
            "grid_gap": null,
            "max_width": null,
            "order": null,
            "_view_module_version": "1.2.0",
            "grid_template_areas": null,
            "object_position": null,
            "object_fit": null,
            "grid_auto_columns": null,
            "margin": null,
            "display": null,
            "left": null
          }
        },
        "14a052b7eebf40ae9ef5fe5db2fd3282": {
          "model_module": "@jupyter-widgets/controls",
          "model_name": "FloatProgressModel",
          "state": {
            "_view_name": "ProgressView",
            "style": "IPY_MODEL_8cd0dc5f3a394b118834cc10d74fa82b",
            "_dom_classes": [],
            "description": "Epoch 3: 100%",
            "_model_name": "FloatProgressModel",
            "bar_style": "",
            "max": 75,
            "_view_module": "@jupyter-widgets/controls",
            "_model_module_version": "1.5.0",
            "value": 75,
            "_view_count": null,
            "_view_module_version": "1.5.0",
            "orientation": "horizontal",
            "min": 0,
            "description_tooltip": null,
            "_model_module": "@jupyter-widgets/controls",
            "layout": "IPY_MODEL_21d6561a804945f8bc87cf9f7d66c6b4"
          }
        },
        "4b443ee64fb7436d955dddc628c4efb8": {
          "model_module": "@jupyter-widgets/controls",
          "model_name": "HTMLModel",
          "state": {
            "_view_name": "HTMLView",
            "style": "IPY_MODEL_149bc6f7544f41f0a1d67af21588efec",
            "_dom_classes": [],
            "description": "",
            "_model_name": "HTMLModel",
            "placeholder": "​",
            "_view_module": "@jupyter-widgets/controls",
            "_model_module_version": "1.5.0",
            "value": " 75/75 [25:08&lt;00:00, 11.00s/it, loss=0.29]",
            "_view_count": null,
            "_view_module_version": "1.5.0",
            "description_tooltip": null,
            "_model_module": "@jupyter-widgets/controls",
            "layout": "IPY_MODEL_94f4e7ed0d5247ddbaabc12ccf2a2c9c"
          }
        },
        "8cd0dc5f3a394b118834cc10d74fa82b": {
          "model_module": "@jupyter-widgets/controls",
          "model_name": "ProgressStyleModel",
          "state": {
            "_view_name": "StyleView",
            "_model_name": "ProgressStyleModel",
            "description_width": "initial",
            "_view_module": "@jupyter-widgets/base",
            "_model_module_version": "1.5.0",
            "_view_count": null,
            "_view_module_version": "1.2.0",
            "bar_color": null,
            "_model_module": "@jupyter-widgets/controls"
          }
        },
        "21d6561a804945f8bc87cf9f7d66c6b4": {
          "model_module": "@jupyter-widgets/base",
          "model_name": "LayoutModel",
          "state": {
            "_view_name": "LayoutView",
            "grid_template_rows": null,
            "right": null,
            "justify_content": null,
            "_view_module": "@jupyter-widgets/base",
            "overflow": null,
            "_model_module_version": "1.2.0",
            "_view_count": null,
            "flex_flow": null,
            "width": null,
            "min_width": null,
            "border": null,
            "align_items": null,
            "bottom": null,
            "_model_module": "@jupyter-widgets/base",
            "top": null,
            "grid_column": null,
            "overflow_y": null,
            "overflow_x": null,
            "grid_auto_flow": null,
            "grid_area": null,
            "grid_template_columns": null,
            "flex": null,
            "_model_name": "LayoutModel",
            "justify_items": null,
            "grid_row": null,
            "max_height": null,
            "align_content": null,
            "visibility": null,
            "align_self": null,
            "height": null,
            "min_height": null,
            "padding": null,
            "grid_auto_rows": null,
            "grid_gap": null,
            "max_width": null,
            "order": null,
            "_view_module_version": "1.2.0",
            "grid_template_areas": null,
            "object_position": null,
            "object_fit": null,
            "grid_auto_columns": null,
            "margin": null,
            "display": null,
            "left": null
          }
        },
        "149bc6f7544f41f0a1d67af21588efec": {
          "model_module": "@jupyter-widgets/controls",
          "model_name": "DescriptionStyleModel",
          "state": {
            "_view_name": "StyleView",
            "_model_name": "DescriptionStyleModel",
            "description_width": "",
            "_view_module": "@jupyter-widgets/base",
            "_model_module_version": "1.5.0",
            "_view_count": null,
            "_view_module_version": "1.2.0",
            "_model_module": "@jupyter-widgets/controls"
          }
        },
        "94f4e7ed0d5247ddbaabc12ccf2a2c9c": {
          "model_module": "@jupyter-widgets/base",
          "model_name": "LayoutModel",
          "state": {
            "_view_name": "LayoutView",
            "grid_template_rows": null,
            "right": null,
            "justify_content": null,
            "_view_module": "@jupyter-widgets/base",
            "overflow": null,
            "_model_module_version": "1.2.0",
            "_view_count": null,
            "flex_flow": null,
            "width": null,
            "min_width": null,
            "border": null,
            "align_items": null,
            "bottom": null,
            "_model_module": "@jupyter-widgets/base",
            "top": null,
            "grid_column": null,
            "overflow_y": null,
            "overflow_x": null,
            "grid_auto_flow": null,
            "grid_area": null,
            "grid_template_columns": null,
            "flex": null,
            "_model_name": "LayoutModel",
            "justify_items": null,
            "grid_row": null,
            "max_height": null,
            "align_content": null,
            "visibility": null,
            "align_self": null,
            "height": null,
            "min_height": null,
            "padding": null,
            "grid_auto_rows": null,
            "grid_gap": null,
            "max_width": null,
            "order": null,
            "_view_module_version": "1.2.0",
            "grid_template_areas": null,
            "object_position": null,
            "object_fit": null,
            "grid_auto_columns": null,
            "margin": null,
            "display": null,
            "left": null
          }
        },
        "55dd98b65a444132a92b059f01f2a9ec": {
          "model_module": "@jupyter-widgets/controls",
          "model_name": "HBoxModel",
          "state": {
            "_view_name": "HBoxView",
            "_dom_classes": [],
            "_model_name": "HBoxModel",
            "_view_module": "@jupyter-widgets/controls",
            "_model_module_version": "1.5.0",
            "_view_count": null,
            "_view_module_version": "1.5.0",
            "box_style": "",
            "layout": "IPY_MODEL_3574cb5c1133436c845a576b0cf2a842",
            "_model_module": "@jupyter-widgets/controls",
            "children": [
              "IPY_MODEL_75d5a57f1ff24561a778f8da79a6204c",
              "IPY_MODEL_95f46a0859ad454da243179e61554f62"
            ]
          }
        },
        "3574cb5c1133436c845a576b0cf2a842": {
          "model_module": "@jupyter-widgets/base",
          "model_name": "LayoutModel",
          "state": {
            "_view_name": "LayoutView",
            "grid_template_rows": null,
            "right": null,
            "justify_content": null,
            "_view_module": "@jupyter-widgets/base",
            "overflow": null,
            "_model_module_version": "1.2.0",
            "_view_count": null,
            "flex_flow": null,
            "width": null,
            "min_width": null,
            "border": null,
            "align_items": null,
            "bottom": null,
            "_model_module": "@jupyter-widgets/base",
            "top": null,
            "grid_column": null,
            "overflow_y": null,
            "overflow_x": null,
            "grid_auto_flow": null,
            "grid_area": null,
            "grid_template_columns": null,
            "flex": null,
            "_model_name": "LayoutModel",
            "justify_items": null,
            "grid_row": null,
            "max_height": null,
            "align_content": null,
            "visibility": null,
            "align_self": null,
            "height": null,
            "min_height": null,
            "padding": null,
            "grid_auto_rows": null,
            "grid_gap": null,
            "max_width": null,
            "order": null,
            "_view_module_version": "1.2.0",
            "grid_template_areas": null,
            "object_position": null,
            "object_fit": null,
            "grid_auto_columns": null,
            "margin": null,
            "display": null,
            "left": null
          }
        },
        "75d5a57f1ff24561a778f8da79a6204c": {
          "model_module": "@jupyter-widgets/controls",
          "model_name": "FloatProgressModel",
          "state": {
            "_view_name": "ProgressView",
            "style": "IPY_MODEL_45db559556744b0d84cd3dae3d55da74",
            "_dom_classes": [],
            "description": "100%",
            "_model_name": "FloatProgressModel",
            "bar_style": "",
            "max": 25,
            "_view_module": "@jupyter-widgets/controls",
            "_model_module_version": "1.5.0",
            "value": 25,
            "_view_count": null,
            "_view_module_version": "1.5.0",
            "orientation": "horizontal",
            "min": 0,
            "description_tooltip": null,
            "_model_module": "@jupyter-widgets/controls",
            "layout": "IPY_MODEL_2919bfeaa3934a0db3e9d74b009bb5d1"
          }
        },
        "95f46a0859ad454da243179e61554f62": {
          "model_module": "@jupyter-widgets/controls",
          "model_name": "HTMLModel",
          "state": {
            "_view_name": "HTMLView",
            "style": "IPY_MODEL_5979e22475dc46829077f8aca65e496c",
            "_dom_classes": [],
            "description": "",
            "_model_name": "HTMLModel",
            "placeholder": "​",
            "_view_module": "@jupyter-widgets/controls",
            "_model_module_version": "1.5.0",
            "value": " 25/25 [00:06&lt;00:00,  1.22it/s]",
            "_view_count": null,
            "_view_module_version": "1.5.0",
            "description_tooltip": null,
            "_model_module": "@jupyter-widgets/controls",
            "layout": "IPY_MODEL_705ea33d7e5247d89f914e120c554e1b"
          }
        },
        "45db559556744b0d84cd3dae3d55da74": {
          "model_module": "@jupyter-widgets/controls",
          "model_name": "ProgressStyleModel",
          "state": {
            "_view_name": "StyleView",
            "_model_name": "ProgressStyleModel",
            "description_width": "initial",
            "_view_module": "@jupyter-widgets/base",
            "_model_module_version": "1.5.0",
            "_view_count": null,
            "_view_module_version": "1.2.0",
            "bar_color": null,
            "_model_module": "@jupyter-widgets/controls"
          }
        },
        "2919bfeaa3934a0db3e9d74b009bb5d1": {
          "model_module": "@jupyter-widgets/base",
          "model_name": "LayoutModel",
          "state": {
            "_view_name": "LayoutView",
            "grid_template_rows": null,
            "right": null,
            "justify_content": null,
            "_view_module": "@jupyter-widgets/base",
            "overflow": null,
            "_model_module_version": "1.2.0",
            "_view_count": null,
            "flex_flow": null,
            "width": null,
            "min_width": null,
            "border": null,
            "align_items": null,
            "bottom": null,
            "_model_module": "@jupyter-widgets/base",
            "top": null,
            "grid_column": null,
            "overflow_y": null,
            "overflow_x": null,
            "grid_auto_flow": null,
            "grid_area": null,
            "grid_template_columns": null,
            "flex": null,
            "_model_name": "LayoutModel",
            "justify_items": null,
            "grid_row": null,
            "max_height": null,
            "align_content": null,
            "visibility": null,
            "align_self": null,
            "height": null,
            "min_height": null,
            "padding": null,
            "grid_auto_rows": null,
            "grid_gap": null,
            "max_width": null,
            "order": null,
            "_view_module_version": "1.2.0",
            "grid_template_areas": null,
            "object_position": null,
            "object_fit": null,
            "grid_auto_columns": null,
            "margin": null,
            "display": null,
            "left": null
          }
        },
        "5979e22475dc46829077f8aca65e496c": {
          "model_module": "@jupyter-widgets/controls",
          "model_name": "DescriptionStyleModel",
          "state": {
            "_view_name": "StyleView",
            "_model_name": "DescriptionStyleModel",
            "description_width": "",
            "_view_module": "@jupyter-widgets/base",
            "_model_module_version": "1.5.0",
            "_view_count": null,
            "_view_module_version": "1.2.0",
            "_model_module": "@jupyter-widgets/controls"
          }
        },
        "705ea33d7e5247d89f914e120c554e1b": {
          "model_module": "@jupyter-widgets/base",
          "model_name": "LayoutModel",
          "state": {
            "_view_name": "LayoutView",
            "grid_template_rows": null,
            "right": null,
            "justify_content": null,
            "_view_module": "@jupyter-widgets/base",
            "overflow": null,
            "_model_module_version": "1.2.0",
            "_view_count": null,
            "flex_flow": null,
            "width": null,
            "min_width": null,
            "border": null,
            "align_items": null,
            "bottom": null,
            "_model_module": "@jupyter-widgets/base",
            "top": null,
            "grid_column": null,
            "overflow_y": null,
            "overflow_x": null,
            "grid_auto_flow": null,
            "grid_area": null,
            "grid_template_columns": null,
            "flex": null,
            "_model_name": "LayoutModel",
            "justify_items": null,
            "grid_row": null,
            "max_height": null,
            "align_content": null,
            "visibility": null,
            "align_self": null,
            "height": null,
            "min_height": null,
            "padding": null,
            "grid_auto_rows": null,
            "grid_gap": null,
            "max_width": null,
            "order": null,
            "_view_module_version": "1.2.0",
            "grid_template_areas": null,
            "object_position": null,
            "object_fit": null,
            "grid_auto_columns": null,
            "margin": null,
            "display": null,
            "left": null
          }
        },
        "5b32f4100016466eba7cff59e4cf75ba": {
          "model_module": "@jupyter-widgets/controls",
          "model_name": "HBoxModel",
          "state": {
            "_view_name": "HBoxView",
            "_dom_classes": [],
            "_model_name": "HBoxModel",
            "_view_module": "@jupyter-widgets/controls",
            "_model_module_version": "1.5.0",
            "_view_count": null,
            "_view_module_version": "1.5.0",
            "box_style": "",
            "layout": "IPY_MODEL_355016f656224100bf10ea46b604e0ec",
            "_model_module": "@jupyter-widgets/controls",
            "children": [
              "IPY_MODEL_0e8c7258d84348e7b264225243a9cbbd",
              "IPY_MODEL_79da7081075348e1830b31ecb4fa1e61"
            ]
          }
        },
        "355016f656224100bf10ea46b604e0ec": {
          "model_module": "@jupyter-widgets/base",
          "model_name": "LayoutModel",
          "state": {
            "_view_name": "LayoutView",
            "grid_template_rows": null,
            "right": null,
            "justify_content": null,
            "_view_module": "@jupyter-widgets/base",
            "overflow": null,
            "_model_module_version": "1.2.0",
            "_view_count": null,
            "flex_flow": null,
            "width": null,
            "min_width": null,
            "border": null,
            "align_items": null,
            "bottom": null,
            "_model_module": "@jupyter-widgets/base",
            "top": null,
            "grid_column": null,
            "overflow_y": null,
            "overflow_x": null,
            "grid_auto_flow": null,
            "grid_area": null,
            "grid_template_columns": null,
            "flex": null,
            "_model_name": "LayoutModel",
            "justify_items": null,
            "grid_row": null,
            "max_height": null,
            "align_content": null,
            "visibility": null,
            "align_self": null,
            "height": null,
            "min_height": null,
            "padding": null,
            "grid_auto_rows": null,
            "grid_gap": null,
            "max_width": null,
            "order": null,
            "_view_module_version": "1.2.0",
            "grid_template_areas": null,
            "object_position": null,
            "object_fit": null,
            "grid_auto_columns": null,
            "margin": null,
            "display": null,
            "left": null
          }
        },
        "0e8c7258d84348e7b264225243a9cbbd": {
          "model_module": "@jupyter-widgets/controls",
          "model_name": "FloatProgressModel",
          "state": {
            "_view_name": "ProgressView",
            "style": "IPY_MODEL_978fa521506e4b8d9b14c0d3362496ea",
            "_dom_classes": [],
            "description": "Epoch 4: 100%",
            "_model_name": "FloatProgressModel",
            "bar_style": "",
            "max": 75,
            "_view_module": "@jupyter-widgets/controls",
            "_model_module_version": "1.5.0",
            "value": 75,
            "_view_count": null,
            "_view_module_version": "1.5.0",
            "orientation": "horizontal",
            "min": 0,
            "description_tooltip": null,
            "_model_module": "@jupyter-widgets/controls",
            "layout": "IPY_MODEL_f154c94fdecd446c8895d6debc6c6a0a"
          }
        },
        "79da7081075348e1830b31ecb4fa1e61": {
          "model_module": "@jupyter-widgets/controls",
          "model_name": "HTMLModel",
          "state": {
            "_view_name": "HTMLView",
            "style": "IPY_MODEL_20df4036f4824e9582fad3ad9aa2da5c",
            "_dom_classes": [],
            "description": "",
            "_model_name": "HTMLModel",
            "placeholder": "​",
            "_view_module": "@jupyter-widgets/controls",
            "_model_module_version": "1.5.0",
            "value": " 75/75 [25:16&lt;00:00,  5.49s/it, loss=0.0683]",
            "_view_count": null,
            "_view_module_version": "1.5.0",
            "description_tooltip": null,
            "_model_module": "@jupyter-widgets/controls",
            "layout": "IPY_MODEL_27f00107af544a8c82c2d79532291f37"
          }
        },
        "978fa521506e4b8d9b14c0d3362496ea": {
          "model_module": "@jupyter-widgets/controls",
          "model_name": "ProgressStyleModel",
          "state": {
            "_view_name": "StyleView",
            "_model_name": "ProgressStyleModel",
            "description_width": "initial",
            "_view_module": "@jupyter-widgets/base",
            "_model_module_version": "1.5.0",
            "_view_count": null,
            "_view_module_version": "1.2.0",
            "bar_color": null,
            "_model_module": "@jupyter-widgets/controls"
          }
        },
        "f154c94fdecd446c8895d6debc6c6a0a": {
          "model_module": "@jupyter-widgets/base",
          "model_name": "LayoutModel",
          "state": {
            "_view_name": "LayoutView",
            "grid_template_rows": null,
            "right": null,
            "justify_content": null,
            "_view_module": "@jupyter-widgets/base",
            "overflow": null,
            "_model_module_version": "1.2.0",
            "_view_count": null,
            "flex_flow": null,
            "width": null,
            "min_width": null,
            "border": null,
            "align_items": null,
            "bottom": null,
            "_model_module": "@jupyter-widgets/base",
            "top": null,
            "grid_column": null,
            "overflow_y": null,
            "overflow_x": null,
            "grid_auto_flow": null,
            "grid_area": null,
            "grid_template_columns": null,
            "flex": null,
            "_model_name": "LayoutModel",
            "justify_items": null,
            "grid_row": null,
            "max_height": null,
            "align_content": null,
            "visibility": null,
            "align_self": null,
            "height": null,
            "min_height": null,
            "padding": null,
            "grid_auto_rows": null,
            "grid_gap": null,
            "max_width": null,
            "order": null,
            "_view_module_version": "1.2.0",
            "grid_template_areas": null,
            "object_position": null,
            "object_fit": null,
            "grid_auto_columns": null,
            "margin": null,
            "display": null,
            "left": null
          }
        },
        "20df4036f4824e9582fad3ad9aa2da5c": {
          "model_module": "@jupyter-widgets/controls",
          "model_name": "DescriptionStyleModel",
          "state": {
            "_view_name": "StyleView",
            "_model_name": "DescriptionStyleModel",
            "description_width": "",
            "_view_module": "@jupyter-widgets/base",
            "_model_module_version": "1.5.0",
            "_view_count": null,
            "_view_module_version": "1.2.0",
            "_model_module": "@jupyter-widgets/controls"
          }
        },
        "27f00107af544a8c82c2d79532291f37": {
          "model_module": "@jupyter-widgets/base",
          "model_name": "LayoutModel",
          "state": {
            "_view_name": "LayoutView",
            "grid_template_rows": null,
            "right": null,
            "justify_content": null,
            "_view_module": "@jupyter-widgets/base",
            "overflow": null,
            "_model_module_version": "1.2.0",
            "_view_count": null,
            "flex_flow": null,
            "width": null,
            "min_width": null,
            "border": null,
            "align_items": null,
            "bottom": null,
            "_model_module": "@jupyter-widgets/base",
            "top": null,
            "grid_column": null,
            "overflow_y": null,
            "overflow_x": null,
            "grid_auto_flow": null,
            "grid_area": null,
            "grid_template_columns": null,
            "flex": null,
            "_model_name": "LayoutModel",
            "justify_items": null,
            "grid_row": null,
            "max_height": null,
            "align_content": null,
            "visibility": null,
            "align_self": null,
            "height": null,
            "min_height": null,
            "padding": null,
            "grid_auto_rows": null,
            "grid_gap": null,
            "max_width": null,
            "order": null,
            "_view_module_version": "1.2.0",
            "grid_template_areas": null,
            "object_position": null,
            "object_fit": null,
            "grid_auto_columns": null,
            "margin": null,
            "display": null,
            "left": null
          }
        },
        "ceb35638ac0f470b8118b39dda0901ca": {
          "model_module": "@jupyter-widgets/controls",
          "model_name": "HBoxModel",
          "state": {
            "_view_name": "HBoxView",
            "_dom_classes": [],
            "_model_name": "HBoxModel",
            "_view_module": "@jupyter-widgets/controls",
            "_model_module_version": "1.5.0",
            "_view_count": null,
            "_view_module_version": "1.5.0",
            "box_style": "",
            "layout": "IPY_MODEL_f55a73b3a8fd4dc49ac6631f23ea7ebd",
            "_model_module": "@jupyter-widgets/controls",
            "children": [
              "IPY_MODEL_91f5041f3d314505a82076d74c16c592",
              "IPY_MODEL_4fad42ca535540e2a2b2e078e8d6eba6"
            ]
          }
        },
        "f55a73b3a8fd4dc49ac6631f23ea7ebd": {
          "model_module": "@jupyter-widgets/base",
          "model_name": "LayoutModel",
          "state": {
            "_view_name": "LayoutView",
            "grid_template_rows": null,
            "right": null,
            "justify_content": null,
            "_view_module": "@jupyter-widgets/base",
            "overflow": null,
            "_model_module_version": "1.2.0",
            "_view_count": null,
            "flex_flow": null,
            "width": null,
            "min_width": null,
            "border": null,
            "align_items": null,
            "bottom": null,
            "_model_module": "@jupyter-widgets/base",
            "top": null,
            "grid_column": null,
            "overflow_y": null,
            "overflow_x": null,
            "grid_auto_flow": null,
            "grid_area": null,
            "grid_template_columns": null,
            "flex": null,
            "_model_name": "LayoutModel",
            "justify_items": null,
            "grid_row": null,
            "max_height": null,
            "align_content": null,
            "visibility": null,
            "align_self": null,
            "height": null,
            "min_height": null,
            "padding": null,
            "grid_auto_rows": null,
            "grid_gap": null,
            "max_width": null,
            "order": null,
            "_view_module_version": "1.2.0",
            "grid_template_areas": null,
            "object_position": null,
            "object_fit": null,
            "grid_auto_columns": null,
            "margin": null,
            "display": null,
            "left": null
          }
        },
        "91f5041f3d314505a82076d74c16c592": {
          "model_module": "@jupyter-widgets/controls",
          "model_name": "FloatProgressModel",
          "state": {
            "_view_name": "ProgressView",
            "style": "IPY_MODEL_5971a8360ecb41b3af59f725a443618f",
            "_dom_classes": [],
            "description": "100%",
            "_model_name": "FloatProgressModel",
            "bar_style": "",
            "max": 25,
            "_view_module": "@jupyter-widgets/controls",
            "_model_module_version": "1.5.0",
            "value": 25,
            "_view_count": null,
            "_view_module_version": "1.5.0",
            "orientation": "horizontal",
            "min": 0,
            "description_tooltip": null,
            "_model_module": "@jupyter-widgets/controls",
            "layout": "IPY_MODEL_f3d5198c91c14d22881784ffbb1e1cf5"
          }
        },
        "4fad42ca535540e2a2b2e078e8d6eba6": {
          "model_module": "@jupyter-widgets/controls",
          "model_name": "HTMLModel",
          "state": {
            "_view_name": "HTMLView",
            "style": "IPY_MODEL_b579a4f091d84ef2a7a347f18a8e571d",
            "_dom_classes": [],
            "description": "",
            "_model_name": "HTMLModel",
            "placeholder": "​",
            "_view_module": "@jupyter-widgets/controls",
            "_model_module_version": "1.5.0",
            "value": " 25/25 [00:06&lt;00:00,  1.15it/s]",
            "_view_count": null,
            "_view_module_version": "1.5.0",
            "description_tooltip": null,
            "_model_module": "@jupyter-widgets/controls",
            "layout": "IPY_MODEL_dd8ed50c4d3747debd186b5f9d02996a"
          }
        },
        "5971a8360ecb41b3af59f725a443618f": {
          "model_module": "@jupyter-widgets/controls",
          "model_name": "ProgressStyleModel",
          "state": {
            "_view_name": "StyleView",
            "_model_name": "ProgressStyleModel",
            "description_width": "initial",
            "_view_module": "@jupyter-widgets/base",
            "_model_module_version": "1.5.0",
            "_view_count": null,
            "_view_module_version": "1.2.0",
            "bar_color": null,
            "_model_module": "@jupyter-widgets/controls"
          }
        },
        "f3d5198c91c14d22881784ffbb1e1cf5": {
          "model_module": "@jupyter-widgets/base",
          "model_name": "LayoutModel",
          "state": {
            "_view_name": "LayoutView",
            "grid_template_rows": null,
            "right": null,
            "justify_content": null,
            "_view_module": "@jupyter-widgets/base",
            "overflow": null,
            "_model_module_version": "1.2.0",
            "_view_count": null,
            "flex_flow": null,
            "width": null,
            "min_width": null,
            "border": null,
            "align_items": null,
            "bottom": null,
            "_model_module": "@jupyter-widgets/base",
            "top": null,
            "grid_column": null,
            "overflow_y": null,
            "overflow_x": null,
            "grid_auto_flow": null,
            "grid_area": null,
            "grid_template_columns": null,
            "flex": null,
            "_model_name": "LayoutModel",
            "justify_items": null,
            "grid_row": null,
            "max_height": null,
            "align_content": null,
            "visibility": null,
            "align_self": null,
            "height": null,
            "min_height": null,
            "padding": null,
            "grid_auto_rows": null,
            "grid_gap": null,
            "max_width": null,
            "order": null,
            "_view_module_version": "1.2.0",
            "grid_template_areas": null,
            "object_position": null,
            "object_fit": null,
            "grid_auto_columns": null,
            "margin": null,
            "display": null,
            "left": null
          }
        },
        "b579a4f091d84ef2a7a347f18a8e571d": {
          "model_module": "@jupyter-widgets/controls",
          "model_name": "DescriptionStyleModel",
          "state": {
            "_view_name": "StyleView",
            "_model_name": "DescriptionStyleModel",
            "description_width": "",
            "_view_module": "@jupyter-widgets/base",
            "_model_module_version": "1.5.0",
            "_view_count": null,
            "_view_module_version": "1.2.0",
            "_model_module": "@jupyter-widgets/controls"
          }
        },
        "dd8ed50c4d3747debd186b5f9d02996a": {
          "model_module": "@jupyter-widgets/base",
          "model_name": "LayoutModel",
          "state": {
            "_view_name": "LayoutView",
            "grid_template_rows": null,
            "right": null,
            "justify_content": null,
            "_view_module": "@jupyter-widgets/base",
            "overflow": null,
            "_model_module_version": "1.2.0",
            "_view_count": null,
            "flex_flow": null,
            "width": null,
            "min_width": null,
            "border": null,
            "align_items": null,
            "bottom": null,
            "_model_module": "@jupyter-widgets/base",
            "top": null,
            "grid_column": null,
            "overflow_y": null,
            "overflow_x": null,
            "grid_auto_flow": null,
            "grid_area": null,
            "grid_template_columns": null,
            "flex": null,
            "_model_name": "LayoutModel",
            "justify_items": null,
            "grid_row": null,
            "max_height": null,
            "align_content": null,
            "visibility": null,
            "align_self": null,
            "height": null,
            "min_height": null,
            "padding": null,
            "grid_auto_rows": null,
            "grid_gap": null,
            "max_width": null,
            "order": null,
            "_view_module_version": "1.2.0",
            "grid_template_areas": null,
            "object_position": null,
            "object_fit": null,
            "grid_auto_columns": null,
            "margin": null,
            "display": null,
            "left": null
          }
        },
        "dc60ef870e034aa59b9fea72464c340b": {
          "model_module": "@jupyter-widgets/controls",
          "model_name": "HBoxModel",
          "state": {
            "_view_name": "HBoxView",
            "_dom_classes": [],
            "_model_name": "HBoxModel",
            "_view_module": "@jupyter-widgets/controls",
            "_model_module_version": "1.5.0",
            "_view_count": null,
            "_view_module_version": "1.5.0",
            "box_style": "",
            "layout": "IPY_MODEL_b4b8ec1667be4329a074fa5128c51f9f",
            "_model_module": "@jupyter-widgets/controls",
            "children": [
              "IPY_MODEL_49441db922924483a47ea8969996309d",
              "IPY_MODEL_acd59e81ede24409ac5e7930002426ea"
            ]
          }
        },
        "b4b8ec1667be4329a074fa5128c51f9f": {
          "model_module": "@jupyter-widgets/base",
          "model_name": "LayoutModel",
          "state": {
            "_view_name": "LayoutView",
            "grid_template_rows": null,
            "right": null,
            "justify_content": null,
            "_view_module": "@jupyter-widgets/base",
            "overflow": null,
            "_model_module_version": "1.2.0",
            "_view_count": null,
            "flex_flow": null,
            "width": null,
            "min_width": null,
            "border": null,
            "align_items": null,
            "bottom": null,
            "_model_module": "@jupyter-widgets/base",
            "top": null,
            "grid_column": null,
            "overflow_y": null,
            "overflow_x": null,
            "grid_auto_flow": null,
            "grid_area": null,
            "grid_template_columns": null,
            "flex": null,
            "_model_name": "LayoutModel",
            "justify_items": null,
            "grid_row": null,
            "max_height": null,
            "align_content": null,
            "visibility": null,
            "align_self": null,
            "height": null,
            "min_height": null,
            "padding": null,
            "grid_auto_rows": null,
            "grid_gap": null,
            "max_width": null,
            "order": null,
            "_view_module_version": "1.2.0",
            "grid_template_areas": null,
            "object_position": null,
            "object_fit": null,
            "grid_auto_columns": null,
            "margin": null,
            "display": null,
            "left": null
          }
        },
        "49441db922924483a47ea8969996309d": {
          "model_module": "@jupyter-widgets/controls",
          "model_name": "FloatProgressModel",
          "state": {
            "_view_name": "ProgressView",
            "style": "IPY_MODEL_db8146873d62410598df8b62c4590417",
            "_dom_classes": [],
            "description": "Epoch 5: 100%",
            "_model_name": "FloatProgressModel",
            "bar_style": "",
            "max": 75,
            "_view_module": "@jupyter-widgets/controls",
            "_model_module_version": "1.5.0",
            "value": 75,
            "_view_count": null,
            "_view_module_version": "1.5.0",
            "orientation": "horizontal",
            "min": 0,
            "description_tooltip": null,
            "_model_module": "@jupyter-widgets/controls",
            "layout": "IPY_MODEL_2286aeaaa1ff4b2199a1bcb6ca3879ed"
          }
        },
        "acd59e81ede24409ac5e7930002426ea": {
          "model_module": "@jupyter-widgets/controls",
          "model_name": "HTMLModel",
          "state": {
            "_view_name": "HTMLView",
            "style": "IPY_MODEL_2d0384a0651f4c64b1e2b34e5f400498",
            "_dom_classes": [],
            "description": "",
            "_model_name": "HTMLModel",
            "placeholder": "​",
            "_view_module": "@jupyter-widgets/controls",
            "_model_module_version": "1.5.0",
            "value": " 75/75 [25:32&lt;00:00, 25.92s/it, loss=0.225]",
            "_view_count": null,
            "_view_module_version": "1.5.0",
            "description_tooltip": null,
            "_model_module": "@jupyter-widgets/controls",
            "layout": "IPY_MODEL_e1b45bc22f4a4b9e8572fceccf3c7801"
          }
        },
        "db8146873d62410598df8b62c4590417": {
          "model_module": "@jupyter-widgets/controls",
          "model_name": "ProgressStyleModel",
          "state": {
            "_view_name": "StyleView",
            "_model_name": "ProgressStyleModel",
            "description_width": "initial",
            "_view_module": "@jupyter-widgets/base",
            "_model_module_version": "1.5.0",
            "_view_count": null,
            "_view_module_version": "1.2.0",
            "bar_color": null,
            "_model_module": "@jupyter-widgets/controls"
          }
        },
        "2286aeaaa1ff4b2199a1bcb6ca3879ed": {
          "model_module": "@jupyter-widgets/base",
          "model_name": "LayoutModel",
          "state": {
            "_view_name": "LayoutView",
            "grid_template_rows": null,
            "right": null,
            "justify_content": null,
            "_view_module": "@jupyter-widgets/base",
            "overflow": null,
            "_model_module_version": "1.2.0",
            "_view_count": null,
            "flex_flow": null,
            "width": null,
            "min_width": null,
            "border": null,
            "align_items": null,
            "bottom": null,
            "_model_module": "@jupyter-widgets/base",
            "top": null,
            "grid_column": null,
            "overflow_y": null,
            "overflow_x": null,
            "grid_auto_flow": null,
            "grid_area": null,
            "grid_template_columns": null,
            "flex": null,
            "_model_name": "LayoutModel",
            "justify_items": null,
            "grid_row": null,
            "max_height": null,
            "align_content": null,
            "visibility": null,
            "align_self": null,
            "height": null,
            "min_height": null,
            "padding": null,
            "grid_auto_rows": null,
            "grid_gap": null,
            "max_width": null,
            "order": null,
            "_view_module_version": "1.2.0",
            "grid_template_areas": null,
            "object_position": null,
            "object_fit": null,
            "grid_auto_columns": null,
            "margin": null,
            "display": null,
            "left": null
          }
        },
        "2d0384a0651f4c64b1e2b34e5f400498": {
          "model_module": "@jupyter-widgets/controls",
          "model_name": "DescriptionStyleModel",
          "state": {
            "_view_name": "StyleView",
            "_model_name": "DescriptionStyleModel",
            "description_width": "",
            "_view_module": "@jupyter-widgets/base",
            "_model_module_version": "1.5.0",
            "_view_count": null,
            "_view_module_version": "1.2.0",
            "_model_module": "@jupyter-widgets/controls"
          }
        },
        "e1b45bc22f4a4b9e8572fceccf3c7801": {
          "model_module": "@jupyter-widgets/base",
          "model_name": "LayoutModel",
          "state": {
            "_view_name": "LayoutView",
            "grid_template_rows": null,
            "right": null,
            "justify_content": null,
            "_view_module": "@jupyter-widgets/base",
            "overflow": null,
            "_model_module_version": "1.2.0",
            "_view_count": null,
            "flex_flow": null,
            "width": null,
            "min_width": null,
            "border": null,
            "align_items": null,
            "bottom": null,
            "_model_module": "@jupyter-widgets/base",
            "top": null,
            "grid_column": null,
            "overflow_y": null,
            "overflow_x": null,
            "grid_auto_flow": null,
            "grid_area": null,
            "grid_template_columns": null,
            "flex": null,
            "_model_name": "LayoutModel",
            "justify_items": null,
            "grid_row": null,
            "max_height": null,
            "align_content": null,
            "visibility": null,
            "align_self": null,
            "height": null,
            "min_height": null,
            "padding": null,
            "grid_auto_rows": null,
            "grid_gap": null,
            "max_width": null,
            "order": null,
            "_view_module_version": "1.2.0",
            "grid_template_areas": null,
            "object_position": null,
            "object_fit": null,
            "grid_auto_columns": null,
            "margin": null,
            "display": null,
            "left": null
          }
        },
        "b97babfbbca34141b452fa8ce62cba91": {
          "model_module": "@jupyter-widgets/controls",
          "model_name": "HBoxModel",
          "state": {
            "_view_name": "HBoxView",
            "_dom_classes": [],
            "_model_name": "HBoxModel",
            "_view_module": "@jupyter-widgets/controls",
            "_model_module_version": "1.5.0",
            "_view_count": null,
            "_view_module_version": "1.5.0",
            "box_style": "",
            "layout": "IPY_MODEL_4c4950410ae8472c858959133e61c84e",
            "_model_module": "@jupyter-widgets/controls",
            "children": [
              "IPY_MODEL_c0c6f3b17685423f94c10680553fac18",
              "IPY_MODEL_4b6a965f5780416dbc88c7dcbc07511e"
            ]
          }
        },
        "4c4950410ae8472c858959133e61c84e": {
          "model_module": "@jupyter-widgets/base",
          "model_name": "LayoutModel",
          "state": {
            "_view_name": "LayoutView",
            "grid_template_rows": null,
            "right": null,
            "justify_content": null,
            "_view_module": "@jupyter-widgets/base",
            "overflow": null,
            "_model_module_version": "1.2.0",
            "_view_count": null,
            "flex_flow": null,
            "width": null,
            "min_width": null,
            "border": null,
            "align_items": null,
            "bottom": null,
            "_model_module": "@jupyter-widgets/base",
            "top": null,
            "grid_column": null,
            "overflow_y": null,
            "overflow_x": null,
            "grid_auto_flow": null,
            "grid_area": null,
            "grid_template_columns": null,
            "flex": null,
            "_model_name": "LayoutModel",
            "justify_items": null,
            "grid_row": null,
            "max_height": null,
            "align_content": null,
            "visibility": null,
            "align_self": null,
            "height": null,
            "min_height": null,
            "padding": null,
            "grid_auto_rows": null,
            "grid_gap": null,
            "max_width": null,
            "order": null,
            "_view_module_version": "1.2.0",
            "grid_template_areas": null,
            "object_position": null,
            "object_fit": null,
            "grid_auto_columns": null,
            "margin": null,
            "display": null,
            "left": null
          }
        },
        "c0c6f3b17685423f94c10680553fac18": {
          "model_module": "@jupyter-widgets/controls",
          "model_name": "FloatProgressModel",
          "state": {
            "_view_name": "ProgressView",
            "style": "IPY_MODEL_56f677c2cef04c1f982a149dfbde37b0",
            "_dom_classes": [],
            "description": "100%",
            "_model_name": "FloatProgressModel",
            "bar_style": "",
            "max": 25,
            "_view_module": "@jupyter-widgets/controls",
            "_model_module_version": "1.5.0",
            "value": 25,
            "_view_count": null,
            "_view_module_version": "1.5.0",
            "orientation": "horizontal",
            "min": 0,
            "description_tooltip": null,
            "_model_module": "@jupyter-widgets/controls",
            "layout": "IPY_MODEL_39f892fa353e436f9cdc8b7c33559072"
          }
        },
        "4b6a965f5780416dbc88c7dcbc07511e": {
          "model_module": "@jupyter-widgets/controls",
          "model_name": "HTMLModel",
          "state": {
            "_view_name": "HTMLView",
            "style": "IPY_MODEL_81dd3d4d76cf4355ae56ec29b6c25f33",
            "_dom_classes": [],
            "description": "",
            "_model_name": "HTMLModel",
            "placeholder": "​",
            "_view_module": "@jupyter-widgets/controls",
            "_model_module_version": "1.5.0",
            "value": " 25/25 [00:06&lt;00:00,  1.22it/s]",
            "_view_count": null,
            "_view_module_version": "1.5.0",
            "description_tooltip": null,
            "_model_module": "@jupyter-widgets/controls",
            "layout": "IPY_MODEL_1b4d0dc92b3f4b64915759689d9df481"
          }
        },
        "56f677c2cef04c1f982a149dfbde37b0": {
          "model_module": "@jupyter-widgets/controls",
          "model_name": "ProgressStyleModel",
          "state": {
            "_view_name": "StyleView",
            "_model_name": "ProgressStyleModel",
            "description_width": "initial",
            "_view_module": "@jupyter-widgets/base",
            "_model_module_version": "1.5.0",
            "_view_count": null,
            "_view_module_version": "1.2.0",
            "bar_color": null,
            "_model_module": "@jupyter-widgets/controls"
          }
        },
        "39f892fa353e436f9cdc8b7c33559072": {
          "model_module": "@jupyter-widgets/base",
          "model_name": "LayoutModel",
          "state": {
            "_view_name": "LayoutView",
            "grid_template_rows": null,
            "right": null,
            "justify_content": null,
            "_view_module": "@jupyter-widgets/base",
            "overflow": null,
            "_model_module_version": "1.2.0",
            "_view_count": null,
            "flex_flow": null,
            "width": null,
            "min_width": null,
            "border": null,
            "align_items": null,
            "bottom": null,
            "_model_module": "@jupyter-widgets/base",
            "top": null,
            "grid_column": null,
            "overflow_y": null,
            "overflow_x": null,
            "grid_auto_flow": null,
            "grid_area": null,
            "grid_template_columns": null,
            "flex": null,
            "_model_name": "LayoutModel",
            "justify_items": null,
            "grid_row": null,
            "max_height": null,
            "align_content": null,
            "visibility": null,
            "align_self": null,
            "height": null,
            "min_height": null,
            "padding": null,
            "grid_auto_rows": null,
            "grid_gap": null,
            "max_width": null,
            "order": null,
            "_view_module_version": "1.2.0",
            "grid_template_areas": null,
            "object_position": null,
            "object_fit": null,
            "grid_auto_columns": null,
            "margin": null,
            "display": null,
            "left": null
          }
        },
        "81dd3d4d76cf4355ae56ec29b6c25f33": {
          "model_module": "@jupyter-widgets/controls",
          "model_name": "DescriptionStyleModel",
          "state": {
            "_view_name": "StyleView",
            "_model_name": "DescriptionStyleModel",
            "description_width": "",
            "_view_module": "@jupyter-widgets/base",
            "_model_module_version": "1.5.0",
            "_view_count": null,
            "_view_module_version": "1.2.0",
            "_model_module": "@jupyter-widgets/controls"
          }
        },
        "1b4d0dc92b3f4b64915759689d9df481": {
          "model_module": "@jupyter-widgets/base",
          "model_name": "LayoutModel",
          "state": {
            "_view_name": "LayoutView",
            "grid_template_rows": null,
            "right": null,
            "justify_content": null,
            "_view_module": "@jupyter-widgets/base",
            "overflow": null,
            "_model_module_version": "1.2.0",
            "_view_count": null,
            "flex_flow": null,
            "width": null,
            "min_width": null,
            "border": null,
            "align_items": null,
            "bottom": null,
            "_model_module": "@jupyter-widgets/base",
            "top": null,
            "grid_column": null,
            "overflow_y": null,
            "overflow_x": null,
            "grid_auto_flow": null,
            "grid_area": null,
            "grid_template_columns": null,
            "flex": null,
            "_model_name": "LayoutModel",
            "justify_items": null,
            "grid_row": null,
            "max_height": null,
            "align_content": null,
            "visibility": null,
            "align_self": null,
            "height": null,
            "min_height": null,
            "padding": null,
            "grid_auto_rows": null,
            "grid_gap": null,
            "max_width": null,
            "order": null,
            "_view_module_version": "1.2.0",
            "grid_template_areas": null,
            "object_position": null,
            "object_fit": null,
            "grid_auto_columns": null,
            "margin": null,
            "display": null,
            "left": null
          }
        },
        "6b2bb0e245594d25b55733eb27c35ffd": {
          "model_module": "@jupyter-widgets/controls",
          "model_name": "HBoxModel",
          "state": {
            "_view_name": "HBoxView",
            "_dom_classes": [],
            "_model_name": "HBoxModel",
            "_view_module": "@jupyter-widgets/controls",
            "_model_module_version": "1.5.0",
            "_view_count": null,
            "_view_module_version": "1.5.0",
            "box_style": "",
            "layout": "IPY_MODEL_c6a0a81673f045929d081d31787b682f",
            "_model_module": "@jupyter-widgets/controls",
            "children": [
              "IPY_MODEL_b56fa11b57194e0ba52039fd2a29c1cd",
              "IPY_MODEL_3d2f0375017d41fda74891254ad2d8ad"
            ]
          }
        },
        "c6a0a81673f045929d081d31787b682f": {
          "model_module": "@jupyter-widgets/base",
          "model_name": "LayoutModel",
          "state": {
            "_view_name": "LayoutView",
            "grid_template_rows": null,
            "right": null,
            "justify_content": null,
            "_view_module": "@jupyter-widgets/base",
            "overflow": null,
            "_model_module_version": "1.2.0",
            "_view_count": null,
            "flex_flow": null,
            "width": null,
            "min_width": null,
            "border": null,
            "align_items": null,
            "bottom": null,
            "_model_module": "@jupyter-widgets/base",
            "top": null,
            "grid_column": null,
            "overflow_y": null,
            "overflow_x": null,
            "grid_auto_flow": null,
            "grid_area": null,
            "grid_template_columns": null,
            "flex": null,
            "_model_name": "LayoutModel",
            "justify_items": null,
            "grid_row": null,
            "max_height": null,
            "align_content": null,
            "visibility": null,
            "align_self": null,
            "height": null,
            "min_height": null,
            "padding": null,
            "grid_auto_rows": null,
            "grid_gap": null,
            "max_width": null,
            "order": null,
            "_view_module_version": "1.2.0",
            "grid_template_areas": null,
            "object_position": null,
            "object_fit": null,
            "grid_auto_columns": null,
            "margin": null,
            "display": null,
            "left": null
          }
        },
        "b56fa11b57194e0ba52039fd2a29c1cd": {
          "model_module": "@jupyter-widgets/controls",
          "model_name": "FloatProgressModel",
          "state": {
            "_view_name": "ProgressView",
            "style": "IPY_MODEL_a97e8bf94f434d3d906add4e338f561a",
            "_dom_classes": [],
            "description": "Epoch 6: 100%",
            "_model_name": "FloatProgressModel",
            "bar_style": "",
            "max": 75,
            "_view_module": "@jupyter-widgets/controls",
            "_model_module_version": "1.5.0",
            "value": 75,
            "_view_count": null,
            "_view_module_version": "1.5.0",
            "orientation": "horizontal",
            "min": 0,
            "description_tooltip": null,
            "_model_module": "@jupyter-widgets/controls",
            "layout": "IPY_MODEL_ed03632fcf3f4dbe92f996b40bcd35c8"
          }
        },
        "3d2f0375017d41fda74891254ad2d8ad": {
          "model_module": "@jupyter-widgets/controls",
          "model_name": "HTMLModel",
          "state": {
            "_view_name": "HTMLView",
            "style": "IPY_MODEL_de41fe7fa3954265b7f5c8ee3785a91b",
            "_dom_classes": [],
            "description": "",
            "_model_name": "HTMLModel",
            "placeholder": "​",
            "_view_module": "@jupyter-widgets/controls",
            "_model_module_version": "1.5.0",
            "value": " 75/75 [25:42&lt;00:00, 50.93s/it, loss=0.0663]",
            "_view_count": null,
            "_view_module_version": "1.5.0",
            "description_tooltip": null,
            "_model_module": "@jupyter-widgets/controls",
            "layout": "IPY_MODEL_78158952bc7a4601bf005e02d68868d2"
          }
        },
        "a97e8bf94f434d3d906add4e338f561a": {
          "model_module": "@jupyter-widgets/controls",
          "model_name": "ProgressStyleModel",
          "state": {
            "_view_name": "StyleView",
            "_model_name": "ProgressStyleModel",
            "description_width": "initial",
            "_view_module": "@jupyter-widgets/base",
            "_model_module_version": "1.5.0",
            "_view_count": null,
            "_view_module_version": "1.2.0",
            "bar_color": null,
            "_model_module": "@jupyter-widgets/controls"
          }
        },
        "ed03632fcf3f4dbe92f996b40bcd35c8": {
          "model_module": "@jupyter-widgets/base",
          "model_name": "LayoutModel",
          "state": {
            "_view_name": "LayoutView",
            "grid_template_rows": null,
            "right": null,
            "justify_content": null,
            "_view_module": "@jupyter-widgets/base",
            "overflow": null,
            "_model_module_version": "1.2.0",
            "_view_count": null,
            "flex_flow": null,
            "width": null,
            "min_width": null,
            "border": null,
            "align_items": null,
            "bottom": null,
            "_model_module": "@jupyter-widgets/base",
            "top": null,
            "grid_column": null,
            "overflow_y": null,
            "overflow_x": null,
            "grid_auto_flow": null,
            "grid_area": null,
            "grid_template_columns": null,
            "flex": null,
            "_model_name": "LayoutModel",
            "justify_items": null,
            "grid_row": null,
            "max_height": null,
            "align_content": null,
            "visibility": null,
            "align_self": null,
            "height": null,
            "min_height": null,
            "padding": null,
            "grid_auto_rows": null,
            "grid_gap": null,
            "max_width": null,
            "order": null,
            "_view_module_version": "1.2.0",
            "grid_template_areas": null,
            "object_position": null,
            "object_fit": null,
            "grid_auto_columns": null,
            "margin": null,
            "display": null,
            "left": null
          }
        },
        "de41fe7fa3954265b7f5c8ee3785a91b": {
          "model_module": "@jupyter-widgets/controls",
          "model_name": "DescriptionStyleModel",
          "state": {
            "_view_name": "StyleView",
            "_model_name": "DescriptionStyleModel",
            "description_width": "",
            "_view_module": "@jupyter-widgets/base",
            "_model_module_version": "1.5.0",
            "_view_count": null,
            "_view_module_version": "1.2.0",
            "_model_module": "@jupyter-widgets/controls"
          }
        },
        "78158952bc7a4601bf005e02d68868d2": {
          "model_module": "@jupyter-widgets/base",
          "model_name": "LayoutModel",
          "state": {
            "_view_name": "LayoutView",
            "grid_template_rows": null,
            "right": null,
            "justify_content": null,
            "_view_module": "@jupyter-widgets/base",
            "overflow": null,
            "_model_module_version": "1.2.0",
            "_view_count": null,
            "flex_flow": null,
            "width": null,
            "min_width": null,
            "border": null,
            "align_items": null,
            "bottom": null,
            "_model_module": "@jupyter-widgets/base",
            "top": null,
            "grid_column": null,
            "overflow_y": null,
            "overflow_x": null,
            "grid_auto_flow": null,
            "grid_area": null,
            "grid_template_columns": null,
            "flex": null,
            "_model_name": "LayoutModel",
            "justify_items": null,
            "grid_row": null,
            "max_height": null,
            "align_content": null,
            "visibility": null,
            "align_self": null,
            "height": null,
            "min_height": null,
            "padding": null,
            "grid_auto_rows": null,
            "grid_gap": null,
            "max_width": null,
            "order": null,
            "_view_module_version": "1.2.0",
            "grid_template_areas": null,
            "object_position": null,
            "object_fit": null,
            "grid_auto_columns": null,
            "margin": null,
            "display": null,
            "left": null
          }
        },
        "7353ed8d73f74448b267c4f873153b3c": {
          "model_module": "@jupyter-widgets/controls",
          "model_name": "HBoxModel",
          "state": {
            "_view_name": "HBoxView",
            "_dom_classes": [],
            "_model_name": "HBoxModel",
            "_view_module": "@jupyter-widgets/controls",
            "_model_module_version": "1.5.0",
            "_view_count": null,
            "_view_module_version": "1.5.0",
            "box_style": "",
            "layout": "IPY_MODEL_22b536c4b9a24cf8a82b2bc9e8972e08",
            "_model_module": "@jupyter-widgets/controls",
            "children": [
              "IPY_MODEL_08330b3555ff48c5a4795cbee1ba547c",
              "IPY_MODEL_2937917e4b404c889dac11d8c3ae8e6d"
            ]
          }
        },
        "22b536c4b9a24cf8a82b2bc9e8972e08": {
          "model_module": "@jupyter-widgets/base",
          "model_name": "LayoutModel",
          "state": {
            "_view_name": "LayoutView",
            "grid_template_rows": null,
            "right": null,
            "justify_content": null,
            "_view_module": "@jupyter-widgets/base",
            "overflow": null,
            "_model_module_version": "1.2.0",
            "_view_count": null,
            "flex_flow": null,
            "width": null,
            "min_width": null,
            "border": null,
            "align_items": null,
            "bottom": null,
            "_model_module": "@jupyter-widgets/base",
            "top": null,
            "grid_column": null,
            "overflow_y": null,
            "overflow_x": null,
            "grid_auto_flow": null,
            "grid_area": null,
            "grid_template_columns": null,
            "flex": null,
            "_model_name": "LayoutModel",
            "justify_items": null,
            "grid_row": null,
            "max_height": null,
            "align_content": null,
            "visibility": null,
            "align_self": null,
            "height": null,
            "min_height": null,
            "padding": null,
            "grid_auto_rows": null,
            "grid_gap": null,
            "max_width": null,
            "order": null,
            "_view_module_version": "1.2.0",
            "grid_template_areas": null,
            "object_position": null,
            "object_fit": null,
            "grid_auto_columns": null,
            "margin": null,
            "display": null,
            "left": null
          }
        },
        "08330b3555ff48c5a4795cbee1ba547c": {
          "model_module": "@jupyter-widgets/controls",
          "model_name": "FloatProgressModel",
          "state": {
            "_view_name": "ProgressView",
            "style": "IPY_MODEL_348f895d22a347e4bd089a6fba4e5463",
            "_dom_classes": [],
            "description": "100%",
            "_model_name": "FloatProgressModel",
            "bar_style": "",
            "max": 25,
            "_view_module": "@jupyter-widgets/controls",
            "_model_module_version": "1.5.0",
            "value": 25,
            "_view_count": null,
            "_view_module_version": "1.5.0",
            "orientation": "horizontal",
            "min": 0,
            "description_tooltip": null,
            "_model_module": "@jupyter-widgets/controls",
            "layout": "IPY_MODEL_1d4b3ae1e65642f78eaccdaddfc13059"
          }
        },
        "2937917e4b404c889dac11d8c3ae8e6d": {
          "model_module": "@jupyter-widgets/controls",
          "model_name": "HTMLModel",
          "state": {
            "_view_name": "HTMLView",
            "style": "IPY_MODEL_3ed8fd26eceb463ea0af1626d1f78eb1",
            "_dom_classes": [],
            "description": "",
            "_model_name": "HTMLModel",
            "placeholder": "​",
            "_view_module": "@jupyter-widgets/controls",
            "_model_module_version": "1.5.0",
            "value": " 25/25 [00:06&lt;00:00,  1.20it/s]",
            "_view_count": null,
            "_view_module_version": "1.5.0",
            "description_tooltip": null,
            "_model_module": "@jupyter-widgets/controls",
            "layout": "IPY_MODEL_a823e1cf5e42473f91bbd73083ba236c"
          }
        },
        "348f895d22a347e4bd089a6fba4e5463": {
          "model_module": "@jupyter-widgets/controls",
          "model_name": "ProgressStyleModel",
          "state": {
            "_view_name": "StyleView",
            "_model_name": "ProgressStyleModel",
            "description_width": "initial",
            "_view_module": "@jupyter-widgets/base",
            "_model_module_version": "1.5.0",
            "_view_count": null,
            "_view_module_version": "1.2.0",
            "bar_color": null,
            "_model_module": "@jupyter-widgets/controls"
          }
        },
        "1d4b3ae1e65642f78eaccdaddfc13059": {
          "model_module": "@jupyter-widgets/base",
          "model_name": "LayoutModel",
          "state": {
            "_view_name": "LayoutView",
            "grid_template_rows": null,
            "right": null,
            "justify_content": null,
            "_view_module": "@jupyter-widgets/base",
            "overflow": null,
            "_model_module_version": "1.2.0",
            "_view_count": null,
            "flex_flow": null,
            "width": null,
            "min_width": null,
            "border": null,
            "align_items": null,
            "bottom": null,
            "_model_module": "@jupyter-widgets/base",
            "top": null,
            "grid_column": null,
            "overflow_y": null,
            "overflow_x": null,
            "grid_auto_flow": null,
            "grid_area": null,
            "grid_template_columns": null,
            "flex": null,
            "_model_name": "LayoutModel",
            "justify_items": null,
            "grid_row": null,
            "max_height": null,
            "align_content": null,
            "visibility": null,
            "align_self": null,
            "height": null,
            "min_height": null,
            "padding": null,
            "grid_auto_rows": null,
            "grid_gap": null,
            "max_width": null,
            "order": null,
            "_view_module_version": "1.2.0",
            "grid_template_areas": null,
            "object_position": null,
            "object_fit": null,
            "grid_auto_columns": null,
            "margin": null,
            "display": null,
            "left": null
          }
        },
        "3ed8fd26eceb463ea0af1626d1f78eb1": {
          "model_module": "@jupyter-widgets/controls",
          "model_name": "DescriptionStyleModel",
          "state": {
            "_view_name": "StyleView",
            "_model_name": "DescriptionStyleModel",
            "description_width": "",
            "_view_module": "@jupyter-widgets/base",
            "_model_module_version": "1.5.0",
            "_view_count": null,
            "_view_module_version": "1.2.0",
            "_model_module": "@jupyter-widgets/controls"
          }
        },
        "a823e1cf5e42473f91bbd73083ba236c": {
          "model_module": "@jupyter-widgets/base",
          "model_name": "LayoutModel",
          "state": {
            "_view_name": "LayoutView",
            "grid_template_rows": null,
            "right": null,
            "justify_content": null,
            "_view_module": "@jupyter-widgets/base",
            "overflow": null,
            "_model_module_version": "1.2.0",
            "_view_count": null,
            "flex_flow": null,
            "width": null,
            "min_width": null,
            "border": null,
            "align_items": null,
            "bottom": null,
            "_model_module": "@jupyter-widgets/base",
            "top": null,
            "grid_column": null,
            "overflow_y": null,
            "overflow_x": null,
            "grid_auto_flow": null,
            "grid_area": null,
            "grid_template_columns": null,
            "flex": null,
            "_model_name": "LayoutModel",
            "justify_items": null,
            "grid_row": null,
            "max_height": null,
            "align_content": null,
            "visibility": null,
            "align_self": null,
            "height": null,
            "min_height": null,
            "padding": null,
            "grid_auto_rows": null,
            "grid_gap": null,
            "max_width": null,
            "order": null,
            "_view_module_version": "1.2.0",
            "grid_template_areas": null,
            "object_position": null,
            "object_fit": null,
            "grid_auto_columns": null,
            "margin": null,
            "display": null,
            "left": null
          }
        },
        "f9f901f3bc754f12a85a5fa01c5ef130": {
          "model_module": "@jupyter-widgets/controls",
          "model_name": "HBoxModel",
          "state": {
            "_view_name": "HBoxView",
            "_dom_classes": [],
            "_model_name": "HBoxModel",
            "_view_module": "@jupyter-widgets/controls",
            "_model_module_version": "1.5.0",
            "_view_count": null,
            "_view_module_version": "1.5.0",
            "box_style": "",
            "layout": "IPY_MODEL_cdfde4acc84d41c9b491c2da9a90c97f",
            "_model_module": "@jupyter-widgets/controls",
            "children": [
              "IPY_MODEL_bf33b773da2e4446a33cb19e500303aa",
              "IPY_MODEL_619f776017944c29a7bcc77e33e07477"
            ]
          }
        },
        "cdfde4acc84d41c9b491c2da9a90c97f": {
          "model_module": "@jupyter-widgets/base",
          "model_name": "LayoutModel",
          "state": {
            "_view_name": "LayoutView",
            "grid_template_rows": null,
            "right": null,
            "justify_content": null,
            "_view_module": "@jupyter-widgets/base",
            "overflow": null,
            "_model_module_version": "1.2.0",
            "_view_count": null,
            "flex_flow": null,
            "width": null,
            "min_width": null,
            "border": null,
            "align_items": null,
            "bottom": null,
            "_model_module": "@jupyter-widgets/base",
            "top": null,
            "grid_column": null,
            "overflow_y": null,
            "overflow_x": null,
            "grid_auto_flow": null,
            "grid_area": null,
            "grid_template_columns": null,
            "flex": null,
            "_model_name": "LayoutModel",
            "justify_items": null,
            "grid_row": null,
            "max_height": null,
            "align_content": null,
            "visibility": null,
            "align_self": null,
            "height": null,
            "min_height": null,
            "padding": null,
            "grid_auto_rows": null,
            "grid_gap": null,
            "max_width": null,
            "order": null,
            "_view_module_version": "1.2.0",
            "grid_template_areas": null,
            "object_position": null,
            "object_fit": null,
            "grid_auto_columns": null,
            "margin": null,
            "display": null,
            "left": null
          }
        },
        "bf33b773da2e4446a33cb19e500303aa": {
          "model_module": "@jupyter-widgets/controls",
          "model_name": "FloatProgressModel",
          "state": {
            "_view_name": "ProgressView",
            "style": "IPY_MODEL_ff6a6dc222c549b38c78e373e6c0591a",
            "_dom_classes": [],
            "description": "Epoch 7: 100%",
            "_model_name": "FloatProgressModel",
            "bar_style": "",
            "max": 75,
            "_view_module": "@jupyter-widgets/controls",
            "_model_module_version": "1.5.0",
            "value": 75,
            "_view_count": null,
            "_view_module_version": "1.5.0",
            "orientation": "horizontal",
            "min": 0,
            "description_tooltip": null,
            "_model_module": "@jupyter-widgets/controls",
            "layout": "IPY_MODEL_ab36a87ab8df4f46ac24a4629b759306"
          }
        },
        "619f776017944c29a7bcc77e33e07477": {
          "model_module": "@jupyter-widgets/controls",
          "model_name": "HTMLModel",
          "state": {
            "_view_name": "HTMLView",
            "style": "IPY_MODEL_15db11e5f9af482da68098aacf86ef11",
            "_dom_classes": [],
            "description": "",
            "_model_name": "HTMLModel",
            "placeholder": "​",
            "_view_module": "@jupyter-widgets/controls",
            "_model_module_version": "1.5.0",
            "value": " 75/75 [25:50&lt;00:00, 14.05s/it, loss=0.0717]",
            "_view_count": null,
            "_view_module_version": "1.5.0",
            "description_tooltip": null,
            "_model_module": "@jupyter-widgets/controls",
            "layout": "IPY_MODEL_cdf479290ba34b53aa0dc03cff46c049"
          }
        },
        "ff6a6dc222c549b38c78e373e6c0591a": {
          "model_module": "@jupyter-widgets/controls",
          "model_name": "ProgressStyleModel",
          "state": {
            "_view_name": "StyleView",
            "_model_name": "ProgressStyleModel",
            "description_width": "initial",
            "_view_module": "@jupyter-widgets/base",
            "_model_module_version": "1.5.0",
            "_view_count": null,
            "_view_module_version": "1.2.0",
            "bar_color": null,
            "_model_module": "@jupyter-widgets/controls"
          }
        },
        "ab36a87ab8df4f46ac24a4629b759306": {
          "model_module": "@jupyter-widgets/base",
          "model_name": "LayoutModel",
          "state": {
            "_view_name": "LayoutView",
            "grid_template_rows": null,
            "right": null,
            "justify_content": null,
            "_view_module": "@jupyter-widgets/base",
            "overflow": null,
            "_model_module_version": "1.2.0",
            "_view_count": null,
            "flex_flow": null,
            "width": null,
            "min_width": null,
            "border": null,
            "align_items": null,
            "bottom": null,
            "_model_module": "@jupyter-widgets/base",
            "top": null,
            "grid_column": null,
            "overflow_y": null,
            "overflow_x": null,
            "grid_auto_flow": null,
            "grid_area": null,
            "grid_template_columns": null,
            "flex": null,
            "_model_name": "LayoutModel",
            "justify_items": null,
            "grid_row": null,
            "max_height": null,
            "align_content": null,
            "visibility": null,
            "align_self": null,
            "height": null,
            "min_height": null,
            "padding": null,
            "grid_auto_rows": null,
            "grid_gap": null,
            "max_width": null,
            "order": null,
            "_view_module_version": "1.2.0",
            "grid_template_areas": null,
            "object_position": null,
            "object_fit": null,
            "grid_auto_columns": null,
            "margin": null,
            "display": null,
            "left": null
          }
        },
        "15db11e5f9af482da68098aacf86ef11": {
          "model_module": "@jupyter-widgets/controls",
          "model_name": "DescriptionStyleModel",
          "state": {
            "_view_name": "StyleView",
            "_model_name": "DescriptionStyleModel",
            "description_width": "",
            "_view_module": "@jupyter-widgets/base",
            "_model_module_version": "1.5.0",
            "_view_count": null,
            "_view_module_version": "1.2.0",
            "_model_module": "@jupyter-widgets/controls"
          }
        },
        "cdf479290ba34b53aa0dc03cff46c049": {
          "model_module": "@jupyter-widgets/base",
          "model_name": "LayoutModel",
          "state": {
            "_view_name": "LayoutView",
            "grid_template_rows": null,
            "right": null,
            "justify_content": null,
            "_view_module": "@jupyter-widgets/base",
            "overflow": null,
            "_model_module_version": "1.2.0",
            "_view_count": null,
            "flex_flow": null,
            "width": null,
            "min_width": null,
            "border": null,
            "align_items": null,
            "bottom": null,
            "_model_module": "@jupyter-widgets/base",
            "top": null,
            "grid_column": null,
            "overflow_y": null,
            "overflow_x": null,
            "grid_auto_flow": null,
            "grid_area": null,
            "grid_template_columns": null,
            "flex": null,
            "_model_name": "LayoutModel",
            "justify_items": null,
            "grid_row": null,
            "max_height": null,
            "align_content": null,
            "visibility": null,
            "align_self": null,
            "height": null,
            "min_height": null,
            "padding": null,
            "grid_auto_rows": null,
            "grid_gap": null,
            "max_width": null,
            "order": null,
            "_view_module_version": "1.2.0",
            "grid_template_areas": null,
            "object_position": null,
            "object_fit": null,
            "grid_auto_columns": null,
            "margin": null,
            "display": null,
            "left": null
          }
        },
        "ff4a8770e0f74d298a28920a3290e4a2": {
          "model_module": "@jupyter-widgets/controls",
          "model_name": "HBoxModel",
          "state": {
            "_view_name": "HBoxView",
            "_dom_classes": [],
            "_model_name": "HBoxModel",
            "_view_module": "@jupyter-widgets/controls",
            "_model_module_version": "1.5.0",
            "_view_count": null,
            "_view_module_version": "1.5.0",
            "box_style": "",
            "layout": "IPY_MODEL_64d2f65d76a54407a90254ce5101fc13",
            "_model_module": "@jupyter-widgets/controls",
            "children": [
              "IPY_MODEL_cf8a31cc08464ca1ab9df94dd4275f1b",
              "IPY_MODEL_d4ec0ede38774b81b766dc409a861cbc"
            ]
          }
        },
        "64d2f65d76a54407a90254ce5101fc13": {
          "model_module": "@jupyter-widgets/base",
          "model_name": "LayoutModel",
          "state": {
            "_view_name": "LayoutView",
            "grid_template_rows": null,
            "right": null,
            "justify_content": null,
            "_view_module": "@jupyter-widgets/base",
            "overflow": null,
            "_model_module_version": "1.2.0",
            "_view_count": null,
            "flex_flow": null,
            "width": null,
            "min_width": null,
            "border": null,
            "align_items": null,
            "bottom": null,
            "_model_module": "@jupyter-widgets/base",
            "top": null,
            "grid_column": null,
            "overflow_y": null,
            "overflow_x": null,
            "grid_auto_flow": null,
            "grid_area": null,
            "grid_template_columns": null,
            "flex": null,
            "_model_name": "LayoutModel",
            "justify_items": null,
            "grid_row": null,
            "max_height": null,
            "align_content": null,
            "visibility": null,
            "align_self": null,
            "height": null,
            "min_height": null,
            "padding": null,
            "grid_auto_rows": null,
            "grid_gap": null,
            "max_width": null,
            "order": null,
            "_view_module_version": "1.2.0",
            "grid_template_areas": null,
            "object_position": null,
            "object_fit": null,
            "grid_auto_columns": null,
            "margin": null,
            "display": null,
            "left": null
          }
        },
        "cf8a31cc08464ca1ab9df94dd4275f1b": {
          "model_module": "@jupyter-widgets/controls",
          "model_name": "FloatProgressModel",
          "state": {
            "_view_name": "ProgressView",
            "style": "IPY_MODEL_fd176a60886d49638750b7a1e74fd82a",
            "_dom_classes": [],
            "description": "100%",
            "_model_name": "FloatProgressModel",
            "bar_style": "",
            "max": 25,
            "_view_module": "@jupyter-widgets/controls",
            "_model_module_version": "1.5.0",
            "value": 25,
            "_view_count": null,
            "_view_module_version": "1.5.0",
            "orientation": "horizontal",
            "min": 0,
            "description_tooltip": null,
            "_model_module": "@jupyter-widgets/controls",
            "layout": "IPY_MODEL_72da392b0719416c8e1d7b830460d666"
          }
        },
        "d4ec0ede38774b81b766dc409a861cbc": {
          "model_module": "@jupyter-widgets/controls",
          "model_name": "HTMLModel",
          "state": {
            "_view_name": "HTMLView",
            "style": "IPY_MODEL_0ccc087d85a141288928b0dc6226d6a4",
            "_dom_classes": [],
            "description": "",
            "_model_name": "HTMLModel",
            "placeholder": "​",
            "_view_module": "@jupyter-widgets/controls",
            "_model_module_version": "1.5.0",
            "value": " 25/25 [00:06&lt;00:00,  1.19it/s]",
            "_view_count": null,
            "_view_module_version": "1.5.0",
            "description_tooltip": null,
            "_model_module": "@jupyter-widgets/controls",
            "layout": "IPY_MODEL_415c3c4395c64501af28db113091210b"
          }
        },
        "fd176a60886d49638750b7a1e74fd82a": {
          "model_module": "@jupyter-widgets/controls",
          "model_name": "ProgressStyleModel",
          "state": {
            "_view_name": "StyleView",
            "_model_name": "ProgressStyleModel",
            "description_width": "initial",
            "_view_module": "@jupyter-widgets/base",
            "_model_module_version": "1.5.0",
            "_view_count": null,
            "_view_module_version": "1.2.0",
            "bar_color": null,
            "_model_module": "@jupyter-widgets/controls"
          }
        },
        "72da392b0719416c8e1d7b830460d666": {
          "model_module": "@jupyter-widgets/base",
          "model_name": "LayoutModel",
          "state": {
            "_view_name": "LayoutView",
            "grid_template_rows": null,
            "right": null,
            "justify_content": null,
            "_view_module": "@jupyter-widgets/base",
            "overflow": null,
            "_model_module_version": "1.2.0",
            "_view_count": null,
            "flex_flow": null,
            "width": null,
            "min_width": null,
            "border": null,
            "align_items": null,
            "bottom": null,
            "_model_module": "@jupyter-widgets/base",
            "top": null,
            "grid_column": null,
            "overflow_y": null,
            "overflow_x": null,
            "grid_auto_flow": null,
            "grid_area": null,
            "grid_template_columns": null,
            "flex": null,
            "_model_name": "LayoutModel",
            "justify_items": null,
            "grid_row": null,
            "max_height": null,
            "align_content": null,
            "visibility": null,
            "align_self": null,
            "height": null,
            "min_height": null,
            "padding": null,
            "grid_auto_rows": null,
            "grid_gap": null,
            "max_width": null,
            "order": null,
            "_view_module_version": "1.2.0",
            "grid_template_areas": null,
            "object_position": null,
            "object_fit": null,
            "grid_auto_columns": null,
            "margin": null,
            "display": null,
            "left": null
          }
        },
        "0ccc087d85a141288928b0dc6226d6a4": {
          "model_module": "@jupyter-widgets/controls",
          "model_name": "DescriptionStyleModel",
          "state": {
            "_view_name": "StyleView",
            "_model_name": "DescriptionStyleModel",
            "description_width": "",
            "_view_module": "@jupyter-widgets/base",
            "_model_module_version": "1.5.0",
            "_view_count": null,
            "_view_module_version": "1.2.0",
            "_model_module": "@jupyter-widgets/controls"
          }
        },
        "415c3c4395c64501af28db113091210b": {
          "model_module": "@jupyter-widgets/base",
          "model_name": "LayoutModel",
          "state": {
            "_view_name": "LayoutView",
            "grid_template_rows": null,
            "right": null,
            "justify_content": null,
            "_view_module": "@jupyter-widgets/base",
            "overflow": null,
            "_model_module_version": "1.2.0",
            "_view_count": null,
            "flex_flow": null,
            "width": null,
            "min_width": null,
            "border": null,
            "align_items": null,
            "bottom": null,
            "_model_module": "@jupyter-widgets/base",
            "top": null,
            "grid_column": null,
            "overflow_y": null,
            "overflow_x": null,
            "grid_auto_flow": null,
            "grid_area": null,
            "grid_template_columns": null,
            "flex": null,
            "_model_name": "LayoutModel",
            "justify_items": null,
            "grid_row": null,
            "max_height": null,
            "align_content": null,
            "visibility": null,
            "align_self": null,
            "height": null,
            "min_height": null,
            "padding": null,
            "grid_auto_rows": null,
            "grid_gap": null,
            "max_width": null,
            "order": null,
            "_view_module_version": "1.2.0",
            "grid_template_areas": null,
            "object_position": null,
            "object_fit": null,
            "grid_auto_columns": null,
            "margin": null,
            "display": null,
            "left": null
          }
        },
        "dbe0e40024624d23b657e59a6bb62285": {
          "model_module": "@jupyter-widgets/controls",
          "model_name": "HBoxModel",
          "state": {
            "_view_name": "HBoxView",
            "_dom_classes": [],
            "_model_name": "HBoxModel",
            "_view_module": "@jupyter-widgets/controls",
            "_model_module_version": "1.5.0",
            "_view_count": null,
            "_view_module_version": "1.5.0",
            "box_style": "",
            "layout": "IPY_MODEL_b8e3bbd6bc834b08bb989ceeae1b4c61",
            "_model_module": "@jupyter-widgets/controls",
            "children": [
              "IPY_MODEL_21583913ac654742b9f16176ded3ca3c",
              "IPY_MODEL_2fe498bfdef944e3b6b111cc3dfe9098"
            ]
          }
        },
        "b8e3bbd6bc834b08bb989ceeae1b4c61": {
          "model_module": "@jupyter-widgets/base",
          "model_name": "LayoutModel",
          "state": {
            "_view_name": "LayoutView",
            "grid_template_rows": null,
            "right": null,
            "justify_content": null,
            "_view_module": "@jupyter-widgets/base",
            "overflow": null,
            "_model_module_version": "1.2.0",
            "_view_count": null,
            "flex_flow": null,
            "width": null,
            "min_width": null,
            "border": null,
            "align_items": null,
            "bottom": null,
            "_model_module": "@jupyter-widgets/base",
            "top": null,
            "grid_column": null,
            "overflow_y": null,
            "overflow_x": null,
            "grid_auto_flow": null,
            "grid_area": null,
            "grid_template_columns": null,
            "flex": null,
            "_model_name": "LayoutModel",
            "justify_items": null,
            "grid_row": null,
            "max_height": null,
            "align_content": null,
            "visibility": null,
            "align_self": null,
            "height": null,
            "min_height": null,
            "padding": null,
            "grid_auto_rows": null,
            "grid_gap": null,
            "max_width": null,
            "order": null,
            "_view_module_version": "1.2.0",
            "grid_template_areas": null,
            "object_position": null,
            "object_fit": null,
            "grid_auto_columns": null,
            "margin": null,
            "display": null,
            "left": null
          }
        },
        "21583913ac654742b9f16176ded3ca3c": {
          "model_module": "@jupyter-widgets/controls",
          "model_name": "FloatProgressModel",
          "state": {
            "_view_name": "ProgressView",
            "style": "IPY_MODEL_17ab4bf3508140bc9554653d82e7ff45",
            "_dom_classes": [],
            "description": "Epoch 8: 100%",
            "_model_name": "FloatProgressModel",
            "bar_style": "",
            "max": 75,
            "_view_module": "@jupyter-widgets/controls",
            "_model_module_version": "1.5.0",
            "value": 75,
            "_view_count": null,
            "_view_module_version": "1.5.0",
            "orientation": "horizontal",
            "min": 0,
            "description_tooltip": null,
            "_model_module": "@jupyter-widgets/controls",
            "layout": "IPY_MODEL_bd3f2787672644f8b68262cf7d779ac5"
          }
        },
        "2fe498bfdef944e3b6b111cc3dfe9098": {
          "model_module": "@jupyter-widgets/controls",
          "model_name": "HTMLModel",
          "state": {
            "_view_name": "HTMLView",
            "style": "IPY_MODEL_8632871d7a5444eb8a68d353a3b4d9c4",
            "_dom_classes": [],
            "description": "",
            "_model_name": "HTMLModel",
            "placeholder": "​",
            "_view_module": "@jupyter-widgets/controls",
            "_model_module_version": "1.5.0",
            "value": " 75/75 [25:42&lt;00:00, 12.30s/it, loss=0.268]",
            "_view_count": null,
            "_view_module_version": "1.5.0",
            "description_tooltip": null,
            "_model_module": "@jupyter-widgets/controls",
            "layout": "IPY_MODEL_140eecd98a2c415bb1caf83d04e7afea"
          }
        },
        "17ab4bf3508140bc9554653d82e7ff45": {
          "model_module": "@jupyter-widgets/controls",
          "model_name": "ProgressStyleModel",
          "state": {
            "_view_name": "StyleView",
            "_model_name": "ProgressStyleModel",
            "description_width": "initial",
            "_view_module": "@jupyter-widgets/base",
            "_model_module_version": "1.5.0",
            "_view_count": null,
            "_view_module_version": "1.2.0",
            "bar_color": null,
            "_model_module": "@jupyter-widgets/controls"
          }
        },
        "bd3f2787672644f8b68262cf7d779ac5": {
          "model_module": "@jupyter-widgets/base",
          "model_name": "LayoutModel",
          "state": {
            "_view_name": "LayoutView",
            "grid_template_rows": null,
            "right": null,
            "justify_content": null,
            "_view_module": "@jupyter-widgets/base",
            "overflow": null,
            "_model_module_version": "1.2.0",
            "_view_count": null,
            "flex_flow": null,
            "width": null,
            "min_width": null,
            "border": null,
            "align_items": null,
            "bottom": null,
            "_model_module": "@jupyter-widgets/base",
            "top": null,
            "grid_column": null,
            "overflow_y": null,
            "overflow_x": null,
            "grid_auto_flow": null,
            "grid_area": null,
            "grid_template_columns": null,
            "flex": null,
            "_model_name": "LayoutModel",
            "justify_items": null,
            "grid_row": null,
            "max_height": null,
            "align_content": null,
            "visibility": null,
            "align_self": null,
            "height": null,
            "min_height": null,
            "padding": null,
            "grid_auto_rows": null,
            "grid_gap": null,
            "max_width": null,
            "order": null,
            "_view_module_version": "1.2.0",
            "grid_template_areas": null,
            "object_position": null,
            "object_fit": null,
            "grid_auto_columns": null,
            "margin": null,
            "display": null,
            "left": null
          }
        },
        "8632871d7a5444eb8a68d353a3b4d9c4": {
          "model_module": "@jupyter-widgets/controls",
          "model_name": "DescriptionStyleModel",
          "state": {
            "_view_name": "StyleView",
            "_model_name": "DescriptionStyleModel",
            "description_width": "",
            "_view_module": "@jupyter-widgets/base",
            "_model_module_version": "1.5.0",
            "_view_count": null,
            "_view_module_version": "1.2.0",
            "_model_module": "@jupyter-widgets/controls"
          }
        },
        "140eecd98a2c415bb1caf83d04e7afea": {
          "model_module": "@jupyter-widgets/base",
          "model_name": "LayoutModel",
          "state": {
            "_view_name": "LayoutView",
            "grid_template_rows": null,
            "right": null,
            "justify_content": null,
            "_view_module": "@jupyter-widgets/base",
            "overflow": null,
            "_model_module_version": "1.2.0",
            "_view_count": null,
            "flex_flow": null,
            "width": null,
            "min_width": null,
            "border": null,
            "align_items": null,
            "bottom": null,
            "_model_module": "@jupyter-widgets/base",
            "top": null,
            "grid_column": null,
            "overflow_y": null,
            "overflow_x": null,
            "grid_auto_flow": null,
            "grid_area": null,
            "grid_template_columns": null,
            "flex": null,
            "_model_name": "LayoutModel",
            "justify_items": null,
            "grid_row": null,
            "max_height": null,
            "align_content": null,
            "visibility": null,
            "align_self": null,
            "height": null,
            "min_height": null,
            "padding": null,
            "grid_auto_rows": null,
            "grid_gap": null,
            "max_width": null,
            "order": null,
            "_view_module_version": "1.2.0",
            "grid_template_areas": null,
            "object_position": null,
            "object_fit": null,
            "grid_auto_columns": null,
            "margin": null,
            "display": null,
            "left": null
          }
        },
        "b8f33ba241a74b5e9ae3c51c32f60e3c": {
          "model_module": "@jupyter-widgets/controls",
          "model_name": "HBoxModel",
          "state": {
            "_view_name": "HBoxView",
            "_dom_classes": [],
            "_model_name": "HBoxModel",
            "_view_module": "@jupyter-widgets/controls",
            "_model_module_version": "1.5.0",
            "_view_count": null,
            "_view_module_version": "1.5.0",
            "box_style": "",
            "layout": "IPY_MODEL_0a74352f93e24743bcfcd99022dbd2f5",
            "_model_module": "@jupyter-widgets/controls",
            "children": [
              "IPY_MODEL_24290de4e6064328bde4a3eeb19128eb",
              "IPY_MODEL_847c55b8ce5943f59890214b98c906ab"
            ]
          }
        },
        "0a74352f93e24743bcfcd99022dbd2f5": {
          "model_module": "@jupyter-widgets/base",
          "model_name": "LayoutModel",
          "state": {
            "_view_name": "LayoutView",
            "grid_template_rows": null,
            "right": null,
            "justify_content": null,
            "_view_module": "@jupyter-widgets/base",
            "overflow": null,
            "_model_module_version": "1.2.0",
            "_view_count": null,
            "flex_flow": null,
            "width": null,
            "min_width": null,
            "border": null,
            "align_items": null,
            "bottom": null,
            "_model_module": "@jupyter-widgets/base",
            "top": null,
            "grid_column": null,
            "overflow_y": null,
            "overflow_x": null,
            "grid_auto_flow": null,
            "grid_area": null,
            "grid_template_columns": null,
            "flex": null,
            "_model_name": "LayoutModel",
            "justify_items": null,
            "grid_row": null,
            "max_height": null,
            "align_content": null,
            "visibility": null,
            "align_self": null,
            "height": null,
            "min_height": null,
            "padding": null,
            "grid_auto_rows": null,
            "grid_gap": null,
            "max_width": null,
            "order": null,
            "_view_module_version": "1.2.0",
            "grid_template_areas": null,
            "object_position": null,
            "object_fit": null,
            "grid_auto_columns": null,
            "margin": null,
            "display": null,
            "left": null
          }
        },
        "24290de4e6064328bde4a3eeb19128eb": {
          "model_module": "@jupyter-widgets/controls",
          "model_name": "FloatProgressModel",
          "state": {
            "_view_name": "ProgressView",
            "style": "IPY_MODEL_4db23125bacf423989d53bc5456fe2f4",
            "_dom_classes": [],
            "description": "100%",
            "_model_name": "FloatProgressModel",
            "bar_style": "",
            "max": 25,
            "_view_module": "@jupyter-widgets/controls",
            "_model_module_version": "1.5.0",
            "value": 25,
            "_view_count": null,
            "_view_module_version": "1.5.0",
            "orientation": "horizontal",
            "min": 0,
            "description_tooltip": null,
            "_model_module": "@jupyter-widgets/controls",
            "layout": "IPY_MODEL_2c7c779c674246339d8483d415ef8e8d"
          }
        },
        "847c55b8ce5943f59890214b98c906ab": {
          "model_module": "@jupyter-widgets/controls",
          "model_name": "HTMLModel",
          "state": {
            "_view_name": "HTMLView",
            "style": "IPY_MODEL_39128182f30547a8b3d55fa9c6603e53",
            "_dom_classes": [],
            "description": "",
            "_model_name": "HTMLModel",
            "placeholder": "​",
            "_view_module": "@jupyter-widgets/controls",
            "_model_module_version": "1.5.0",
            "value": " 25/25 [00:06&lt;00:00,  1.19it/s]",
            "_view_count": null,
            "_view_module_version": "1.5.0",
            "description_tooltip": null,
            "_model_module": "@jupyter-widgets/controls",
            "layout": "IPY_MODEL_190f8aa2755449a485f4d58fcf812d71"
          }
        },
        "4db23125bacf423989d53bc5456fe2f4": {
          "model_module": "@jupyter-widgets/controls",
          "model_name": "ProgressStyleModel",
          "state": {
            "_view_name": "StyleView",
            "_model_name": "ProgressStyleModel",
            "description_width": "initial",
            "_view_module": "@jupyter-widgets/base",
            "_model_module_version": "1.5.0",
            "_view_count": null,
            "_view_module_version": "1.2.0",
            "bar_color": null,
            "_model_module": "@jupyter-widgets/controls"
          }
        },
        "2c7c779c674246339d8483d415ef8e8d": {
          "model_module": "@jupyter-widgets/base",
          "model_name": "LayoutModel",
          "state": {
            "_view_name": "LayoutView",
            "grid_template_rows": null,
            "right": null,
            "justify_content": null,
            "_view_module": "@jupyter-widgets/base",
            "overflow": null,
            "_model_module_version": "1.2.0",
            "_view_count": null,
            "flex_flow": null,
            "width": null,
            "min_width": null,
            "border": null,
            "align_items": null,
            "bottom": null,
            "_model_module": "@jupyter-widgets/base",
            "top": null,
            "grid_column": null,
            "overflow_y": null,
            "overflow_x": null,
            "grid_auto_flow": null,
            "grid_area": null,
            "grid_template_columns": null,
            "flex": null,
            "_model_name": "LayoutModel",
            "justify_items": null,
            "grid_row": null,
            "max_height": null,
            "align_content": null,
            "visibility": null,
            "align_self": null,
            "height": null,
            "min_height": null,
            "padding": null,
            "grid_auto_rows": null,
            "grid_gap": null,
            "max_width": null,
            "order": null,
            "_view_module_version": "1.2.0",
            "grid_template_areas": null,
            "object_position": null,
            "object_fit": null,
            "grid_auto_columns": null,
            "margin": null,
            "display": null,
            "left": null
          }
        },
        "39128182f30547a8b3d55fa9c6603e53": {
          "model_module": "@jupyter-widgets/controls",
          "model_name": "DescriptionStyleModel",
          "state": {
            "_view_name": "StyleView",
            "_model_name": "DescriptionStyleModel",
            "description_width": "",
            "_view_module": "@jupyter-widgets/base",
            "_model_module_version": "1.5.0",
            "_view_count": null,
            "_view_module_version": "1.2.0",
            "_model_module": "@jupyter-widgets/controls"
          }
        },
        "190f8aa2755449a485f4d58fcf812d71": {
          "model_module": "@jupyter-widgets/base",
          "model_name": "LayoutModel",
          "state": {
            "_view_name": "LayoutView",
            "grid_template_rows": null,
            "right": null,
            "justify_content": null,
            "_view_module": "@jupyter-widgets/base",
            "overflow": null,
            "_model_module_version": "1.2.0",
            "_view_count": null,
            "flex_flow": null,
            "width": null,
            "min_width": null,
            "border": null,
            "align_items": null,
            "bottom": null,
            "_model_module": "@jupyter-widgets/base",
            "top": null,
            "grid_column": null,
            "overflow_y": null,
            "overflow_x": null,
            "grid_auto_flow": null,
            "grid_area": null,
            "grid_template_columns": null,
            "flex": null,
            "_model_name": "LayoutModel",
            "justify_items": null,
            "grid_row": null,
            "max_height": null,
            "align_content": null,
            "visibility": null,
            "align_self": null,
            "height": null,
            "min_height": null,
            "padding": null,
            "grid_auto_rows": null,
            "grid_gap": null,
            "max_width": null,
            "order": null,
            "_view_module_version": "1.2.0",
            "grid_template_areas": null,
            "object_position": null,
            "object_fit": null,
            "grid_auto_columns": null,
            "margin": null,
            "display": null,
            "left": null
          }
        },
        "25be1923a9124408aadbdc6d9054eb3b": {
          "model_module": "@jupyter-widgets/controls",
          "model_name": "HBoxModel",
          "state": {
            "_view_name": "HBoxView",
            "_dom_classes": [],
            "_model_name": "HBoxModel",
            "_view_module": "@jupyter-widgets/controls",
            "_model_module_version": "1.5.0",
            "_view_count": null,
            "_view_module_version": "1.5.0",
            "box_style": "",
            "layout": "IPY_MODEL_a72e5ac12f8d4136b25da3d9fad171ee",
            "_model_module": "@jupyter-widgets/controls",
            "children": [
              "IPY_MODEL_d8c8c9981c0641ed9b0b0b93ac366bf0",
              "IPY_MODEL_761569996fca4125bc7fb8e1ff595ddd"
            ]
          }
        },
        "a72e5ac12f8d4136b25da3d9fad171ee": {
          "model_module": "@jupyter-widgets/base",
          "model_name": "LayoutModel",
          "state": {
            "_view_name": "LayoutView",
            "grid_template_rows": null,
            "right": null,
            "justify_content": null,
            "_view_module": "@jupyter-widgets/base",
            "overflow": null,
            "_model_module_version": "1.2.0",
            "_view_count": null,
            "flex_flow": null,
            "width": null,
            "min_width": null,
            "border": null,
            "align_items": null,
            "bottom": null,
            "_model_module": "@jupyter-widgets/base",
            "top": null,
            "grid_column": null,
            "overflow_y": null,
            "overflow_x": null,
            "grid_auto_flow": null,
            "grid_area": null,
            "grid_template_columns": null,
            "flex": null,
            "_model_name": "LayoutModel",
            "justify_items": null,
            "grid_row": null,
            "max_height": null,
            "align_content": null,
            "visibility": null,
            "align_self": null,
            "height": null,
            "min_height": null,
            "padding": null,
            "grid_auto_rows": null,
            "grid_gap": null,
            "max_width": null,
            "order": null,
            "_view_module_version": "1.2.0",
            "grid_template_areas": null,
            "object_position": null,
            "object_fit": null,
            "grid_auto_columns": null,
            "margin": null,
            "display": null,
            "left": null
          }
        },
        "d8c8c9981c0641ed9b0b0b93ac366bf0": {
          "model_module": "@jupyter-widgets/controls",
          "model_name": "FloatProgressModel",
          "state": {
            "_view_name": "ProgressView",
            "style": "IPY_MODEL_8249c7ba655a4f4bac800c4eb09e4423",
            "_dom_classes": [],
            "description": "Epoch 9: 100%",
            "_model_name": "FloatProgressModel",
            "bar_style": "",
            "max": 75,
            "_view_module": "@jupyter-widgets/controls",
            "_model_module_version": "1.5.0",
            "value": 75,
            "_view_count": null,
            "_view_module_version": "1.5.0",
            "orientation": "horizontal",
            "min": 0,
            "description_tooltip": null,
            "_model_module": "@jupyter-widgets/controls",
            "layout": "IPY_MODEL_dea935406f7743b288f6eb63a46045d0"
          }
        },
        "761569996fca4125bc7fb8e1ff595ddd": {
          "model_module": "@jupyter-widgets/controls",
          "model_name": "HTMLModel",
          "state": {
            "_view_name": "HTMLView",
            "style": "IPY_MODEL_a379b2f9127e41be8b28ab7e1106c37f",
            "_dom_classes": [],
            "description": "",
            "_model_name": "HTMLModel",
            "placeholder": "​",
            "_view_module": "@jupyter-widgets/controls",
            "_model_module_version": "1.5.0",
            "value": " 75/75 [25:58&lt;00:00, 70.39s/it, loss=0.0229]",
            "_view_count": null,
            "_view_module_version": "1.5.0",
            "description_tooltip": null,
            "_model_module": "@jupyter-widgets/controls",
            "layout": "IPY_MODEL_f84bc7e1e7cb4e11b3a13e057fb6a598"
          }
        },
        "8249c7ba655a4f4bac800c4eb09e4423": {
          "model_module": "@jupyter-widgets/controls",
          "model_name": "ProgressStyleModel",
          "state": {
            "_view_name": "StyleView",
            "_model_name": "ProgressStyleModel",
            "description_width": "initial",
            "_view_module": "@jupyter-widgets/base",
            "_model_module_version": "1.5.0",
            "_view_count": null,
            "_view_module_version": "1.2.0",
            "bar_color": null,
            "_model_module": "@jupyter-widgets/controls"
          }
        },
        "dea935406f7743b288f6eb63a46045d0": {
          "model_module": "@jupyter-widgets/base",
          "model_name": "LayoutModel",
          "state": {
            "_view_name": "LayoutView",
            "grid_template_rows": null,
            "right": null,
            "justify_content": null,
            "_view_module": "@jupyter-widgets/base",
            "overflow": null,
            "_model_module_version": "1.2.0",
            "_view_count": null,
            "flex_flow": null,
            "width": null,
            "min_width": null,
            "border": null,
            "align_items": null,
            "bottom": null,
            "_model_module": "@jupyter-widgets/base",
            "top": null,
            "grid_column": null,
            "overflow_y": null,
            "overflow_x": null,
            "grid_auto_flow": null,
            "grid_area": null,
            "grid_template_columns": null,
            "flex": null,
            "_model_name": "LayoutModel",
            "justify_items": null,
            "grid_row": null,
            "max_height": null,
            "align_content": null,
            "visibility": null,
            "align_self": null,
            "height": null,
            "min_height": null,
            "padding": null,
            "grid_auto_rows": null,
            "grid_gap": null,
            "max_width": null,
            "order": null,
            "_view_module_version": "1.2.0",
            "grid_template_areas": null,
            "object_position": null,
            "object_fit": null,
            "grid_auto_columns": null,
            "margin": null,
            "display": null,
            "left": null
          }
        },
        "a379b2f9127e41be8b28ab7e1106c37f": {
          "model_module": "@jupyter-widgets/controls",
          "model_name": "DescriptionStyleModel",
          "state": {
            "_view_name": "StyleView",
            "_model_name": "DescriptionStyleModel",
            "description_width": "",
            "_view_module": "@jupyter-widgets/base",
            "_model_module_version": "1.5.0",
            "_view_count": null,
            "_view_module_version": "1.2.0",
            "_model_module": "@jupyter-widgets/controls"
          }
        },
        "f84bc7e1e7cb4e11b3a13e057fb6a598": {
          "model_module": "@jupyter-widgets/base",
          "model_name": "LayoutModel",
          "state": {
            "_view_name": "LayoutView",
            "grid_template_rows": null,
            "right": null,
            "justify_content": null,
            "_view_module": "@jupyter-widgets/base",
            "overflow": null,
            "_model_module_version": "1.2.0",
            "_view_count": null,
            "flex_flow": null,
            "width": null,
            "min_width": null,
            "border": null,
            "align_items": null,
            "bottom": null,
            "_model_module": "@jupyter-widgets/base",
            "top": null,
            "grid_column": null,
            "overflow_y": null,
            "overflow_x": null,
            "grid_auto_flow": null,
            "grid_area": null,
            "grid_template_columns": null,
            "flex": null,
            "_model_name": "LayoutModel",
            "justify_items": null,
            "grid_row": null,
            "max_height": null,
            "align_content": null,
            "visibility": null,
            "align_self": null,
            "height": null,
            "min_height": null,
            "padding": null,
            "grid_auto_rows": null,
            "grid_gap": null,
            "max_width": null,
            "order": null,
            "_view_module_version": "1.2.0",
            "grid_template_areas": null,
            "object_position": null,
            "object_fit": null,
            "grid_auto_columns": null,
            "margin": null,
            "display": null,
            "left": null
          }
        },
        "592ab0e18bd94e449be352a2fc5176f4": {
          "model_module": "@jupyter-widgets/controls",
          "model_name": "HBoxModel",
          "state": {
            "_view_name": "HBoxView",
            "_dom_classes": [],
            "_model_name": "HBoxModel",
            "_view_module": "@jupyter-widgets/controls",
            "_model_module_version": "1.5.0",
            "_view_count": null,
            "_view_module_version": "1.5.0",
            "box_style": "",
            "layout": "IPY_MODEL_a1a430c4b9174d6f830275b849830fc2",
            "_model_module": "@jupyter-widgets/controls",
            "children": [
              "IPY_MODEL_a9d35d49369a478b9805d56c97f758aa",
              "IPY_MODEL_56f93e0b90cf4144a38548fd53feac79"
            ]
          }
        },
        "a1a430c4b9174d6f830275b849830fc2": {
          "model_module": "@jupyter-widgets/base",
          "model_name": "LayoutModel",
          "state": {
            "_view_name": "LayoutView",
            "grid_template_rows": null,
            "right": null,
            "justify_content": null,
            "_view_module": "@jupyter-widgets/base",
            "overflow": null,
            "_model_module_version": "1.2.0",
            "_view_count": null,
            "flex_flow": null,
            "width": null,
            "min_width": null,
            "border": null,
            "align_items": null,
            "bottom": null,
            "_model_module": "@jupyter-widgets/base",
            "top": null,
            "grid_column": null,
            "overflow_y": null,
            "overflow_x": null,
            "grid_auto_flow": null,
            "grid_area": null,
            "grid_template_columns": null,
            "flex": null,
            "_model_name": "LayoutModel",
            "justify_items": null,
            "grid_row": null,
            "max_height": null,
            "align_content": null,
            "visibility": null,
            "align_self": null,
            "height": null,
            "min_height": null,
            "padding": null,
            "grid_auto_rows": null,
            "grid_gap": null,
            "max_width": null,
            "order": null,
            "_view_module_version": "1.2.0",
            "grid_template_areas": null,
            "object_position": null,
            "object_fit": null,
            "grid_auto_columns": null,
            "margin": null,
            "display": null,
            "left": null
          }
        },
        "a9d35d49369a478b9805d56c97f758aa": {
          "model_module": "@jupyter-widgets/controls",
          "model_name": "FloatProgressModel",
          "state": {
            "_view_name": "ProgressView",
            "style": "IPY_MODEL_ec40535ba1fc4770ac768b0a32b73969",
            "_dom_classes": [],
            "description": "100%",
            "_model_name": "FloatProgressModel",
            "bar_style": "",
            "max": 25,
            "_view_module": "@jupyter-widgets/controls",
            "_model_module_version": "1.5.0",
            "value": 25,
            "_view_count": null,
            "_view_module_version": "1.5.0",
            "orientation": "horizontal",
            "min": 0,
            "description_tooltip": null,
            "_model_module": "@jupyter-widgets/controls",
            "layout": "IPY_MODEL_ab84b22b66d44c02b3457d686bf94380"
          }
        },
        "56f93e0b90cf4144a38548fd53feac79": {
          "model_module": "@jupyter-widgets/controls",
          "model_name": "HTMLModel",
          "state": {
            "_view_name": "HTMLView",
            "style": "IPY_MODEL_f1ef5c139dda46558b855e8b61eca860",
            "_dom_classes": [],
            "description": "",
            "_model_name": "HTMLModel",
            "placeholder": "​",
            "_view_module": "@jupyter-widgets/controls",
            "_model_module_version": "1.5.0",
            "value": " 25/25 [00:06&lt;00:00,  1.18it/s]",
            "_view_count": null,
            "_view_module_version": "1.5.0",
            "description_tooltip": null,
            "_model_module": "@jupyter-widgets/controls",
            "layout": "IPY_MODEL_510dcd3e4b6a4682be0c784f6c7e0a22"
          }
        },
        "ec40535ba1fc4770ac768b0a32b73969": {
          "model_module": "@jupyter-widgets/controls",
          "model_name": "ProgressStyleModel",
          "state": {
            "_view_name": "StyleView",
            "_model_name": "ProgressStyleModel",
            "description_width": "initial",
            "_view_module": "@jupyter-widgets/base",
            "_model_module_version": "1.5.0",
            "_view_count": null,
            "_view_module_version": "1.2.0",
            "bar_color": null,
            "_model_module": "@jupyter-widgets/controls"
          }
        },
        "ab84b22b66d44c02b3457d686bf94380": {
          "model_module": "@jupyter-widgets/base",
          "model_name": "LayoutModel",
          "state": {
            "_view_name": "LayoutView",
            "grid_template_rows": null,
            "right": null,
            "justify_content": null,
            "_view_module": "@jupyter-widgets/base",
            "overflow": null,
            "_model_module_version": "1.2.0",
            "_view_count": null,
            "flex_flow": null,
            "width": null,
            "min_width": null,
            "border": null,
            "align_items": null,
            "bottom": null,
            "_model_module": "@jupyter-widgets/base",
            "top": null,
            "grid_column": null,
            "overflow_y": null,
            "overflow_x": null,
            "grid_auto_flow": null,
            "grid_area": null,
            "grid_template_columns": null,
            "flex": null,
            "_model_name": "LayoutModel",
            "justify_items": null,
            "grid_row": null,
            "max_height": null,
            "align_content": null,
            "visibility": null,
            "align_self": null,
            "height": null,
            "min_height": null,
            "padding": null,
            "grid_auto_rows": null,
            "grid_gap": null,
            "max_width": null,
            "order": null,
            "_view_module_version": "1.2.0",
            "grid_template_areas": null,
            "object_position": null,
            "object_fit": null,
            "grid_auto_columns": null,
            "margin": null,
            "display": null,
            "left": null
          }
        },
        "f1ef5c139dda46558b855e8b61eca860": {
          "model_module": "@jupyter-widgets/controls",
          "model_name": "DescriptionStyleModel",
          "state": {
            "_view_name": "StyleView",
            "_model_name": "DescriptionStyleModel",
            "description_width": "",
            "_view_module": "@jupyter-widgets/base",
            "_model_module_version": "1.5.0",
            "_view_count": null,
            "_view_module_version": "1.2.0",
            "_model_module": "@jupyter-widgets/controls"
          }
        },
        "510dcd3e4b6a4682be0c784f6c7e0a22": {
          "model_module": "@jupyter-widgets/base",
          "model_name": "LayoutModel",
          "state": {
            "_view_name": "LayoutView",
            "grid_template_rows": null,
            "right": null,
            "justify_content": null,
            "_view_module": "@jupyter-widgets/base",
            "overflow": null,
            "_model_module_version": "1.2.0",
            "_view_count": null,
            "flex_flow": null,
            "width": null,
            "min_width": null,
            "border": null,
            "align_items": null,
            "bottom": null,
            "_model_module": "@jupyter-widgets/base",
            "top": null,
            "grid_column": null,
            "overflow_y": null,
            "overflow_x": null,
            "grid_auto_flow": null,
            "grid_area": null,
            "grid_template_columns": null,
            "flex": null,
            "_model_name": "LayoutModel",
            "justify_items": null,
            "grid_row": null,
            "max_height": null,
            "align_content": null,
            "visibility": null,
            "align_self": null,
            "height": null,
            "min_height": null,
            "padding": null,
            "grid_auto_rows": null,
            "grid_gap": null,
            "max_width": null,
            "order": null,
            "_view_module_version": "1.2.0",
            "grid_template_areas": null,
            "object_position": null,
            "object_fit": null,
            "grid_auto_columns": null,
            "margin": null,
            "display": null,
            "left": null
          }
        },
        "2a4940a58401460ba9dddc9ac85886d5": {
          "model_module": "@jupyter-widgets/controls",
          "model_name": "HBoxModel",
          "state": {
            "_view_name": "HBoxView",
            "_dom_classes": [],
            "_model_name": "HBoxModel",
            "_view_module": "@jupyter-widgets/controls",
            "_model_module_version": "1.5.0",
            "_view_count": null,
            "_view_module_version": "1.5.0",
            "box_style": "",
            "layout": "IPY_MODEL_63aa399967f04b229f6b21043757561a",
            "_model_module": "@jupyter-widgets/controls",
            "children": [
              "IPY_MODEL_72cd2953863f4dbfb7ab94f9b5e81399",
              "IPY_MODEL_1204f1a8f4d8473a92b2ac9434b6c73a"
            ]
          }
        },
        "63aa399967f04b229f6b21043757561a": {
          "model_module": "@jupyter-widgets/base",
          "model_name": "LayoutModel",
          "state": {
            "_view_name": "LayoutView",
            "grid_template_rows": null,
            "right": null,
            "justify_content": null,
            "_view_module": "@jupyter-widgets/base",
            "overflow": null,
            "_model_module_version": "1.2.0",
            "_view_count": null,
            "flex_flow": null,
            "width": null,
            "min_width": null,
            "border": null,
            "align_items": null,
            "bottom": null,
            "_model_module": "@jupyter-widgets/base",
            "top": null,
            "grid_column": null,
            "overflow_y": null,
            "overflow_x": null,
            "grid_auto_flow": null,
            "grid_area": null,
            "grid_template_columns": null,
            "flex": null,
            "_model_name": "LayoutModel",
            "justify_items": null,
            "grid_row": null,
            "max_height": null,
            "align_content": null,
            "visibility": null,
            "align_self": null,
            "height": null,
            "min_height": null,
            "padding": null,
            "grid_auto_rows": null,
            "grid_gap": null,
            "max_width": null,
            "order": null,
            "_view_module_version": "1.2.0",
            "grid_template_areas": null,
            "object_position": null,
            "object_fit": null,
            "grid_auto_columns": null,
            "margin": null,
            "display": null,
            "left": null
          }
        },
        "72cd2953863f4dbfb7ab94f9b5e81399": {
          "model_module": "@jupyter-widgets/controls",
          "model_name": "FloatProgressModel",
          "state": {
            "_view_name": "ProgressView",
            "style": "IPY_MODEL_84b4c2a0eda34c6db2616289ec643d8e",
            "_dom_classes": [],
            "description": "Epoch 10: 100%",
            "_model_name": "FloatProgressModel",
            "bar_style": "",
            "max": 75,
            "_view_module": "@jupyter-widgets/controls",
            "_model_module_version": "1.5.0",
            "value": 75,
            "_view_count": null,
            "_view_module_version": "1.5.0",
            "orientation": "horizontal",
            "min": 0,
            "description_tooltip": null,
            "_model_module": "@jupyter-widgets/controls",
            "layout": "IPY_MODEL_c606d8d10569451eb3ce4120442c7e15"
          }
        },
        "1204f1a8f4d8473a92b2ac9434b6c73a": {
          "model_module": "@jupyter-widgets/controls",
          "model_name": "HTMLModel",
          "state": {
            "_view_name": "HTMLView",
            "style": "IPY_MODEL_c19facb5c2414913b1712bcd28cbdca8",
            "_dom_classes": [],
            "description": "",
            "_model_name": "HTMLModel",
            "placeholder": "​",
            "_view_module": "@jupyter-widgets/controls",
            "_model_module_version": "1.5.0",
            "value": " 75/75 [26:05&lt;00:00, 138.07s/it, loss=0.178]",
            "_view_count": null,
            "_view_module_version": "1.5.0",
            "description_tooltip": null,
            "_model_module": "@jupyter-widgets/controls",
            "layout": "IPY_MODEL_dad004bc8ee24ac983bf80c7c008b1f1"
          }
        },
        "84b4c2a0eda34c6db2616289ec643d8e": {
          "model_module": "@jupyter-widgets/controls",
          "model_name": "ProgressStyleModel",
          "state": {
            "_view_name": "StyleView",
            "_model_name": "ProgressStyleModel",
            "description_width": "initial",
            "_view_module": "@jupyter-widgets/base",
            "_model_module_version": "1.5.0",
            "_view_count": null,
            "_view_module_version": "1.2.0",
            "bar_color": null,
            "_model_module": "@jupyter-widgets/controls"
          }
        },
        "c606d8d10569451eb3ce4120442c7e15": {
          "model_module": "@jupyter-widgets/base",
          "model_name": "LayoutModel",
          "state": {
            "_view_name": "LayoutView",
            "grid_template_rows": null,
            "right": null,
            "justify_content": null,
            "_view_module": "@jupyter-widgets/base",
            "overflow": null,
            "_model_module_version": "1.2.0",
            "_view_count": null,
            "flex_flow": null,
            "width": null,
            "min_width": null,
            "border": null,
            "align_items": null,
            "bottom": null,
            "_model_module": "@jupyter-widgets/base",
            "top": null,
            "grid_column": null,
            "overflow_y": null,
            "overflow_x": null,
            "grid_auto_flow": null,
            "grid_area": null,
            "grid_template_columns": null,
            "flex": null,
            "_model_name": "LayoutModel",
            "justify_items": null,
            "grid_row": null,
            "max_height": null,
            "align_content": null,
            "visibility": null,
            "align_self": null,
            "height": null,
            "min_height": null,
            "padding": null,
            "grid_auto_rows": null,
            "grid_gap": null,
            "max_width": null,
            "order": null,
            "_view_module_version": "1.2.0",
            "grid_template_areas": null,
            "object_position": null,
            "object_fit": null,
            "grid_auto_columns": null,
            "margin": null,
            "display": null,
            "left": null
          }
        },
        "c19facb5c2414913b1712bcd28cbdca8": {
          "model_module": "@jupyter-widgets/controls",
          "model_name": "DescriptionStyleModel",
          "state": {
            "_view_name": "StyleView",
            "_model_name": "DescriptionStyleModel",
            "description_width": "",
            "_view_module": "@jupyter-widgets/base",
            "_model_module_version": "1.5.0",
            "_view_count": null,
            "_view_module_version": "1.2.0",
            "_model_module": "@jupyter-widgets/controls"
          }
        },
        "dad004bc8ee24ac983bf80c7c008b1f1": {
          "model_module": "@jupyter-widgets/base",
          "model_name": "LayoutModel",
          "state": {
            "_view_name": "LayoutView",
            "grid_template_rows": null,
            "right": null,
            "justify_content": null,
            "_view_module": "@jupyter-widgets/base",
            "overflow": null,
            "_model_module_version": "1.2.0",
            "_view_count": null,
            "flex_flow": null,
            "width": null,
            "min_width": null,
            "border": null,
            "align_items": null,
            "bottom": null,
            "_model_module": "@jupyter-widgets/base",
            "top": null,
            "grid_column": null,
            "overflow_y": null,
            "overflow_x": null,
            "grid_auto_flow": null,
            "grid_area": null,
            "grid_template_columns": null,
            "flex": null,
            "_model_name": "LayoutModel",
            "justify_items": null,
            "grid_row": null,
            "max_height": null,
            "align_content": null,
            "visibility": null,
            "align_self": null,
            "height": null,
            "min_height": null,
            "padding": null,
            "grid_auto_rows": null,
            "grid_gap": null,
            "max_width": null,
            "order": null,
            "_view_module_version": "1.2.0",
            "grid_template_areas": null,
            "object_position": null,
            "object_fit": null,
            "grid_auto_columns": null,
            "margin": null,
            "display": null,
            "left": null
          }
        },
        "f99ae2a4775743d6bf94f92e0aa1d95b": {
          "model_module": "@jupyter-widgets/controls",
          "model_name": "HBoxModel",
          "state": {
            "_view_name": "HBoxView",
            "_dom_classes": [],
            "_model_name": "HBoxModel",
            "_view_module": "@jupyter-widgets/controls",
            "_model_module_version": "1.5.0",
            "_view_count": null,
            "_view_module_version": "1.5.0",
            "box_style": "",
            "layout": "IPY_MODEL_153d38ea7fdc43ed8db84a5bebb8e4fd",
            "_model_module": "@jupyter-widgets/controls",
            "children": [
              "IPY_MODEL_85bafcc2e9674eaa99aa43e5fc54117e",
              "IPY_MODEL_7c6c3746d72a4eefadc6b6389ad17318"
            ]
          }
        },
        "153d38ea7fdc43ed8db84a5bebb8e4fd": {
          "model_module": "@jupyter-widgets/base",
          "model_name": "LayoutModel",
          "state": {
            "_view_name": "LayoutView",
            "grid_template_rows": null,
            "right": null,
            "justify_content": null,
            "_view_module": "@jupyter-widgets/base",
            "overflow": null,
            "_model_module_version": "1.2.0",
            "_view_count": null,
            "flex_flow": null,
            "width": null,
            "min_width": null,
            "border": null,
            "align_items": null,
            "bottom": null,
            "_model_module": "@jupyter-widgets/base",
            "top": null,
            "grid_column": null,
            "overflow_y": null,
            "overflow_x": null,
            "grid_auto_flow": null,
            "grid_area": null,
            "grid_template_columns": null,
            "flex": null,
            "_model_name": "LayoutModel",
            "justify_items": null,
            "grid_row": null,
            "max_height": null,
            "align_content": null,
            "visibility": null,
            "align_self": null,
            "height": null,
            "min_height": null,
            "padding": null,
            "grid_auto_rows": null,
            "grid_gap": null,
            "max_width": null,
            "order": null,
            "_view_module_version": "1.2.0",
            "grid_template_areas": null,
            "object_position": null,
            "object_fit": null,
            "grid_auto_columns": null,
            "margin": null,
            "display": null,
            "left": null
          }
        },
        "85bafcc2e9674eaa99aa43e5fc54117e": {
          "model_module": "@jupyter-widgets/controls",
          "model_name": "FloatProgressModel",
          "state": {
            "_view_name": "ProgressView",
            "style": "IPY_MODEL_ff48f35e93b14c4ca0e450e7343dcf83",
            "_dom_classes": [],
            "description": "100%",
            "_model_name": "FloatProgressModel",
            "bar_style": "",
            "max": 25,
            "_view_module": "@jupyter-widgets/controls",
            "_model_module_version": "1.5.0",
            "value": 25,
            "_view_count": null,
            "_view_module_version": "1.5.0",
            "orientation": "horizontal",
            "min": 0,
            "description_tooltip": null,
            "_model_module": "@jupyter-widgets/controls",
            "layout": "IPY_MODEL_7b176d6b3c83458c9930dc97f0b1e8f9"
          }
        },
        "7c6c3746d72a4eefadc6b6389ad17318": {
          "model_module": "@jupyter-widgets/controls",
          "model_name": "HTMLModel",
          "state": {
            "_view_name": "HTMLView",
            "style": "IPY_MODEL_24126a96e6c74312a335702af0f643db",
            "_dom_classes": [],
            "description": "",
            "_model_name": "HTMLModel",
            "placeholder": "​",
            "_view_module": "@jupyter-widgets/controls",
            "_model_module_version": "1.5.0",
            "value": " 25/25 [00:06&lt;00:00,  1.18it/s]",
            "_view_count": null,
            "_view_module_version": "1.5.0",
            "description_tooltip": null,
            "_model_module": "@jupyter-widgets/controls",
            "layout": "IPY_MODEL_5abc3adc648d4ad3bee08b430250fd23"
          }
        },
        "ff48f35e93b14c4ca0e450e7343dcf83": {
          "model_module": "@jupyter-widgets/controls",
          "model_name": "ProgressStyleModel",
          "state": {
            "_view_name": "StyleView",
            "_model_name": "ProgressStyleModel",
            "description_width": "initial",
            "_view_module": "@jupyter-widgets/base",
            "_model_module_version": "1.5.0",
            "_view_count": null,
            "_view_module_version": "1.2.0",
            "bar_color": null,
            "_model_module": "@jupyter-widgets/controls"
          }
        },
        "7b176d6b3c83458c9930dc97f0b1e8f9": {
          "model_module": "@jupyter-widgets/base",
          "model_name": "LayoutModel",
          "state": {
            "_view_name": "LayoutView",
            "grid_template_rows": null,
            "right": null,
            "justify_content": null,
            "_view_module": "@jupyter-widgets/base",
            "overflow": null,
            "_model_module_version": "1.2.0",
            "_view_count": null,
            "flex_flow": null,
            "width": null,
            "min_width": null,
            "border": null,
            "align_items": null,
            "bottom": null,
            "_model_module": "@jupyter-widgets/base",
            "top": null,
            "grid_column": null,
            "overflow_y": null,
            "overflow_x": null,
            "grid_auto_flow": null,
            "grid_area": null,
            "grid_template_columns": null,
            "flex": null,
            "_model_name": "LayoutModel",
            "justify_items": null,
            "grid_row": null,
            "max_height": null,
            "align_content": null,
            "visibility": null,
            "align_self": null,
            "height": null,
            "min_height": null,
            "padding": null,
            "grid_auto_rows": null,
            "grid_gap": null,
            "max_width": null,
            "order": null,
            "_view_module_version": "1.2.0",
            "grid_template_areas": null,
            "object_position": null,
            "object_fit": null,
            "grid_auto_columns": null,
            "margin": null,
            "display": null,
            "left": null
          }
        },
        "24126a96e6c74312a335702af0f643db": {
          "model_module": "@jupyter-widgets/controls",
          "model_name": "DescriptionStyleModel",
          "state": {
            "_view_name": "StyleView",
            "_model_name": "DescriptionStyleModel",
            "description_width": "",
            "_view_module": "@jupyter-widgets/base",
            "_model_module_version": "1.5.0",
            "_view_count": null,
            "_view_module_version": "1.2.0",
            "_model_module": "@jupyter-widgets/controls"
          }
        },
        "5abc3adc648d4ad3bee08b430250fd23": {
          "model_module": "@jupyter-widgets/base",
          "model_name": "LayoutModel",
          "state": {
            "_view_name": "LayoutView",
            "grid_template_rows": null,
            "right": null,
            "justify_content": null,
            "_view_module": "@jupyter-widgets/base",
            "overflow": null,
            "_model_module_version": "1.2.0",
            "_view_count": null,
            "flex_flow": null,
            "width": null,
            "min_width": null,
            "border": null,
            "align_items": null,
            "bottom": null,
            "_model_module": "@jupyter-widgets/base",
            "top": null,
            "grid_column": null,
            "overflow_y": null,
            "overflow_x": null,
            "grid_auto_flow": null,
            "grid_area": null,
            "grid_template_columns": null,
            "flex": null,
            "_model_name": "LayoutModel",
            "justify_items": null,
            "grid_row": null,
            "max_height": null,
            "align_content": null,
            "visibility": null,
            "align_self": null,
            "height": null,
            "min_height": null,
            "padding": null,
            "grid_auto_rows": null,
            "grid_gap": null,
            "max_width": null,
            "order": null,
            "_view_module_version": "1.2.0",
            "grid_template_areas": null,
            "object_position": null,
            "object_fit": null,
            "grid_auto_columns": null,
            "margin": null,
            "display": null,
            "left": null
          }
        },
        "94caa4452146458182f46e634baf6748": {
          "model_module": "@jupyter-widgets/controls",
          "model_name": "HBoxModel",
          "state": {
            "_view_name": "HBoxView",
            "_dom_classes": [],
            "_model_name": "HBoxModel",
            "_view_module": "@jupyter-widgets/controls",
            "_model_module_version": "1.5.0",
            "_view_count": null,
            "_view_module_version": "1.5.0",
            "box_style": "",
            "layout": "IPY_MODEL_95d9fa2e4cd84bdf95714d11b93e8e44",
            "_model_module": "@jupyter-widgets/controls",
            "children": [
              "IPY_MODEL_5672a8dfb8b6463082de6bfa0a733b77",
              "IPY_MODEL_16bd5038c90a464aafdfb7809b4c261d"
            ]
          }
        },
        "95d9fa2e4cd84bdf95714d11b93e8e44": {
          "model_module": "@jupyter-widgets/base",
          "model_name": "LayoutModel",
          "state": {
            "_view_name": "LayoutView",
            "grid_template_rows": null,
            "right": null,
            "justify_content": null,
            "_view_module": "@jupyter-widgets/base",
            "overflow": null,
            "_model_module_version": "1.2.0",
            "_view_count": null,
            "flex_flow": null,
            "width": null,
            "min_width": null,
            "border": null,
            "align_items": null,
            "bottom": null,
            "_model_module": "@jupyter-widgets/base",
            "top": null,
            "grid_column": null,
            "overflow_y": null,
            "overflow_x": null,
            "grid_auto_flow": null,
            "grid_area": null,
            "grid_template_columns": null,
            "flex": null,
            "_model_name": "LayoutModel",
            "justify_items": null,
            "grid_row": null,
            "max_height": null,
            "align_content": null,
            "visibility": null,
            "align_self": null,
            "height": null,
            "min_height": null,
            "padding": null,
            "grid_auto_rows": null,
            "grid_gap": null,
            "max_width": null,
            "order": null,
            "_view_module_version": "1.2.0",
            "grid_template_areas": null,
            "object_position": null,
            "object_fit": null,
            "grid_auto_columns": null,
            "margin": null,
            "display": null,
            "left": null
          }
        },
        "5672a8dfb8b6463082de6bfa0a733b77": {
          "model_module": "@jupyter-widgets/controls",
          "model_name": "FloatProgressModel",
          "state": {
            "_view_name": "ProgressView",
            "style": "IPY_MODEL_181b8d22dd804efaaae37c6595adda9c",
            "_dom_classes": [],
            "description": "Epoch 11: 100%",
            "_model_name": "FloatProgressModel",
            "bar_style": "",
            "max": 75,
            "_view_module": "@jupyter-widgets/controls",
            "_model_module_version": "1.5.0",
            "value": 75,
            "_view_count": null,
            "_view_module_version": "1.5.0",
            "orientation": "horizontal",
            "min": 0,
            "description_tooltip": null,
            "_model_module": "@jupyter-widgets/controls",
            "layout": "IPY_MODEL_70b785e3f4564aaebdf4547c68f8dece"
          }
        },
        "16bd5038c90a464aafdfb7809b4c261d": {
          "model_module": "@jupyter-widgets/controls",
          "model_name": "HTMLModel",
          "state": {
            "_view_name": "HTMLView",
            "style": "IPY_MODEL_560a370ef4b342c4b1f925fb2143c98a",
            "_dom_classes": [],
            "description": "",
            "_model_name": "HTMLModel",
            "placeholder": "​",
            "_view_module": "@jupyter-widgets/controls",
            "_model_module_version": "1.5.0",
            "value": " 75/75 [26:56&lt;00:00, 20.19s/it, loss=0.0943]",
            "_view_count": null,
            "_view_module_version": "1.5.0",
            "description_tooltip": null,
            "_model_module": "@jupyter-widgets/controls",
            "layout": "IPY_MODEL_992d3407f2454a73a47602bf8e524f8b"
          }
        },
        "181b8d22dd804efaaae37c6595adda9c": {
          "model_module": "@jupyter-widgets/controls",
          "model_name": "ProgressStyleModel",
          "state": {
            "_view_name": "StyleView",
            "_model_name": "ProgressStyleModel",
            "description_width": "initial",
            "_view_module": "@jupyter-widgets/base",
            "_model_module_version": "1.5.0",
            "_view_count": null,
            "_view_module_version": "1.2.0",
            "bar_color": null,
            "_model_module": "@jupyter-widgets/controls"
          }
        },
        "70b785e3f4564aaebdf4547c68f8dece": {
          "model_module": "@jupyter-widgets/base",
          "model_name": "LayoutModel",
          "state": {
            "_view_name": "LayoutView",
            "grid_template_rows": null,
            "right": null,
            "justify_content": null,
            "_view_module": "@jupyter-widgets/base",
            "overflow": null,
            "_model_module_version": "1.2.0",
            "_view_count": null,
            "flex_flow": null,
            "width": null,
            "min_width": null,
            "border": null,
            "align_items": null,
            "bottom": null,
            "_model_module": "@jupyter-widgets/base",
            "top": null,
            "grid_column": null,
            "overflow_y": null,
            "overflow_x": null,
            "grid_auto_flow": null,
            "grid_area": null,
            "grid_template_columns": null,
            "flex": null,
            "_model_name": "LayoutModel",
            "justify_items": null,
            "grid_row": null,
            "max_height": null,
            "align_content": null,
            "visibility": null,
            "align_self": null,
            "height": null,
            "min_height": null,
            "padding": null,
            "grid_auto_rows": null,
            "grid_gap": null,
            "max_width": null,
            "order": null,
            "_view_module_version": "1.2.0",
            "grid_template_areas": null,
            "object_position": null,
            "object_fit": null,
            "grid_auto_columns": null,
            "margin": null,
            "display": null,
            "left": null
          }
        },
        "560a370ef4b342c4b1f925fb2143c98a": {
          "model_module": "@jupyter-widgets/controls",
          "model_name": "DescriptionStyleModel",
          "state": {
            "_view_name": "StyleView",
            "_model_name": "DescriptionStyleModel",
            "description_width": "",
            "_view_module": "@jupyter-widgets/base",
            "_model_module_version": "1.5.0",
            "_view_count": null,
            "_view_module_version": "1.2.0",
            "_model_module": "@jupyter-widgets/controls"
          }
        },
        "992d3407f2454a73a47602bf8e524f8b": {
          "model_module": "@jupyter-widgets/base",
          "model_name": "LayoutModel",
          "state": {
            "_view_name": "LayoutView",
            "grid_template_rows": null,
            "right": null,
            "justify_content": null,
            "_view_module": "@jupyter-widgets/base",
            "overflow": null,
            "_model_module_version": "1.2.0",
            "_view_count": null,
            "flex_flow": null,
            "width": null,
            "min_width": null,
            "border": null,
            "align_items": null,
            "bottom": null,
            "_model_module": "@jupyter-widgets/base",
            "top": null,
            "grid_column": null,
            "overflow_y": null,
            "overflow_x": null,
            "grid_auto_flow": null,
            "grid_area": null,
            "grid_template_columns": null,
            "flex": null,
            "_model_name": "LayoutModel",
            "justify_items": null,
            "grid_row": null,
            "max_height": null,
            "align_content": null,
            "visibility": null,
            "align_self": null,
            "height": null,
            "min_height": null,
            "padding": null,
            "grid_auto_rows": null,
            "grid_gap": null,
            "max_width": null,
            "order": null,
            "_view_module_version": "1.2.0",
            "grid_template_areas": null,
            "object_position": null,
            "object_fit": null,
            "grid_auto_columns": null,
            "margin": null,
            "display": null,
            "left": null
          }
        },
        "2d094acc327a413c87d989dffe5d7558": {
          "model_module": "@jupyter-widgets/controls",
          "model_name": "HBoxModel",
          "state": {
            "_view_name": "HBoxView",
            "_dom_classes": [],
            "_model_name": "HBoxModel",
            "_view_module": "@jupyter-widgets/controls",
            "_model_module_version": "1.5.0",
            "_view_count": null,
            "_view_module_version": "1.5.0",
            "box_style": "",
            "layout": "IPY_MODEL_4fa8b178c101444ab5a3823f593ebdb2",
            "_model_module": "@jupyter-widgets/controls",
            "children": [
              "IPY_MODEL_300bd05b648249388f547a17b472c23a",
              "IPY_MODEL_5570b090c9ae477bb37e155aae94565e"
            ]
          }
        },
        "4fa8b178c101444ab5a3823f593ebdb2": {
          "model_module": "@jupyter-widgets/base",
          "model_name": "LayoutModel",
          "state": {
            "_view_name": "LayoutView",
            "grid_template_rows": null,
            "right": null,
            "justify_content": null,
            "_view_module": "@jupyter-widgets/base",
            "overflow": null,
            "_model_module_version": "1.2.0",
            "_view_count": null,
            "flex_flow": null,
            "width": null,
            "min_width": null,
            "border": null,
            "align_items": null,
            "bottom": null,
            "_model_module": "@jupyter-widgets/base",
            "top": null,
            "grid_column": null,
            "overflow_y": null,
            "overflow_x": null,
            "grid_auto_flow": null,
            "grid_area": null,
            "grid_template_columns": null,
            "flex": null,
            "_model_name": "LayoutModel",
            "justify_items": null,
            "grid_row": null,
            "max_height": null,
            "align_content": null,
            "visibility": null,
            "align_self": null,
            "height": null,
            "min_height": null,
            "padding": null,
            "grid_auto_rows": null,
            "grid_gap": null,
            "max_width": null,
            "order": null,
            "_view_module_version": "1.2.0",
            "grid_template_areas": null,
            "object_position": null,
            "object_fit": null,
            "grid_auto_columns": null,
            "margin": null,
            "display": null,
            "left": null
          }
        },
        "300bd05b648249388f547a17b472c23a": {
          "model_module": "@jupyter-widgets/controls",
          "model_name": "FloatProgressModel",
          "state": {
            "_view_name": "ProgressView",
            "style": "IPY_MODEL_0f784dc4c4c94cabacf52da7c9191fb2",
            "_dom_classes": [],
            "description": "100%",
            "_model_name": "FloatProgressModel",
            "bar_style": "",
            "max": 25,
            "_view_module": "@jupyter-widgets/controls",
            "_model_module_version": "1.5.0",
            "value": 25,
            "_view_count": null,
            "_view_module_version": "1.5.0",
            "orientation": "horizontal",
            "min": 0,
            "description_tooltip": null,
            "_model_module": "@jupyter-widgets/controls",
            "layout": "IPY_MODEL_84fc203d1e484158bae48d8e2d15e1db"
          }
        },
        "5570b090c9ae477bb37e155aae94565e": {
          "model_module": "@jupyter-widgets/controls",
          "model_name": "HTMLModel",
          "state": {
            "_view_name": "HTMLView",
            "style": "IPY_MODEL_ec395897c4e64f42b775d9f637f9a94e",
            "_dom_classes": [],
            "description": "",
            "_model_name": "HTMLModel",
            "placeholder": "​",
            "_view_module": "@jupyter-widgets/controls",
            "_model_module_version": "1.5.0",
            "value": " 25/25 [00:06&lt;00:00,  1.19it/s]",
            "_view_count": null,
            "_view_module_version": "1.5.0",
            "description_tooltip": null,
            "_model_module": "@jupyter-widgets/controls",
            "layout": "IPY_MODEL_5ca9c9d288bf4489ad2be09af41516bf"
          }
        },
        "0f784dc4c4c94cabacf52da7c9191fb2": {
          "model_module": "@jupyter-widgets/controls",
          "model_name": "ProgressStyleModel",
          "state": {
            "_view_name": "StyleView",
            "_model_name": "ProgressStyleModel",
            "description_width": "initial",
            "_view_module": "@jupyter-widgets/base",
            "_model_module_version": "1.5.0",
            "_view_count": null,
            "_view_module_version": "1.2.0",
            "bar_color": null,
            "_model_module": "@jupyter-widgets/controls"
          }
        },
        "84fc203d1e484158bae48d8e2d15e1db": {
          "model_module": "@jupyter-widgets/base",
          "model_name": "LayoutModel",
          "state": {
            "_view_name": "LayoutView",
            "grid_template_rows": null,
            "right": null,
            "justify_content": null,
            "_view_module": "@jupyter-widgets/base",
            "overflow": null,
            "_model_module_version": "1.2.0",
            "_view_count": null,
            "flex_flow": null,
            "width": null,
            "min_width": null,
            "border": null,
            "align_items": null,
            "bottom": null,
            "_model_module": "@jupyter-widgets/base",
            "top": null,
            "grid_column": null,
            "overflow_y": null,
            "overflow_x": null,
            "grid_auto_flow": null,
            "grid_area": null,
            "grid_template_columns": null,
            "flex": null,
            "_model_name": "LayoutModel",
            "justify_items": null,
            "grid_row": null,
            "max_height": null,
            "align_content": null,
            "visibility": null,
            "align_self": null,
            "height": null,
            "min_height": null,
            "padding": null,
            "grid_auto_rows": null,
            "grid_gap": null,
            "max_width": null,
            "order": null,
            "_view_module_version": "1.2.0",
            "grid_template_areas": null,
            "object_position": null,
            "object_fit": null,
            "grid_auto_columns": null,
            "margin": null,
            "display": null,
            "left": null
          }
        },
        "ec395897c4e64f42b775d9f637f9a94e": {
          "model_module": "@jupyter-widgets/controls",
          "model_name": "DescriptionStyleModel",
          "state": {
            "_view_name": "StyleView",
            "_model_name": "DescriptionStyleModel",
            "description_width": "",
            "_view_module": "@jupyter-widgets/base",
            "_model_module_version": "1.5.0",
            "_view_count": null,
            "_view_module_version": "1.2.0",
            "_model_module": "@jupyter-widgets/controls"
          }
        },
        "5ca9c9d288bf4489ad2be09af41516bf": {
          "model_module": "@jupyter-widgets/base",
          "model_name": "LayoutModel",
          "state": {
            "_view_name": "LayoutView",
            "grid_template_rows": null,
            "right": null,
            "justify_content": null,
            "_view_module": "@jupyter-widgets/base",
            "overflow": null,
            "_model_module_version": "1.2.0",
            "_view_count": null,
            "flex_flow": null,
            "width": null,
            "min_width": null,
            "border": null,
            "align_items": null,
            "bottom": null,
            "_model_module": "@jupyter-widgets/base",
            "top": null,
            "grid_column": null,
            "overflow_y": null,
            "overflow_x": null,
            "grid_auto_flow": null,
            "grid_area": null,
            "grid_template_columns": null,
            "flex": null,
            "_model_name": "LayoutModel",
            "justify_items": null,
            "grid_row": null,
            "max_height": null,
            "align_content": null,
            "visibility": null,
            "align_self": null,
            "height": null,
            "min_height": null,
            "padding": null,
            "grid_auto_rows": null,
            "grid_gap": null,
            "max_width": null,
            "order": null,
            "_view_module_version": "1.2.0",
            "grid_template_areas": null,
            "object_position": null,
            "object_fit": null,
            "grid_auto_columns": null,
            "margin": null,
            "display": null,
            "left": null
          }
        },
        "ba20fd718af947aa8f07a7db0ca662ab": {
          "model_module": "@jupyter-widgets/controls",
          "model_name": "HBoxModel",
          "state": {
            "_view_name": "HBoxView",
            "_dom_classes": [],
            "_model_name": "HBoxModel",
            "_view_module": "@jupyter-widgets/controls",
            "_model_module_version": "1.5.0",
            "_view_count": null,
            "_view_module_version": "1.5.0",
            "box_style": "",
            "layout": "IPY_MODEL_1d885a5067914c07b70c107546db9a94",
            "_model_module": "@jupyter-widgets/controls",
            "children": [
              "IPY_MODEL_4c4efc2a38af41b6a57f2c356cd51a19",
              "IPY_MODEL_317473aafa614f34b713a49fc933e460"
            ]
          }
        },
        "1d885a5067914c07b70c107546db9a94": {
          "model_module": "@jupyter-widgets/base",
          "model_name": "LayoutModel",
          "state": {
            "_view_name": "LayoutView",
            "grid_template_rows": null,
            "right": null,
            "justify_content": null,
            "_view_module": "@jupyter-widgets/base",
            "overflow": null,
            "_model_module_version": "1.2.0",
            "_view_count": null,
            "flex_flow": null,
            "width": null,
            "min_width": null,
            "border": null,
            "align_items": null,
            "bottom": null,
            "_model_module": "@jupyter-widgets/base",
            "top": null,
            "grid_column": null,
            "overflow_y": null,
            "overflow_x": null,
            "grid_auto_flow": null,
            "grid_area": null,
            "grid_template_columns": null,
            "flex": null,
            "_model_name": "LayoutModel",
            "justify_items": null,
            "grid_row": null,
            "max_height": null,
            "align_content": null,
            "visibility": null,
            "align_self": null,
            "height": null,
            "min_height": null,
            "padding": null,
            "grid_auto_rows": null,
            "grid_gap": null,
            "max_width": null,
            "order": null,
            "_view_module_version": "1.2.0",
            "grid_template_areas": null,
            "object_position": null,
            "object_fit": null,
            "grid_auto_columns": null,
            "margin": null,
            "display": null,
            "left": null
          }
        },
        "4c4efc2a38af41b6a57f2c356cd51a19": {
          "model_module": "@jupyter-widgets/controls",
          "model_name": "FloatProgressModel",
          "state": {
            "_view_name": "ProgressView",
            "style": "IPY_MODEL_8ea9fb9b34fb4888be99fa692d826f66",
            "_dom_classes": [],
            "description": "Epoch 12: 100%",
            "_model_name": "FloatProgressModel",
            "bar_style": "",
            "max": 75,
            "_view_module": "@jupyter-widgets/controls",
            "_model_module_version": "1.5.0",
            "value": 75,
            "_view_count": null,
            "_view_module_version": "1.5.0",
            "orientation": "horizontal",
            "min": 0,
            "description_tooltip": null,
            "_model_module": "@jupyter-widgets/controls",
            "layout": "IPY_MODEL_5204bccde38f431a851609974f45458b"
          }
        },
        "317473aafa614f34b713a49fc933e460": {
          "model_module": "@jupyter-widgets/controls",
          "model_name": "HTMLModel",
          "state": {
            "_view_name": "HTMLView",
            "style": "IPY_MODEL_8e747cc9546e4053ba21778a1f114b42",
            "_dom_classes": [],
            "description": "",
            "_model_name": "HTMLModel",
            "placeholder": "​",
            "_view_module": "@jupyter-widgets/controls",
            "_model_module_version": "1.5.0",
            "value": " 75/75 [25:19&lt;00:00, 19.54s/it, loss=0.000816]",
            "_view_count": null,
            "_view_module_version": "1.5.0",
            "description_tooltip": null,
            "_model_module": "@jupyter-widgets/controls",
            "layout": "IPY_MODEL_5aa7423630a145a0a4b3cf96cf3fd84b"
          }
        },
        "8ea9fb9b34fb4888be99fa692d826f66": {
          "model_module": "@jupyter-widgets/controls",
          "model_name": "ProgressStyleModel",
          "state": {
            "_view_name": "StyleView",
            "_model_name": "ProgressStyleModel",
            "description_width": "initial",
            "_view_module": "@jupyter-widgets/base",
            "_model_module_version": "1.5.0",
            "_view_count": null,
            "_view_module_version": "1.2.0",
            "bar_color": null,
            "_model_module": "@jupyter-widgets/controls"
          }
        },
        "5204bccde38f431a851609974f45458b": {
          "model_module": "@jupyter-widgets/base",
          "model_name": "LayoutModel",
          "state": {
            "_view_name": "LayoutView",
            "grid_template_rows": null,
            "right": null,
            "justify_content": null,
            "_view_module": "@jupyter-widgets/base",
            "overflow": null,
            "_model_module_version": "1.2.0",
            "_view_count": null,
            "flex_flow": null,
            "width": null,
            "min_width": null,
            "border": null,
            "align_items": null,
            "bottom": null,
            "_model_module": "@jupyter-widgets/base",
            "top": null,
            "grid_column": null,
            "overflow_y": null,
            "overflow_x": null,
            "grid_auto_flow": null,
            "grid_area": null,
            "grid_template_columns": null,
            "flex": null,
            "_model_name": "LayoutModel",
            "justify_items": null,
            "grid_row": null,
            "max_height": null,
            "align_content": null,
            "visibility": null,
            "align_self": null,
            "height": null,
            "min_height": null,
            "padding": null,
            "grid_auto_rows": null,
            "grid_gap": null,
            "max_width": null,
            "order": null,
            "_view_module_version": "1.2.0",
            "grid_template_areas": null,
            "object_position": null,
            "object_fit": null,
            "grid_auto_columns": null,
            "margin": null,
            "display": null,
            "left": null
          }
        },
        "8e747cc9546e4053ba21778a1f114b42": {
          "model_module": "@jupyter-widgets/controls",
          "model_name": "DescriptionStyleModel",
          "state": {
            "_view_name": "StyleView",
            "_model_name": "DescriptionStyleModel",
            "description_width": "",
            "_view_module": "@jupyter-widgets/base",
            "_model_module_version": "1.5.0",
            "_view_count": null,
            "_view_module_version": "1.2.0",
            "_model_module": "@jupyter-widgets/controls"
          }
        },
        "5aa7423630a145a0a4b3cf96cf3fd84b": {
          "model_module": "@jupyter-widgets/base",
          "model_name": "LayoutModel",
          "state": {
            "_view_name": "LayoutView",
            "grid_template_rows": null,
            "right": null,
            "justify_content": null,
            "_view_module": "@jupyter-widgets/base",
            "overflow": null,
            "_model_module_version": "1.2.0",
            "_view_count": null,
            "flex_flow": null,
            "width": null,
            "min_width": null,
            "border": null,
            "align_items": null,
            "bottom": null,
            "_model_module": "@jupyter-widgets/base",
            "top": null,
            "grid_column": null,
            "overflow_y": null,
            "overflow_x": null,
            "grid_auto_flow": null,
            "grid_area": null,
            "grid_template_columns": null,
            "flex": null,
            "_model_name": "LayoutModel",
            "justify_items": null,
            "grid_row": null,
            "max_height": null,
            "align_content": null,
            "visibility": null,
            "align_self": null,
            "height": null,
            "min_height": null,
            "padding": null,
            "grid_auto_rows": null,
            "grid_gap": null,
            "max_width": null,
            "order": null,
            "_view_module_version": "1.2.0",
            "grid_template_areas": null,
            "object_position": null,
            "object_fit": null,
            "grid_auto_columns": null,
            "margin": null,
            "display": null,
            "left": null
          }
        },
        "7e273f92d43948ebbc3830c503030862": {
          "model_module": "@jupyter-widgets/controls",
          "model_name": "HBoxModel",
          "state": {
            "_view_name": "HBoxView",
            "_dom_classes": [],
            "_model_name": "HBoxModel",
            "_view_module": "@jupyter-widgets/controls",
            "_model_module_version": "1.5.0",
            "_view_count": null,
            "_view_module_version": "1.5.0",
            "box_style": "",
            "layout": "IPY_MODEL_3a81ae139923481c8ee4750c5785fd19",
            "_model_module": "@jupyter-widgets/controls",
            "children": [
              "IPY_MODEL_259a96b9601248938f7c720fec1a73d7",
              "IPY_MODEL_5f574b7653a1441481291032dde9e3f1"
            ]
          }
        },
        "3a81ae139923481c8ee4750c5785fd19": {
          "model_module": "@jupyter-widgets/base",
          "model_name": "LayoutModel",
          "state": {
            "_view_name": "LayoutView",
            "grid_template_rows": null,
            "right": null,
            "justify_content": null,
            "_view_module": "@jupyter-widgets/base",
            "overflow": null,
            "_model_module_version": "1.2.0",
            "_view_count": null,
            "flex_flow": null,
            "width": null,
            "min_width": null,
            "border": null,
            "align_items": null,
            "bottom": null,
            "_model_module": "@jupyter-widgets/base",
            "top": null,
            "grid_column": null,
            "overflow_y": null,
            "overflow_x": null,
            "grid_auto_flow": null,
            "grid_area": null,
            "grid_template_columns": null,
            "flex": null,
            "_model_name": "LayoutModel",
            "justify_items": null,
            "grid_row": null,
            "max_height": null,
            "align_content": null,
            "visibility": null,
            "align_self": null,
            "height": null,
            "min_height": null,
            "padding": null,
            "grid_auto_rows": null,
            "grid_gap": null,
            "max_width": null,
            "order": null,
            "_view_module_version": "1.2.0",
            "grid_template_areas": null,
            "object_position": null,
            "object_fit": null,
            "grid_auto_columns": null,
            "margin": null,
            "display": null,
            "left": null
          }
        },
        "259a96b9601248938f7c720fec1a73d7": {
          "model_module": "@jupyter-widgets/controls",
          "model_name": "FloatProgressModel",
          "state": {
            "_view_name": "ProgressView",
            "style": "IPY_MODEL_5acaa4e8565445008f0e53570153e6d9",
            "_dom_classes": [],
            "description": "100%",
            "_model_name": "FloatProgressModel",
            "bar_style": "",
            "max": 25,
            "_view_module": "@jupyter-widgets/controls",
            "_model_module_version": "1.5.0",
            "value": 25,
            "_view_count": null,
            "_view_module_version": "1.5.0",
            "orientation": "horizontal",
            "min": 0,
            "description_tooltip": null,
            "_model_module": "@jupyter-widgets/controls",
            "layout": "IPY_MODEL_2591b5c71799422b93cba660fdeca869"
          }
        },
        "5f574b7653a1441481291032dde9e3f1": {
          "model_module": "@jupyter-widgets/controls",
          "model_name": "HTMLModel",
          "state": {
            "_view_name": "HTMLView",
            "style": "IPY_MODEL_26c55074027c4addb75499a3fe72b557",
            "_dom_classes": [],
            "description": "",
            "_model_name": "HTMLModel",
            "placeholder": "​",
            "_view_module": "@jupyter-widgets/controls",
            "_model_module_version": "1.5.0",
            "value": " 25/25 [00:06&lt;00:00,  1.18it/s]",
            "_view_count": null,
            "_view_module_version": "1.5.0",
            "description_tooltip": null,
            "_model_module": "@jupyter-widgets/controls",
            "layout": "IPY_MODEL_f3afddef393d44d7a4e4697434450392"
          }
        },
        "5acaa4e8565445008f0e53570153e6d9": {
          "model_module": "@jupyter-widgets/controls",
          "model_name": "ProgressStyleModel",
          "state": {
            "_view_name": "StyleView",
            "_model_name": "ProgressStyleModel",
            "description_width": "initial",
            "_view_module": "@jupyter-widgets/base",
            "_model_module_version": "1.5.0",
            "_view_count": null,
            "_view_module_version": "1.2.0",
            "bar_color": null,
            "_model_module": "@jupyter-widgets/controls"
          }
        },
        "2591b5c71799422b93cba660fdeca869": {
          "model_module": "@jupyter-widgets/base",
          "model_name": "LayoutModel",
          "state": {
            "_view_name": "LayoutView",
            "grid_template_rows": null,
            "right": null,
            "justify_content": null,
            "_view_module": "@jupyter-widgets/base",
            "overflow": null,
            "_model_module_version": "1.2.0",
            "_view_count": null,
            "flex_flow": null,
            "width": null,
            "min_width": null,
            "border": null,
            "align_items": null,
            "bottom": null,
            "_model_module": "@jupyter-widgets/base",
            "top": null,
            "grid_column": null,
            "overflow_y": null,
            "overflow_x": null,
            "grid_auto_flow": null,
            "grid_area": null,
            "grid_template_columns": null,
            "flex": null,
            "_model_name": "LayoutModel",
            "justify_items": null,
            "grid_row": null,
            "max_height": null,
            "align_content": null,
            "visibility": null,
            "align_self": null,
            "height": null,
            "min_height": null,
            "padding": null,
            "grid_auto_rows": null,
            "grid_gap": null,
            "max_width": null,
            "order": null,
            "_view_module_version": "1.2.0",
            "grid_template_areas": null,
            "object_position": null,
            "object_fit": null,
            "grid_auto_columns": null,
            "margin": null,
            "display": null,
            "left": null
          }
        },
        "26c55074027c4addb75499a3fe72b557": {
          "model_module": "@jupyter-widgets/controls",
          "model_name": "DescriptionStyleModel",
          "state": {
            "_view_name": "StyleView",
            "_model_name": "DescriptionStyleModel",
            "description_width": "",
            "_view_module": "@jupyter-widgets/base",
            "_model_module_version": "1.5.0",
            "_view_count": null,
            "_view_module_version": "1.2.0",
            "_model_module": "@jupyter-widgets/controls"
          }
        },
        "f3afddef393d44d7a4e4697434450392": {
          "model_module": "@jupyter-widgets/base",
          "model_name": "LayoutModel",
          "state": {
            "_view_name": "LayoutView",
            "grid_template_rows": null,
            "right": null,
            "justify_content": null,
            "_view_module": "@jupyter-widgets/base",
            "overflow": null,
            "_model_module_version": "1.2.0",
            "_view_count": null,
            "flex_flow": null,
            "width": null,
            "min_width": null,
            "border": null,
            "align_items": null,
            "bottom": null,
            "_model_module": "@jupyter-widgets/base",
            "top": null,
            "grid_column": null,
            "overflow_y": null,
            "overflow_x": null,
            "grid_auto_flow": null,
            "grid_area": null,
            "grid_template_columns": null,
            "flex": null,
            "_model_name": "LayoutModel",
            "justify_items": null,
            "grid_row": null,
            "max_height": null,
            "align_content": null,
            "visibility": null,
            "align_self": null,
            "height": null,
            "min_height": null,
            "padding": null,
            "grid_auto_rows": null,
            "grid_gap": null,
            "max_width": null,
            "order": null,
            "_view_module_version": "1.2.0",
            "grid_template_areas": null,
            "object_position": null,
            "object_fit": null,
            "grid_auto_columns": null,
            "margin": null,
            "display": null,
            "left": null
          }
        },
        "bb2c203946974371908146c7adc61841": {
          "model_module": "@jupyter-widgets/controls",
          "model_name": "HBoxModel",
          "state": {
            "_view_name": "HBoxView",
            "_dom_classes": [],
            "_model_name": "HBoxModel",
            "_view_module": "@jupyter-widgets/controls",
            "_model_module_version": "1.5.0",
            "_view_count": null,
            "_view_module_version": "1.5.0",
            "box_style": "",
            "layout": "IPY_MODEL_d0497edfebeb4a869bdd2f5930c5324f",
            "_model_module": "@jupyter-widgets/controls",
            "children": [
              "IPY_MODEL_5cd413c9691e440e9c0401e2e910a258",
              "IPY_MODEL_2a36050e8a894352ad88c853ea0de695"
            ]
          }
        },
        "d0497edfebeb4a869bdd2f5930c5324f": {
          "model_module": "@jupyter-widgets/base",
          "model_name": "LayoutModel",
          "state": {
            "_view_name": "LayoutView",
            "grid_template_rows": null,
            "right": null,
            "justify_content": null,
            "_view_module": "@jupyter-widgets/base",
            "overflow": null,
            "_model_module_version": "1.2.0",
            "_view_count": null,
            "flex_flow": null,
            "width": null,
            "min_width": null,
            "border": null,
            "align_items": null,
            "bottom": null,
            "_model_module": "@jupyter-widgets/base",
            "top": null,
            "grid_column": null,
            "overflow_y": null,
            "overflow_x": null,
            "grid_auto_flow": null,
            "grid_area": null,
            "grid_template_columns": null,
            "flex": null,
            "_model_name": "LayoutModel",
            "justify_items": null,
            "grid_row": null,
            "max_height": null,
            "align_content": null,
            "visibility": null,
            "align_self": null,
            "height": null,
            "min_height": null,
            "padding": null,
            "grid_auto_rows": null,
            "grid_gap": null,
            "max_width": null,
            "order": null,
            "_view_module_version": "1.2.0",
            "grid_template_areas": null,
            "object_position": null,
            "object_fit": null,
            "grid_auto_columns": null,
            "margin": null,
            "display": null,
            "left": null
          }
        },
        "5cd413c9691e440e9c0401e2e910a258": {
          "model_module": "@jupyter-widgets/controls",
          "model_name": "FloatProgressModel",
          "state": {
            "_view_name": "ProgressView",
            "style": "IPY_MODEL_0b8a900babcb4126a3dd4d6b79490663",
            "_dom_classes": [],
            "description": "Epoch 13: 100%",
            "_model_name": "FloatProgressModel",
            "bar_style": "",
            "max": 75,
            "_view_module": "@jupyter-widgets/controls",
            "_model_module_version": "1.5.0",
            "value": 75,
            "_view_count": null,
            "_view_module_version": "1.5.0",
            "orientation": "horizontal",
            "min": 0,
            "description_tooltip": null,
            "_model_module": "@jupyter-widgets/controls",
            "layout": "IPY_MODEL_f98c7511460049dcbf796f2513d9355a"
          }
        },
        "2a36050e8a894352ad88c853ea0de695": {
          "model_module": "@jupyter-widgets/controls",
          "model_name": "HTMLModel",
          "state": {
            "_view_name": "HTMLView",
            "style": "IPY_MODEL_09deb4b2150d4d6292cc3de71574a6d3",
            "_dom_classes": [],
            "description": "",
            "_model_name": "HTMLModel",
            "placeholder": "​",
            "_view_module": "@jupyter-widgets/controls",
            "_model_module_version": "1.5.0",
            "value": " 75/75 [25:30&lt;00:00,  8.92s/it, loss=0.0415]",
            "_view_count": null,
            "_view_module_version": "1.5.0",
            "description_tooltip": null,
            "_model_module": "@jupyter-widgets/controls",
            "layout": "IPY_MODEL_734e1a07ec9d4cf289afee5d9d4e9a48"
          }
        },
        "0b8a900babcb4126a3dd4d6b79490663": {
          "model_module": "@jupyter-widgets/controls",
          "model_name": "ProgressStyleModel",
          "state": {
            "_view_name": "StyleView",
            "_model_name": "ProgressStyleModel",
            "description_width": "initial",
            "_view_module": "@jupyter-widgets/base",
            "_model_module_version": "1.5.0",
            "_view_count": null,
            "_view_module_version": "1.2.0",
            "bar_color": null,
            "_model_module": "@jupyter-widgets/controls"
          }
        },
        "f98c7511460049dcbf796f2513d9355a": {
          "model_module": "@jupyter-widgets/base",
          "model_name": "LayoutModel",
          "state": {
            "_view_name": "LayoutView",
            "grid_template_rows": null,
            "right": null,
            "justify_content": null,
            "_view_module": "@jupyter-widgets/base",
            "overflow": null,
            "_model_module_version": "1.2.0",
            "_view_count": null,
            "flex_flow": null,
            "width": null,
            "min_width": null,
            "border": null,
            "align_items": null,
            "bottom": null,
            "_model_module": "@jupyter-widgets/base",
            "top": null,
            "grid_column": null,
            "overflow_y": null,
            "overflow_x": null,
            "grid_auto_flow": null,
            "grid_area": null,
            "grid_template_columns": null,
            "flex": null,
            "_model_name": "LayoutModel",
            "justify_items": null,
            "grid_row": null,
            "max_height": null,
            "align_content": null,
            "visibility": null,
            "align_self": null,
            "height": null,
            "min_height": null,
            "padding": null,
            "grid_auto_rows": null,
            "grid_gap": null,
            "max_width": null,
            "order": null,
            "_view_module_version": "1.2.0",
            "grid_template_areas": null,
            "object_position": null,
            "object_fit": null,
            "grid_auto_columns": null,
            "margin": null,
            "display": null,
            "left": null
          }
        },
        "09deb4b2150d4d6292cc3de71574a6d3": {
          "model_module": "@jupyter-widgets/controls",
          "model_name": "DescriptionStyleModel",
          "state": {
            "_view_name": "StyleView",
            "_model_name": "DescriptionStyleModel",
            "description_width": "",
            "_view_module": "@jupyter-widgets/base",
            "_model_module_version": "1.5.0",
            "_view_count": null,
            "_view_module_version": "1.2.0",
            "_model_module": "@jupyter-widgets/controls"
          }
        },
        "734e1a07ec9d4cf289afee5d9d4e9a48": {
          "model_module": "@jupyter-widgets/base",
          "model_name": "LayoutModel",
          "state": {
            "_view_name": "LayoutView",
            "grid_template_rows": null,
            "right": null,
            "justify_content": null,
            "_view_module": "@jupyter-widgets/base",
            "overflow": null,
            "_model_module_version": "1.2.0",
            "_view_count": null,
            "flex_flow": null,
            "width": null,
            "min_width": null,
            "border": null,
            "align_items": null,
            "bottom": null,
            "_model_module": "@jupyter-widgets/base",
            "top": null,
            "grid_column": null,
            "overflow_y": null,
            "overflow_x": null,
            "grid_auto_flow": null,
            "grid_area": null,
            "grid_template_columns": null,
            "flex": null,
            "_model_name": "LayoutModel",
            "justify_items": null,
            "grid_row": null,
            "max_height": null,
            "align_content": null,
            "visibility": null,
            "align_self": null,
            "height": null,
            "min_height": null,
            "padding": null,
            "grid_auto_rows": null,
            "grid_gap": null,
            "max_width": null,
            "order": null,
            "_view_module_version": "1.2.0",
            "grid_template_areas": null,
            "object_position": null,
            "object_fit": null,
            "grid_auto_columns": null,
            "margin": null,
            "display": null,
            "left": null
          }
        },
        "5a066e6cef2a43a3828e9095e65980c6": {
          "model_module": "@jupyter-widgets/controls",
          "model_name": "HBoxModel",
          "state": {
            "_view_name": "HBoxView",
            "_dom_classes": [],
            "_model_name": "HBoxModel",
            "_view_module": "@jupyter-widgets/controls",
            "_model_module_version": "1.5.0",
            "_view_count": null,
            "_view_module_version": "1.5.0",
            "box_style": "",
            "layout": "IPY_MODEL_dccbb7906e28423a91fb1d899555b671",
            "_model_module": "@jupyter-widgets/controls",
            "children": [
              "IPY_MODEL_9437dd6c992c4995a005d4ce33089244",
              "IPY_MODEL_a8669f4315754a6c8bd6d96dd79bdf4e"
            ]
          }
        },
        "dccbb7906e28423a91fb1d899555b671": {
          "model_module": "@jupyter-widgets/base",
          "model_name": "LayoutModel",
          "state": {
            "_view_name": "LayoutView",
            "grid_template_rows": null,
            "right": null,
            "justify_content": null,
            "_view_module": "@jupyter-widgets/base",
            "overflow": null,
            "_model_module_version": "1.2.0",
            "_view_count": null,
            "flex_flow": null,
            "width": null,
            "min_width": null,
            "border": null,
            "align_items": null,
            "bottom": null,
            "_model_module": "@jupyter-widgets/base",
            "top": null,
            "grid_column": null,
            "overflow_y": null,
            "overflow_x": null,
            "grid_auto_flow": null,
            "grid_area": null,
            "grid_template_columns": null,
            "flex": null,
            "_model_name": "LayoutModel",
            "justify_items": null,
            "grid_row": null,
            "max_height": null,
            "align_content": null,
            "visibility": null,
            "align_self": null,
            "height": null,
            "min_height": null,
            "padding": null,
            "grid_auto_rows": null,
            "grid_gap": null,
            "max_width": null,
            "order": null,
            "_view_module_version": "1.2.0",
            "grid_template_areas": null,
            "object_position": null,
            "object_fit": null,
            "grid_auto_columns": null,
            "margin": null,
            "display": null,
            "left": null
          }
        },
        "9437dd6c992c4995a005d4ce33089244": {
          "model_module": "@jupyter-widgets/controls",
          "model_name": "FloatProgressModel",
          "state": {
            "_view_name": "ProgressView",
            "style": "IPY_MODEL_88de18d7cffa484b9b83bbaab335e6e3",
            "_dom_classes": [],
            "description": "100%",
            "_model_name": "FloatProgressModel",
            "bar_style": "",
            "max": 25,
            "_view_module": "@jupyter-widgets/controls",
            "_model_module_version": "1.5.0",
            "value": 25,
            "_view_count": null,
            "_view_module_version": "1.5.0",
            "orientation": "horizontal",
            "min": 0,
            "description_tooltip": null,
            "_model_module": "@jupyter-widgets/controls",
            "layout": "IPY_MODEL_e8099803a90846bb9442dab945c3d03e"
          }
        },
        "a8669f4315754a6c8bd6d96dd79bdf4e": {
          "model_module": "@jupyter-widgets/controls",
          "model_name": "HTMLModel",
          "state": {
            "_view_name": "HTMLView",
            "style": "IPY_MODEL_a22abfb0cde64b0ba568fbef14b5c117",
            "_dom_classes": [],
            "description": "",
            "_model_name": "HTMLModel",
            "placeholder": "​",
            "_view_module": "@jupyter-widgets/controls",
            "_model_module_version": "1.5.0",
            "value": " 25/25 [00:06&lt;00:00,  1.16it/s]",
            "_view_count": null,
            "_view_module_version": "1.5.0",
            "description_tooltip": null,
            "_model_module": "@jupyter-widgets/controls",
            "layout": "IPY_MODEL_f0d4a09287664d8b8ce29832b6276061"
          }
        },
        "88de18d7cffa484b9b83bbaab335e6e3": {
          "model_module": "@jupyter-widgets/controls",
          "model_name": "ProgressStyleModel",
          "state": {
            "_view_name": "StyleView",
            "_model_name": "ProgressStyleModel",
            "description_width": "initial",
            "_view_module": "@jupyter-widgets/base",
            "_model_module_version": "1.5.0",
            "_view_count": null,
            "_view_module_version": "1.2.0",
            "bar_color": null,
            "_model_module": "@jupyter-widgets/controls"
          }
        },
        "e8099803a90846bb9442dab945c3d03e": {
          "model_module": "@jupyter-widgets/base",
          "model_name": "LayoutModel",
          "state": {
            "_view_name": "LayoutView",
            "grid_template_rows": null,
            "right": null,
            "justify_content": null,
            "_view_module": "@jupyter-widgets/base",
            "overflow": null,
            "_model_module_version": "1.2.0",
            "_view_count": null,
            "flex_flow": null,
            "width": null,
            "min_width": null,
            "border": null,
            "align_items": null,
            "bottom": null,
            "_model_module": "@jupyter-widgets/base",
            "top": null,
            "grid_column": null,
            "overflow_y": null,
            "overflow_x": null,
            "grid_auto_flow": null,
            "grid_area": null,
            "grid_template_columns": null,
            "flex": null,
            "_model_name": "LayoutModel",
            "justify_items": null,
            "grid_row": null,
            "max_height": null,
            "align_content": null,
            "visibility": null,
            "align_self": null,
            "height": null,
            "min_height": null,
            "padding": null,
            "grid_auto_rows": null,
            "grid_gap": null,
            "max_width": null,
            "order": null,
            "_view_module_version": "1.2.0",
            "grid_template_areas": null,
            "object_position": null,
            "object_fit": null,
            "grid_auto_columns": null,
            "margin": null,
            "display": null,
            "left": null
          }
        },
        "a22abfb0cde64b0ba568fbef14b5c117": {
          "model_module": "@jupyter-widgets/controls",
          "model_name": "DescriptionStyleModel",
          "state": {
            "_view_name": "StyleView",
            "_model_name": "DescriptionStyleModel",
            "description_width": "",
            "_view_module": "@jupyter-widgets/base",
            "_model_module_version": "1.5.0",
            "_view_count": null,
            "_view_module_version": "1.2.0",
            "_model_module": "@jupyter-widgets/controls"
          }
        },
        "f0d4a09287664d8b8ce29832b6276061": {
          "model_module": "@jupyter-widgets/base",
          "model_name": "LayoutModel",
          "state": {
            "_view_name": "LayoutView",
            "grid_template_rows": null,
            "right": null,
            "justify_content": null,
            "_view_module": "@jupyter-widgets/base",
            "overflow": null,
            "_model_module_version": "1.2.0",
            "_view_count": null,
            "flex_flow": null,
            "width": null,
            "min_width": null,
            "border": null,
            "align_items": null,
            "bottom": null,
            "_model_module": "@jupyter-widgets/base",
            "top": null,
            "grid_column": null,
            "overflow_y": null,
            "overflow_x": null,
            "grid_auto_flow": null,
            "grid_area": null,
            "grid_template_columns": null,
            "flex": null,
            "_model_name": "LayoutModel",
            "justify_items": null,
            "grid_row": null,
            "max_height": null,
            "align_content": null,
            "visibility": null,
            "align_self": null,
            "height": null,
            "min_height": null,
            "padding": null,
            "grid_auto_rows": null,
            "grid_gap": null,
            "max_width": null,
            "order": null,
            "_view_module_version": "1.2.0",
            "grid_template_areas": null,
            "object_position": null,
            "object_fit": null,
            "grid_auto_columns": null,
            "margin": null,
            "display": null,
            "left": null
          }
        },
        "dfa75816248f4aeda74db34693def8b8": {
          "model_module": "@jupyter-widgets/controls",
          "model_name": "HBoxModel",
          "state": {
            "_view_name": "HBoxView",
            "_dom_classes": [],
            "_model_name": "HBoxModel",
            "_view_module": "@jupyter-widgets/controls",
            "_model_module_version": "1.5.0",
            "_view_count": null,
            "_view_module_version": "1.5.0",
            "box_style": "",
            "layout": "IPY_MODEL_f6e45c81e6d74615b5fafd49265900b9",
            "_model_module": "@jupyter-widgets/controls",
            "children": [
              "IPY_MODEL_e9ee7e24a04142f3afa30d9e5ade9ce2",
              "IPY_MODEL_cbbddfab120640318b7e454604d28d10"
            ]
          }
        },
        "f6e45c81e6d74615b5fafd49265900b9": {
          "model_module": "@jupyter-widgets/base",
          "model_name": "LayoutModel",
          "state": {
            "_view_name": "LayoutView",
            "grid_template_rows": null,
            "right": null,
            "justify_content": null,
            "_view_module": "@jupyter-widgets/base",
            "overflow": null,
            "_model_module_version": "1.2.0",
            "_view_count": null,
            "flex_flow": null,
            "width": null,
            "min_width": null,
            "border": null,
            "align_items": null,
            "bottom": null,
            "_model_module": "@jupyter-widgets/base",
            "top": null,
            "grid_column": null,
            "overflow_y": null,
            "overflow_x": null,
            "grid_auto_flow": null,
            "grid_area": null,
            "grid_template_columns": null,
            "flex": null,
            "_model_name": "LayoutModel",
            "justify_items": null,
            "grid_row": null,
            "max_height": null,
            "align_content": null,
            "visibility": null,
            "align_self": null,
            "height": null,
            "min_height": null,
            "padding": null,
            "grid_auto_rows": null,
            "grid_gap": null,
            "max_width": null,
            "order": null,
            "_view_module_version": "1.2.0",
            "grid_template_areas": null,
            "object_position": null,
            "object_fit": null,
            "grid_auto_columns": null,
            "margin": null,
            "display": null,
            "left": null
          }
        },
        "e9ee7e24a04142f3afa30d9e5ade9ce2": {
          "model_module": "@jupyter-widgets/controls",
          "model_name": "FloatProgressModel",
          "state": {
            "_view_name": "ProgressView",
            "style": "IPY_MODEL_bea890b877c9453ca9b93ea89425270c",
            "_dom_classes": [],
            "description": "Epoch 14: 100%",
            "_model_name": "FloatProgressModel",
            "bar_style": "",
            "max": 75,
            "_view_module": "@jupyter-widgets/controls",
            "_model_module_version": "1.5.0",
            "value": 75,
            "_view_count": null,
            "_view_module_version": "1.5.0",
            "orientation": "horizontal",
            "min": 0,
            "description_tooltip": null,
            "_model_module": "@jupyter-widgets/controls",
            "layout": "IPY_MODEL_3f056fb568a8469b8a50b2b9e9859018"
          }
        },
        "cbbddfab120640318b7e454604d28d10": {
          "model_module": "@jupyter-widgets/controls",
          "model_name": "HTMLModel",
          "state": {
            "_view_name": "HTMLView",
            "style": "IPY_MODEL_5d0ec55c7eb246bd85740ed275b42bcf",
            "_dom_classes": [],
            "description": "",
            "_model_name": "HTMLModel",
            "placeholder": "​",
            "_view_module": "@jupyter-widgets/controls",
            "_model_module_version": "1.5.0",
            "value": " 75/75 [25:14&lt;00:00, 13.91s/it, loss=0.0949]",
            "_view_count": null,
            "_view_module_version": "1.5.0",
            "description_tooltip": null,
            "_model_module": "@jupyter-widgets/controls",
            "layout": "IPY_MODEL_edd5708ec3c24b598d95b48415213ef7"
          }
        },
        "bea890b877c9453ca9b93ea89425270c": {
          "model_module": "@jupyter-widgets/controls",
          "model_name": "ProgressStyleModel",
          "state": {
            "_view_name": "StyleView",
            "_model_name": "ProgressStyleModel",
            "description_width": "initial",
            "_view_module": "@jupyter-widgets/base",
            "_model_module_version": "1.5.0",
            "_view_count": null,
            "_view_module_version": "1.2.0",
            "bar_color": null,
            "_model_module": "@jupyter-widgets/controls"
          }
        },
        "3f056fb568a8469b8a50b2b9e9859018": {
          "model_module": "@jupyter-widgets/base",
          "model_name": "LayoutModel",
          "state": {
            "_view_name": "LayoutView",
            "grid_template_rows": null,
            "right": null,
            "justify_content": null,
            "_view_module": "@jupyter-widgets/base",
            "overflow": null,
            "_model_module_version": "1.2.0",
            "_view_count": null,
            "flex_flow": null,
            "width": null,
            "min_width": null,
            "border": null,
            "align_items": null,
            "bottom": null,
            "_model_module": "@jupyter-widgets/base",
            "top": null,
            "grid_column": null,
            "overflow_y": null,
            "overflow_x": null,
            "grid_auto_flow": null,
            "grid_area": null,
            "grid_template_columns": null,
            "flex": null,
            "_model_name": "LayoutModel",
            "justify_items": null,
            "grid_row": null,
            "max_height": null,
            "align_content": null,
            "visibility": null,
            "align_self": null,
            "height": null,
            "min_height": null,
            "padding": null,
            "grid_auto_rows": null,
            "grid_gap": null,
            "max_width": null,
            "order": null,
            "_view_module_version": "1.2.0",
            "grid_template_areas": null,
            "object_position": null,
            "object_fit": null,
            "grid_auto_columns": null,
            "margin": null,
            "display": null,
            "left": null
          }
        },
        "5d0ec55c7eb246bd85740ed275b42bcf": {
          "model_module": "@jupyter-widgets/controls",
          "model_name": "DescriptionStyleModel",
          "state": {
            "_view_name": "StyleView",
            "_model_name": "DescriptionStyleModel",
            "description_width": "",
            "_view_module": "@jupyter-widgets/base",
            "_model_module_version": "1.5.0",
            "_view_count": null,
            "_view_module_version": "1.2.0",
            "_model_module": "@jupyter-widgets/controls"
          }
        },
        "edd5708ec3c24b598d95b48415213ef7": {
          "model_module": "@jupyter-widgets/base",
          "model_name": "LayoutModel",
          "state": {
            "_view_name": "LayoutView",
            "grid_template_rows": null,
            "right": null,
            "justify_content": null,
            "_view_module": "@jupyter-widgets/base",
            "overflow": null,
            "_model_module_version": "1.2.0",
            "_view_count": null,
            "flex_flow": null,
            "width": null,
            "min_width": null,
            "border": null,
            "align_items": null,
            "bottom": null,
            "_model_module": "@jupyter-widgets/base",
            "top": null,
            "grid_column": null,
            "overflow_y": null,
            "overflow_x": null,
            "grid_auto_flow": null,
            "grid_area": null,
            "grid_template_columns": null,
            "flex": null,
            "_model_name": "LayoutModel",
            "justify_items": null,
            "grid_row": null,
            "max_height": null,
            "align_content": null,
            "visibility": null,
            "align_self": null,
            "height": null,
            "min_height": null,
            "padding": null,
            "grid_auto_rows": null,
            "grid_gap": null,
            "max_width": null,
            "order": null,
            "_view_module_version": "1.2.0",
            "grid_template_areas": null,
            "object_position": null,
            "object_fit": null,
            "grid_auto_columns": null,
            "margin": null,
            "display": null,
            "left": null
          }
        },
        "71581a4739044b90afac0db98ad9ef34": {
          "model_module": "@jupyter-widgets/controls",
          "model_name": "HBoxModel",
          "state": {
            "_view_name": "HBoxView",
            "_dom_classes": [],
            "_model_name": "HBoxModel",
            "_view_module": "@jupyter-widgets/controls",
            "_model_module_version": "1.5.0",
            "_view_count": null,
            "_view_module_version": "1.5.0",
            "box_style": "",
            "layout": "IPY_MODEL_fd2e727d7eca4ae5b6c565da9ca639f5",
            "_model_module": "@jupyter-widgets/controls",
            "children": [
              "IPY_MODEL_0c9f78b33ba343b48c4b8d96f4c59952",
              "IPY_MODEL_589c3d88a46f43d39e08ac2113c94141"
            ]
          }
        },
        "fd2e727d7eca4ae5b6c565da9ca639f5": {
          "model_module": "@jupyter-widgets/base",
          "model_name": "LayoutModel",
          "state": {
            "_view_name": "LayoutView",
            "grid_template_rows": null,
            "right": null,
            "justify_content": null,
            "_view_module": "@jupyter-widgets/base",
            "overflow": null,
            "_model_module_version": "1.2.0",
            "_view_count": null,
            "flex_flow": null,
            "width": null,
            "min_width": null,
            "border": null,
            "align_items": null,
            "bottom": null,
            "_model_module": "@jupyter-widgets/base",
            "top": null,
            "grid_column": null,
            "overflow_y": null,
            "overflow_x": null,
            "grid_auto_flow": null,
            "grid_area": null,
            "grid_template_columns": null,
            "flex": null,
            "_model_name": "LayoutModel",
            "justify_items": null,
            "grid_row": null,
            "max_height": null,
            "align_content": null,
            "visibility": null,
            "align_self": null,
            "height": null,
            "min_height": null,
            "padding": null,
            "grid_auto_rows": null,
            "grid_gap": null,
            "max_width": null,
            "order": null,
            "_view_module_version": "1.2.0",
            "grid_template_areas": null,
            "object_position": null,
            "object_fit": null,
            "grid_auto_columns": null,
            "margin": null,
            "display": null,
            "left": null
          }
        },
        "0c9f78b33ba343b48c4b8d96f4c59952": {
          "model_module": "@jupyter-widgets/controls",
          "model_name": "FloatProgressModel",
          "state": {
            "_view_name": "ProgressView",
            "style": "IPY_MODEL_dc11f7f21f0f4b66856f5a2b85bf5865",
            "_dom_classes": [],
            "description": "100%",
            "_model_name": "FloatProgressModel",
            "bar_style": "",
            "max": 25,
            "_view_module": "@jupyter-widgets/controls",
            "_model_module_version": "1.5.0",
            "value": 25,
            "_view_count": null,
            "_view_module_version": "1.5.0",
            "orientation": "horizontal",
            "min": 0,
            "description_tooltip": null,
            "_model_module": "@jupyter-widgets/controls",
            "layout": "IPY_MODEL_d4842e31b3ae41cd8dbd00542913ecc9"
          }
        },
        "589c3d88a46f43d39e08ac2113c94141": {
          "model_module": "@jupyter-widgets/controls",
          "model_name": "HTMLModel",
          "state": {
            "_view_name": "HTMLView",
            "style": "IPY_MODEL_81b53a2f54e646239954df8832eb006c",
            "_dom_classes": [],
            "description": "",
            "_model_name": "HTMLModel",
            "placeholder": "​",
            "_view_module": "@jupyter-widgets/controls",
            "_model_module_version": "1.5.0",
            "value": " 25/25 [00:06&lt;00:00,  1.21it/s]",
            "_view_count": null,
            "_view_module_version": "1.5.0",
            "description_tooltip": null,
            "_model_module": "@jupyter-widgets/controls",
            "layout": "IPY_MODEL_b5d1deb3ff374bf28383fad29d056bbe"
          }
        },
        "dc11f7f21f0f4b66856f5a2b85bf5865": {
          "model_module": "@jupyter-widgets/controls",
          "model_name": "ProgressStyleModel",
          "state": {
            "_view_name": "StyleView",
            "_model_name": "ProgressStyleModel",
            "description_width": "initial",
            "_view_module": "@jupyter-widgets/base",
            "_model_module_version": "1.5.0",
            "_view_count": null,
            "_view_module_version": "1.2.0",
            "bar_color": null,
            "_model_module": "@jupyter-widgets/controls"
          }
        },
        "d4842e31b3ae41cd8dbd00542913ecc9": {
          "model_module": "@jupyter-widgets/base",
          "model_name": "LayoutModel",
          "state": {
            "_view_name": "LayoutView",
            "grid_template_rows": null,
            "right": null,
            "justify_content": null,
            "_view_module": "@jupyter-widgets/base",
            "overflow": null,
            "_model_module_version": "1.2.0",
            "_view_count": null,
            "flex_flow": null,
            "width": null,
            "min_width": null,
            "border": null,
            "align_items": null,
            "bottom": null,
            "_model_module": "@jupyter-widgets/base",
            "top": null,
            "grid_column": null,
            "overflow_y": null,
            "overflow_x": null,
            "grid_auto_flow": null,
            "grid_area": null,
            "grid_template_columns": null,
            "flex": null,
            "_model_name": "LayoutModel",
            "justify_items": null,
            "grid_row": null,
            "max_height": null,
            "align_content": null,
            "visibility": null,
            "align_self": null,
            "height": null,
            "min_height": null,
            "padding": null,
            "grid_auto_rows": null,
            "grid_gap": null,
            "max_width": null,
            "order": null,
            "_view_module_version": "1.2.0",
            "grid_template_areas": null,
            "object_position": null,
            "object_fit": null,
            "grid_auto_columns": null,
            "margin": null,
            "display": null,
            "left": null
          }
        },
        "81b53a2f54e646239954df8832eb006c": {
          "model_module": "@jupyter-widgets/controls",
          "model_name": "DescriptionStyleModel",
          "state": {
            "_view_name": "StyleView",
            "_model_name": "DescriptionStyleModel",
            "description_width": "",
            "_view_module": "@jupyter-widgets/base",
            "_model_module_version": "1.5.0",
            "_view_count": null,
            "_view_module_version": "1.2.0",
            "_model_module": "@jupyter-widgets/controls"
          }
        },
        "b5d1deb3ff374bf28383fad29d056bbe": {
          "model_module": "@jupyter-widgets/base",
          "model_name": "LayoutModel",
          "state": {
            "_view_name": "LayoutView",
            "grid_template_rows": null,
            "right": null,
            "justify_content": null,
            "_view_module": "@jupyter-widgets/base",
            "overflow": null,
            "_model_module_version": "1.2.0",
            "_view_count": null,
            "flex_flow": null,
            "width": null,
            "min_width": null,
            "border": null,
            "align_items": null,
            "bottom": null,
            "_model_module": "@jupyter-widgets/base",
            "top": null,
            "grid_column": null,
            "overflow_y": null,
            "overflow_x": null,
            "grid_auto_flow": null,
            "grid_area": null,
            "grid_template_columns": null,
            "flex": null,
            "_model_name": "LayoutModel",
            "justify_items": null,
            "grid_row": null,
            "max_height": null,
            "align_content": null,
            "visibility": null,
            "align_self": null,
            "height": null,
            "min_height": null,
            "padding": null,
            "grid_auto_rows": null,
            "grid_gap": null,
            "max_width": null,
            "order": null,
            "_view_module_version": "1.2.0",
            "grid_template_areas": null,
            "object_position": null,
            "object_fit": null,
            "grid_auto_columns": null,
            "margin": null,
            "display": null,
            "left": null
          }
        },
        "3d6312af725b4e79b94a71bbe2354a61": {
          "model_module": "@jupyter-widgets/controls",
          "model_name": "HBoxModel",
          "state": {
            "_view_name": "HBoxView",
            "_dom_classes": [],
            "_model_name": "HBoxModel",
            "_view_module": "@jupyter-widgets/controls",
            "_model_module_version": "1.5.0",
            "_view_count": null,
            "_view_module_version": "1.5.0",
            "box_style": "",
            "layout": "IPY_MODEL_9e3be9ead4e84f528cefd7cd37502c97",
            "_model_module": "@jupyter-widgets/controls",
            "children": [
              "IPY_MODEL_bd67e096294447e09bfa323a1dbd2418",
              "IPY_MODEL_ed06bcbb67344d2aafc17b98e47ae750"
            ]
          }
        },
        "9e3be9ead4e84f528cefd7cd37502c97": {
          "model_module": "@jupyter-widgets/base",
          "model_name": "LayoutModel",
          "state": {
            "_view_name": "LayoutView",
            "grid_template_rows": null,
            "right": null,
            "justify_content": null,
            "_view_module": "@jupyter-widgets/base",
            "overflow": null,
            "_model_module_version": "1.2.0",
            "_view_count": null,
            "flex_flow": null,
            "width": null,
            "min_width": null,
            "border": null,
            "align_items": null,
            "bottom": null,
            "_model_module": "@jupyter-widgets/base",
            "top": null,
            "grid_column": null,
            "overflow_y": null,
            "overflow_x": null,
            "grid_auto_flow": null,
            "grid_area": null,
            "grid_template_columns": null,
            "flex": null,
            "_model_name": "LayoutModel",
            "justify_items": null,
            "grid_row": null,
            "max_height": null,
            "align_content": null,
            "visibility": null,
            "align_self": null,
            "height": null,
            "min_height": null,
            "padding": null,
            "grid_auto_rows": null,
            "grid_gap": null,
            "max_width": null,
            "order": null,
            "_view_module_version": "1.2.0",
            "grid_template_areas": null,
            "object_position": null,
            "object_fit": null,
            "grid_auto_columns": null,
            "margin": null,
            "display": null,
            "left": null
          }
        },
        "bd67e096294447e09bfa323a1dbd2418": {
          "model_module": "@jupyter-widgets/controls",
          "model_name": "FloatProgressModel",
          "state": {
            "_view_name": "ProgressView",
            "style": "IPY_MODEL_78bf980314ab4192b401c21ce7715939",
            "_dom_classes": [],
            "description": "100%",
            "_model_name": "FloatProgressModel",
            "bar_style": "success",
            "max": 25,
            "_view_module": "@jupyter-widgets/controls",
            "_model_module_version": "1.5.0",
            "value": 25,
            "_view_count": null,
            "_view_module_version": "1.5.0",
            "orientation": "horizontal",
            "min": 0,
            "description_tooltip": null,
            "_model_module": "@jupyter-widgets/controls",
            "layout": "IPY_MODEL_f1bc7ab664bf4b61910c4763a675a479"
          }
        },
        "ed06bcbb67344d2aafc17b98e47ae750": {
          "model_module": "@jupyter-widgets/controls",
          "model_name": "HTMLModel",
          "state": {
            "_view_name": "HTMLView",
            "style": "IPY_MODEL_922c4a10739c4d0d82fdc20d0b55d162",
            "_dom_classes": [],
            "description": "",
            "_model_name": "HTMLModel",
            "placeholder": "​",
            "_view_module": "@jupyter-widgets/controls",
            "_model_module_version": "1.5.0",
            "value": " 25/25 [00:16&lt;00:00,  1.52it/s]",
            "_view_count": null,
            "_view_module_version": "1.5.0",
            "description_tooltip": null,
            "_model_module": "@jupyter-widgets/controls",
            "layout": "IPY_MODEL_20c8e7fd4b6c49f5aae9b13da9ff0d90"
          }
        },
        "78bf980314ab4192b401c21ce7715939": {
          "model_module": "@jupyter-widgets/controls",
          "model_name": "ProgressStyleModel",
          "state": {
            "_view_name": "StyleView",
            "_model_name": "ProgressStyleModel",
            "description_width": "initial",
            "_view_module": "@jupyter-widgets/base",
            "_model_module_version": "1.5.0",
            "_view_count": null,
            "_view_module_version": "1.2.0",
            "bar_color": null,
            "_model_module": "@jupyter-widgets/controls"
          }
        },
        "f1bc7ab664bf4b61910c4763a675a479": {
          "model_module": "@jupyter-widgets/base",
          "model_name": "LayoutModel",
          "state": {
            "_view_name": "LayoutView",
            "grid_template_rows": null,
            "right": null,
            "justify_content": null,
            "_view_module": "@jupyter-widgets/base",
            "overflow": null,
            "_model_module_version": "1.2.0",
            "_view_count": null,
            "flex_flow": null,
            "width": null,
            "min_width": null,
            "border": null,
            "align_items": null,
            "bottom": null,
            "_model_module": "@jupyter-widgets/base",
            "top": null,
            "grid_column": null,
            "overflow_y": null,
            "overflow_x": null,
            "grid_auto_flow": null,
            "grid_area": null,
            "grid_template_columns": null,
            "flex": null,
            "_model_name": "LayoutModel",
            "justify_items": null,
            "grid_row": null,
            "max_height": null,
            "align_content": null,
            "visibility": null,
            "align_self": null,
            "height": null,
            "min_height": null,
            "padding": null,
            "grid_auto_rows": null,
            "grid_gap": null,
            "max_width": null,
            "order": null,
            "_view_module_version": "1.2.0",
            "grid_template_areas": null,
            "object_position": null,
            "object_fit": null,
            "grid_auto_columns": null,
            "margin": null,
            "display": null,
            "left": null
          }
        },
        "922c4a10739c4d0d82fdc20d0b55d162": {
          "model_module": "@jupyter-widgets/controls",
          "model_name": "DescriptionStyleModel",
          "state": {
            "_view_name": "StyleView",
            "_model_name": "DescriptionStyleModel",
            "description_width": "",
            "_view_module": "@jupyter-widgets/base",
            "_model_module_version": "1.5.0",
            "_view_count": null,
            "_view_module_version": "1.2.0",
            "_model_module": "@jupyter-widgets/controls"
          }
        },
        "20c8e7fd4b6c49f5aae9b13da9ff0d90": {
          "model_module": "@jupyter-widgets/base",
          "model_name": "LayoutModel",
          "state": {
            "_view_name": "LayoutView",
            "grid_template_rows": null,
            "right": null,
            "justify_content": null,
            "_view_module": "@jupyter-widgets/base",
            "overflow": null,
            "_model_module_version": "1.2.0",
            "_view_count": null,
            "flex_flow": null,
            "width": null,
            "min_width": null,
            "border": null,
            "align_items": null,
            "bottom": null,
            "_model_module": "@jupyter-widgets/base",
            "top": null,
            "grid_column": null,
            "overflow_y": null,
            "overflow_x": null,
            "grid_auto_flow": null,
            "grid_area": null,
            "grid_template_columns": null,
            "flex": null,
            "_model_name": "LayoutModel",
            "justify_items": null,
            "grid_row": null,
            "max_height": null,
            "align_content": null,
            "visibility": null,
            "align_self": null,
            "height": null,
            "min_height": null,
            "padding": null,
            "grid_auto_rows": null,
            "grid_gap": null,
            "max_width": null,
            "order": null,
            "_view_module_version": "1.2.0",
            "grid_template_areas": null,
            "object_position": null,
            "object_fit": null,
            "grid_auto_columns": null,
            "margin": null,
            "display": null,
            "left": null
          }
        },
        "eac9f1e7c92244bfa336309ac06ffb0d": {
          "model_module": "@jupyter-widgets/controls",
          "model_name": "HBoxModel",
          "state": {
            "_view_name": "HBoxView",
            "_dom_classes": [],
            "_model_name": "HBoxModel",
            "_view_module": "@jupyter-widgets/controls",
            "_model_module_version": "1.5.0",
            "_view_count": null,
            "_view_module_version": "1.5.0",
            "box_style": "",
            "layout": "IPY_MODEL_b28f3de33fa7441c9f19601ba5893ddd",
            "_model_module": "@jupyter-widgets/controls",
            "children": [
              "IPY_MODEL_8f07f248391c44179c3bb664886c8fc9",
              "IPY_MODEL_63977b55ccff448499f892630968c0e7"
            ]
          }
        },
        "b28f3de33fa7441c9f19601ba5893ddd": {
          "model_module": "@jupyter-widgets/base",
          "model_name": "LayoutModel",
          "state": {
            "_view_name": "LayoutView",
            "grid_template_rows": null,
            "right": null,
            "justify_content": null,
            "_view_module": "@jupyter-widgets/base",
            "overflow": null,
            "_model_module_version": "1.2.0",
            "_view_count": null,
            "flex_flow": null,
            "width": null,
            "min_width": null,
            "border": null,
            "align_items": null,
            "bottom": null,
            "_model_module": "@jupyter-widgets/base",
            "top": null,
            "grid_column": null,
            "overflow_y": null,
            "overflow_x": null,
            "grid_auto_flow": null,
            "grid_area": null,
            "grid_template_columns": null,
            "flex": null,
            "_model_name": "LayoutModel",
            "justify_items": null,
            "grid_row": null,
            "max_height": null,
            "align_content": null,
            "visibility": null,
            "align_self": null,
            "height": null,
            "min_height": null,
            "padding": null,
            "grid_auto_rows": null,
            "grid_gap": null,
            "max_width": null,
            "order": null,
            "_view_module_version": "1.2.0",
            "grid_template_areas": null,
            "object_position": null,
            "object_fit": null,
            "grid_auto_columns": null,
            "margin": null,
            "display": null,
            "left": null
          }
        },
        "8f07f248391c44179c3bb664886c8fc9": {
          "model_module": "@jupyter-widgets/controls",
          "model_name": "FloatProgressModel",
          "state": {
            "_view_name": "ProgressView",
            "style": "IPY_MODEL_87065151759545409ce58a6721e47447",
            "_dom_classes": [],
            "description": "100%",
            "_model_name": "FloatProgressModel",
            "bar_style": "success",
            "max": 25,
            "_view_module": "@jupyter-widgets/controls",
            "_model_module_version": "1.5.0",
            "value": 25,
            "_view_count": null,
            "_view_module_version": "1.5.0",
            "orientation": "horizontal",
            "min": 0,
            "description_tooltip": null,
            "_model_module": "@jupyter-widgets/controls",
            "layout": "IPY_MODEL_5ff3829f61da4de9b67c6ddef736e6bb"
          }
        },
        "63977b55ccff448499f892630968c0e7": {
          "model_module": "@jupyter-widgets/controls",
          "model_name": "HTMLModel",
          "state": {
            "_view_name": "HTMLView",
            "style": "IPY_MODEL_06a490fee3b040b086b1a5b3f4ad119b",
            "_dom_classes": [],
            "description": "",
            "_model_name": "HTMLModel",
            "placeholder": "​",
            "_view_module": "@jupyter-widgets/controls",
            "_model_module_version": "1.5.0",
            "value": " 25/25 [00:16&lt;00:00,  1.55it/s]",
            "_view_count": null,
            "_view_module_version": "1.5.0",
            "description_tooltip": null,
            "_model_module": "@jupyter-widgets/controls",
            "layout": "IPY_MODEL_7d7151284af345e1b7ec9186ec83ec32"
          }
        },
        "87065151759545409ce58a6721e47447": {
          "model_module": "@jupyter-widgets/controls",
          "model_name": "ProgressStyleModel",
          "state": {
            "_view_name": "StyleView",
            "_model_name": "ProgressStyleModel",
            "description_width": "initial",
            "_view_module": "@jupyter-widgets/base",
            "_model_module_version": "1.5.0",
            "_view_count": null,
            "_view_module_version": "1.2.0",
            "bar_color": null,
            "_model_module": "@jupyter-widgets/controls"
          }
        },
        "5ff3829f61da4de9b67c6ddef736e6bb": {
          "model_module": "@jupyter-widgets/base",
          "model_name": "LayoutModel",
          "state": {
            "_view_name": "LayoutView",
            "grid_template_rows": null,
            "right": null,
            "justify_content": null,
            "_view_module": "@jupyter-widgets/base",
            "overflow": null,
            "_model_module_version": "1.2.0",
            "_view_count": null,
            "flex_flow": null,
            "width": null,
            "min_width": null,
            "border": null,
            "align_items": null,
            "bottom": null,
            "_model_module": "@jupyter-widgets/base",
            "top": null,
            "grid_column": null,
            "overflow_y": null,
            "overflow_x": null,
            "grid_auto_flow": null,
            "grid_area": null,
            "grid_template_columns": null,
            "flex": null,
            "_model_name": "LayoutModel",
            "justify_items": null,
            "grid_row": null,
            "max_height": null,
            "align_content": null,
            "visibility": null,
            "align_self": null,
            "height": null,
            "min_height": null,
            "padding": null,
            "grid_auto_rows": null,
            "grid_gap": null,
            "max_width": null,
            "order": null,
            "_view_module_version": "1.2.0",
            "grid_template_areas": null,
            "object_position": null,
            "object_fit": null,
            "grid_auto_columns": null,
            "margin": null,
            "display": null,
            "left": null
          }
        },
        "06a490fee3b040b086b1a5b3f4ad119b": {
          "model_module": "@jupyter-widgets/controls",
          "model_name": "DescriptionStyleModel",
          "state": {
            "_view_name": "StyleView",
            "_model_name": "DescriptionStyleModel",
            "description_width": "",
            "_view_module": "@jupyter-widgets/base",
            "_model_module_version": "1.5.0",
            "_view_count": null,
            "_view_module_version": "1.2.0",
            "_model_module": "@jupyter-widgets/controls"
          }
        },
        "7d7151284af345e1b7ec9186ec83ec32": {
          "model_module": "@jupyter-widgets/base",
          "model_name": "LayoutModel",
          "state": {
            "_view_name": "LayoutView",
            "grid_template_rows": null,
            "right": null,
            "justify_content": null,
            "_view_module": "@jupyter-widgets/base",
            "overflow": null,
            "_model_module_version": "1.2.0",
            "_view_count": null,
            "flex_flow": null,
            "width": null,
            "min_width": null,
            "border": null,
            "align_items": null,
            "bottom": null,
            "_model_module": "@jupyter-widgets/base",
            "top": null,
            "grid_column": null,
            "overflow_y": null,
            "overflow_x": null,
            "grid_auto_flow": null,
            "grid_area": null,
            "grid_template_columns": null,
            "flex": null,
            "_model_name": "LayoutModel",
            "justify_items": null,
            "grid_row": null,
            "max_height": null,
            "align_content": null,
            "visibility": null,
            "align_self": null,
            "height": null,
            "min_height": null,
            "padding": null,
            "grid_auto_rows": null,
            "grid_gap": null,
            "max_width": null,
            "order": null,
            "_view_module_version": "1.2.0",
            "grid_template_areas": null,
            "object_position": null,
            "object_fit": null,
            "grid_auto_columns": null,
            "margin": null,
            "display": null,
            "left": null
          }
        },
        "7782a32eac1b498abb2e72e4c371bad7": {
          "model_module": "@jupyter-widgets/controls",
          "model_name": "HBoxModel",
          "state": {
            "_view_name": "HBoxView",
            "_dom_classes": [],
            "_model_name": "HBoxModel",
            "_view_module": "@jupyter-widgets/controls",
            "_model_module_version": "1.5.0",
            "_view_count": null,
            "_view_module_version": "1.5.0",
            "box_style": "",
            "layout": "IPY_MODEL_233b5360b89847f18406f4ba663c5d56",
            "_model_module": "@jupyter-widgets/controls",
            "children": [
              "IPY_MODEL_ecde71956efe4da1a6e14207bed9230a",
              "IPY_MODEL_cdd774c0ec2342fabb9fdf5007383c30"
            ]
          }
        },
        "233b5360b89847f18406f4ba663c5d56": {
          "model_module": "@jupyter-widgets/base",
          "model_name": "LayoutModel",
          "state": {
            "_view_name": "LayoutView",
            "grid_template_rows": null,
            "right": null,
            "justify_content": null,
            "_view_module": "@jupyter-widgets/base",
            "overflow": null,
            "_model_module_version": "1.2.0",
            "_view_count": null,
            "flex_flow": null,
            "width": null,
            "min_width": null,
            "border": null,
            "align_items": null,
            "bottom": null,
            "_model_module": "@jupyter-widgets/base",
            "top": null,
            "grid_column": null,
            "overflow_y": null,
            "overflow_x": null,
            "grid_auto_flow": null,
            "grid_area": null,
            "grid_template_columns": null,
            "flex": null,
            "_model_name": "LayoutModel",
            "justify_items": null,
            "grid_row": null,
            "max_height": null,
            "align_content": null,
            "visibility": null,
            "align_self": null,
            "height": null,
            "min_height": null,
            "padding": null,
            "grid_auto_rows": null,
            "grid_gap": null,
            "max_width": null,
            "order": null,
            "_view_module_version": "1.2.0",
            "grid_template_areas": null,
            "object_position": null,
            "object_fit": null,
            "grid_auto_columns": null,
            "margin": null,
            "display": null,
            "left": null
          }
        },
        "ecde71956efe4da1a6e14207bed9230a": {
          "model_module": "@jupyter-widgets/controls",
          "model_name": "FloatProgressModel",
          "state": {
            "_view_name": "ProgressView",
            "style": "IPY_MODEL_28626de3b5e04da58f51e0c8078a244b",
            "_dom_classes": [],
            "description": "100%",
            "_model_name": "FloatProgressModel",
            "bar_style": "success",
            "max": 8,
            "_view_module": "@jupyter-widgets/controls",
            "_model_module_version": "1.5.0",
            "value": 8,
            "_view_count": null,
            "_view_module_version": "1.5.0",
            "orientation": "horizontal",
            "min": 0,
            "description_tooltip": null,
            "_model_module": "@jupyter-widgets/controls",
            "layout": "IPY_MODEL_4b671fddacb246bf8b9946562472cde3"
          }
        },
        "cdd774c0ec2342fabb9fdf5007383c30": {
          "model_module": "@jupyter-widgets/controls",
          "model_name": "HTMLModel",
          "state": {
            "_view_name": "HTMLView",
            "style": "IPY_MODEL_fe959aae4b32497093b304d37bd11dac",
            "_dom_classes": [],
            "description": "",
            "_model_name": "HTMLModel",
            "placeholder": "​",
            "_view_module": "@jupyter-widgets/controls",
            "_model_module_version": "1.5.0",
            "value": " 8/8 [00:01&lt;00:00,  7.41it/s]",
            "_view_count": null,
            "_view_module_version": "1.5.0",
            "description_tooltip": null,
            "_model_module": "@jupyter-widgets/controls",
            "layout": "IPY_MODEL_c7dbbaad535643409f885b9f3bf838b7"
          }
        },
        "28626de3b5e04da58f51e0c8078a244b": {
          "model_module": "@jupyter-widgets/controls",
          "model_name": "ProgressStyleModel",
          "state": {
            "_view_name": "StyleView",
            "_model_name": "ProgressStyleModel",
            "description_width": "initial",
            "_view_module": "@jupyter-widgets/base",
            "_model_module_version": "1.5.0",
            "_view_count": null,
            "_view_module_version": "1.2.0",
            "bar_color": null,
            "_model_module": "@jupyter-widgets/controls"
          }
        },
        "4b671fddacb246bf8b9946562472cde3": {
          "model_module": "@jupyter-widgets/base",
          "model_name": "LayoutModel",
          "state": {
            "_view_name": "LayoutView",
            "grid_template_rows": null,
            "right": null,
            "justify_content": null,
            "_view_module": "@jupyter-widgets/base",
            "overflow": null,
            "_model_module_version": "1.2.0",
            "_view_count": null,
            "flex_flow": null,
            "width": null,
            "min_width": null,
            "border": null,
            "align_items": null,
            "bottom": null,
            "_model_module": "@jupyter-widgets/base",
            "top": null,
            "grid_column": null,
            "overflow_y": null,
            "overflow_x": null,
            "grid_auto_flow": null,
            "grid_area": null,
            "grid_template_columns": null,
            "flex": null,
            "_model_name": "LayoutModel",
            "justify_items": null,
            "grid_row": null,
            "max_height": null,
            "align_content": null,
            "visibility": null,
            "align_self": null,
            "height": null,
            "min_height": null,
            "padding": null,
            "grid_auto_rows": null,
            "grid_gap": null,
            "max_width": null,
            "order": null,
            "_view_module_version": "1.2.0",
            "grid_template_areas": null,
            "object_position": null,
            "object_fit": null,
            "grid_auto_columns": null,
            "margin": null,
            "display": null,
            "left": null
          }
        },
        "fe959aae4b32497093b304d37bd11dac": {
          "model_module": "@jupyter-widgets/controls",
          "model_name": "DescriptionStyleModel",
          "state": {
            "_view_name": "StyleView",
            "_model_name": "DescriptionStyleModel",
            "description_width": "",
            "_view_module": "@jupyter-widgets/base",
            "_model_module_version": "1.5.0",
            "_view_count": null,
            "_view_module_version": "1.2.0",
            "_model_module": "@jupyter-widgets/controls"
          }
        },
        "c7dbbaad535643409f885b9f3bf838b7": {
          "model_module": "@jupyter-widgets/base",
          "model_name": "LayoutModel",
          "state": {
            "_view_name": "LayoutView",
            "grid_template_rows": null,
            "right": null,
            "justify_content": null,
            "_view_module": "@jupyter-widgets/base",
            "overflow": null,
            "_model_module_version": "1.2.0",
            "_view_count": null,
            "flex_flow": null,
            "width": null,
            "min_width": null,
            "border": null,
            "align_items": null,
            "bottom": null,
            "_model_module": "@jupyter-widgets/base",
            "top": null,
            "grid_column": null,
            "overflow_y": null,
            "overflow_x": null,
            "grid_auto_flow": null,
            "grid_area": null,
            "grid_template_columns": null,
            "flex": null,
            "_model_name": "LayoutModel",
            "justify_items": null,
            "grid_row": null,
            "max_height": null,
            "align_content": null,
            "visibility": null,
            "align_self": null,
            "height": null,
            "min_height": null,
            "padding": null,
            "grid_auto_rows": null,
            "grid_gap": null,
            "max_width": null,
            "order": null,
            "_view_module_version": "1.2.0",
            "grid_template_areas": null,
            "object_position": null,
            "object_fit": null,
            "grid_auto_columns": null,
            "margin": null,
            "display": null,
            "left": null
          }
        },
        "c23155a280524944bedc17340f4836f2": {
          "model_module": "@jupyter-widgets/controls",
          "model_name": "HBoxModel",
          "state": {
            "_view_name": "HBoxView",
            "_dom_classes": [],
            "_model_name": "HBoxModel",
            "_view_module": "@jupyter-widgets/controls",
            "_model_module_version": "1.5.0",
            "_view_count": null,
            "_view_module_version": "1.5.0",
            "box_style": "",
            "layout": "IPY_MODEL_726a87fd5d4d49b8b63c9c27ea2478f1",
            "_model_module": "@jupyter-widgets/controls",
            "children": [
              "IPY_MODEL_f26b341dc0134ef08deeed0bd7611991",
              "IPY_MODEL_beb87ee90d7543ad842ad18d82b870d5"
            ]
          }
        },
        "726a87fd5d4d49b8b63c9c27ea2478f1": {
          "model_module": "@jupyter-widgets/base",
          "model_name": "LayoutModel",
          "state": {
            "_view_name": "LayoutView",
            "grid_template_rows": null,
            "right": null,
            "justify_content": null,
            "_view_module": "@jupyter-widgets/base",
            "overflow": null,
            "_model_module_version": "1.2.0",
            "_view_count": null,
            "flex_flow": null,
            "width": null,
            "min_width": null,
            "border": null,
            "align_items": null,
            "bottom": null,
            "_model_module": "@jupyter-widgets/base",
            "top": null,
            "grid_column": null,
            "overflow_y": null,
            "overflow_x": null,
            "grid_auto_flow": null,
            "grid_area": null,
            "grid_template_columns": null,
            "flex": null,
            "_model_name": "LayoutModel",
            "justify_items": null,
            "grid_row": null,
            "max_height": null,
            "align_content": null,
            "visibility": null,
            "align_self": null,
            "height": null,
            "min_height": null,
            "padding": null,
            "grid_auto_rows": null,
            "grid_gap": null,
            "max_width": null,
            "order": null,
            "_view_module_version": "1.2.0",
            "grid_template_areas": null,
            "object_position": null,
            "object_fit": null,
            "grid_auto_columns": null,
            "margin": null,
            "display": null,
            "left": null
          }
        },
        "f26b341dc0134ef08deeed0bd7611991": {
          "model_module": "@jupyter-widgets/controls",
          "model_name": "FloatProgressModel",
          "state": {
            "_view_name": "ProgressView",
            "style": "IPY_MODEL_3f5645ecf65f46e5808cdae17737745d",
            "_dom_classes": [],
            "description": "100%",
            "_model_name": "FloatProgressModel",
            "bar_style": "success",
            "max": 4,
            "_view_module": "@jupyter-widgets/controls",
            "_model_module_version": "1.5.0",
            "value": 4,
            "_view_count": null,
            "_view_module_version": "1.5.0",
            "orientation": "horizontal",
            "min": 0,
            "description_tooltip": null,
            "_model_module": "@jupyter-widgets/controls",
            "layout": "IPY_MODEL_6e5ebfa77c9b4f299aa915d0c0e4837b"
          }
        },
        "beb87ee90d7543ad842ad18d82b870d5": {
          "model_module": "@jupyter-widgets/controls",
          "model_name": "HTMLModel",
          "state": {
            "_view_name": "HTMLView",
            "style": "IPY_MODEL_07673c90cff64a98bef2554a5bb9f060",
            "_dom_classes": [],
            "description": "",
            "_model_name": "HTMLModel",
            "placeholder": "​",
            "_view_module": "@jupyter-widgets/controls",
            "_model_module_version": "1.5.0",
            "value": " 4/4 [00:00&lt;00:00,  4.01it/s]",
            "_view_count": null,
            "_view_module_version": "1.5.0",
            "description_tooltip": null,
            "_model_module": "@jupyter-widgets/controls",
            "layout": "IPY_MODEL_2a03e338ca3b4d62a5159d3d10f98751"
          }
        },
        "3f5645ecf65f46e5808cdae17737745d": {
          "model_module": "@jupyter-widgets/controls",
          "model_name": "ProgressStyleModel",
          "state": {
            "_view_name": "StyleView",
            "_model_name": "ProgressStyleModel",
            "description_width": "initial",
            "_view_module": "@jupyter-widgets/base",
            "_model_module_version": "1.5.0",
            "_view_count": null,
            "_view_module_version": "1.2.0",
            "bar_color": null,
            "_model_module": "@jupyter-widgets/controls"
          }
        },
        "6e5ebfa77c9b4f299aa915d0c0e4837b": {
          "model_module": "@jupyter-widgets/base",
          "model_name": "LayoutModel",
          "state": {
            "_view_name": "LayoutView",
            "grid_template_rows": null,
            "right": null,
            "justify_content": null,
            "_view_module": "@jupyter-widgets/base",
            "overflow": null,
            "_model_module_version": "1.2.0",
            "_view_count": null,
            "flex_flow": null,
            "width": null,
            "min_width": null,
            "border": null,
            "align_items": null,
            "bottom": null,
            "_model_module": "@jupyter-widgets/base",
            "top": null,
            "grid_column": null,
            "overflow_y": null,
            "overflow_x": null,
            "grid_auto_flow": null,
            "grid_area": null,
            "grid_template_columns": null,
            "flex": null,
            "_model_name": "LayoutModel",
            "justify_items": null,
            "grid_row": null,
            "max_height": null,
            "align_content": null,
            "visibility": null,
            "align_self": null,
            "height": null,
            "min_height": null,
            "padding": null,
            "grid_auto_rows": null,
            "grid_gap": null,
            "max_width": null,
            "order": null,
            "_view_module_version": "1.2.0",
            "grid_template_areas": null,
            "object_position": null,
            "object_fit": null,
            "grid_auto_columns": null,
            "margin": null,
            "display": null,
            "left": null
          }
        },
        "07673c90cff64a98bef2554a5bb9f060": {
          "model_module": "@jupyter-widgets/controls",
          "model_name": "DescriptionStyleModel",
          "state": {
            "_view_name": "StyleView",
            "_model_name": "DescriptionStyleModel",
            "description_width": "",
            "_view_module": "@jupyter-widgets/base",
            "_model_module_version": "1.5.0",
            "_view_count": null,
            "_view_module_version": "1.2.0",
            "_model_module": "@jupyter-widgets/controls"
          }
        },
        "2a03e338ca3b4d62a5159d3d10f98751": {
          "model_module": "@jupyter-widgets/base",
          "model_name": "LayoutModel",
          "state": {
            "_view_name": "LayoutView",
            "grid_template_rows": null,
            "right": null,
            "justify_content": null,
            "_view_module": "@jupyter-widgets/base",
            "overflow": null,
            "_model_module_version": "1.2.0",
            "_view_count": null,
            "flex_flow": null,
            "width": null,
            "min_width": null,
            "border": null,
            "align_items": null,
            "bottom": null,
            "_model_module": "@jupyter-widgets/base",
            "top": null,
            "grid_column": null,
            "overflow_y": null,
            "overflow_x": null,
            "grid_auto_flow": null,
            "grid_area": null,
            "grid_template_columns": null,
            "flex": null,
            "_model_name": "LayoutModel",
            "justify_items": null,
            "grid_row": null,
            "max_height": null,
            "align_content": null,
            "visibility": null,
            "align_self": null,
            "height": null,
            "min_height": null,
            "padding": null,
            "grid_auto_rows": null,
            "grid_gap": null,
            "max_width": null,
            "order": null,
            "_view_module_version": "1.2.0",
            "grid_template_areas": null,
            "object_position": null,
            "object_fit": null,
            "grid_auto_columns": null,
            "margin": null,
            "display": null,
            "left": null
          }
        }
      }
    }
  },
  "cells": [
    {
      "cell_type": "markdown",
      "metadata": {
        "id": "I2QxPr0zHN8b"
      },
      "source": [
        "# Links to all the seperate and intermediate Colabs we worked on:\n",
        "\n",
        "Please note that this Colab is where we got the final results of our model. Listed below are different iterations of the project, often belonging to different members so we could work without fear of overwriting someone else's code\n",
        "\n",
        "Original Copy: https://colab.research.google.com/drive/1ZigJotxvsW9PB5rBPzMkKf2zgKZQ3xRS?usp=sharing\n",
        "\n",
        "\n",
        "\n",
        "Confusion Matrix Attempts:\n",
        "1. [confusion_matrix](https://colab.research.google.com/drive/1dyzve5omMu0z05ylIzUuqNfRQQOLdSdP?usp=sharing)\n",
        "2. [confusion_matrix_v2](https://colab.research.google.com/drive/10xtEU9OWV4V5ARnAIL75p2N-eDJ07MAa?usp=sharing)\n",
        "\n",
        "Training:\n",
        "1. [training_platform_1](https://colab.research.google.com/drive/1UqNYchU-WtCItR06Odtc68ZmOIoDif6x?usp=sharing) \n",
        "2. [training_platform_2_with_demo_attempts](https://colab.research.google.com/drive/1Ht8lEn0LUjNCH7vXSEBHNEBv9Z_03zN9?usp=sharing)\n",
        "3. [training_platform_3_with_demo_attempts](https://colab.research.google.com/drive/1LPYdVwDYMMyHdW7JO4lVIomnlIuYj2Yt?usp=sharing)\n",
        "4. [training_platform_4_with_demo](https://colab.research.google.com/drive/1-GtvVTXlmVwweYL67oiNfM1NmKPQDvxr)\n",
        "5. [main_colab_before_final](https://colab.research.google.com/drive/1A15lj46BAJ1R2PO6wJuPJjz71n19BqeA) \n",
        "\n",
        "Other:\n",
        "1. [BERT_attempt](https://colab.research.google.com/drive/1duhbaONWsy8S1nsYFCpxMgKIL7w6J54G?usp=sharing) \n",
        "2. [CNN_attempt](https://colab.research.google.com/drive/1LN0778TrNOW7gu_AwL1rgBEe93a0dypV#scrollTo=KiIPVoSSKVYU)"
      ]
    },
    {
      "cell_type": "markdown",
      "metadata": {
        "id": "_XzreH-x2eFz"
      },
      "source": [
        "References:\n",
        "\n",
        "[Medium Sentiment Analysis Tutorial](https://medium.com/@sonicboom8/sentiment-analysis-torchtext-55fb57b1fab8)\n",
        "\n",
        "[Medium Sentiment Analysis Tutorial Code](https://gist.github.com/SETIADEEPANSHU/78affffb4f82c3d2a5965a1c294b5211)\n",
        "\n",
        "[Explaination on tqdm progress bars in python](https://stackoverflow.com/questions/42212810/tqdm-in-jupyter-notebook-prints-new-progress-bars-repeatedly)\n",
        "\n"
      ]
    },
    {
      "cell_type": "code",
      "metadata": {
        "colab": {
          "base_uri": "https://localhost:8080/"
        },
        "id": "iiQ0szhiLao2",
        "outputId": "0a2536b2-7e22-4202-f7b2-704841560521"
      },
      "source": [
        "# mount drive\n",
        "# NOTE: all users should have the path below and must mount this drive\n",
        "\n",
        "from google.colab import drive\n",
        "drive.mount('/content/drive')"
      ],
      "execution_count": null,
      "outputs": [
        {
          "output_type": "stream",
          "text": [
            "Drive already mounted at /content/drive; to attempt to forcibly remount, call drive.mount(\"/content/drive\", force_remount=True).\n"
          ],
          "name": "stdout"
        }
      ]
    },
    {
      "cell_type": "markdown",
      "metadata": {
        "id": "K4f4FJ1TDqkK"
      },
      "source": [
        "# Loading"
      ]
    },
    {
      "cell_type": "markdown",
      "metadata": {
        "id": "p5p-9Ol3RINr"
      },
      "source": [
        " ## Load data and create torchtext dataset"
      ]
    },
    {
      "cell_type": "markdown",
      "metadata": {
        "id": "z3XvFQuCO8I1"
      },
      "source": [
        "Load in our dataset. This step will take 1-3 mins."
      ]
    },
    {
      "cell_type": "code",
      "metadata": {
        "id": "-D5doSBOJr0X"
      },
      "source": [
        "import torchtext\n",
        "from torchtext.legacy import data\n",
        "import  spacy\n",
        "import re # RegEx, or Regular Expression, is a sequence of characters that forms a search pattern.\n",
        "\n",
        "# tokenizer function using spacy\n",
        "nlp = spacy.load('en',disable=['parser', 'tagger', 'ner'])\n",
        "\n",
        "def tokenizer(s): \n",
        "    return [w.text.lower() for w in nlp(text_clean(s))]\n",
        "\n",
        "def text_clean(text):\n",
        "    text = re.sub(r'[^A-Za-z0-9]+', ' ', text) # remove non alphanumeric character\n",
        "    text = re.sub(r'https?:/\\/\\S+', ' ', text) # remove links\n",
        "    return text.strip()\n",
        "\n",
        "\n",
        "# define the columns that we want to process and how to process\n",
        "text_field = data.Field(sequential=True, \n",
        "                       tokenize=tokenizer,  \n",
        "                       include_lengths=True, \n",
        "                       use_vocab=True)\n",
        "label_field = data.Field(sequential=False, \n",
        "                         use_vocab=False, \n",
        "                         pad_token=None, \n",
        "                         unk_token=None)\n",
        "\n",
        "\n",
        "# train_val_fields = [\n",
        "#     ('ItemID', None), # we dont need this, so no processing\n",
        "#     ('Sentiment', label_field), # process it as label\n",
        "#     ('SentimentSource', None), # we dont need this, so no processing\n",
        "#     ('SentimentText', txt_field) # process it as text\n",
        "# ]\n",
        "\n",
        "fields = [\n",
        "        ('title', None), \n",
        "        ('text', text_field), \n",
        "        ('label', label_field)]\n",
        "\n",
        "# trainds, valds = data.TabularDataset. \n",
        "#                                             skip_header=True)\n",
        "\n",
        "\n",
        "\n",
        "\n"
      ],
      "execution_count": null,
      "outputs": []
    },
    {
      "cell_type": "code",
      "metadata": {
        "id": "JOZKu1Gw7Yhw"
      },
      "source": [
        "dataset = torchtext.legacy.data.TabularDataset(\"/content/drive/MyDrive/APS360_group/df_4000_kaggle_small.csv\", # name of the file\n",
        "                                        \"csv\",              #format of the files that will be loaded and processed   \n",
        "                                        fields,             #Tell torchtext how the coming data will be processed\n",
        "                                        skip_header=True)  # skip first line \n",
        "\n",
        "\n"
      ],
      "execution_count": null,
      "outputs": []
    },
    {
      "cell_type": "code",
      "metadata": {
        "colab": {
          "base_uri": "https://localhost:8080/"
        },
        "id": "c8SApK01g3Q7",
        "outputId": "ee86f094-9abc-49c4-eee1-30ffbd95f77e"
      },
      "source": [
        "print(len(dataset))\n"
      ],
      "execution_count": null,
      "outputs": [
        {
          "output_type": "stream",
          "text": [
            "4009\n"
          ],
          "name": "stdout"
        }
      ]
    },
    {
      "cell_type": "code",
      "metadata": {
        "colab": {
          "base_uri": "https://localhost:8080/"
        },
        "id": "j_Am1WUmcG_i",
        "outputId": "9f276eee-1fea-471b-a525-505ff440313d"
      },
      "source": [
        "dataset[1].label == '1'"
      ],
      "execution_count": null,
      "outputs": [
        {
          "output_type": "execute_result",
          "data": {
            "text/plain": [
              "False"
            ]
          },
          "metadata": {
            "tags": []
          },
          "execution_count": 30
        }
      ]
    },
    {
      "cell_type": "markdown",
      "metadata": {
        "id": "RoRoOuZMiVJr"
      },
      "source": [
        "Run once."
      ]
    },
    {
      "cell_type": "code",
      "metadata": {
        "colab": {
          "base_uri": "https://localhost:8080/"
        },
        "id": "JNkfGB_NDM2-",
        "outputId": "811281de-47bd-4a71-f58c-35337061ec7e"
      },
      "source": [
        "# remove empty sentences and rows with no labels!\n",
        "length = len(dataset)\n",
        "i = 0;\n",
        "while i < length:\n",
        "    if (dataset[i].label != '1' and dataset[i].label != '0') or dataset[i].text == '' or len(dataset[i].text) == 0 or len(dataset[i].label) ==0: \n",
        "        # print(\"empty label or text\")\n",
        "        # print(dataset[i].text)\n",
        "        # print(dataset[i].label)\n",
        "        del dataset.examples[i] \n",
        "        i =0;\n",
        "    else: \n",
        "        i +=1\n",
        "    length = len(dataset)\n",
        "\n",
        "\n",
        "print(len(dataset))\n",
        "# # just a check to make sure all invalid entries have been removes\n",
        "# for i in length:\n",
        "#     if (dataset[i].label != '1' and dataset[i].label != '0') or dataset[i].text == '': # \n",
        "#         print(\"empty label or text\")\n",
        "#         print(dataset[i].text)\n",
        "#         print(dataset[i].label) \n",
        "# dataset = [sentence for sentence in dataset if len(sentence) > 0]\n",
        "\n",
        "train, valid, test = dataset.split(split_ratio=[0.6,0.2,0.2])"
      ],
      "execution_count": null,
      "outputs": [
        {
          "output_type": "stream",
          "text": [
            "3988\n"
          ],
          "name": "stdout"
        }
      ]
    },
    {
      "cell_type": "code",
      "metadata": {
        "colab": {
          "base_uri": "https://localhost:8080/"
        },
        "id": "tkw_ZDsmrTrQ",
        "outputId": "e1b7ac7f-9ba9-4400-e2e1-6276e8fbc015"
      },
      "source": [
        "length = len(train)\n",
        "i =0\n",
        "while i < 10:\n",
        "    if i <10:\n",
        "        print(train[i].text)\n",
        "        print(train[i].label)\n",
        "        i +=1\n"
      ],
      "execution_count": null,
      "outputs": [
        {
          "output_type": "stream",
          "text": [
            "['washington', 'reuters', 'the', 'tax', 'overhaul', 'pushed', 'by', 'president', 'donald', 'trump', 'and', 'fellow', 'republicans', 'is', 'prompting', 'a', 'slew', 'of', 'attack', 'ads', 'by', 'democrats', 'and', 'progressive', 'groups', 'that', 'say', 'the', 'legislation', 'would', 'lavish', 'benefits', 'on', 'corporations', 'and', 'the', 'rich', 'while', 'harming', 'the', 'middle', 'class', 'one', 'ad', 'launched', 'on', 'tuesday', 'warns', 'that', 'the', 'republican', 'tax', 'plan', 'would', 'leave', 'maine', 'residents', 'lost', 'in', 'the', 'wilderness', 'as', 'it', 'pans', 'through', 'a', 'dark', 'deserted', 'forest', 'the', 'television', 'spot', 'paid', 'for', 'by', 'the', 'group', 'not', 'one', 'penny', 'urges', 'the', 'state', 's', 'republican', 'senator', 'susan', 'collins', 'who', 'is', 'undecided', 'on', 'the', 'plan', 'and', 'whose', 'vote', 'could', 'help', 'decide', 'its', 'fate', 'in', 'the', 'senate', 'not', 'to', 'lose', 'her', 'way', 'another', 'not', 'one', 'penny', 'ad', 'in', 'nevada', 'where', 'republican', 'senator', 'dean', 'heller', 'faces', 'a', 'tough', 're', 'election', 'race', 'next', 'year', 'says', 'that', 'the', 'senate', 'plan', 'is', 'a', 'tax', 'break', 'for', 'billionaires', 'and', 'wealthy', 'corporations', 'paid', 'for', 'by', 'higher', 'taxes', 'on', 'every', 'day', 'nevadans', 'republicans', 'are', 'looking', 'to', 'pass', 'tax', 'legislation', 'within', 'the', 'next', 'few', 'weeks', 'groups', 'spending', 'millions', 'on', 'the', 'ads', 'are', 'aiming', 'to', 'sway', 'public', 'opinion', 'in', 'the', 'final', 'stretch', 'of', 'debate', 'over', 'the', 'legislation', 'which', 'would', 'cut', 'the', 'corporate', 'tax', 'rate', 'to', '20', 'percent', 'from', '35', 'percent', 'and', 'reduce', 'individual', 'income', 'tax', 'rates', 'liberals', 'see', 'criticism', 'of', 'the', 'tax', 'plan', 'as', 'a', 'potent', 'issue', 'for', 'the', '2018', 'u', 's', 'congressional', 'elections', 'when', 'all', '435', 'house', 'seats', 'are', 'up', 'for', 're', 'election', 'along', 'with', '33', 'in', 'the', 'senate', 'the', 'house', 'of', 'representatives', 'passed', 'its', 'tax', 'bill', 'last', 'week', 'the', 'senate', 'plans', 'to', 'vote', 'once', 'lawmakers', 'return', 'to', 'washington', 'after', 'this', 'week', 's', 'u', 's', 'thanksgiving', 'holiday', 'republicans', 'are', 'under', 'pressure', 'to', 'deliver', 'a', 'tax', 'bill', 'to', 'score', 'their', 'first', 'major', 'legislative', 'achievement', 'since', 'taking', 'control', 'of', 'the', 'white', 'house', 'and', 'both', 'chambers', 'of', 'congress', 'in', 'january', 'many', 'democratic', 'ads', 'focus', 'on', 'republicans', 'thought', 'to', 'be', 'vulnerable', 'in', 'the', '2018', 'elections', 'others', 'target', 'republicans', 'such', 'as', 'collins', 'in', 'the', 'senate', 'where', 'republicans', 'have', 'a', 'slim', '52', '48', 'majority', 'and', 'can', 'afford', 'to', 'lose', 'just', 'two', 'republican', 'votes', 'and', 'still', 'pass', 'a', 'tax', 'bill', 'with', 'democrats', 'united', 'in', 'opposition', 'republicans', 'say', 'their', 'tax', 'plans', 'would', 'provide', 'across', 'the', 'board', 'cuts', 'for', 'both', 'businesses', 'and', 'middle', 'class', 'workers', 'along', 'with', 'tax', 'code', 'simplifications', 'that', 'would', 'make', 'it', 'easier', 'for', 'individual', 'taxpayers', 'to', 'file', 'republican', 'tax', 'writers', 'contend', 'their', 'plan', 'would', 'mean', 'a', 'typical', 'family', 'of', 'four', 'would', 'see', 'their', 'tax', 'bill', 'drop', 'by', 'nearly', '60', 'percent', 'but', 'democrats', 'say', 'republicans', 'have', 'used', 'as', 'a', 'model', 'a', 'family', 'with', 'a', 'specific', 'set', 'of', 'tax', 'circumstances', 'and', 'that', 'other', 'families', 'at', 'similar', 'income', 'levels', 'could', 'end', 'up', 'paying', 'more', 'both', 'the', 'house', 'and', 'senate', 'plans', 'cut', 'individual', 'tax', 'rates', 'but', 'eliminate', 'popular', 'deductions', 'in', 'the', 'senate', 'plan', 'the', 'tax', 'rate', 'cut', 'for', 'individuals', 'is', 'temporary', 'while', 'the', 'corporate', 'rate', 'cut', 'is', 'permanent', 'the', 'senate', 'plan', 'would', 'repeal', 'a', 'key', 'provision', 'of', 'the', 'affordable', 'care', 'act', 'that', 'requires', 'individuals', 'to', 'pay', 'a', 'penalty', 'if', 'they', 'do', 'not', 'have', 'health', 'insurance', 'the', 'nonpartisan', 'joint', 'committee', 'on', 'taxation', 'has', 'estimated', 'that', 'the', 'senate', 'bill', 'would', 'beginning', 'in', '2021', 'lead', 'to', 'higher', 'tax', 'bills', 'on', 'average', 'for', 'households', 'earning', '10', '000', 'to', '30', '000', 'annually', 'by', '2027', 'most', 'taxpayers', 'earning', '75', '000', 'or', 'less', 'annually', 'would', 'be', 'paying', 'more', 'taxes', 'the', 'jct', 'said', 'democratic', 'advocacy', 'group', 'priorities', 'usa', 'on', 'tuesday', 'increased', 'to', '2', 'million', 'a', 'tax', 'related', 'digital', 'ad', 'campaign', 'targeting', 'voters', 'in', '20', 'house', 'districts', 'where', 'republicans', 'voted', 'for', 'the', 'house', 'bill', 'it', 'also', 'plans', 'ads', 'in', 'states', 'represented', 'by', 'senate', 'republicans', 'collins', 'maine', 'heller', 'nevada', 'john', 'mccain', 'arizona', 'bob', 'corker', 'tennessee', 'and', 'lisa', 'murkowski', 'alaska', 'the', 'democratic', 'congressional', 'campaign', 'committee', 'is', 'running', 'digital', 'ads', 'in', 'more', 'than', '40', 'republican', 'held', 'house', 'districts', 'the', 'group', 'save', 'my', 'care', 'is', 'running', 'digital', 'ads', 'in', 'the', 'districts', 'of', '14', 'house', 'republicans', 'who', 'voted', 'for', 'the', 'bill', 'and', 'in', 'alaska', 'arizona', 'and', 'maine', 'republican', 'and', 'conservative', 'groups', 'are', 'running', 'ads', 'of', 'their', 'own', 'the', 'national', 'republican', 'congressional', 'committee', 'started', 'running', 'spots', 'in', 'multiple', 'districts', 'last', 'week', 'promoting', 'the', 'tax', 'bill', 'america', 'first', 'policies', 'a', 'nonprofit', 'run', 'by', 'former', 'trump', 'campaign', 'advisers', 'is', 'spending', '135', '000', 'this', 'week', 'for', 'spots', 'on', 'conservative', 'radio', 'programs']\n",
            "1\n",
            "['during', 'an', 'on', 'interview', 'on', 'this', 'week', 'bernie', 'sanders', 'had', 'to', 'deal', 'with', 'some', 'seriously', 'weak', 'interview', 'questions', 'the', 'interviewer', 'martha', 'raddatz', 'brought', 'up', 'an', 'allegation', 'that', 'sanders', 'surging', 'campaign', 'has', 'been', 'unsettling', 'the', 'markets', 'that', 'accusation', 'is', 'as', 'ridiculous', 'as', 'it', 'sounds', 'here', 'is', 'how', 'the', 'interview', 'went', 'martha', 'raddatz', 'senator', 'sanders', 'you', 'said', 'something', 'to', 'your', 'supporters', 'yesterday', 'that', 'caught', 'my', 'ear', 'you', 'quoted', 'with', 'pride', 'a', 'wall', 'street', 'journal', 'article', 'calling', 'you', 'a', 'viable', 'candidate', 'saying', 'it', 'appears', 'that', 'we', 'are', 'making', 'wall', 'street', 'a', 'little', 'bit', 'nervous', 'and', 'that', 's', 'a', 'good', 'thing', 'the', 'article', 'was', 'quoting', 'blackstone', 'ceo', 'steve', 'schwarzman', 'who', 'said', 'the', 'markets', 'are', 'unsettled', 'because', 'of', 'you', 'a', 'slowdown', 'in', 'china', 'and', 'geopolitical', 'risks', 'you', 're', 'laughing', 'but', 'i', 'want', 'to', 'know', 'why', 'is', 'it', 'a', 'good', 'thing', 'that', 'the', 'markets', 'are', 'in', 'turmoil', 'people', 'have', 'their', 'pension', 'funds', 'in', 'the', 'market', 'lots', 'of', 'middle', 'class', 'people', 'have', 'their', '401', 'k', 's', 'invested', 'in', 'stocks', 'it', 's', 'not', 'just', 'wall', 'street', 'everybody', 'is', 'affected', 'by', 'this', 'bernie', 'sanders', 'the', 'reason', 'that', 'i', 'am', 'laughing', 'is', 'i', 'fully', 'admit', 'to', 'having', 'a', 'big', 'ego', 'like', 'many', 'other', 'politicians', 'but', 'the', 'idea', 'that', 'bernie', 'sanders', 'candidacy', 'because', 'it', 'has', 'growing', 'support', 'all', 'over', 'this', 'country', 'is', 'unsettling', 'world', 'markets', 'is', 'absolutely', 'absurd', 'the', 'point', 'i', 'was', 'making', 'is', 'we', 'are', 'getting', 'the', 'attention', 'of', 'wall', 'street', 'wall', 'street', 's', 'greed', 'and', 'recklessness', 'and', 'illegal', 'behavior', 'drove', 'this', 'economy', 'into', 'the', 'worst', 'recession', 'since', 'the', 'clutch', 'plague', 'millions', 'of', 'people', 'lost', 'their', 'homes', 'their', 'life', 'savings', 'and', 'their', 'jobs', 'and', 'yes', 'i', 'believe', 'that', 'we', 'have', 'to', 'break', 'up', 'the', 'major', 'financial', 'institutions', 'we', 'have', 'to', 'reestablish', 'glass', 'steagall', 'and', 'that', 'we', 'are', 'now', 'gaining', 'the', 'attention', 'of', 'wall', 'street', 'tells', 'me', 'that', 'our', 'campaign', 'is', 'doing', 'very', 'well', 'here', 's', 'the', 'interview', 'for', 'those', 'not', 'in', 'the', 'know', 'the', 'blackstone', 'group', 'is', 'one', 'of', 'the', 'largest', 'and', 'most', 'powerful', 'private', 'entities', 'on', 'the', 'planet', 'they', 'currently', 'manage', 'over', '300', 'billion', 'dollars', 'in', 'assists', 'stephen', 'schwarzman', 'currently', 'has', 'a', 'net', 'worth', 'of', '9', '8', 'billion', 'dollars', 'if', 'anyone', 'has', 'been', 'a', 'beneficiary', 'of', 'the', 'deregulation', 'of', 'wall', 'st', 'it', 's', 'schwarzman', 'it', 'isn', 't', 'surprising', 'that', 'he', 'the', 'wsj', 'who', 'notoriously', 'published', 'a', 'completely', 'debunked', 'hit', 'piece', 'on', 'sanders', 'and', 'the', 'mainstream', 'media', 'would', 'be', 'pushing', 'this', 'kind', 'of', 'nonsense', 'they', 'just', 'want', 'to', 'make', 'it', 'sound', 'like', 'sanders', 'is', 'coming', 'after', 'people', 's', '401', 'k', 's', 'etc', 'which', 'couldn', 't', 'be', 'further', 'from', 'the', 'truth', 'as', 'sanders', 'pointed', 'out', 'people', 'lost', 'everything', 'under', 'our', 'current', 'system', 'of', 'wall', 'street', 'take', 'all', 'finance', 'featured', 'image', 'credit', 'video', 'screenshot', 'via', 'youtube', 'h', 't', 'egberto', 'willies']\n",
            "0\n",
            "['well', 'they', 'say', 'all', 'good', 'things', 'must', 'come', 'to', 'an', 'end', 'and', 'for', 'republicans', 'it', 's', 'beginning', 'to', 'look', 'like', 'their', 'favorite', 'anti', 'hillary', 'clinton', 'talking', 'point', 'is', 'unraveling', 'right', 'before', 'their', 'eyes', 'it', 'seems', 'they', 'may', 'have', 'to', 'actually', 'focus', 'on', 'the', 'issues', 'instead', 'of', 'obsessing', 'over', 'a', 'manufactured', 'scandal', 'i', 'm', 'kidding', 'of', 'course', 'at', 'first', 'blush', 'a', 'new', 'nbc', 'news', 'report', 'seems', 'like', 'bad', 'news', 'for', 'clinton', 'and', 'her', 'campaign', 'journalists', 'seemed', 'to', 'confirm', 'that', 'her', 'emails', 'contained', 'references', 'to', 'cia', 'operatives', 'who', 'were', 'conducting', 'espionage', 'overseas', 'sounds', 'bad', 'right', 'right', 'wing', 'media', 'outlets', 'certainly', 'wanted', 'to', 'pretend', 'like', 'it', 'was', 'conservatives', 'gleefully', 'began', 'spreading', 'the', 'narrative', 'that', 'this', 'meant', 'clinton', 's', 'servers', 'could', 'have', 'led', 'to', 'american', 'cia', 'agents', 'getting', 'killed', 'newsmax', 'a', 'cheap', 'fox', 'news', 'knockoff', 'blared', 'u', 's', 'intelligence', 'officials', 'say', 'top', 'secret', 'emails', 'hillary', 'clinton', 'kept', 'on', 'her', 'private', 'email', 'server', 'when', 'she', 'headed', 'the', 'state', 'department', 'include', 'the', 'real', 'names', 'of', 'cia', 'spies', 'serving', 'undercover', 'overseas', 'a', 'violation', 'of', 'federal', 'law', 'that', 'has', 'put', 'the', 'agents', 'in', 'harm', 's', 'way', 'the', 'readers', 'of', 'newsmax', 'and', 'other', 'right', 'wing', 'sites', 'were', 'led', 'to', 'believe', 'hillary', 's', 'arrest', 'was', 'only', 'moments', 'away', 'nope', 'not', 'even', 'close', 'the', 'nbc', 'news', 'investigation', 'found', 'that', 'this', 'was', 'a', 'case', 'of', 'more', 'smoke', 'than', 'fire', 'and', 'quite', 'a', 'bit', 'of', 'wishful', 'thinking', 'on', 'the', 'part', 'of', 'conservatives', 'here', 's', 'what', 'they', 'found', 'instead', 'emphasis', 'added', 'but', 'contrary', 'to', 'some', 'published', 'reports', 'three', 'officials', 'said', 'there', 'was', 'no', 'email', 'on', 'clinton', 's', 'server', 'that', 'directly', 'revealed', 'the', 'identity', 'of', 'an', 'undercover', 'intelligence', 'operative', 'rather', 'they', 'said', 'state', 'department', 'and', 'other', 'officials', 'attempted', 'to', 'make', 'veiled', 'references', 'to', 'intelligence', 'officers', 'in', 'the', 'emails', 'references', 'that', 'were', 'deemed', 'classified', 'when', 'the', 'messages', 'were', 'being', 'reviewed', 'years', 'later', 'for', 'public', 'release', 'catch', 'the', 'differences', 'there', 'were', 'absolutely', 'no', 'direct', 'references', 'to', 'the', 'identities', 'of', 'undercover', 'operatives', 'no', 'names', 'or', 'distinguishing', 'characteristics', 'no', 'way', 'to', 'know', 'who', 'the', 'emails', 'were', 'referring', 'to', 'if', 'a', 'terrorist', 'were', 'to', 'find', 'these', 'emails', 'they', 'would', 'be', 'spectacularly', 'unhelpful', 'making', 'matters', 'even', 'stronger', 'for', 'clinton', 's', 'case', 'the', 'emails', 'were', 'only', 'deemed', 'classified', 'years', 'later', 'at', 'the', 'time', 'she', 'had', 'them', 'they', 'were', 'considered', 'mundane', 'this', 'falls', 'in', 'line', 'with', 'what', 'clinton', 'has', 'been', 'saying', 'all', 'along', 'she', 'admits', 'that', 'having', 'the', 'server', 'at', 'her', 'house', 'was', 'a', 'mistake', 'but', 'it', 'was', 'never', 'a', 'criminal', 'act', 'and', 'it', 'ultimately', 'put', 'zero', 'cia', 'agents', 'at', 'risk', 'of', 'any', 'danger', 'the', 'republican', 'charges', 'to', 'the', 'contrary', 'are', 'evaporating', 'under', 'scrutiny', 'if', 'this', 'is', 'all', 'they', 'have', 'against', 'her', 'should', 'she', 'receive', 'the', 'democratic', 'nomination', 'they', 'are', 'without', 'doubt', 'utterly', 'screwed', 'feature', 'image', 'from', 'flickr']\n",
            "0\n",
            "['donald', 'trump', 'just', 'got', 'caught', 'lying', 'about', 'one', 'of', 'his', 'biggest', 'claims', 'as', 'the', 'south', 'carolina', 'primary', 'approaches', 'throughout', 'his', 'campaign', 'trump', 'has', 'hammered', 'jeb', 'bush', 'over', 'his', 'brother', 'george', 'w', 'bush', 's', 'terrible', 'decision', 'to', 'go', 'to', 'war', 'with', 'iraq', 'a', 'war', 'that', 'cost', 'america', 'trillions', 'of', 'dollars', 'and', 'thousands', 'of', 'lives', 'he', 'has', 'even', 'claimed', 'to', 'be', 'the', 'only', 'candidate', 'in', 'the', 'gop', 'field', 'who', 'opposed', 'the', 'war', 'before', 'we', 'invaded', 'and', 'he', 'did', 'so', 'again', 'during', 'the', 'gop', 'debate', 'on', 'saturday', 'night', 'i', 'm', 'the', 'only', 'one', 'on', 'this', 'stage', 'that', 'said', 'do', 'not', 'go', 'into', 'iraq', 'do', 'not', 'attack', 'iraq', 'trump', 'declared', 'nobody', 'else', 'on', 'this', 'stage', 'said', 'that', 'and', 'i', 'said', 'it', 'loud', 'and', 'strong', 'and', 'i', 'was', 'in', 'the', 'private', 'sector', 'i', 'wasn', 't', 'a', 'politician', 'fortunately', 'but', 'i', 'said', 'it', 'and', 'i', 'said', 'it', 'loud', 'and', 'clear', 'you', 'll', 'destabilize', 'the', 'middle', 'east', 'that', 's', 'exactly', 'what', 'happened', 'trump', 'repeated', 'himself', 'again', 'on', 'thursday', 'night', 'during', 'the', 'gop', 'town', 'hall', 'event', 'even', 'going', 'so', 'far', 'as', 'to', 'say', 'that', 'george', 'h', 'w', 'bush', 'dealt', 'with', 'iraq', 'the', 'right', 'way', 'when', 'we', 'went', 'to', 'war', 'against', 'saddam', 'hussein', 'in', 'order', 'to', 'protect', 'kuwait', 'in', '1992', 'up', 'to', 'this', 'point', 'trump', 's', 'claims', 'had', 'gone', 'unchallenged', 'but', 'now', 'an', 'audio', 'recording', 'has', 'popped', 'up', 'of', 'a', 'trump', 'interview', 'with', 'howard', 'stern', 'that', 'blows', 'both', 'of', 'trump', 's', 'claims', 'about', 'both', 'wars', 'in', 'iraq', 'out', 'of', 'the', 'water', 'as', 'it', 'turns', 'out', 'trump', 'not', 'only', 'lied', 'about', 'his', 'opposition', 'to', 'the', 'iraq', 'invasion', 'in', '2003', 'he', 'lied', 'about', 'believing', 'that', 'operation', 'desert', 'storm', 'was', 'handled', 'correctly', 'are', 'you', 'for', 'invading', 'iraq', 'stern', 'asked', 'trump', 'point', 'blank', 'back', 'in', '2002', 'a', 'year', 'before', 'the', 'first', 'troops', 'set', 'foot', 'in', 'iraq', 'trump', 'yeah', 'i', 'guess', 'so', 'i', 'wish', 'the', 'first', 'time', 'it', 'was', 'done', 'correctly', 'here', 's', 'the', 'damning', 'audio', 'via', 'buzzfeed', 'and', 'when', 'anderson', 'cooper', 'asked', 'trump', 'about', 'the', 'stern', 'interview', 'on', 'thursday', 'here', 'is', 'what', 'trump', 'had', 'to', 'say', 'i', 'could', 'have', 'said', 'that', 'nobody', 'asked', 'me', 'that', 'i', 'wasn', 't', 'a', 'politician', 'it', 'was', 'probably', 'the', 'first', 'time', 'anyone', 'has', 'asked', 'me', 'that', 'question', 'when', 'you', 're', 'in', 'the', 'private', 'sector', 'you', 'get', 'asked', 'things', 'and', 'you', 're', 'not', 'a', 'politician', 'and', 'probably', 'the', 'first', 'time', 'i', 'was', 'asked', 'by', 'the', 'time', 'the', 'war', 'started', 'i', 'was', 'against', 'it', 'and', 'shortly', 'thereafter', 'i', 'was', 'really', 'against', 'note', 'to', 'donald', 'it', 'doesn', 't', 'matter', 'if', 'you', 'were', 'a', 'politician', 'or', 'not', 'a', 'lie', 'is', 'a', 'lie', 'and', 'your', 'time', 'in', 'the', 'private', 'sector', 'does', 'not', 'exempt', 'you', 'from', 'being', 'called', 'out', 'for', 'it', 'nor', 'does', 'it', 'excuse', 'it', 'featured', 'image', 'flickr']\n",
            "0\n",
            "['vice', 'president', 'joe', 'biden', 'has', 'nothing', 'but', 'glowing', 'praise', 'for', 'democratic', 'presidential', 'candidate', 'bernie', 'sanders', 'biden', 'who', 'contemplated', 'a', 'run', 'for', 'the', 'presidency', 'but', 'decided', 'to', 'opt', 'out', 'said', 'of', 'sanders', 'bernie', 'is', 'speaking', 'to', 'a', 'yearning', 'that', 'is', 'deep', 'and', 'real', 'and', 'he', 'has', 'credibility', 'on', 'it', 'and', 'that', 'is', 'the', 'absolute', 'enormous', 'concentration', 'of', 'wealth', 'of', 'a', 'small', 'group', 'of', 'people', 'with', 'a', 'middle', 'class', 'now', 'being', 'left', 'out', 'youtube', 'https', 'www', 'youtube', 'com', 'watch', 'v', 'gkffh2m8rac', 'biden', 'was', 'referring', 'to', 'sanders', 'consistent', 'record', 'of', 'speaking', 'out', 'on', 'and', 'pushing', 'initiatives', 'about', 'income', 'inequality', 'throughout', 'his', 'career', 'sanders', 'has', 'made', 'the', 'issue', 'a', 'central', 'theme', 'of', 'his', 'campaign', 'biden', 'also', 'believes', 'the', 'issue', 'of', 'income', 'inequality', 'is', 'of', 'vital', 'importance', 'to', 'the', 'country', 'he', 'said', 'there', 'used', 'to', 'be', 'a', 'basic', 'bargain', 'if', 'you', 'contributed', 'to', 'the', 'profitability', 'of', 'an', 'enterprise', 'you', 'share', 'in', 'that', 'profit', 'and', 'that', 's', 'been', 'broken', 'productivity', 'is', 'up', 'and', 'wages', 'are', 'stagnant', 'sanders', 'strength', 'is', 'with', 'young', 'voters', 'with', 'polls', 'showing', 'that', 'he', 'leads', 'in', 'double', 'digits', 'in', 'that', 'demographic', 'many', 'millennials', 'for', 'example', 'have', 'enormous', 'college', 'debt', 'and', 'they', 'continue', 'to', 'have', 'a', 'tough', 'time', 'in', 'the', 'job', 'market', 'kei', 'kawashima', 'ginsberg', 'director', 'of', 'the', 'center', 'for', 'information', 'and', 'research', 'on', 'civic', 'learning', 'and', 'engagement', 'an', 'organization', 'that', 'encourages', 'young', 'people', 'to', 'get', 'involved', 'in', 'politics', 'said', 'part', 'of', 'it', 'is', 'really', 'sort', 'of', 'the', 'age', 'that', 'they', 'grew', 'up', 'in', 'if', 'you', 'think', 'about', 'the', 'millennials', 'that', 'age', 'group', 'they', 'turned', '18', 'as', 'president', 'george', 'w', 'bush', 'took', 'office', 'that', 's', 'the', 'world', 'they', 'grew', 'up', 'in', 'their', 'country', 'is', 'at', 'war', 'it', 'seemed', 'to', 'have', 'lost', 'purpose', 'and', 'then', 'as', 'they', 'were', 'graduating', 'from', 'college', 'the', 'recession', 'hit', 'so', 'the', 'social', 'contrast', 'that', 'people', 'generally', 'have', 'that', 'you', 'invest', 'in', 'your', 'education', 'and', 'you', 'get', 'paid', 'off', 'was', 'a', 'myth', 'for', 'them', 'one', 'thing', 'is', 'his', 'genuineness', 'he', 's', 'been', 'consistent', 'warrior', 'against', 'economic', 'inequality', 'since', 'the', '60s', 'and', 'he', 'hasn', 't', 'changed', 'a', 'bit', 'although', 'biden', 'has', 'not', 'officially', 'made', 'an', 'endorsement', 'he', 'did', 'meet', 'with', 'sanders', 'last', 'october', 'to', 'discuss', 'campaign', 'finance', 'reform', 'bernie', 'sanders', 'campaign', 'is', 'moving', 'in', 'the', 'right', 'direction', 'gaining', 'momentum', 'at', 'the', 'right', 'time', 'more', 'than', 'any', 'other', 'candidate', 'despite', 'the', 'fact', 'that', 'the', 'media', 'has', 'not', 'paid', 'attention', 'to', 'him', 'if', 'the', 'current', 'polls', 'are', 'indicative', 'of', 'things', 'to', 'come', 'the', 'republicans', 'better', 'look', 'out', 'polls', 'show', 'him', 'trouncing', 'all', 'republican', 'candidates', 'including', 'donald', 'trump', 'by', 'a', 'wide', 'margin', 'featured', 'image', 'marc', 'nozell', 'flickr']\n",
            "0\n",
            "['washington', 'reuters', 'the', 'latest', 'attempt', 'to', 'overhaul', 'the', 'u', 's', 'federal', 'flood', 'insurance', 'program', 'hit', 'a', 'stumbling', 'block', 'but', 'a', 'coalition', 'of', 'business', 'and', 'environmental', 'groups', 'renewed', 'their', 'push', 'on', 'wednesday', 'for', 'lawmakers', 'to', 'enact', 'an', 'overhaul', 'before', 'the', 'program', 'expires', 'on', 'dec', '8', 'the', 'smartersafer', 'coalition', 'sent', 'a', 'letter', 'to', 'members', 'of', 'the', 'u', 's', 'house', 'urging', 'passage', 'of', 'the', 'compromise', 'legislation', 'that', 'would', 'extend', 'to', '2022', 'the', 'federal', 'program', 'that', 'has', 'been', 'heavily', 'utilized', 'after', 'vast', 'flooding', 'from', 'hurricanes', 'harvey', 'and', 'irma', 'this', 'legislative', 'package', 'moves', 'the', 'flood', 'program', 'in', 'the', 'right', 'direction', 'and', 'contains', 'needed', 'reforms', 'that', 'will', 'better', 'protect', 'those', 'in', 'harm', 's', 'way', 'the', 'environment', 'and', 'taxpayers', 'the', 'letter', 'states', 'according', 'to', 'a', 'copy', 'seen', 'by', 'reuters', 'the', 'hurdle', 'came', 'with', 'the', 'house', 'rules', 'committee', 'indefinitely', 'postponed', 'a', 'hearing', 'on', 'the', 'bill', 'that', 'was', 'scheduled', 'for', 'tuesday', 'night', 'clearly', 'they', 're', 'trying', 'to', 'make', 'sure', 'they', 've', 'got', 'all', 'their', 'ducks', 'in', 'a', 'row', 'and', 'they', 've', 'got', 'all', 'the', 'votes', 'they', 'need', 'said', 'steve', 'ellis', 'with', 'the', 'conservative', 'group', 'taxpayers', 'for', 'common', 'sense', 'which', 'is', 'part', 'of', 'a', 'coalition', 'pushing', 'for', 'reform', 'of', 'the', 'program', 'joshua', 'saks', 'the', 'legislative', 'director', 'of', 'the', 'national', 'wildlife', 'federation', 'said', 'one', 'of', 'the', 'shortcomings', 'of', 'the', 'compromise', 'is', 'that', 'it', 'does', 'not', 'ensure', 'that', 'the', 'money', 'for', 'flood', 'mitigation', 'projects', 'will', 'ever', 'be', 'spent', 'we', 'need', 'an', 'apollo', 'project', 'of', 'mitigation', 'right', 'now', 'we', 'need', 'billions', 'right', 'now', 'up', 'front', 'saks', 'said', 'referring', 'to', 'the', 'project', 'that', 'put', 'a', 'man', 'on', 'the', 'moon', 'two', 'prominent', 'republican', 'members', 'of', 'the', 'u', 's', 'house', 'announced', 'last', 'week', 'they', 'had', 'struck', 'a', 'deal', 'that', 'would', 'extend', 'the', 'life', 'of', 'the', 'program', 'that', 'covers', 'most', 'of', 'the', 'nation', 's', 'flood', 'prone', 'properties', 'house', 'majority', 'whip', 'steve', 'scalise', 'of', 'louisiana', 'and', 'house', 'financial', 'services', 'committee', 'chairman', 'jeb', 'hensarling', 'of', 'texas', 'brokered', 'the', 'compromise', 'and', 'said', 'the', 'deal', 'helps', 'policy', 'holders', 'and', 'taxpayers', 'last', 'month', 'president', 'donald', 'trump', 'signed', 'a', '36', '5', 'billion', 'disaster', 'relief', 'bill', 'including', '16', 'billion', 'in', 'forgiveness', 'of', 'some', 'debt', 'in', 'the', 'national', 'flood', 'insurance', 'program', 'which', 'insures', 'about', '5', 'million', 'homes', 'and', 'businesses']\n",
            "1\n",
            "['paul', 'krugman', 'by', 'his', 'own', 'admission', 'has', 'been', 'drooling', 'over', 'the', 'release', 'of', 'the', 'irs', 's', '2013', 'tax', 'tables', 'if', 'you', 're', 'still', 'awake', 'after', 'reading', 'that', 'sentence', 'congratulations', 'you', 'have', 'the', 'stamina', 'of', 'a', 'bull', 'but', 'seriously', 'while', 'tax', 'codes', 'and', 'forms', 'and', 'statistics', 'and', 'charts', 'and', 'zzzzzzzz', 'may', 'be', 'boring', 'as', 'all', 'hell', 'to', 'you', 'and', 'me', 'they', 're', 'still', 'useful', 'specifically', 'they', 're', 'useful', 'in', 'determining', 'the', 'impact', 'of', 'obama', 's', 'nazi', 'socialist', 'commie', 'homosexual', 'muslim', 'agenda', 'on', 'america', 'and', 'no', 'matter', 'how', 'disappointed', 'you', 'are', 'that', 'obama', 'did', 'not', 'turn', 'the', 'united', 'states', 'into', 'utopia', 'he', 'still', 'managed', 'to', 'do', 'something', 'amazing', 'according', 'to', 'the', 'new', 'tables', 'the', 'average', 'income', 'tax', 'rate', 'for', '99', 'percent', 'of', 'americans', 'barely', 'changed', 'from', '2012', 'to', '2013', 'but', 'the', 'tax', 'rate', 'for', 'the', 'top', '1', 'percent', 'rose', 'by', 'more', 'than', 'four', 'percentage', 'points', 'the', 'tax', 'rise', 'was', 'even', 'bigger', 'for', 'very', 'high', 'incomes', '6', '5', 'percentage', 'points', 'for', 'the', 'top', '0', '01', 'percent', 'and', 'what', 'does', 'that', 'mean', 'it', 'means', 'obama', 'that', 'terrible', 'terrible', 'disappointment', 'that', 'supposedly', 'only', 'serves', 'his', 'corporate', 'masters', 'took', 'a', 'large', 'bite', 'out', 'of', 'reganomics', 'but', 'the', 'available', 'numbers', 'are', 'consistent', 'with', 'congressional', 'budget', 'office', 'projections', 'of', 'the', 'effects', 'of', 'the', '2013', 'tax', 'increases', 'projections', 'which', 'said', 'that', 'the', 'effective', 'federal', 'tax', 'rate', 'on', 'the', '1', 'percent', 'would', 'rise', 'roughly', 'back', 'to', 'its', 'pre', 'reagan', 'level', 'no', 'really', 'for', 'top', 'incomes', 'mr', 'obama', 'has', 'effectively', 'rolled', 'back', 'not', 'just', 'the', 'bush', 'tax', 'cuts', 'but', 'ronald', 'reagan', 's', 'as', 'well', 'any', 'economist', 'not', 'working', 'for', 'a', 'billionaire', 's', 'think', 'tank', 'will', 'tell', 'you', 'in', 'no', 'uncertain', 'terms', 'that', 'reagan', 's', 'and', 'bush', 's', 'claims', 'were', 'total', 'bullshit', 'giving', 'more', 'money', 'to', 'the', 'rich', 'does', 'not', 'improve', 'the', 'economy', 'it', 'only', 'makes', 'the', 'rich', 'richer', 'and', 'hurts', 'everyone', 'else', 'since', 'the', '80s', 'we', 've', 'handed', 'billions', 'every', 'year', 'to', 'the', 'rich', 'and', 'they', 'took', 'that', 'money', 'and', 'invested', 'it', 'in', 'buying', 'politicians', 'and', 'factories', 'in', 'other', 'countries', 'now', 'we', 'have', 'definitive', 'proof', 'in', 'the', 'form', 'of', 'the', 'strongest', 'job', 'growth', 'since', 'the', 'dot', 'com', 'bubble', 'of', 'the', '90s', 'that', 'taking', 'those', 'tax', 'cuts', 'away', 'will', 'not', 'hurt', 'the', 'economy', 'in', 'any', 'way', 'whatsoever', 'thanks', 'obama', 'featured', 'image', 'via', 'business', 'insider']\n",
            "0\n",
            "['washington', 'reuters', 'paul', 'manafort', 'the', 'indicted', 'former', 'campaign', 'manager', 'for', 'president', 'donald', 'trump', 'spent', 'almost', '1', 'million', 'on', 'eight', 'rugs', 'in', 'two', 'years', 'and', 'more', 'than', '1', '3', 'million', 'on', 'clothes', 'from', 'shops', 'in', 'beverly', 'hills', 'california', 'and', 'new', 'york', 'city', 'his', 'lavish', 'lifestyle', 'with', 'homes', 'in', 'manhattan', 'brooklyn', 'the', 'hamptons', 'arlington', 'virginia', 'and', 'elsewhere', 'were', 'detailed', 'in', 'an', 'indictment', 'filed', 'with', 'the', 'u', 's', 'district', 'court', 'for', 'the', 'district', 'of', 'columbia', 'that', 'was', 'revealed', 'on', 'monday', 'the', 'indictment', 'filed', 'by', 'justice', 'department', 'special', 'counsel', 'robert', 'mueller', 'said', 'manafort', 'used', 'his', 'hidden', 'overseas', 'wealth', 'to', 'enjoy', 'a', 'lavish', 'lifestyle', 'in', 'the', 'united', 'states', 'prosecutors', 'said', 'they', 'found', 'payments', 'by', 'manafort', 'for', 'four', 'range', 'rovers', 'and', 'a', 'mercedes', 'benz', 'among', 'transactions', 'that', 'they', 'alleged', 'came', 'illegally', 'from', 'overseas', 'to', 'avoid', 'paying', 'u', 's', 'income', 'taxes', 'according', 'to', 'the', '31', 'page', 'court', 'filing', 'prosecutors', 'said', 'they', 'found', 'evidence', 'he', 'bought', 'a', 'condo', 'in', 'a', 'restored', 'red', 'brick', 'building', 'in', 'new', 'york', 's', 'upscale', 'soho', 'neighborhood', 'for', '2', '85', 'million', 'also', 'from', 'overseas', 'money', 'most', 'often', 'from', 'cyprus', 'manafort', 'and', 'associate', 'rick', 'gates', 'pleaded', 'not', 'guilty', 'on', 'monday', 'to', 'money', 'laundering', 'and', 'other', 'charges', 'filed', 'in', 'a', 'probe', 'into', 'russian', 'interference', 'in', 'the', '2016', 'presidential', 'election', 'manafort', 'and', 'gates', 'both', 'appeared', 'stoic', 'throughout', 'a', 'court', 'hearing', 'on', 'monday', 'greg', 'andres', 'a', 'federal', 'prosecutor', 'on', 'mueller', 's', 'team', 'said', 'his', 'office', 'had', 'a', 'difficult', 'time', 'trying', 'to', 'pin', 'down', 'manafort', 's', 'and', 'gates', 'net', 'worths', 'making', 'it', 'hard', 'to', 'set', 'appropriate', 'bail', 'arrangements', 'andres', 'said', 'manafort', 'listed', 'a', 'wide', 'range', 'of', 'net', 'asset', 'values', 'on', 'loans', 'and', 'other', 'financial', 'documents', 'from', 'as', 'low', 'as', '20', 'million', 'to', 'as', 'high', 'as', '100', 'million', 'gates', 'meanwhile', 'listed', 'assets', 'as', 'low', 'as', '2', 'million', 'and', 'as', 'high', 'as', '30', 'million', 'a', 'federal', 'judge', 'ordered', 'house', 'arrest', 'for', 'both', 'men', 'and', 'set', 'a', '10', 'million', 'unsecured', 'bond', 'for', 'manafort', 'and', 'a', '5', 'million', 'unsecured', 'bond', 'for', 'gates', 'manafort', 's', 'attorney', 'kevin', 'downing', 'said', 'on', 'monday', 'there', 'was', 'no', 'evidence', 'that', 'his', 'client', 'colluded', 'with', 'the', 'russian', 'government', 'while', 'working', 'for', 'the', 'trump', 'campaign', 'neither', 'trump', 'nor', 'his', 'campaign', 'was', 'mentioned', 'in', 'the', 'indictment', 'manafort', 'ran', 'the', 'trump', 'campaign', 'from', 'june', 'to', 'august', 'of', '2016', 'before', 'resigning', 'amid', 'reports', 'he', 'might', 'have', 'received', 'millions', 'of', 'dollars', 'in', 'illegal', 'payments', 'from', 'a', 'pro', 'russian', 'political', 'party', 'in', 'ukraine', 'the', 'indictment', 'said', 'both', 'manafort', 'and', 'gates', 'generated', 'tens', 'of', 'millions', 'of', 'dollars', 'of', 'income', 'from', 'ukraine', 'work', 'and', 'laundered', 'money', 'through', 'scores', 'of', 'u', 's', 'and', 'foreign', 'entities', 'to', 'hide', 'payments', 'from', 'american', 'authorities', 'the', 'indictment', 'said', 'he', 'spent', '849', '215', 'in', 'a', 'men', 's', 'clothing', 'store', 'in', 'new', 'york', 'and', '520', '440', 'at', 'one', 'in', 'beverly', 'hills', 'he', 'spent', '5', '434', '793', 'on', 'a', 'house', 'in', 'water', 'mill', 'new', 'york', 'in', 'long', 'island', 's', 'hamptons', 'shelling', 'out', '820', '240', 'for', 'landscaping', 'aerial', 'photos', 'of', 'the', 'place', 'show', 'gardens', 'a', 'pool', 'a', 'tennis', 'court', 'a', 'basketball', 'court', 'and', 'a', 'putting', 'green', 'and', 'sand', 'trap', 'on', '2', '37', 'acres', '0', '96', 'hectare', 'a', 'seven', 'bedroom', 'brooklyn', 'brownstone', 'which', 'he', 'bought', 'for', '3', 'million', 'was', 'described', 'in', 'a', 'real', 'estate', 'agent', 's', 'listing', 'as', 'dripping', 'with', 'detail', 'perfectly', 'intact', 'crown', 'moldings', 'and', 'medallions', 'gold', 'leafed', 'carved', 'window', 'detail', '5', 'marble', 'mantels', 'and', 'original', 'lincrusta', 'paper', 'wall', 'covering']\n",
            "1\n",
            "['senator', 'chuck', 'schumer', 'd', 'ny', 'is', 'furious', 'with', 'ted', 'cruz', 'and', 'with', 'good', 'reason', 'like', 'many', 'republicans', 'cruz', 'has', 'helped', 'circle', 'the', 'wagons', 'in', 'the', 'wake', 'of', 'the', 'death', 'of', 'supreme', 'court', 'justice', 'antonin', 'scalia', 'and', 'has', 'promised', 'to', 'block', 'anyone', 'president', 'obama', 'might', 'appoint', 'of', 'course', 'all', 'of', 'those', 'extremist', 'windbags', 'on', 'the', 'right', 'want', 'another', 'far', 'right', 'nut', 'like', 'antonin', 'scalia', 'on', 'the', 'court', 'but', 'there', 's', 'a', 'catch', 'president', 'obama', 'has', 'every', 'right', 'to', 'nominate', 'a', 'person', 'of', 'his', 'choosing', 'which', 'will', 'ensure', 'a', 'supreme', 'court', 'with', 'liberal', 'leanings', 'the', 'gop', 'controlled', 'senate', 'however', 'will', 'do', 'all', 'they', 'can', 'to', 'make', 'sure', 'that', 'doesn', 't', 'happen', 'though', 'and', 'they', 'have', 'said', 'so', 'openly', 'thus', 'leading', 'to', 'sen', 'schumer', 's', 'fury', 'appearing', 'on', 'this', 'week', 'on', 'sunday', 'morning', 'the', 'senator', 'laid', 'into', 'cruz', 's', 'plans', 'well', 'the', 'job', 'first', 'and', 'foremost', 'is', 'for', 'the', 'president', 'to', 'nominate', 'and', 'for', 'the', 'senate', 'to', 'hold', 'hearings', 'and', 'go', 'through', 'the', 'process', 'you', 'know', 'the', 'constitution', 'ted', 'cruz', 'holds', 'the', 'constitution', 'when', 'he', 'walks', 'through', 'the', 'halls', 'of', 'congress', 'let', 'him', 'show', 'me', 'the', 'clause', 'that', 'says', 'president', 's', 'only', 'president', 'for', 'three', 'years', 'after', 'making', 'his', 'point', 'about', 'cruz', 'schumer', 'then', 'turned', 'his', 'attentions', 'to', 'mitch', 'mcconnell', 's', 'obstructionism', 'you', 'know', 'the', 'kind', 'of', 'obstructionism', 'that', 'mitch', 'mcconnell', 's', 'talking', 'about', 'he', 's', 'harking', 'back', 'to', 'his', 'old', 'days', 'you', 'know', 'he', 'recently', 'he', 'said', 'well', 'i', 'want', 'regular', 'order', 'but', 'in', '2010', 'right', 'after', 'the', 'election', 'or', 'right', 'during', 'the', 'election', 'he', 'said', 'my', 'number', 'one', 'job', 'is', 'to', 'defeat', 'barack', 'obama', 'without', 'even', 'knowing', 'what', 'barack', 'obama', 'was', 'going', 'to', 'propose', 'here', 'he', 'doesn', 't', 'even', 'know', 'who', 'the', 'president', 's', 'going', 'to', 'propose', 'and', 'he', 'said', 'no', 'we', 're', 'not', 'having', 'hearings', 'we', 're', 'not', 'going', 'to', 'go', 'forward', 'to', 'lead', 'the', 'supreme', 'court', 'vacant', 'at', '300', 'days', 'in', 'a', 'divided', 'time', 'this', 'kind', 'of', 'obstructionism', 'isn', 't', 'going', 'to', 'last', 'and', 'you', 'know', 'we', 'democrats', 'didn', 't', 'do', 'this', 'we', 'voted', '97', '0', 'for', 'justice', 'kennedy', 'in', 'the', 'last', 'year', 'of', 'reagan', 's', 'term', 'i', 'think', 'first', 'the', 'american', 'people', 'don', 't', 'like', 'this', 'obstruction', 'when', 'you', 'go', 'right', 'off', 'the', 'bat', 'and', 'say', 'i', 'don', 't', 'care', 'who', 'he', 'nominates', 'i', 'am', 'going', 'to', 'oppose', 'him', 'that', 's', 'not', 'going', 'to', 'fly', 'indeed', 'it', 's', 'not', 'going', 'to', 'fly', 'these', 'people', 'hate', 'the', 'sitting', 'president', 'so', 'much', 'that', 'they', 'are', 'willing', 'to', 'leave', 'a', 'vacant', 'seat', 'on', 'the', 'court', 'before', 'they', 'let', 'anyone', 'he', 'might', 'nominate', 'through', 'senator', 'schumer', 'is', 'right', 'no', 'reasonable', 'american', 'would', 'go', 'for', 'this', 'let', 'cruz', 'and', 'the', 'rest', 'of', 'the', 'gop', 'hang', 'themselves', 'with', 'this', 'one', 'though', 'it', 'will', 'only', 'be', 'a', 'matter', 'of', 'time', 'watch', 'the', 'clip', 'below', 'as', 'posted', 'to', 'twitter', 'by', 'abc', 'watch', 'senschumer', 'to', 'tedcruz', 'show', 'me', 'the', 'clause', 'that', 'says', 'the', 'president', 'is', 'only', 'president', 'for', 'three', 'years', 'https', 't', 'co', 'yjdzr3zdtm', 'this', 'week', 'thisweekabc', 'february', '14', '2016featured', 'image', 'from', 'video', 'screen', 'capture', 'via', 'raw', 'story']\n",
            "0\n",
            "['seoul', 'reuters', 'north', 'korea', 's', 'leader', 'kim', 'jong', 'un', 'said', 'on', 'friday', 'the', 'north', 'will', 'consider', 'the', 'highest', 'level', 'of', 'hard', 'line', 'countermeasure', 'in', 'history', 'against', 'the', 'united', 'states', 'in', 'response', 'to', 'u', 's', 'president', 'donald', 'trump', 's', 'threat', 'to', 'destroy', 'the', 'north', 'calling', 'trump', 'mentally', 'deranged', 'and', 'his', 'comments', 'the', 'most', 'ferocious', 'declaration', 'of', 'a', 'war', 'in', 'history', 'kim', 'said', 'his', 'u', 'n', 'speech', 'on', 'tuesday', 'confirmed', 'pyongyang', 's', 'nuclear', 'program', 'has', 'been', 'the', 'correct', 'path', 'his', 'remarks', 'have', 'convinced', 'me', 'rather', 'than', 'frightening', 'or', 'stopping', 'me', 'that', 'the', 'path', 'i', 'chose', 'is', 'correct', 'and', 'that', 'it', 'is', 'the', 'one', 'i', 'have', 'to', 'follow', 'to', 'the', 'last', 'kim', 'said', 'in', 'the', 'statement', 'carried', 'by', 'the', 'north', 's', 'official', 'kcna', 'news', 'agency', 'promising', 'to', 'make', 'trump', 'pay', 'dearly', 'for', 'his', 'speech', 'trump', 'had', 'warned', 'the', 'north', 'korean', 'leader', 'in', 'his', 'u', 'n', 'address', 'on', 'tuesday', 'that', 'the', 'united', 'states', 'if', 'threatened', 'would', 'totally', 'destroy', 'the', 'country', 'of', '26', 'million', 'people', 'and', 'mocked', 'kim', 'as', 'a', 'rocket', 'man', 'on', 'a', 'suicide', 'mission', 'it', 'was', 'the', 'u', 's', 'president', 's', 'most', 'direct', 'reference', 'to', 'military', 'action', 'so', 'far', 'against', 'the', 'north', 'which', 'conducted', 'its', 'sixth', 'and', 'largest', 'nuclear', 'test', 'on', 'sept', '3', 'in', 'addition', 'to', 'the', 'nuclear', 'test', 'north', 'korea', 'has', 'launched', 'dozens', 'of', 'missiles', 'since', 'kim', 'came', 'to', 'power', 'in', '2011', 'two', 'recent', 'ballistic', 'missiles', 'flew', 'over', 'japan', 'as', 'pyongyang', 'advanced', 'toward', 'its', 'goal', 'of', 'creating', 'nuclear', 'warhead', 'tipped', 'missiles', 'that', 'can', 'hit', 'the', 'united', 'states', 'kim', 'said', 'trump', 'would', 'face', 'results', 'beyond', 'his', 'expectation', 'without', 'specifying', 'what', 'action', 'north', 'korea', 'would', 'take', 'next', 'i', 'will', 'surely', 'and', 'definitely', 'tame', 'the', 'mentally', 'deranged', 'u', 's', 'dotard', 'with', 'fire', 'kim', 'said', 'in', 'the', 'rare', 'direct', 'statement', 'referring', 'to', 'trump', 'he', 'offered', 'more', 'vitriol', 'for', 'trump', 'saying', 'he', 'was', 'unfit', 'to', 'hold', 'the', 'prerogative', 'of', 'supreme', 'command', 'of', 'a', 'country', 'and', 'he', 'is', 'surely', 'a', 'rogue', 'and', 'a', 'gangster', 'fond', 'of', 'playing', 'with', 'fire', 'rather', 'than', 'a', 'politician', 'a', 'day', 'after', 'trump', 's', 'address', 'north', 'korea', 's', 'foreign', 'minister', 'ri', 'yong', 'ho', 'had', 'likened', 'trump', 'to', 'a', 'barking', 'dog', 'saying', 'his', 'comments', 'were', 'no', 'threat', 'to', 'the', 'north', 'kim', 'took', 'a', 'page', 'out', 'of', 'ri', 's', 'book', 'on', 'friday', 'saying', 'a', 'frightened', 'dog', 'barks', 'louder', 'now', 'that', 'trump', 'has', 'denied', 'the', 'existence', 'of', 'and', 'insulted', 'me', 'and', 'my', 'country', 'in', 'front', 'of', 'the', 'eyes', 'of', 'the', 'world', 'we', 'will', 'consider', 'with', 'seriousness', 'exercising', 'of', 'a', 'corresponding', 'highest', 'level', 'of', 'hard', 'line', 'countermeasure', 'in', 'history', 'kim', 'said']\n",
            "1\n"
          ],
          "name": "stdout"
        }
      ]
    },
    {
      "cell_type": "markdown",
      "metadata": {
        "id": "_kLtxu8CQIig"
      },
      "source": [
        "For text data column, we use the following:\n",
        "\n",
        "`tokenize=tokenizer`\n",
        "\n",
        "> This attribute takes a function that will tokenize a given text. In this case the function will tokenize a single tweet. You can also pass 'spacy' string in this attribute if spacy is installed.\n",
        "\n",
        "'sequential=True'\n",
        "\n",
        "> It tell torchtext that the data is in form of sequence and not discrete\n",
        "\n",
        "`'include_lengths=True'`\n",
        "> Apart from tokenized text we will also need the lengths of the tweets for RNN\n",
        "\n",
        "`'use_vocab=True'`\n",
        "\n",
        "> Since this is used to process the text data, we need to create the vocabulary of unique words. This attribute tells torchtext to create the vocabulary\n",
        "\n",
        "For the label column, we use the following: \n",
        "'sequential=False'\n",
        "> Now we are defining the blueprint of label columns. Labels are not sequential data, they are discrete. So this attribute is false\n",
        "                                    \n",
        "'use_vocab=False'\n",
        "> Since it is a binary classification problem and labels are already numericalized, we will set this to false\n",
        "\n",
        "` 'pad_token=None'\n",
        "'unk_token=None' `\n",
        "> We don't need padding and out of vocabulary tokens for labels."
      ]
    },
    {
      "cell_type": "markdown",
      "metadata": {
        "id": "gU9ixyOAO1Gg"
      },
      "source": [
        "Take a look at our dataset\n"
      ]
    },
    {
      "cell_type": "code",
      "metadata": {
        "colab": {
          "base_uri": "https://localhost:8080/"
        },
        "id": "uHcagZgiOHbH",
        "outputId": "43e90d6f-f608-4d90-8845-ac89fe5bf34b"
      },
      "source": [
        "print(type(train))\n",
        "# torchtext.data.dataset.TabularDataset\n",
        "# train.fields.items()\n",
        "\n",
        "print(len(train))\n",
        "print(len(valid))\n",
        "print(len(test))\n",
        "# 29329\n",
        "# 9776\n",
        "# 9776\n",
        "\n",
        "print( train[1].text )\n",
        "print( train[1].label )"
      ],
      "execution_count": null,
      "outputs": [
        {
          "output_type": "stream",
          "text": [
            "<class 'torchtext.legacy.data.dataset.Dataset'>\n",
            "2393\n",
            "797\n",
            "798\n",
            "['chat', 'with', 'us', 'in', 'facebook', 'messenger', 'find', 'out', 'what', 's', 'happening', 'in', 'the', 'world', 'as', 'it', 'unfolds']\n",
            "1\n"
          ],
          "name": "stdout"
        }
      ]
    },
    {
      "cell_type": "markdown",
      "metadata": {
        "id": "uUgJ2vidRQhZ"
      },
      "source": [
        "## Load pretrained word vectors and building vocabulary"
      ]
    },
    {
      "cell_type": "code",
      "metadata": {
        "colab": {
          "base_uri": "https://localhost:8080/"
        },
        "id": "1_Q-RTXvTwk9",
        "outputId": "b2a43898-e862-4b83-e367-2327c9ab562d"
      },
      "source": [
        "from torchtext import vocab\n",
        "\n",
        "# # specify the path to the localy saved vectors\n",
        "# vec = vocab.Vectors('glove.twitter.27B.100d.txt', './data/glove_embedding/')\n",
        "\n",
        "# Loading the embedding will take 3-5 mins (My internet is slow with a 4.19MB/s download speed). The file is 1.52GB\n",
        "vec = torchtext.vocab.GloVe(name=\"twitter.27B\", dim=100, max_vectors=100000) # use 10k most common words\n"
      ],
      "execution_count": null,
      "outputs": [
        {
          "output_type": "stream",
          "text": [
            ".vector_cache/glove.twitter.27B.zip: 1.52GB [04:47, 5.28MB/s]                            \n",
            " 99%|█████████▉| 99284/100000 [00:04<00:00, 19889.00it/s]\n"
          ],
          "name": "stderr"
        }
      ]
    },
    {
      "cell_type": "code",
      "metadata": {
        "colab": {
          "base_uri": "https://localhost:8080/"
        },
        "id": "FmAfyvMOXQJi",
        "outputId": "df29d61a-6d0c-4ac1-bc49-ce5700e98263"
      },
      "source": [
        "# build the vocabulary using train and validation dataset and assign the vectors\n",
        "# define max number of unique words as 100000. Words which are not in vocabulary will be assigned <unk> token. \n",
        "text_field.build_vocab(train, valid, max_size=100000, vectors=vec)\n",
        "\n",
        "# build vocab for labels\n",
        "label_field.build_vocab(train)\n",
        "\n",
        "print(text_field.vocab.vectors.shape)\n",
        "# torch.Size([100002, 100])\n",
        "\n",
        "text_field.vocab.vectors[text_field.vocab.stoi['the']]\n"
      ],
      "execution_count": null,
      "outputs": [
        {
          "output_type": "stream",
          "text": [
            "torch.Size([42468, 100])\n"
          ],
          "name": "stdout"
        },
        {
          "output_type": "execute_result",
          "data": {
            "text/plain": [
              "tensor([ 9.5152e-02,  3.7024e-01,  5.4291e-01,  1.9621e-01,  4.8205e-02,\n",
              "         3.2033e-01, -5.9638e-01,  1.5868e-02, -1.2989e-01, -6.3028e-01,\n",
              "         8.1944e-02,  2.4164e-01, -6.0990e+00, -6.8557e-01,  5.0354e-01,\n",
              "        -3.4089e-02,  1.1705e-01, -7.7403e-03, -8.6512e-02,  4.3617e-01,\n",
              "        -4.3982e-01,  2.6125e-01, -4.0348e-02, -1.9194e-01,  8.3204e-02,\n",
              "        -5.8246e-01, -3.1923e-02,  1.2630e-01,  4.0120e-01,  6.8906e-02,\n",
              "        -1.0517e-01, -2.0804e-01, -4.2554e-01,  4.7799e-01,  3.4651e-01,\n",
              "         2.4057e-01,  5.0244e-02, -7.2587e-02, -2.4347e-03, -5.0342e-01,\n",
              "        -1.0601e+00, -3.1586e-01, -3.2457e-02, -7.6317e-02,  7.9045e-01,\n",
              "         8.6367e-02, -1.9632e-01,  5.7566e-02,  8.4129e-01, -4.2020e-01,\n",
              "        -1.1335e-03, -8.5632e-02,  6.1910e-02,  2.1423e-01, -1.0356e-01,\n",
              "        -3.6946e-02, -2.6005e-01, -3.5657e-01,  5.4321e-02,  3.0875e-02,\n",
              "         1.4092e-01, -9.1998e-02, -4.1841e-01, -3.1135e-01, -1.4937e-01,\n",
              "        -2.2699e-04, -3.3454e-01, -1.4848e-01, -1.1944e-01, -2.7174e-01,\n",
              "         3.1320e-01, -1.0998e-01, -4.7524e-01,  1.4056e-01,  3.9641e-01,\n",
              "        -4.9413e-02, -4.2601e-01, -2.3576e-01,  6.1482e-02, -3.5313e-02,\n",
              "         2.4161e+00,  2.8979e-01,  3.8882e-01,  3.6779e-01,  2.0685e-01,\n",
              "         1.3992e-01, -4.2459e-01,  4.4590e-01,  2.6234e-01, -4.4834e-01,\n",
              "         3.7196e-03, -2.2521e-01,  1.4764e-01, -3.6417e-01, -1.8493e-01,\n",
              "         2.2282e-01,  4.7626e-01, -5.1083e-01,  4.6877e-01,  3.4882e-01])"
            ]
          },
          "metadata": {
            "tags": []
          },
          "execution_count": 32
        }
      ]
    },
    {
      "cell_type": "code",
      "metadata": {
        "id": "2XRSy8TSozdw"
      },
      "source": [
        "import torch"
      ],
      "execution_count": null,
      "outputs": []
    },
    {
      "cell_type": "markdown",
      "metadata": {
        "id": "p7SwkYOXNRNK"
      },
      "source": [
        "##### Function to save text.vocab used for training in a textfile, because if we want to load the model layer and use it on an instance of text, we'll need it. We will also need the pretrained_vectors from the text.vocab.vectors!\n",
        "\n",
        "input: \n",
        "* text.vocab, text.vocab.vectors ( note text.vocab == train.fields['text'].vocab.vectors == text_field.vocab)\n",
        "\n",
        "outpt: \n",
        "* vocabulary_pretrained_vectors.pt (tensor), vocabulary_pretrained.txt (just a mapping from index to the word in the vocabulary)"
      ]
    },
    {
      "cell_type": "code",
      "metadata": {
        "id": "kuYPgIlrnIhv"
      },
      "source": [
        "# save_pretrained_vectors(vocabulary_pretrained_vectors):   \n",
        "# Save to file\n",
        "torch.save(train.fields['text'].vocab.vectors, 'vocabulary_pretrained_vectors.pt')\n",
        "\n",
        "# Function to save vocab used for training in a textfile, because if we want to load the model layer and use it on an instance of text, we'll need it.:def save_vocab(vocab, path):\n",
        "# Use this by passing TEXT.vocab to it.\n",
        "def save_vocab(vocab, path):   \n",
        "    with open(path, 'w+') as f:     \n",
        "        for token, index in vocab.stoi.items():\n",
        "            f.write(f'{index}\\t{token}\\n')\n",
        "\n",
        "# # Okay saved (should output to mounted drive), text_field.vocab == train.fields['text'].vocab\n",
        "save_vocab(train.fields['text'].vocab, \"vocabulary_pretrained.txt\")\n",
        "\n",
        "# print(type(train.fields['text'].vocab.vectors))"
      ],
      "execution_count": null,
      "outputs": []
    },
    {
      "cell_type": "markdown",
      "metadata": {
        "id": "YKR8xEmqYr5Y"
      },
      "source": [
        "## Loading the data in batches"
      ]
    },
    {
      "cell_type": "markdown",
      "metadata": {
        "id": "7xydaehaY2Ya"
      },
      "source": [
        "For data with variable length sentences torchtext provides BucketIterator() dataloader which is wrapper around pytorch Dataloader. BucketIterator provides some additional benefits like sorting the data according to length of the text and group together similar length text in a batch. This helps reduce the amount of padding required. Note that I have not fixed the text to any particular length. BucketIterator pads the batch according the maximum length sample.\n"
      ]
    },
    {
      "cell_type": "code",
      "metadata": {
        "id": "3eJ46yqHz92K"
      },
      "source": [
        "batch_size= 32 # change this to change all batch sizes"
      ],
      "execution_count": null,
      "outputs": []
    },
    {
      "cell_type": "code",
      "metadata": {
        "id": "DO4JUiRfYtob"
      },
      "source": [
        "train_iter, valid_iter = data.BucketIterator.splits(datasets=(train, valid), # specify train and validation Tabulardataset\n",
        "                                            batch_sizes=(batch_size,batch_size),  # batch size of train and validation\n",
        "                                            sort_key=lambda x: len(x.text), # on what attribute the text should be sorted\n",
        "                                            device=None, # -1 mean cpu and 0 or None mean gpu\n",
        "                                            sort_within_batch=True, \n",
        "                                            repeat=False)\n",
        "\n",
        "   \n",
        "test_iter = torchtext.legacy.data.BucketIterator(test,\n",
        "                                           batch_size=batch_size,\n",
        "                                           sort_key=lambda x: len(x.text), # to minimize padding\n",
        "                                           sort_within_batch=False,        # sort within each batch\n",
        "                                           repeat=False)                 # repeat the iterator for many epochs"
      ],
      "execution_count": null,
      "outputs": []
    },
    {
      "cell_type": "markdown",
      "metadata": {
        "id": "McQ4STCRa6wq"
      },
      "source": [
        "Note: BucketIterator returns a Batch object instead of text index and labels. Also Batch object is not iterable like pytorch Dataloader. A single Batch object contains the data of one batch .The text and labels can be accessed via column names."
      ]
    },
    {
      "cell_type": "code",
      "metadata": {
        "id": "T0X43Mi-Xhkl"
      },
      "source": [
        "class BatchGenerator:\n",
        "    def __init__(self, dl, x_field, y_field):\n",
        "        self.dl, self.x_field, self.y_field = dl, x_field, y_field\n",
        "        \n",
        "    def __len__(self):\n",
        "        return len(self.dl)\n",
        "    \n",
        "    def __iter__(self):\n",
        "        for batch in self.dl:\n",
        "            X = getattr(batch, self.x_field)\n",
        "            y = getattr(batch, self.y_field)\n",
        "            yield (X,y)\n",
        "    "
      ],
      "execution_count": null,
      "outputs": []
    },
    {
      "cell_type": "code",
      "metadata": {
        "id": "LEr7fAIZ09Uq"
      },
      "source": [
        "train_batch_it = BatchGenerator(train_iter, 'text', 'label') # use the wrapper to convert Batch to data\n",
        "val_batch_it = BatchGenerator(valid_iter, 'text', 'label')\n",
        "test_batch_it = BatchGenerator(test_iter, 'text', 'label') \n"
      ],
      "execution_count": null,
      "outputs": []
    },
    {
      "cell_type": "code",
      "metadata": {
        "colab": {
          "base_uri": "https://localhost:8080/"
        },
        "id": "EeXUFlLco1QZ",
        "outputId": "2cadde5c-6b9f-4c8b-ee42-cc9c7b341007"
      },
      "source": [
        "print(next(iter(train_batch_it)))\n"
      ],
      "execution_count": null,
      "outputs": [
        {
          "output_type": "stream",
          "text": [
            "((tensor([[ 1342,    68,     2,  ...,    20,   345,   162],\n",
            "        [ 1605,    13,   223,  ...,   970,    10,   424],\n",
            "        [ 4498,     8,   188,  ..., 17991,   229,   915],\n",
            "        ...,\n",
            "        [ 4498,     2,     1,  ...,     1,     1,     1],\n",
            "        [  247,  2204,     1,  ...,     1,     1,     1],\n",
            "        [ 1712,     1,     1,  ...,     1,     1,     1]]), tensor([1320, 1319, 1316, 1312, 1312, 1310, 1308, 1305, 1305, 1302, 1298, 1298,\n",
            "        1295, 1294, 1293, 1290, 1289, 1289, 1286, 1282, 1280, 1277, 1276, 1276,\n",
            "        1274, 1273, 1269, 1265, 1262, 1262, 1258, 1257])), tensor([0, 0, 0, 0, 0, 0, 1, 0, 0, 0, 0, 0, 1, 1, 1, 1, 0, 0, 1, 0, 1, 1, 0, 0,\n",
            "        0, 1, 1, 1, 1, 0, 1, 1]))\n"
          ],
          "name": "stdout"
        }
      ]
    },
    {
      "cell_type": "markdown",
      "metadata": {
        "id": "RtIbJo2jN6l9"
      },
      "source": [
        "### print() statements for understanding what the different data types hold"
      ]
    },
    {
      "cell_type": "markdown",
      "metadata": {
        "id": "5zqAkWm0N5me"
      },
      "source": [
        ""
      ]
    },
    {
      "cell_type": "markdown",
      "metadata": {
        "id": "d_RaHjosw4Fz"
      },
      "source": [
        "convert index to string\n"
      ]
    },
    {
      "cell_type": "code",
      "metadata": {
        "colab": {
          "base_uri": "https://localhost:8080/"
        },
        "id": "V-HS1Tf72PXb",
        "outputId": "81fa267b-1be4-44d0-e3e8-cdfb72e5d836"
      },
      "source": [
        "print(len(train_iter), len(valid_iter), len(test_iter))\n",
        "# 918 306 306\n",
        "\n",
        "batch = next(iter(train_iter)) # BucketIterator return a batch object\n",
        "print(type(batch))\n",
        "# <class 'torchtext.legacy.data.batch.Batch'>\n",
        "\n",
        "# torchtext.data.batch.Batch\n",
        "\n",
        "print(batch.label) # labels of the batch\n",
        "# tensor([0, 1, 0, 0, 0, 0, 0, 1, 0, 0, 1, 1, 0, 1, 1, 1, 1, 1, 1, 1, 0, 1, 1, 1, 0, 0, 1, 1, 1, 1, 1, 1])\n",
        "\n",
        "print(batch.text) # text index and length of the batch\n",
        "# (tensor([[   26, 93780,   123,  ...,   111,   111,  2942],\n",
        "        # [   12, 58610,    73,  ...,    69,    69,    69],\n",
        "        # [27723,    12,  2289,  ...,   123,     2,    13],\n",
        "        # ...,\n",
        "        # [   40,     1,     1,  ...,     1,     1,     1],\n",
        "        # [   91,     1,     1,  ...,     1,     1,     1],\n",
        "        # [  328,     1,     1,  ...,     1,     1,     1]]), tensor([922, 919, 917, 917, 916, 913, 911, 911, 910, 909, 908, 907, 907, 906,\n",
        "        # 902, 902, 901, 900, 898, 898, 897, 893, 889, 887, 886, 886, 885, 883,\n",
        "        # 882, 881, 878, 875]))\n",
        "\n",
        "print(batch.dataset.fields)\n",
        "# {'title': None, 'text': <torchtext.legacy.data.field.Field object at 0x7f981e25c610>, 'label': <torchtext.legacy.data.field.Field object at 0x7f981e25c4d0>}\n",
        "print(text_field.vocab.itos[1])"
      ],
      "execution_count": null,
      "outputs": [
        {
          "output_type": "stream",
          "text": [
            "75 25 25\n",
            "<class 'torchtext.legacy.data.batch.Batch'>\n",
            "tensor([1, 1, 1, 0, 0, 0, 1, 0, 0, 1, 0, 1, 1, 0, 0, 0, 0, 1, 1, 1, 1, 1, 1, 1,\n",
            "        1, 1, 0, 0, 0, 0, 1, 0])\n",
            "(tensor([[    2,     2,   416,  ...,    20,   671,  6383],\n",
            "        [ 1867,  1867, 34595,  ...,  1046,   206, 11989],\n",
            "        [ 2356,  2356,     4,  ...,  2226,    49,  1567],\n",
            "        ...,\n",
            "        [10369, 10369,   830,  ...,     1,     1,     1],\n",
            "        [  729,   729,     1,  ...,     1,     1,     1],\n",
            "        [  140,   140,     1,  ...,     1,     1,     1]]), tensor([895, 895, 893, 893, 890, 890, 890, 890, 888, 888, 886, 886, 886, 886,\n",
            "        883, 881, 876, 873, 873, 871, 869, 869, 868, 867, 867, 866, 866, 866,\n",
            "        865, 865, 863, 860]))\n",
            "{'title': None, 'text': <torchtext.legacy.data.field.Field object at 0x7f6eeaee4190>, 'label': <torchtext.legacy.data.field.Field object at 0x7f6f0485fc50>}\n",
            "<pad>\n"
          ],
          "name": "stdout"
        }
      ]
    },
    {
      "cell_type": "code",
      "metadata": {
        "id": "ri2UX3qr2Bcj"
      },
      "source": [
        "def idxtosent(batch, idx):\n",
        "    return ' '.join([text_field.vocab.itos[i] for i in batch.text[0][:,idx].cpu().data.numpy()])"
      ],
      "execution_count": null,
      "outputs": []
    },
    {
      "cell_type": "code",
      "metadata": {
        "colab": {
          "base_uri": "https://localhost:8080/",
          "height": 103
        },
        "id": "LkFFMT2q2RHs",
        "outputId": "812a6acd-a561-4c36-ea4f-00bc18f2cfb9"
      },
      "source": [
        "idxtosent(batch,1)"
      ],
      "execution_count": null,
      "outputs": [
        {
          "output_type": "execute_result",
          "data": {
            "application/vnd.google.colaboratory.intrinsic+json": {
              "type": "string"
            },
            "text/plain": [
              "'the setting sun reflects off of the twin towers of time warner center in the manhattan borough of new york city november 22 2015 reuters rickey rogers harrisburg pa washington reuters president donald trump on wednesday told workers that they would win under his tax plan saying it would help the middle class and boost the economy though critics say it would mainly benefit corporations and the rich speaking in an airplane hangar at a pennsylvania air national guard base in harrisburg with a trailer truck behind him trump reiterated the basic points of the nine page tax cut framework he unveiled two weeks ago it s a middle class bill that s what we re thinking of that s what i want trump said i ve had rich friends of mine come up to me and say donald you re doing this tax plan we don t want anything don t give it to us give it to the middle class and that s what we re trying so hard to do he said his remarks came as new reuters ipsos polling showed that more than three quarters of americans say the wealthiest americans should pay more in taxes the poll found 53 percent of adults strongly agree and 23 percent somewhat agree that the wealthiest americans should pay higher tax rates the sept 29 oct 5 poll of 1 504 people has a credibility interval a measure of accuracy of plus or minus 6 percentage points financial markets have rallied strongly since trump s november 2016 election victory driven partly by expectations that he would cut taxes for businesses although policy analysts have been skeptical that he would do so trump on wednesday boasted about the rally in markets the stock market is soaring to record levels boosting pensions and retirement accounts for hard working americans their values are going up every single day he said earlier on wednesday san francisco federal reserve bank president john williams said he was a little bit discouraged about the prospects for federal tax reform given the difficulties congress has had in passing laws this year williams in comments following a speech in salt lake city said he is losing confidence that any tax reform will be passed in the next six months or so democrats dispute pay raise trump said his plan for cutting corporate taxes could boost wage growth and mean a 4 000 pay raise for the average household citing research from a white house economic council democrats who oppose trump s plan dispute such claims i have not seen any evidence that even comes remotely close to that richard neal the top democrat on the house of representatives ways and means committee said of the 4 000 calculation at a forum on wednesday in washington independent analysts have said trump s blueprint would provide uneven tax relief add significantly to the federal budget deficit and in some cases benefit the very wealthy for instance taxpayers in the highest 1 percent of incomes making more than 730 000 annually would get about half of the total benefit from trump s plan with after tax incomes rising an average of 8 5 percent according to the tax policy center a washington based nonprofit tax think tank trump on wednesday said his framework would provide a 500 tax credit to those who care for an adult dependent or elderly loved one and that it would substantially increase the child tax credit no details on those items have been made public congressional tax writers in the house and senate are working to fill in the details of trump s framework republican leaders hope to pass a bill by january delivering what would be trump s first legislative victory a year into his presidency before that can happen the senate and house must open a procedural path for tax legislation by passing a budget resolution lawmakers have hoped to do that this month corporate pass through cuts the tax framework developed in secret by a select group of senior republicans known as the big six calls for cutting the corporate tax rate to 20 percent from 35 percent and creating a new category for pass through income earned by partners and sole proprietors which would be taxed at 25 percent instead of the 39 6 percent top individual rate currently paid by some it proposes cutting the top individual rate to 35 percent but congressional tax writers may opt to create an additional higher rate for the highest earners the plan also proposes eliminating the 40 percent tax on inherited estate assets worth more than 5 5 million or 11 million for a married couple a highly placed republican operative who used to work with senior leadership on capitol hill said he did not expect the estate tax repeal to be included in a final package because the proposal would greatly benefit trump himself and his family which would leave the tax reform effort and trump open to democratic attack he said many republicans do not see estate tax repeal as crucial but republicans have promised wealthy supporters for years that the tax which they call the death tax will end trump on wednesday offered a different view republicans will end the crushing horrible and unfair estate tax he said for graphic on top power brokers click here'"
            ]
          },
          "metadata": {
            "tags": []
          },
          "execution_count": 42
        }
      ]
    },
    {
      "cell_type": "code",
      "metadata": {
        "colab": {
          "base_uri": "https://localhost:8080/"
        },
        "id": "WoQcXL8p2XiF",
        "outputId": "6beda4b7-d136-4aae-9a48-05bc603ed88b"
      },
      "source": [
        "val_batch = next(iter(valid_iter))\n",
        "val_batch.__dict__"
      ],
      "execution_count": null,
      "outputs": [
        {
          "output_type": "execute_result",
          "data": {
            "text/plain": [
              "{'batch_size': 32,\n",
              " 'dataset': <torchtext.legacy.data.dataset.Dataset at 0x7f6ee7453810>,\n",
              " 'fields': dict_keys(['title', 'text', 'label']),\n",
              " 'input_fields': ['text', 'label'],\n",
              " 'label': tensor([1, 1, 1, 1, 1, 1, 1, 1, 1, 1, 0, 0, 0, 0, 0, 0, 0, 0, 0, 0, 0, 0, 0, 0,\n",
              "         0, 0, 0, 0, 0, 0, 0, 0]),\n",
              " 'target_fields': [],\n",
              " 'text': (tensor([[ 2907,  2907,  2907,  2907,  2907,  2907,  2907,  2907,  2907,  2907,\n",
              "               7,  1721,  1721,  1721,  1721,  1721,  1721,  1721,  1721,  1721,\n",
              "            1721,  1721,  1721,  1721,  1721,  1721,  1721,  1721,  1721,  1721,\n",
              "            1721,    68],\n",
              "          [   15,    15,    15,    15,    15,    15,    15,    15,    15,    15,\n",
              "               2,    11,    11,    11,    11,    11,    11,    11,    11,    11,\n",
              "              11,    11,    11,    11,    11,    11,    11,    11,    11,    11,\n",
              "              11,    13],\n",
              "          [   79,    79,    79,    79,    79,    79,    79,    79,    79,    79,\n",
              "             211,     7,     7,     7,     7,     7,     7,     7,     7,     7,\n",
              "               7,     7,     7,     7,     7,     7,     7,     7,     7,     7,\n",
              "               7,     8],\n",
              "          [    7,     7,     7,     7,     7,     7,     7,     7,     7,     7,\n",
              "            2892,   273,   273,   273,   273,   273,   273,   273,   273,   273,\n",
              "             273,   273,   273,   273,   273,   273,   273,   273,   273,   273,\n",
              "             273,    75],\n",
              "          [  264,   264,   264,   264,   264,   264,   264,   264,   264,   264,\n",
              "              13,  1635,  1635,  1635,  1635,  1635,  1635,  1635,  1635,  1635,\n",
              "            1635,  1635,  1635,  1635,  1635,  1635,  1635,  1635,  1635,  1635,\n",
              "            1635,  4339],\n",
              "          [ 3361,  3361,  3361,  3361,  3361,  3361,  3361,  3361,  3361,  3361,\n",
              "              11,    31,    31,    31,    31,    31,    31,    31,    31,    31,\n",
              "              31,    31,    31,    31,    31,    31,    31,    31,    31,    31,\n",
              "              31,   104],\n",
              "          [  337,   337,   337,   337,   337,   337,   337,   337,   337,   337,\n",
              "            1122,   205,   205,   205,   205,   205,   205,   205,   205,   205,\n",
              "             205,   205,   205,   205,   205,   205,   205,   205,   205,   205,\n",
              "             205,    31],\n",
              "          [   47,    47,    47,    47,    47,    47,    47,    47,    47,    47,\n",
              "               8,  2241,  2241,  2241,  2241,  2241,  2241,  2241,  2241,  2241,\n",
              "            2241,  2241,  2241,  2241,  2241,  2241,  2241,  2241,  2241,  2241,\n",
              "            2241,   142],\n",
              "          [   53,    53,    53,    53,    53,    53,    53,    53,    53,    53,\n",
              "           11057,     4,     4,     4,     4,     4,     4,     4,     4,     4,\n",
              "               4,     4,     4,     4,     4,     4,     4,     4,     4,     4,\n",
              "               4,    45],\n",
              "          [    8,     8,     8,     8,     8,     8,     8,     8,     8,     8,\n",
              "               5,   638,   638,   638,   638,   638,   638,   638,   638,   638,\n",
              "             638,   638,   638,   638,   638,   638,   638,   638,   638,   638,\n",
              "             638,   649],\n",
              "          [ 1788,  1788,  1788,  1788,  1788,  1788,  1788,  1788,  1788,  1788,\n",
              "              38,    77,    77,    77,    77,    77,    77,    77,    77,    77,\n",
              "              77,    77,    77,    77,    77,    77,    77,    77,    77,    77,\n",
              "              77,    41],\n",
              "          [    7,     7,     7,     7,     7,     7,     7,     7,     7,     7,\n",
              "            1908,   979,   979,   979,   979,   979,   979,   979,   979,   979,\n",
              "             979,   979,   979,   979,   979,   979,   979,   979,   979,   979,\n",
              "             979,     1],\n",
              "          [    2,     2,     2,     2,     2,     2,     2,     2,     2,     2,\n",
              "               9,     4,     4,     4,     4,     4,     4,     4,     4,     4,\n",
              "               4,     4,     4,     4,     4,     4,     4,     4,     4,     4,\n",
              "               4,     1],\n",
              "          [   96,    96,    96,    96,    96,    96,    96,    96,    96,    96,\n",
              "           17064,   107,   107,   107,   107,   107,   107,   107,   107,   107,\n",
              "             107,   107,   107,   107,   107,   107,   107,   107,   107,   107,\n",
              "             107,     1],\n",
              "          [   17,    17,    17,    17,    17,    17,    17,    17,    17,    17,\n",
              "             154,    86,    86,    86,    86,    86,    86,    86,    86,    86,\n",
              "              86,    86,    86,    86,    86,    86,    86,    86,    86,    86,\n",
              "              86,     1],\n",
              "          [   13,    13,    13,    13,    13,    13,    13,    13,    13,    13,\n",
              "             103,     1,     1,     1,     1,     1,     1,     1,     1,     1,\n",
              "               1,     1,     1,     1,     1,     1,     1,     1,     1,     1,\n",
              "               1,     1],\n",
              "          [ 3382,  3382,  3382,  3382,  3382,  3382,  3382,  3382,  3382,  3382,\n",
              "               1,     1,     1,     1,     1,     1,     1,     1,     1,     1,\n",
              "               1,     1,     1,     1,     1,     1,     1,     1,     1,     1,\n",
              "               1,     1]]),\n",
              "  tensor([17, 17, 17, 17, 17, 17, 17, 17, 17, 17, 16, 15, 15, 15, 15, 15, 15, 15,\n",
              "          15, 15, 15, 15, 15, 15, 15, 15, 15, 15, 15, 15, 15, 11]))}"
            ]
          },
          "metadata": {
            "tags": []
          },
          "execution_count": 43
        }
      ]
    },
    {
      "cell_type": "markdown",
      "metadata": {
        "id": "7OzBfm7rbdmF"
      },
      "source": [
        "With the code above we can directly use it in the training loop just like pytorch Dataloader."
      ]
    },
    {
      "cell_type": "markdown",
      "metadata": {
        "id": "fq0G8lABOAKQ"
      },
      "source": [
        "# The Model"
      ]
    },
    {
      "cell_type": "markdown",
      "metadata": {
        "id": "qmiRINk6zd-q"
      },
      "source": [
        "### Code to save our model"
      ]
    },
    {
      "cell_type": "code",
      "metadata": {
        "id": "N04RpBoyzgKh"
      },
      "source": [
        "def get_model_name(name, batch_size, learning_rate, epoch):\n",
        "    \"\"\" Generate a name for the model consisting of all the hyperparameter values\n",
        "\n",
        "    Args:\n",
        "        config: Configuration object containing the hyperparameters\n",
        "    Returns:\n",
        "        path: A string with the hyperparameter name and value concatenated\n",
        "    \"\"\"\n",
        "    path = \"model_{0}_bs{1}_lr{2}_epoch{3}\".format(name,\n",
        "                                                   batch_size,\n",
        "                                                   learning_rate,\n",
        "                                                   epoch)\n",
        "    return path\n"
      ],
      "execution_count": null,
      "outputs": []
    },
    {
      "cell_type": "markdown",
      "metadata": {
        "id": "AhQx9Jk5OJZ-"
      },
      "source": [
        "## Model Training Code\n"
      ]
    },
    {
      "cell_type": "markdown",
      "metadata": {
        "id": "lvWvD25gfE1W"
      },
      "source": [
        "Parameters to tune:\n",
        "* Batch size\n",
        "* learning rate\n",
        "* epochs (at most have done 3)\n",
        "* the datasets which we use\n",
        "* optimizer?? (probably not)\n"
      ]
    },
    {
      "cell_type": "code",
      "metadata": {
        "id": "29AW2ZTHx6nP"
      },
      "source": [
        "import time\n",
        "import torch.nn as nn\n",
        "import torch.nn.functional as F\n",
        "import torch.optim as optim\n",
        "from torch.autograd import Variable\n",
        "from torch.nn.utils.rnn import pack_padded_sequence, pad_packed_sequence\n",
        "from sklearn.metrics import accuracy_score\n",
        "import torch\n",
        "import numpy as np\n",
        "import matplotlib.pyplot as plt\n",
        "from tqdm.notebook import tnrange, tqdm #for train_GRU / train_GRU\n"
      ],
      "execution_count": null,
      "outputs": []
    },
    {
      "cell_type": "code",
      "metadata": {
        "id": "j7dteehKw5kl"
      },
      "source": [
        "\n",
        "def train_GRU(model, train_dl, val_dl, loss_fn, epochs=3, learning_rate = 1e-3):\n",
        "    num_batch = len(train_dl)\n",
        "    train_acc = []\n",
        "    val_acc = []\n",
        "    val_loss = []\n",
        "    train_loss = []\n",
        "    # Train the network\n",
        "    # Loop over the data iterator and sample a new batch of training data\n",
        "    # Get the output from the network, and optimize our loss function.\n",
        "    start_time = time.time()\n",
        "    opt = optim.Adam(filter(lambda p: p.requires_grad, model.parameters()), learning_rate)\n",
        "    for epoch in tnrange(epochs):      \n",
        "        y_true_train = list()\n",
        "        y_pred_train = list()\n",
        "        total_loss_train = 0          \n",
        "        \n",
        "        t = tqdm(iter(train_dl), leave=False, total=num_batch) # tqdm lets us print a progress bar, https://stackoverflow.com/questions/42212810/tqdm-in-jupyter-notebook-prints-new-progress-bars-repeatedly\n",
        "        for (X,lengths),y in t:\n",
        "            t.set_description(f'Epoch {epoch}')\n",
        "            lengths = lengths.cpu().numpy()\n",
        "\n",
        "            \n",
        "            opt.zero_grad()\n",
        "            pred = model(X, lengths)\n",
        "            loss = loss_fn(pred, y)\n",
        "            loss.backward()\n",
        "            opt.step()\n",
        "            \n",
        "            t.set_postfix(loss=loss.item())\n",
        "            pred_idx = torch.max(pred, dim=1)[1]\n",
        "            y_true_train += list(y.cpu().data.numpy())\n",
        "            y_pred_train += list(pred_idx.cpu().data.numpy())\n",
        "            total_loss_train += loss.item()\n",
        "            \n",
        "        train_acc.append(accuracy_score(y_true_train, y_pred_train))\n",
        "        train_loss.append( total_loss_train/len(train_dl) )\n",
        "        \n",
        "        if val_dl:\n",
        "            y_true_val = list()\n",
        "            y_pred_val = list()\n",
        "            total_loss_val = 0\n",
        "            for (X,lengths),y in tqdm(val_dl, leave=False):\n",
        "                pred = model(X, lengths.cpu().numpy())\n",
        "                loss = loss_fn(pred, y)\n",
        "                pred_idx = torch.max(pred, 1)[1]\n",
        "                y_true_val += list(y.cpu().data.numpy())\n",
        "                y_pred_val += list(pred_idx.cpu().data.numpy())\n",
        "                total_loss_val += loss.item()\n",
        "            val_acc.append( accuracy_score(y_true_val, y_pred_val) )\n",
        "            val_loss.append( total_loss_val/len(val_dl) )\n",
        "            print(f'Epoch {epoch}: train_loss: {train_loss[-1]:.4f} train_acc: {train_acc[-1]:.4f} | val_loss: {val_loss[-1]:.4f} val_acc: {val_acc[-1]:.4f}')\n",
        "        else:\n",
        "            print(f'Epoch {epoch}: train_loss: {train_loss[-1]:.4f} train_acc: {train_acc[-1]:.4f}')\n",
        "\n",
        "        # save the model\n",
        "        model_path = get_model_name(model.name, batch_size, learning_rate, epoch)  # batch_size defined in section 4. Loading the data in batches\n",
        "        torch.save(model.state_dict(), model_path)\n",
        "\n",
        "    print('Finished Training')\n",
        "    end_time = time.time()\n",
        "    elapsed_time = end_time - start_time\n",
        "    print(\"Total time elapsed: {:.2f} seconds\".format(elapsed_time))\n",
        "\n",
        "    # Write the train/test loss/err into CSV file for plotting later\n",
        "    ttl_epochs = np.arange(1, epochs + 1)\n",
        "    np.savetxt(\"{}_train_acc.csv\".format(model_path), train_acc)\n",
        "    np.savetxt(\"{}_train_loss.csv\".format(model_path), train_loss)\n",
        "    np.savetxt(\"{}_val_acc.csv\".format(model_path), val_acc)\n",
        "    np.savetxt(\"{}_val_loss.csv\".format(model_path), val_loss)\n",
        "\n",
        "\n",
        "    # plotting\n",
        "    plt.title(\"Training Loss\")\n",
        "    plt.plot(train_loss, label=\"Train\")\n",
        "    plt.plot(val_loss, label=\"Validation\")\n",
        "    plt.xlabel(\"Epoch\")\n",
        "    plt.ylabel(\"Loss\")\n",
        "    plt.show()\n",
        "\n",
        "    plt.title(\"Training vs Validation Accuracy\")\n",
        "    plt.plot(ttl_epochs, train_acc, label=\"Train\")\n",
        "    plt.plot(ttl_epochs, val_acc, label=\"Validation\")\n",
        "    plt.xlabel(\"Epoch\")\n",
        "    plt.ylabel(\"Accuracy\")\n",
        "    plt.legend(loc='best')\n",
        "    plt.show()\n",
        "    \n",
        "    print(\"Final Training Accuracy: {}\".format(train_acc[-1]))\n",
        "    print(\"Final Validation Accuracy: {}\".format(val_acc[-1]))\n",
        "    print(\"Final Training Loss: {}\".format(train_loss[-1]))\n",
        "    print(\"Final Validation Loss: {}\".format(val_loss[-1]))\n",
        "\n",
        "    return train_acc, val_acc, train_loss, val_loss\n",
        "\n"
      ],
      "execution_count": null,
      "outputs": []
    },
    {
      "cell_type": "markdown",
      "metadata": {
        "id": "A4Urs0EiE7vE"
      },
      "source": [
        "## Define the Model"
      ]
    },
    {
      "cell_type": "code",
      "metadata": {
        "id": "fCpicC_-bcoG"
      },
      "source": [
        "vocab_size = len(text_field.vocab)\n",
        "embedding_dim = 100\n",
        "n_hidden = 64\n",
        "n_out = 2\n",
        "\n",
        "device = torch.device(\"cuda:0\" if torch.cuda.is_available() else \"cpu\")\n",
        "\n",
        "if device == torch.device(\"cuda\"):\n",
        "    torch.set_default_tensor_type(torch.cuda.FloatTensor)\n",
        "\n",
        "class FakeNewsConcatPoolingGRUAdaptive(nn.Module):\n",
        "    def __init__(self, vocab_size, embedding_dim, n_hidden, n_out, pretrained_vec, bidirectional=True):\n",
        "        super().__init__()\n",
        "        self.name = \"FakeNewsConcatPoolingGRUAdaptive\"\n",
        "        self.vocab_size = vocab_size\n",
        "        self.embedding_dim = embedding_dim\n",
        "        self.n_hidden = n_hidden\n",
        "        self.n_out = n_out\n",
        "        self.bidirectional = bidirectional\n",
        "        \n",
        "        self.emb = nn.Embedding(self.vocab_size, self.embedding_dim)\n",
        "        self.emb.weight.data.copy_(pretrained_vec) # load pretrained vectors\n",
        "        self.emb.weight.requires_grad = False # make embedding non trainable\n",
        "        self.gru = nn.GRU(self.embedding_dim, self.n_hidden, bidirectional=bidirectional)\n",
        "        self.drop = nn.Dropout(p=0.15)\n",
        "        if bidirectional:\n",
        "            self.out = nn.Linear(self.n_hidden*2*2, self.n_out)\n",
        "        else:\n",
        "            self.out = nn.Linear(self.n_hidden*2, self.n_out)\n",
        "        \n",
        "    def forward(self, seq, lengths):\n",
        "        bs = seq.size(1)\n",
        "        self.h = self.init_hidden(bs)\n",
        "        seq = seq.transpose(0,1)\n",
        "        embs = self.emb(seq)\n",
        "        embs = embs.transpose(0,1)\n",
        "        embs = pack_padded_sequence(embs, lengths, enforce_sorted=False)\n",
        "        gru_out, self.h = self.gru(embs, self.h)\n",
        "        gru_out, lengths = pad_packed_sequence(gru_out)   \n",
        "        avg_pool = F.adaptive_avg_pool1d(gru_out.permute(1,2,0),1).view(bs,-1)\n",
        "        max_pool = F.adaptive_max_pool1d(gru_out.permute(1,2,0),1).view(bs,-1) \n",
        "        drop_out = self.drop(torch.cat([avg_pool,max_pool],dim=1))\n",
        "        outp = self.out(drop_out)\n",
        "        # since it is as classification problem, we will grab the last hidden state\n",
        "        return F.log_softmax(outp, dim=-1)\n",
        "    \n",
        "    def init_hidden(self, batch_size): \n",
        "        if self.bidirectional:\n",
        "            return torch.zeros((2,batch_size,self.n_hidden)).to(device)\n",
        "        else:\n",
        "            return torch.zeros((1,batch_size,self.n_hidden)).cuda().to(device)\n",
        "          \n",
        "# Since text sequences are of variable length, torchtext provides a BucketIterator \n",
        "# data loader, which batches similar length sequences together. The iterator also \n",
        "# provides functionalities to pad sequences automatically. We can do all it for all three at once.\n"
      ],
      "execution_count": null,
      "outputs": []
    },
    {
      "cell_type": "code",
      "metadata": {
        "colab": {
          "base_uri": "https://localhost:8080/"
        },
        "id": "X-eYMIaO4MZT",
        "outputId": "85957df3-f5c2-4a7d-ccef-36d8c59dd7ca"
      },
      "source": [
        "next(iter(train_batch_it))\n"
      ],
      "execution_count": null,
      "outputs": [
        {
          "output_type": "execute_result",
          "data": {
            "text/plain": [
              "((tensor([[ 1112,   263,     6,  ...,  3778,   671,  3922],\n",
              "          [  751,   126,  2443,  ...,  1387,   206,  3474],\n",
              "          [ 2915,  1322,   306,  ...,     7,     2,   126],\n",
              "          ...,\n",
              "          [ 1112, 23557,   150,  ...,     1,     1,     1],\n",
              "          [  751,     1,     1,  ...,     1,     1,     1],\n",
              "          [ 1567,     1,     1,  ...,     1,     1,     1]]),\n",
              "  tensor([437, 435, 435, 434, 433, 433, 433, 433, 433, 432, 430, 429, 429, 429,\n",
              "          428, 426, 425, 425, 424, 424, 424, 423, 423, 423, 422, 421, 420, 420,\n",
              "          420, 419, 418, 417])),\n",
              " tensor([0, 1, 1, 1, 1, 0, 0, 1, 0, 1, 1, 0, 1, 0, 1, 1, 1, 0, 0, 1, 1, 0, 1, 1,\n",
              "         0, 1, 1, 0, 0, 1, 1, 1]))"
            ]
          },
          "metadata": {
            "tags": []
          },
          "execution_count": 48
        }
      ]
    },
    {
      "cell_type": "code",
      "metadata": {
        "colab": {
          "base_uri": "https://localhost:8080/",
          "height": 1000,
          "referenced_widgets": [
            "637d92518141420aac500f34ac6c4c16",
            "e39dd6a9ddb343d3bbd454ac28bf6ab3",
            "2dd27a3a255843fe917afd1406520164",
            "d1d293363b3146bc837639cfdbe3abe3",
            "58bdbe90c7f6432084a738f94f05e56b",
            "0a899376a64c49009c6e00be0de810a1",
            "631468226e494ec6b7a11fa6208512b2",
            "f805f1c9f3744e55b62b0b489854c300",
            "d45b393aedf547bfa387c04fa470fc77",
            "6065d4e5b59f4dc3b24807c0b8666ce5",
            "d8209b968b674c5582bebd428167c6dd",
            "03f0829a5a3f424f9175404e1e63424a",
            "880dad1e5e3e4758bead845c47ba54e9",
            "c25364bc73a2409bb587c7f5a62b17f0",
            "43be4e693b774598b48476723a53802c",
            "3e613cec5a4e4fd9be6bbcd0561b0266",
            "8ef2c7ba535d47148eb34c7714020109",
            "cc5d99ada9734c589fad3aa7cd383d2a",
            "1631cd2534ea459ea7a4d7d6d3107f29",
            "dffcbedfd91f4bbb9f82a25dcef8c5bd",
            "8be0bd471fe246c2a5f53fe56f3a82ac",
            "db239320c39642bba1f869ae11558970",
            "07200d84fad544aa8a02845eaa0b6d00",
            "ffe99a174d364a4d9af2c6a9d62418c4",
            "79616f6bfd0941ceaf319cb46cb37e2e",
            "6ccddc43290f4984a1e3ea3924f7e3b6",
            "f141318923564a5584f48b16f0f4ce60",
            "77ec7a74bab44d2aa7fe361899e4c38e",
            "6752f51828584d06af3bda7c2c56874d",
            "0f5fe152f82547f78077bfaa9498ba2e",
            "dd0924ecfef642e59abe5e129451093b",
            "73eab66e940a46bab19d42e6e69343ae",
            "d4fd0823c8db437e8d995ff8ea62c528",
            "1a3c21c9c73746b4ba9cbdb23bdc5013",
            "ae388d4da6854ad79846c2e5f677cb13",
            "6782720296894d1e9de2caac3dda65c2",
            "777182b0500a4e169d623b4ca80f8895",
            "1464d54f3ac344588a9eede684a95d17",
            "f6b532c5c93d41978528c7417787cdf9",
            "6d39b5f296be49beba213382c5275976",
            "80762ed2fd304125bc4043149d3ddf3a",
            "f355453cfb844339a8c59766ccf5e47a",
            "149f4dacf0ca433a81331a7c8a60f068",
            "129cf0001baf49dc886d479dee09de5d",
            "c7c89adee03c4eb2833c0f0fd1d5e158",
            "0209cd3ea8824eb8990e08ab80bda31b",
            "79976a9ee0744c04946fe95aa60f69a2",
            "1a86d74c27a145e0a802ba3e442eb149",
            "f984128af1c440c1bb5932a073b8aaef",
            "45f01edb0ae7416f832aff057d4c1fcd",
            "89292f71c6454b97aa19d7972c723ee3",
            "8c6eeed375df489ea670d2567642ff16",
            "9cf2278d760d4e899ec0fa66e01967b8",
            "3721a02328c04a3aad0b09ac5b69392b",
            "deb061368dda4b3683e4e2d7d738d138",
            "fdc525afbf884128896b695f7eeee2ef",
            "785dc04068d5451e878d8aff85be5992",
            "df3f6fa7a25143aeb2204688795b5eea",
            "14a052b7eebf40ae9ef5fe5db2fd3282",
            "4b443ee64fb7436d955dddc628c4efb8",
            "8cd0dc5f3a394b118834cc10d74fa82b",
            "21d6561a804945f8bc87cf9f7d66c6b4",
            "149bc6f7544f41f0a1d67af21588efec",
            "94f4e7ed0d5247ddbaabc12ccf2a2c9c",
            "55dd98b65a444132a92b059f01f2a9ec",
            "3574cb5c1133436c845a576b0cf2a842",
            "75d5a57f1ff24561a778f8da79a6204c",
            "95f46a0859ad454da243179e61554f62",
            "45db559556744b0d84cd3dae3d55da74",
            "2919bfeaa3934a0db3e9d74b009bb5d1",
            "5979e22475dc46829077f8aca65e496c",
            "705ea33d7e5247d89f914e120c554e1b",
            "5b32f4100016466eba7cff59e4cf75ba",
            "355016f656224100bf10ea46b604e0ec",
            "0e8c7258d84348e7b264225243a9cbbd",
            "79da7081075348e1830b31ecb4fa1e61",
            "978fa521506e4b8d9b14c0d3362496ea",
            "f154c94fdecd446c8895d6debc6c6a0a",
            "20df4036f4824e9582fad3ad9aa2da5c",
            "27f00107af544a8c82c2d79532291f37",
            "ceb35638ac0f470b8118b39dda0901ca",
            "f55a73b3a8fd4dc49ac6631f23ea7ebd",
            "91f5041f3d314505a82076d74c16c592",
            "4fad42ca535540e2a2b2e078e8d6eba6",
            "5971a8360ecb41b3af59f725a443618f",
            "f3d5198c91c14d22881784ffbb1e1cf5",
            "b579a4f091d84ef2a7a347f18a8e571d",
            "dd8ed50c4d3747debd186b5f9d02996a",
            "dc60ef870e034aa59b9fea72464c340b",
            "b4b8ec1667be4329a074fa5128c51f9f",
            "49441db922924483a47ea8969996309d",
            "acd59e81ede24409ac5e7930002426ea",
            "db8146873d62410598df8b62c4590417",
            "2286aeaaa1ff4b2199a1bcb6ca3879ed",
            "2d0384a0651f4c64b1e2b34e5f400498",
            "e1b45bc22f4a4b9e8572fceccf3c7801",
            "b97babfbbca34141b452fa8ce62cba91",
            "4c4950410ae8472c858959133e61c84e",
            "c0c6f3b17685423f94c10680553fac18",
            "4b6a965f5780416dbc88c7dcbc07511e",
            "56f677c2cef04c1f982a149dfbde37b0",
            "39f892fa353e436f9cdc8b7c33559072",
            "81dd3d4d76cf4355ae56ec29b6c25f33",
            "1b4d0dc92b3f4b64915759689d9df481",
            "6b2bb0e245594d25b55733eb27c35ffd",
            "c6a0a81673f045929d081d31787b682f",
            "b56fa11b57194e0ba52039fd2a29c1cd",
            "3d2f0375017d41fda74891254ad2d8ad",
            "a97e8bf94f434d3d906add4e338f561a",
            "ed03632fcf3f4dbe92f996b40bcd35c8",
            "de41fe7fa3954265b7f5c8ee3785a91b",
            "78158952bc7a4601bf005e02d68868d2",
            "7353ed8d73f74448b267c4f873153b3c",
            "22b536c4b9a24cf8a82b2bc9e8972e08",
            "08330b3555ff48c5a4795cbee1ba547c",
            "2937917e4b404c889dac11d8c3ae8e6d",
            "348f895d22a347e4bd089a6fba4e5463",
            "1d4b3ae1e65642f78eaccdaddfc13059",
            "3ed8fd26eceb463ea0af1626d1f78eb1",
            "a823e1cf5e42473f91bbd73083ba236c",
            "f9f901f3bc754f12a85a5fa01c5ef130",
            "cdfde4acc84d41c9b491c2da9a90c97f",
            "bf33b773da2e4446a33cb19e500303aa",
            "619f776017944c29a7bcc77e33e07477",
            "ff6a6dc222c549b38c78e373e6c0591a",
            "ab36a87ab8df4f46ac24a4629b759306",
            "15db11e5f9af482da68098aacf86ef11",
            "cdf479290ba34b53aa0dc03cff46c049",
            "ff4a8770e0f74d298a28920a3290e4a2",
            "64d2f65d76a54407a90254ce5101fc13",
            "cf8a31cc08464ca1ab9df94dd4275f1b",
            "d4ec0ede38774b81b766dc409a861cbc",
            "fd176a60886d49638750b7a1e74fd82a",
            "72da392b0719416c8e1d7b830460d666",
            "0ccc087d85a141288928b0dc6226d6a4",
            "415c3c4395c64501af28db113091210b",
            "dbe0e40024624d23b657e59a6bb62285",
            "b8e3bbd6bc834b08bb989ceeae1b4c61",
            "21583913ac654742b9f16176ded3ca3c",
            "2fe498bfdef944e3b6b111cc3dfe9098",
            "17ab4bf3508140bc9554653d82e7ff45",
            "bd3f2787672644f8b68262cf7d779ac5",
            "8632871d7a5444eb8a68d353a3b4d9c4",
            "140eecd98a2c415bb1caf83d04e7afea",
            "b8f33ba241a74b5e9ae3c51c32f60e3c",
            "0a74352f93e24743bcfcd99022dbd2f5",
            "24290de4e6064328bde4a3eeb19128eb",
            "847c55b8ce5943f59890214b98c906ab",
            "4db23125bacf423989d53bc5456fe2f4",
            "2c7c779c674246339d8483d415ef8e8d",
            "39128182f30547a8b3d55fa9c6603e53",
            "190f8aa2755449a485f4d58fcf812d71",
            "25be1923a9124408aadbdc6d9054eb3b",
            "a72e5ac12f8d4136b25da3d9fad171ee",
            "d8c8c9981c0641ed9b0b0b93ac366bf0",
            "761569996fca4125bc7fb8e1ff595ddd",
            "8249c7ba655a4f4bac800c4eb09e4423",
            "dea935406f7743b288f6eb63a46045d0",
            "a379b2f9127e41be8b28ab7e1106c37f",
            "f84bc7e1e7cb4e11b3a13e057fb6a598",
            "592ab0e18bd94e449be352a2fc5176f4",
            "a1a430c4b9174d6f830275b849830fc2",
            "a9d35d49369a478b9805d56c97f758aa",
            "56f93e0b90cf4144a38548fd53feac79",
            "ec40535ba1fc4770ac768b0a32b73969",
            "ab84b22b66d44c02b3457d686bf94380",
            "f1ef5c139dda46558b855e8b61eca860",
            "510dcd3e4b6a4682be0c784f6c7e0a22",
            "2a4940a58401460ba9dddc9ac85886d5",
            "63aa399967f04b229f6b21043757561a",
            "72cd2953863f4dbfb7ab94f9b5e81399",
            "1204f1a8f4d8473a92b2ac9434b6c73a",
            "84b4c2a0eda34c6db2616289ec643d8e",
            "c606d8d10569451eb3ce4120442c7e15",
            "c19facb5c2414913b1712bcd28cbdca8",
            "dad004bc8ee24ac983bf80c7c008b1f1",
            "f99ae2a4775743d6bf94f92e0aa1d95b",
            "153d38ea7fdc43ed8db84a5bebb8e4fd",
            "85bafcc2e9674eaa99aa43e5fc54117e",
            "7c6c3746d72a4eefadc6b6389ad17318",
            "ff48f35e93b14c4ca0e450e7343dcf83",
            "7b176d6b3c83458c9930dc97f0b1e8f9",
            "24126a96e6c74312a335702af0f643db",
            "5abc3adc648d4ad3bee08b430250fd23",
            "94caa4452146458182f46e634baf6748",
            "95d9fa2e4cd84bdf95714d11b93e8e44",
            "5672a8dfb8b6463082de6bfa0a733b77",
            "16bd5038c90a464aafdfb7809b4c261d",
            "181b8d22dd804efaaae37c6595adda9c",
            "70b785e3f4564aaebdf4547c68f8dece",
            "560a370ef4b342c4b1f925fb2143c98a",
            "992d3407f2454a73a47602bf8e524f8b",
            "2d094acc327a413c87d989dffe5d7558",
            "4fa8b178c101444ab5a3823f593ebdb2",
            "300bd05b648249388f547a17b472c23a",
            "5570b090c9ae477bb37e155aae94565e",
            "0f784dc4c4c94cabacf52da7c9191fb2",
            "84fc203d1e484158bae48d8e2d15e1db",
            "ec395897c4e64f42b775d9f637f9a94e",
            "5ca9c9d288bf4489ad2be09af41516bf",
            "ba20fd718af947aa8f07a7db0ca662ab",
            "1d885a5067914c07b70c107546db9a94",
            "4c4efc2a38af41b6a57f2c356cd51a19",
            "317473aafa614f34b713a49fc933e460",
            "8ea9fb9b34fb4888be99fa692d826f66",
            "5204bccde38f431a851609974f45458b",
            "8e747cc9546e4053ba21778a1f114b42",
            "5aa7423630a145a0a4b3cf96cf3fd84b",
            "7e273f92d43948ebbc3830c503030862",
            "3a81ae139923481c8ee4750c5785fd19",
            "259a96b9601248938f7c720fec1a73d7",
            "5f574b7653a1441481291032dde9e3f1",
            "5acaa4e8565445008f0e53570153e6d9",
            "2591b5c71799422b93cba660fdeca869",
            "26c55074027c4addb75499a3fe72b557",
            "f3afddef393d44d7a4e4697434450392",
            "bb2c203946974371908146c7adc61841",
            "d0497edfebeb4a869bdd2f5930c5324f",
            "5cd413c9691e440e9c0401e2e910a258",
            "2a36050e8a894352ad88c853ea0de695",
            "0b8a900babcb4126a3dd4d6b79490663",
            "f98c7511460049dcbf796f2513d9355a",
            "09deb4b2150d4d6292cc3de71574a6d3",
            "734e1a07ec9d4cf289afee5d9d4e9a48",
            "5a066e6cef2a43a3828e9095e65980c6",
            "dccbb7906e28423a91fb1d899555b671",
            "9437dd6c992c4995a005d4ce33089244",
            "a8669f4315754a6c8bd6d96dd79bdf4e",
            "88de18d7cffa484b9b83bbaab335e6e3",
            "e8099803a90846bb9442dab945c3d03e",
            "a22abfb0cde64b0ba568fbef14b5c117",
            "f0d4a09287664d8b8ce29832b6276061",
            "dfa75816248f4aeda74db34693def8b8",
            "f6e45c81e6d74615b5fafd49265900b9",
            "e9ee7e24a04142f3afa30d9e5ade9ce2",
            "cbbddfab120640318b7e454604d28d10",
            "bea890b877c9453ca9b93ea89425270c",
            "3f056fb568a8469b8a50b2b9e9859018",
            "5d0ec55c7eb246bd85740ed275b42bcf",
            "edd5708ec3c24b598d95b48415213ef7",
            "71581a4739044b90afac0db98ad9ef34",
            "fd2e727d7eca4ae5b6c565da9ca639f5",
            "0c9f78b33ba343b48c4b8d96f4c59952",
            "589c3d88a46f43d39e08ac2113c94141",
            "dc11f7f21f0f4b66856f5a2b85bf5865",
            "d4842e31b3ae41cd8dbd00542913ecc9",
            "81b53a2f54e646239954df8832eb006c",
            "b5d1deb3ff374bf28383fad29d056bbe"
          ]
        },
        "id": "trdkDMssOqqL",
        "outputId": "6dd536e8-9a02-43dd-e022-445849e7dde8"
      },
      "source": [
        "m = FakeNewsConcatPoolingGRUAdaptive(vocab_size, embedding_dim, n_hidden, n_out, \n",
        "                             train.fields['text'].vocab.vectors).to(device)\n",
        "# move this to its own textbox 1e-3\n",
        "train_GRU(model=m, train_dl=train_batch_it, val_dl=val_batch_it,  learning_rate = 0.0005, loss_fn = F.nll_loss, epochs=15)"
      ],
      "execution_count": null,
      "outputs": [
        {
          "output_type": "display_data",
          "data": {
            "application/vnd.jupyter.widget-view+json": {
              "model_id": "637d92518141420aac500f34ac6c4c16",
              "version_minor": 0,
              "version_major": 2
            },
            "text/plain": [
              "HBox(children=(FloatProgress(value=0.0, max=15.0), HTML(value='')))"
            ]
          },
          "metadata": {
            "tags": []
          }
        },
        {
          "output_type": "display_data",
          "data": {
            "application/vnd.jupyter.widget-view+json": {
              "model_id": "d45b393aedf547bfa387c04fa470fc77",
              "version_minor": 0,
              "version_major": 2
            },
            "text/plain": [
              "HBox(children=(FloatProgress(value=0.0, max=75.0), HTML(value='')))"
            ]
          },
          "metadata": {
            "tags": []
          }
        },
        {
          "output_type": "display_data",
          "data": {
            "application/vnd.jupyter.widget-view+json": {
              "model_id": "8ef2c7ba535d47148eb34c7714020109",
              "version_minor": 0,
              "version_major": 2
            },
            "text/plain": [
              "HBox(children=(FloatProgress(value=0.0, max=25.0), HTML(value='')))"
            ]
          },
          "metadata": {
            "tags": []
          }
        },
        {
          "output_type": "stream",
          "text": [
            "Epoch 0: train_loss: 0.6510 train_acc: 0.6440 | val_loss: 0.5787 val_acc: 0.8156\n"
          ],
          "name": "stdout"
        },
        {
          "output_type": "display_data",
          "data": {
            "application/vnd.jupyter.widget-view+json": {
              "model_id": "79616f6bfd0941ceaf319cb46cb37e2e",
              "version_minor": 0,
              "version_major": 2
            },
            "text/plain": [
              "HBox(children=(FloatProgress(value=0.0, max=75.0), HTML(value='')))"
            ]
          },
          "metadata": {
            "tags": []
          }
        },
        {
          "output_type": "display_data",
          "data": {
            "application/vnd.jupyter.widget-view+json": {
              "model_id": "d4fd0823c8db437e8d995ff8ea62c528",
              "version_minor": 0,
              "version_major": 2
            },
            "text/plain": [
              "HBox(children=(FloatProgress(value=0.0, max=25.0), HTML(value='')))"
            ]
          },
          "metadata": {
            "tags": []
          }
        },
        {
          "output_type": "stream",
          "text": [
            "Epoch 1: train_loss: 0.5207 train_acc: 0.8429 | val_loss: 0.4356 val_acc: 0.8595\n"
          ],
          "name": "stdout"
        },
        {
          "output_type": "display_data",
          "data": {
            "application/vnd.jupyter.widget-view+json": {
              "model_id": "80762ed2fd304125bc4043149d3ddf3a",
              "version_minor": 0,
              "version_major": 2
            },
            "text/plain": [
              "HBox(children=(FloatProgress(value=0.0, max=75.0), HTML(value='')))"
            ]
          },
          "metadata": {
            "tags": []
          }
        },
        {
          "output_type": "display_data",
          "data": {
            "application/vnd.jupyter.widget-view+json": {
              "model_id": "f984128af1c440c1bb5932a073b8aaef",
              "version_minor": 0,
              "version_major": 2
            },
            "text/plain": [
              "HBox(children=(FloatProgress(value=0.0, max=25.0), HTML(value='')))"
            ]
          },
          "metadata": {
            "tags": []
          }
        },
        {
          "output_type": "stream",
          "text": [
            "Epoch 2: train_loss: 0.3776 train_acc: 0.8847 | val_loss: 0.2943 val_acc: 0.9097\n"
          ],
          "name": "stdout"
        },
        {
          "output_type": "display_data",
          "data": {
            "application/vnd.jupyter.widget-view+json": {
              "model_id": "785dc04068d5451e878d8aff85be5992",
              "version_minor": 0,
              "version_major": 2
            },
            "text/plain": [
              "HBox(children=(FloatProgress(value=0.0, max=75.0), HTML(value='')))"
            ]
          },
          "metadata": {
            "tags": []
          }
        },
        {
          "output_type": "display_data",
          "data": {
            "application/vnd.jupyter.widget-view+json": {
              "model_id": "55dd98b65a444132a92b059f01f2a9ec",
              "version_minor": 0,
              "version_major": 2
            },
            "text/plain": [
              "HBox(children=(FloatProgress(value=0.0, max=25.0), HTML(value='')))"
            ]
          },
          "metadata": {
            "tags": []
          }
        },
        {
          "output_type": "stream",
          "text": [
            "Epoch 3: train_loss: 0.2650 train_acc: 0.9148 | val_loss: 0.2112 val_acc: 0.9285\n"
          ],
          "name": "stdout"
        },
        {
          "output_type": "display_data",
          "data": {
            "application/vnd.jupyter.widget-view+json": {
              "model_id": "5b32f4100016466eba7cff59e4cf75ba",
              "version_minor": 0,
              "version_major": 2
            },
            "text/plain": [
              "HBox(children=(FloatProgress(value=0.0, max=75.0), HTML(value='')))"
            ]
          },
          "metadata": {
            "tags": []
          }
        },
        {
          "output_type": "display_data",
          "data": {
            "application/vnd.jupyter.widget-view+json": {
              "model_id": "ceb35638ac0f470b8118b39dda0901ca",
              "version_minor": 0,
              "version_major": 2
            },
            "text/plain": [
              "HBox(children=(FloatProgress(value=0.0, max=25.0), HTML(value='')))"
            ]
          },
          "metadata": {
            "tags": []
          }
        },
        {
          "output_type": "stream",
          "text": [
            "Epoch 4: train_loss: 0.1957 train_acc: 0.9336 | val_loss: 0.1685 val_acc: 0.9398\n"
          ],
          "name": "stdout"
        },
        {
          "output_type": "display_data",
          "data": {
            "application/vnd.jupyter.widget-view+json": {
              "model_id": "dc60ef870e034aa59b9fea72464c340b",
              "version_minor": 0,
              "version_major": 2
            },
            "text/plain": [
              "HBox(children=(FloatProgress(value=0.0, max=75.0), HTML(value='')))"
            ]
          },
          "metadata": {
            "tags": []
          }
        },
        {
          "output_type": "display_data",
          "data": {
            "application/vnd.jupyter.widget-view+json": {
              "model_id": "b97babfbbca34141b452fa8ce62cba91",
              "version_minor": 0,
              "version_major": 2
            },
            "text/plain": [
              "HBox(children=(FloatProgress(value=0.0, max=25.0), HTML(value='')))"
            ]
          },
          "metadata": {
            "tags": []
          }
        },
        {
          "output_type": "stream",
          "text": [
            "Epoch 5: train_loss: 0.1534 train_acc: 0.9515 | val_loss: 0.1597 val_acc: 0.9523\n"
          ],
          "name": "stdout"
        },
        {
          "output_type": "display_data",
          "data": {
            "application/vnd.jupyter.widget-view+json": {
              "model_id": "6b2bb0e245594d25b55733eb27c35ffd",
              "version_minor": 0,
              "version_major": 2
            },
            "text/plain": [
              "HBox(children=(FloatProgress(value=0.0, max=75.0), HTML(value='')))"
            ]
          },
          "metadata": {
            "tags": []
          }
        },
        {
          "output_type": "display_data",
          "data": {
            "application/vnd.jupyter.widget-view+json": {
              "model_id": "7353ed8d73f74448b267c4f873153b3c",
              "version_minor": 0,
              "version_major": 2
            },
            "text/plain": [
              "HBox(children=(FloatProgress(value=0.0, max=25.0), HTML(value='')))"
            ]
          },
          "metadata": {
            "tags": []
          }
        },
        {
          "output_type": "stream",
          "text": [
            "Epoch 6: train_loss: 0.1224 train_acc: 0.9570 | val_loss: 0.1296 val_acc: 0.9435\n"
          ],
          "name": "stdout"
        },
        {
          "output_type": "display_data",
          "data": {
            "application/vnd.jupyter.widget-view+json": {
              "model_id": "f9f901f3bc754f12a85a5fa01c5ef130",
              "version_minor": 0,
              "version_major": 2
            },
            "text/plain": [
              "HBox(children=(FloatProgress(value=0.0, max=75.0), HTML(value='')))"
            ]
          },
          "metadata": {
            "tags": []
          }
        },
        {
          "output_type": "display_data",
          "data": {
            "application/vnd.jupyter.widget-view+json": {
              "model_id": "ff4a8770e0f74d298a28920a3290e4a2",
              "version_minor": 0,
              "version_major": 2
            },
            "text/plain": [
              "HBox(children=(FloatProgress(value=0.0, max=25.0), HTML(value='')))"
            ]
          },
          "metadata": {
            "tags": []
          }
        },
        {
          "output_type": "stream",
          "text": [
            "Epoch 7: train_loss: 0.1103 train_acc: 0.9666 | val_loss: 0.1060 val_acc: 0.9611\n"
          ],
          "name": "stdout"
        },
        {
          "output_type": "display_data",
          "data": {
            "application/vnd.jupyter.widget-view+json": {
              "model_id": "dbe0e40024624d23b657e59a6bb62285",
              "version_minor": 0,
              "version_major": 2
            },
            "text/plain": [
              "HBox(children=(FloatProgress(value=0.0, max=75.0), HTML(value='')))"
            ]
          },
          "metadata": {
            "tags": []
          }
        },
        {
          "output_type": "display_data",
          "data": {
            "application/vnd.jupyter.widget-view+json": {
              "model_id": "b8f33ba241a74b5e9ae3c51c32f60e3c",
              "version_minor": 0,
              "version_major": 2
            },
            "text/plain": [
              "HBox(children=(FloatProgress(value=0.0, max=25.0), HTML(value='')))"
            ]
          },
          "metadata": {
            "tags": []
          }
        },
        {
          "output_type": "stream",
          "text": [
            "Epoch 8: train_loss: 0.0920 train_acc: 0.9678 | val_loss: 0.0910 val_acc: 0.9699\n"
          ],
          "name": "stdout"
        },
        {
          "output_type": "display_data",
          "data": {
            "application/vnd.jupyter.widget-view+json": {
              "model_id": "25be1923a9124408aadbdc6d9054eb3b",
              "version_minor": 0,
              "version_major": 2
            },
            "text/plain": [
              "HBox(children=(FloatProgress(value=0.0, max=75.0), HTML(value='')))"
            ]
          },
          "metadata": {
            "tags": []
          }
        },
        {
          "output_type": "display_data",
          "data": {
            "application/vnd.jupyter.widget-view+json": {
              "model_id": "592ab0e18bd94e449be352a2fc5176f4",
              "version_minor": 0,
              "version_major": 2
            },
            "text/plain": [
              "HBox(children=(FloatProgress(value=0.0, max=25.0), HTML(value='')))"
            ]
          },
          "metadata": {
            "tags": []
          }
        },
        {
          "output_type": "stream",
          "text": [
            "Epoch 9: train_loss: 0.0723 train_acc: 0.9766 | val_loss: 0.0867 val_acc: 0.9661\n"
          ],
          "name": "stdout"
        },
        {
          "output_type": "display_data",
          "data": {
            "application/vnd.jupyter.widget-view+json": {
              "model_id": "2a4940a58401460ba9dddc9ac85886d5",
              "version_minor": 0,
              "version_major": 2
            },
            "text/plain": [
              "HBox(children=(FloatProgress(value=0.0, max=75.0), HTML(value='')))"
            ]
          },
          "metadata": {
            "tags": []
          }
        },
        {
          "output_type": "display_data",
          "data": {
            "application/vnd.jupyter.widget-view+json": {
              "model_id": "f99ae2a4775743d6bf94f92e0aa1d95b",
              "version_minor": 0,
              "version_major": 2
            },
            "text/plain": [
              "HBox(children=(FloatProgress(value=0.0, max=25.0), HTML(value='')))"
            ]
          },
          "metadata": {
            "tags": []
          }
        },
        {
          "output_type": "stream",
          "text": [
            "Epoch 10: train_loss: 0.0656 train_acc: 0.9820 | val_loss: 0.0783 val_acc: 0.9724\n"
          ],
          "name": "stdout"
        },
        {
          "output_type": "display_data",
          "data": {
            "application/vnd.jupyter.widget-view+json": {
              "model_id": "94caa4452146458182f46e634baf6748",
              "version_minor": 0,
              "version_major": 2
            },
            "text/plain": [
              "HBox(children=(FloatProgress(value=0.0, max=75.0), HTML(value='')))"
            ]
          },
          "metadata": {
            "tags": []
          }
        },
        {
          "output_type": "display_data",
          "data": {
            "application/vnd.jupyter.widget-view+json": {
              "model_id": "2d094acc327a413c87d989dffe5d7558",
              "version_minor": 0,
              "version_major": 2
            },
            "text/plain": [
              "HBox(children=(FloatProgress(value=0.0, max=25.0), HTML(value='')))"
            ]
          },
          "metadata": {
            "tags": []
          }
        },
        {
          "output_type": "stream",
          "text": [
            "Epoch 11: train_loss: 0.0599 train_acc: 0.9808 | val_loss: 0.0745 val_acc: 0.9737\n"
          ],
          "name": "stdout"
        },
        {
          "output_type": "display_data",
          "data": {
            "application/vnd.jupyter.widget-view+json": {
              "model_id": "ba20fd718af947aa8f07a7db0ca662ab",
              "version_minor": 0,
              "version_major": 2
            },
            "text/plain": [
              "HBox(children=(FloatProgress(value=0.0, max=75.0), HTML(value='')))"
            ]
          },
          "metadata": {
            "tags": []
          }
        },
        {
          "output_type": "display_data",
          "data": {
            "application/vnd.jupyter.widget-view+json": {
              "model_id": "7e273f92d43948ebbc3830c503030862",
              "version_minor": 0,
              "version_major": 2
            },
            "text/plain": [
              "HBox(children=(FloatProgress(value=0.0, max=25.0), HTML(value='')))"
            ]
          },
          "metadata": {
            "tags": []
          }
        },
        {
          "output_type": "stream",
          "text": [
            "Epoch 12: train_loss: 0.0496 train_acc: 0.9833 | val_loss: 0.0906 val_acc: 0.9774\n"
          ],
          "name": "stdout"
        },
        {
          "output_type": "display_data",
          "data": {
            "application/vnd.jupyter.widget-view+json": {
              "model_id": "bb2c203946974371908146c7adc61841",
              "version_minor": 0,
              "version_major": 2
            },
            "text/plain": [
              "HBox(children=(FloatProgress(value=0.0, max=75.0), HTML(value='')))"
            ]
          },
          "metadata": {
            "tags": []
          }
        },
        {
          "output_type": "display_data",
          "data": {
            "application/vnd.jupyter.widget-view+json": {
              "model_id": "5a066e6cef2a43a3828e9095e65980c6",
              "version_minor": 0,
              "version_major": 2
            },
            "text/plain": [
              "HBox(children=(FloatProgress(value=0.0, max=25.0), HTML(value='')))"
            ]
          },
          "metadata": {
            "tags": []
          }
        },
        {
          "output_type": "stream",
          "text": [
            "Epoch 13: train_loss: 0.0515 train_acc: 0.9841 | val_loss: 0.0743 val_acc: 0.9787\n"
          ],
          "name": "stdout"
        },
        {
          "output_type": "display_data",
          "data": {
            "application/vnd.jupyter.widget-view+json": {
              "model_id": "dfa75816248f4aeda74db34693def8b8",
              "version_minor": 0,
              "version_major": 2
            },
            "text/plain": [
              "HBox(children=(FloatProgress(value=0.0, max=75.0), HTML(value='')))"
            ]
          },
          "metadata": {
            "tags": []
          }
        },
        {
          "output_type": "display_data",
          "data": {
            "application/vnd.jupyter.widget-view+json": {
              "model_id": "71581a4739044b90afac0db98ad9ef34",
              "version_minor": 0,
              "version_major": 2
            },
            "text/plain": [
              "HBox(children=(FloatProgress(value=0.0, max=25.0), HTML(value='')))"
            ]
          },
          "metadata": {
            "tags": []
          }
        },
        {
          "output_type": "stream",
          "text": [
            "Epoch 14: train_loss: 0.0536 train_acc: 0.9866 | val_loss: 0.0663 val_acc: 0.9787\n",
            "\n",
            "Finished Training\n",
            "Total time elapsed: 23152.78 seconds\n"
          ],
          "name": "stdout"
        },
        {
          "output_type": "display_data",
          "data": {
            "image/png": "[encoded data removed]",
            "text/plain": [
              "<Figure size 432x288 with 1 Axes>"
            ]
          },
          "metadata": {
            "tags": [],
            "needs_background": "light"
          }
        },
        {
          "output_type": "display_data",
          "data": {
            "image/png": "[encoded data removed]",
            "text/plain": [
              "<Figure size 432x288 with 1 Axes>"
            ]
          },
          "metadata": {
            "tags": [],
            "needs_background": "light"
          }
        },
        {
          "output_type": "stream",
          "text": [
            "Final Training Accuracy: 0.9866276640200585\n",
            "Final Validation Accuracy: 0.9786700125470514\n",
            "Final Training Loss: 0.05360263725742698\n",
            "Final Validation Loss: 0.06631933518219739\n"
          ],
          "name": "stdout"
        },
        {
          "output_type": "execute_result",
          "data": {
            "text/plain": [
              "([0.6439615545340577,\n",
              "  0.8428750522356874,\n",
              "  0.8846636021730045,\n",
              "  0.914751358127873,\n",
              "  0.9335562055996657,\n",
              "  0.951525282072712,\n",
              "  0.9569577935645633,\n",
              "  0.9665691600501463,\n",
              "  0.9678228165482657,\n",
              "  0.9765984120351023,\n",
              "  0.9820309235269536,\n",
              "  0.980777267028834,\n",
              "  0.9832845800250731,\n",
              "  0.9841203510238195,\n",
              "  0.9866276640200585],\n",
              " [0.8155583437892095,\n",
              "  0.8594730238393977,\n",
              "  0.9096612296110415,\n",
              "  0.9284818067754078,\n",
              "  0.9397741530740276,\n",
              "  0.9523212045169385,\n",
              "  0.9435382685069009,\n",
              "  0.9611041405269761,\n",
              "  0.9698870765370138,\n",
              "  0.9661229611041405,\n",
              "  0.972396486825596,\n",
              "  0.973651191969887,\n",
              "  0.9774153074027604,\n",
              "  0.9786700125470514,\n",
              "  0.9786700125470514],\n",
              " [0.650952388048172,\n",
              "  0.5207496927181879,\n",
              "  0.3776484124859174,\n",
              "  0.2649926208953063,\n",
              "  0.1956685783714056,\n",
              "  0.15337249947090945,\n",
              "  0.12235773670797546,\n",
              "  0.11031562404707074,\n",
              "  0.09196674693686267,\n",
              "  0.07232297210643689,\n",
              "  0.06560687668000659,\n",
              "  0.059878919987628856,\n",
              "  0.04956889631149049,\n",
              "  0.05145672582245121,\n",
              "  0.05360263725742698],\n",
              " [0.5786572515964508,\n",
              "  0.43555897533893584,\n",
              "  0.2943210369348526,\n",
              "  0.2112213270366192,\n",
              "  0.16849691696465016,\n",
              "  0.15974981168285013,\n",
              "  0.12956155564635993,\n",
              "  0.10600660014897585,\n",
              "  0.09096388473175467,\n",
              "  0.0867291548103094,\n",
              "  0.0782886330038309,\n",
              "  0.07450008509680629,\n",
              "  0.09063437103992328,\n",
              "  0.07430423352867364,\n",
              "  0.06631933518219739])"
            ]
          },
          "metadata": {
            "tags": []
          },
          "execution_count": 49
        }
      ]
    },
    {
      "cell_type": "markdown",
      "metadata": {
        "id": "vaXHzPWNOXoF"
      },
      "source": [
        "## Caculate the Model's Test Accuracy "
      ]
    },
    {
      "cell_type": "code",
      "metadata": {
        "id": "3fkn3MG31i6s"
      },
      "source": [
        "#ambrose addition\n",
        "from sklearn.metrics import confusion_matrix\n",
        "import seaborn as sns\n",
        "\n",
        "def get_test_accuracy(model, test_batch_it):\n",
        "    y_true_test = list()\n",
        "    y_pred_test = list()\n",
        "    enforce_sorted=False\n",
        "    for (X,lengths),y in tqdm(test_batch_it):\n",
        "        pred = (m(X, lengths.cpu().numpy()))\n",
        "        # print(\"the predval: \", pred)\n",
        "        pred = torch.max(pred, 1)[1]\n",
        "        # print(\"the new predval: \", pred)\n",
        "        # print(\"ground truth\", y)\n",
        "        y_true_test += list(y.cpu().data.numpy())\n",
        "        y_pred_test += list(pred.cpu().data.numpy())\n",
        "    # from sklearn.metrics import accuracy_score\n",
        "    # accuracy = accuracy_score(prediction, labels_test)\n",
        "    \n",
        "    #ambrose addition begin\n",
        "    cm = confusion_matrix(y_true_test, y_pred_test, labels=[1,0])\n",
        "    ax = plt.subplot()\n",
        "    sns.heatmap(cm, annot=True, ax=ax, cmap=\"Blues\", fmt=\"d\")\n",
        "    ax.set_title('Confusion Matrix')\n",
        "    ax.set_xlabel('Predicted Labels')\n",
        "    ax.set_ylabel('True Labels')\n",
        "    ax.xaxis.set_ticklabels(['REAL', 'Fake'])\n",
        "    ax.yaxis.set_ticklabels(['REAL', 'Fake'])\n",
        "    #ambrose addition end\n",
        "\n",
        "\n",
        "    test_acc = accuracy_score(y_true_test, y_pred_test)\n",
        "    return test_acc, cm\n"
      ],
      "execution_count": null,
      "outputs": []
    },
    {
      "cell_type": "code",
      "metadata": {
        "colab": {
          "base_uri": "https://localhost:8080/",
          "height": 394,
          "referenced_widgets": [
            "3d6312af725b4e79b94a71bbe2354a61",
            "9e3be9ead4e84f528cefd7cd37502c97",
            "bd67e096294447e09bfa323a1dbd2418",
            "ed06bcbb67344d2aafc17b98e47ae750",
            "78bf980314ab4192b401c21ce7715939",
            "f1bc7ab664bf4b61910c4763a675a479",
            "922c4a10739c4d0d82fdc20d0b55d162",
            "20c8e7fd4b6c49f5aae9b13da9ff0d90"
          ]
        },
        "id": "PDaM8OKOaeBR",
        "outputId": "6e04c24d-d07b-4adb-8cfb-6fc5cae46f08"
      },
      "source": [
        "test_acc, cm = get_test_accuracy(m, test_batch_it);\n",
        "print(test_acc)\n",
        "print(cm)"
      ],
      "execution_count": null,
      "outputs": [
        {
          "output_type": "display_data",
          "data": {
            "application/vnd.jupyter.widget-view+json": {
              "model_id": "3d6312af725b4e79b94a71bbe2354a61",
              "version_minor": 0,
              "version_major": 2
            },
            "text/plain": [
              "HBox(children=(FloatProgress(value=0.0, max=25.0), HTML(value='')))"
            ]
          },
          "metadata": {
            "tags": []
          }
        },
        {
          "output_type": "stream",
          "text": [
            "\n",
            "0.9837092731829574\n",
            "[[371   4]\n",
            " [  9 414]]\n"
          ],
          "name": "stdout"
        },
        {
          "output_type": "display_data",
          "data": {
            "image/png": "[encoded data removed]",
            "text/plain": [
              "<Figure size 432x288 with 2 Axes>"
            ]
          },
          "metadata": {
            "tags": [],
            "needs_background": "light"
          }
        }
      ]
    },
    {
      "cell_type": "markdown",
      "metadata": {
        "id": "W2oG_3ROvaLZ"
      },
      "source": [
        "## Emily new data sample testing\n"
      ]
    },
    {
      "cell_type": "code",
      "metadata": {
        "id": "euKeBKsZvZsj"
      },
      "source": [
        "demo_sentence = torchtext.legacy.data.TabularDataset(\"/content/drive/MyDrive/APS360_group/demo_new_data/fake_left.csv\", # name of the file\n",
        "                                        \"csv\",              #format of the files that will be loaded and processed   \n",
        "                                        fields,             #Tell torchtext how the coming data will be processed\n",
        "                                        skip_header=True)  # skip first line \n",
        "\n",
        "demo_sentence_iter = torchtext.legacy.data.BucketIterator(demo_sentence,\n",
        "                                           batch_size=1,\n",
        "                                           sort_key=lambda x: len(x.text), # to minimize padding\n",
        "                                           sort_within_batch=False,        # sort within each batch\n",
        "                                           repeat=False)                 # repeat the iterator for many epochs\n",
        "\n",
        "\n",
        "demo_batch_it = BatchGenerator(demo_sentence_iter, 'text', 'label') \n"
      ],
      "execution_count": null,
      "outputs": []
    },
    {
      "cell_type": "code",
      "metadata": {
        "id": "U6JnVjrrwEqc"
      },
      "source": [
        "def get_test_accuracy(model, test_batch_it):\n",
        "    y_true_test = list()\n",
        "    y_pred_test = list()\n",
        "    enforce_sorted=False\n",
        "    for (X,lengths),y in tqdm(test_batch_it):\n",
        "        pred = (model(X, lengths.cpu().numpy()))\n",
        "        # print(\"the predval: \", pred)\n",
        "        pred = torch.max(pred, 1)[1]\n",
        "        # print(\"the new predval: \", pred)\n",
        "        # print(\"ground truth\", y)\n",
        "        y_true_test += list(y.cpu().data.numpy())\n",
        "        y_pred_test += list(pred.cpu().data.numpy())\n",
        "    # from sklearn.metrics import accuracy_score\n",
        "    test_acc = accuracy_score(y_true_test, y_pred_test)\n",
        "    return test_acc"
      ],
      "execution_count": null,
      "outputs": []
    },
    {
      "cell_type": "code",
      "metadata": {
        "colab": {
          "base_uri": "https://localhost:8080/",
          "height": 344,
          "referenced_widgets": [
            "eac9f1e7c92244bfa336309ac06ffb0d",
            "b28f3de33fa7441c9f19601ba5893ddd",
            "8f07f248391c44179c3bb664886c8fc9",
            "63977b55ccff448499f892630968c0e7",
            "87065151759545409ce58a6721e47447",
            "5ff3829f61da4de9b67c6ddef736e6bb",
            "06a490fee3b040b086b1a5b3f4ad119b",
            "7d7151284af345e1b7ec9186ec83ec32"
          ]
        },
        "id": "SrfufTXowGsz",
        "outputId": "f733fc11-13d7-4a49-cf88-fe29ac6fc0ad"
      },
      "source": [
        "test_acc = get_test_accuracy(m, test_batch_it);"
      ],
      "execution_count": null,
      "outputs": [
        {
          "output_type": "display_data",
          "data": {
            "application/vnd.jupyter.widget-view+json": {
              "model_id": "eac9f1e7c92244bfa336309ac06ffb0d",
              "version_minor": 0,
              "version_major": 2
            },
            "text/plain": [
              "HBox(children=(FloatProgress(value=0.0, max=25.0), HTML(value='')))"
            ]
          },
          "metadata": {
            "tags": []
          }
        },
        {
          "output_type": "stream",
          "text": [
            "\n"
          ],
          "name": "stdout"
        },
        {
          "output_type": "display_data",
          "data": {
            "image/png": "[encoded data removed]",
            "text/plain": [
              "<Figure size 432x288 with 2 Axes>"
            ]
          },
          "metadata": {
            "tags": [],
            "needs_background": "light"
          }
        }
      ]
    },
    {
      "cell_type": "code",
      "metadata": {
        "colab": {
          "base_uri": "https://localhost:8080/"
        },
        "id": "CHmYasKiJDzx",
        "outputId": "5a7c2941-f05e-447a-92c3-d04b898a4dc8"
      },
      "source": [
        "print(test_acc)"
      ],
      "execution_count": null,
      "outputs": [
        {
          "output_type": "stream",
          "text": [
            "0.9837092731829574\n"
          ],
          "name": "stdout"
        }
      ]
    },
    {
      "cell_type": "code",
      "metadata": {
        "colab": {
          "base_uri": "https://localhost:8080/",
          "height": 378,
          "referenced_widgets": [
            "7782a32eac1b498abb2e72e4c371bad7",
            "233b5360b89847f18406f4ba663c5d56",
            "ecde71956efe4da1a6e14207bed9230a",
            "cdd774c0ec2342fabb9fdf5007383c30",
            "28626de3b5e04da58f51e0c8078a244b",
            "4b671fddacb246bf8b9946562472cde3",
            "fe959aae4b32497093b304d37bd11dac",
            "c7dbbaad535643409f885b9f3bf838b7"
          ]
        },
        "id": "FmBro5stGi2d",
        "outputId": "5fbc81fa-8eab-49ea-ec5c-33c004ac5400"
      },
      "source": [
        "demo_test_acc = get_test_accuracy(m, demo_batch_it);\n",
        "print(demo_test_acc)"
      ],
      "execution_count": null,
      "outputs": [
        {
          "output_type": "display_data",
          "data": {
            "application/vnd.jupyter.widget-view+json": {
              "model_id": "7782a32eac1b498abb2e72e4c371bad7",
              "version_minor": 0,
              "version_major": 2
            },
            "text/plain": [
              "HBox(children=(FloatProgress(value=0.0, max=8.0), HTML(value='')))"
            ]
          },
          "metadata": {
            "tags": []
          }
        },
        {
          "output_type": "stream",
          "text": [
            "\n",
            "(1.0, array([[8, 0],\n",
            "       [0, 0]]))\n"
          ],
          "name": "stdout"
        },
        {
          "output_type": "display_data",
          "data": {
            "image/png": "[encoded data removed]",
            "text/plain": [
              "<Figure size 432x288 with 2 Axes>"
            ]
          },
          "metadata": {
            "tags": [],
            "needs_background": "light"
          }
        }
      ]
    },
    {
      "cell_type": "code",
      "metadata": {
        "colab": {
          "base_uri": "https://localhost:8080/",
          "height": 378,
          "referenced_widgets": [
            "c23155a280524944bedc17340f4836f2",
            "726a87fd5d4d49b8b63c9c27ea2478f1",
            "f26b341dc0134ef08deeed0bd7611991",
            "beb87ee90d7543ad842ad18d82b870d5",
            "3f5645ecf65f46e5808cdae17737745d",
            "6e5ebfa77c9b4f299aa915d0c0e4837b",
            "07673c90cff64a98bef2554a5bb9f060",
            "2a03e338ca3b4d62a5159d3d10f98751"
          ]
        },
        "id": "hbx4k4SUJcuH",
        "outputId": "c532f855-5ad5-4cb3-c04c-d127081b81a7"
      },
      "source": [
        "demo_test_acc = get_test_accuracy(m, demo_batch_it);\n",
        "print(demo_test_acc)"
      ],
      "execution_count": null,
      "outputs": [
        {
          "output_type": "display_data",
          "data": {
            "application/vnd.jupyter.widget-view+json": {
              "model_id": "c23155a280524944bedc17340f4836f2",
              "version_minor": 0,
              "version_major": 2
            },
            "text/plain": [
              "HBox(children=(FloatProgress(value=0.0, max=4.0), HTML(value='')))"
            ]
          },
          "metadata": {
            "tags": []
          }
        },
        {
          "output_type": "stream",
          "text": [
            "\n",
            "(0.75, array([[0, 0],\n",
            "       [1, 3]]))\n"
          ],
          "name": "stdout"
        },
        {
          "output_type": "display_data",
          "data": {
            "image/png": "[encoded data removed]",
            "text/plain": [
              "<Figure size 432x288 with 2 Axes>"
            ]
          },
          "metadata": {
            "tags": [],
            "needs_background": "light"
          }
        }
      ]
    },
    {
      "cell_type": "markdown",
      "metadata": {
        "id": "YO8H22smGrSg"
      },
      "source": [
        "fake_left 2: accuracte\n",
        "\n",
        "fake_left accuracy: 0.75\n",
        "\n",
        "real_right accuracy: 1.0\n"
      ]
    },
    {
      "cell_type": "code",
      "metadata": {
        "id": "bVBQ_88JYYqL"
      },
      "source": [
        "# I've been just saving the vocabulary used for training to a text file (tab separated):\n",
        "\n",
        "def save_vocab(vocab, path):\n",
        "    with open(path, 'w+') as f:     \n",
        "        for token, index in vocab.stoi.items():\n",
        "            f.write(f'{index}\\t{token}')\n",
        "# Use this by passing TEXT.vocab to it.\n",
        "\n",
        "# Then, in the inference file, we can the vocabulary into a plain old Python dictionary:\n",
        "\n",
        "def read_vocab(path):\n",
        "    vocab = dict()\n",
        "    with open(path, 'r') as f:\n",
        "        for line in f:\n",
        "            index, token = line.split('\\t')\n",
        "            vocab[token] = int(index)\n",
        "    return vocab\n",
        "# Then use the below function - which is similar to that in the tutorials - which takes in a string, tokenizes it with our vocab we've just loaded and outputs a prediction.\n",
        "\n",
        "def predict_sentiment(model, sentence, vocab, unk_idx):\n",
        "    \"\"\"\n",
        "    model is your PyTorch model\n",
        "    sentence is string you wish to predict sentiment on\n",
        "    vocab is dictionary, keys = tokens, values = index of token\n",
        "    unk_idx is the index of the <unk> token in the vocab\n",
        "    \"\"\"\n",
        "    tokens = tokenize(sentence) #convert string to tokens, needs to be same tokenization as training\n",
        "    indexes = [vocab.get(t, unk_idx) for t in tokens] #converts to index or unk if not in vocab\n",
        "    tensor = torch.LongTensor(indexes).unsqueeze(1) #convert to tensor and add batch dimension\n",
        "    output = model(tensor) #get output from model\n",
        "    prediction = torch.sigmoid(output) #squeeze between 0-1 range\n",
        "    return prediction"
      ],
      "execution_count": null,
      "outputs": []
    },
    {
      "cell_type": "markdown",
      "metadata": {
        "id": "S10XshYXYZYa"
      },
      "source": [
        "## Test the Model On Individual Texts "
      ]
    },
    {
      "cell_type": "markdown",
      "metadata": {
        "id": "XxAvEsodtQcW"
      },
      "source": [
        "What do we need from training?\n",
        "1. torch.save(train.fields['text'].vocab.vectors, 'vocabulary_pretrained_vectors.pt')\n",
        "2. The following info from training about our network:\n",
        "        * vocab_size = len(text_field.vocab)\n",
        "        * embedding_dim = 100\n",
        "        * n_hidden = 64\n",
        "        * n_out = 2\n",
        "3. The following files (5)\n",
        "![files.png](data:image/png;base64,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)"
      ]
    },
    {
      "cell_type": "code",
      "metadata": {
        "colab": {
          "background_save": true
        },
        "id": "UYHw_GzcubXi"
      },
      "source": [
        "import numpy as np\n",
        "import torchtext\n",
        "from torchtext.legacy import data\n",
        "import spacy\n",
        "import re # RegEx, or Regular Expression, is a sequence of characters that forms a search pattern."
      ],
      "execution_count": null,
      "outputs": []
    },
    {
      "cell_type": "markdown",
      "metadata": {
        "id": "35IN1fIiX8Y5"
      },
      "source": [
        "#### Loading our model\n"
      ]
    },
    {
      "cell_type": "code",
      "metadata": {
        "colab": {
          "background_save": true
        },
        "id": "pVpWj16QS2tb"
      },
      "source": [
        "# Set and load the model \n",
        "def FakeNewsGRU_load_model(model_path, vocab_size, embedding_dim, n_hidden, n_out, vocabulary_pretrained_vectors):\n",
        "    model = FakeNewsConcatPoolingGRUAdaptive(vocab_size, embedding_dim, n_hidden, n_out, vocabulary_pretrained_vectors)\n",
        "\n",
        "    #######\n",
        "    # Just something we need to do\n",
        "    device = torch.device(\"cuda\" if torch.cuda.is_available() \n",
        "                                    else \"cpu\")\n",
        "    model.to(device)\n",
        "    use_cuda = False\n",
        "    if torch.cuda.is_available():\n",
        "        model.cuda()\n",
        "    ########\n",
        "\n",
        "    # The path to the model we are loading  ex. model_path =  \"git/wavechord/SignLanguageDetectionCNN/bs32_lr0.001_epoch29/model_CNN_classifier_bs32_lr0.001_epoch29\"\n",
        "    # Load it in\n",
        "    model.load_state_dict(torch.load(model_path) )\n",
        "    # Dunno\n",
        "    model.eval()\n",
        "    # print our model parameters\n",
        "    return (model)\n"
      ],
      "execution_count": null,
      "outputs": []
    },
    {
      "cell_type": "markdown",
      "metadata": {
        "id": "EP5kPnihucAg"
      },
      "source": [
        "Our tockenizer which makes splits in the sentences into their consituent words "
      ]
    },
    {
      "cell_type": "code",
      "metadata": {
        "colab": {
          "background_save": true
        },
        "id": "59RMkW4EuQ1p"
      },
      "source": [
        "# tokenizer function using spacy\n",
        "nlp = spacy.load('en',disable=['parser', 'tagger', 'ner'])\n",
        "\n",
        "def tokenize(s): \n",
        "    return [w.text.lower() for w in nlp(text_clean(s))]\n",
        "\n",
        "def text_clean(text):\n",
        "    text = re.sub(r'[^A-Za-z0-9]+', ' ', text) # remove non alphanumeric character\n",
        "    text = re.sub(r'https?:/\\/\\S+', ' ', text) # remove links\n",
        "    return text.strip()\n"
      ],
      "execution_count": null,
      "outputs": []
    },
    {
      "cell_type": "markdown",
      "metadata": {
        "id": "duYrd_dvYVwS"
      },
      "source": [
        "#### Time to load the model (+ set up some of its initial parameters), import Our Text We Want to Run Our Model oN, and run predict_sentiment on it!\n"
      ]
    },
    {
      "cell_type": "markdown",
      "metadata": {
        "id": "v4Hw5l26u5KC"
      },
      "source": [
        "Read our .pt file with our vocab vectors from training. We need this for when loading our model."
      ]
    },
    {
      "cell_type": "code",
      "metadata": {
        "colab": {
          "background_save": true
        },
        "id": "Jl9P0z7TZC5M"
      },
      "source": [
        "# Grab this info from training to init our model! We saved these vectors as torch.tensor during \"Load pretrained word vectors and building vocabulary\" and now will load it to demo with\n",
        "vocabulary_pretrained_vectors_path =\"/content/vocabulary_pretrained_vectors.pt\"\n",
        "vocabulary_pretrained_vectors = torch.load(vocabulary_pretrained_vectors_path)\n",
        "vocab_size = print(len(vocabulary_pretrained_vectors))\n",
        "\n",
        "# # This is will import a dictionary that maps the vocabulary (token) we trained with in train to its \"token value\"\n",
        "# # note the struct is as follows vocabulary_pretrained[\"hi\"] = 0 (0 means not in our dict), vocabulary_pretrained[\"structure\"] == 2 (greater than 0 means it exists in our dict)\n",
        "# vocabulary_pretrained = []\n",
        "# print(len(vocabulary_pretrained))\n",
        "# vocabulary_pretrained_path = \"/content/vocabulary_pretrained.txt\"\n",
        "# vocabulary_pretrained = read_vocabulary_pretrained(vocabulary_pretrained_path)\n",
        "\n",
        "# # print(len(vocabulary_pretrained) )\n",
        "# vocab_size = len(vocabulary_pretrained) # i think it is this\n",
        "\n",
        "embedding_dim = 100\n",
        "n_hidden = 64\n",
        "n_out = 2\n",
        "\n"
      ],
      "execution_count": null,
      "outputs": []
    },
    {
      "cell_type": "code",
      "metadata": {
        "colab": {
          "background_save": true
        },
        "id": "ehdbGJ2cVwzo"
      },
      "source": [
        "demo_model = FakeNewsGRU_load_model(\"/content/model_FakeNewsConcatPoolingGRUAdaptive_bs3_lr1e-05_epoch0\", vocab_size, embedding_dim, n_hidden, n_out, vocabulary_pretrained_vectors)"
      ],
      "execution_count": null,
      "outputs": []
    },
    {
      "cell_type": "markdown",
      "metadata": {
        "id": "7If9yMnCsl4R"
      },
      "source": [
        "#### Let's use the model"
      ]
    },
    {
      "cell_type": "code",
      "metadata": {
        "colab": {
          "base_uri": "https://localhost:8080/",
          "height": 244
        },
        "id": "r4rZaidk2ZDz",
        "outputId": "bb0a6e47-fee2-43ff-895c-760b0f113f46"
      },
      "source": [
        "# define the columns that we want to process and how to process\n",
        "text_field = data.Field(sequential=True, \n",
        "                       tokenize=tokenize,  \n",
        "                       include_lengths=True, \n",
        "                       use_vocab=True)\n",
        "\n",
        "fields = [\n",
        "        ('title', None), \n",
        "        ('text', text_field), \n",
        "        ('label', None)] # not using label!\n",
        "\n",
        "\n",
        "from torchtext import vocab\n",
        "\n",
        "# # specify the path to the localy saved vectors\n",
        "# vec = vocab.Vectors('glove.twitter.27B.100d.txt', './data/glove_embedding/')\n",
        "\n",
        "# Loading the embedding will take 3-5 mins (My internet is slow with a 4.19MB/s download speed). The file is 1.52GB\n",
        "vec = torchtext.vocab.GloVe(name=\"twitter.27B\", dim=100, max_vectors=10000) # use 10k most common words\n",
        "# build the vocabulary using train and validation dataset and assign the vectors\n",
        "# import the vocab we used duruing training on the model! \n",
        "# i lied don't just use the pre-embeddings from glove!\n",
        "text_field.build_vocab(max_size=10000, vectors=vec)\n",
        "# reddit says this https://www.reddit.com/r/MachineLearning/comments/93t75s/d_building_vocab_including_train_valid_and_test/\n",
        "\n",
        "demo_sentence = torchtext.legacy.data.TabularDataset(\"/content/drive/MyDrive/APS360_group/demo_dataframe.csv\", # name of the file\n",
        "                                        \"csv\",              #format of the files that will be loaded and processed   \n",
        "                                        fields,             #Tell torchtext how the coming data will be processed\n",
        "                                        skip_header=True)  # skip first line \n",
        "\n",
        "\n",
        "demo_sentence_iter = torchtext.legacy.data.BucketIterator(demo_sentence,\n",
        "                                           batch_size=1,\n",
        "                                           sort_key=lambda x: len(x.text), # to minimize padding\n",
        "                                           sort_within_batch=False,        # sort within each batch\n",
        "                                           repeat=False)                 # repeat the iterator for many epochs\n",
        "\n",
        "class DemoBatchGenerator:\n",
        "    def __init__(self, dl, x_field):\n",
        "        self.dl, self.x_field = dl, x_field,\n",
        "        \n",
        "    def __len__(self):\n",
        "        return len(self.dl)\n",
        "    \n",
        "    def __iter__(self):\n",
        "        for batch in self.dl:\n",
        "            X = getattr(batch, self.x_field)\n",
        "            yield (X)\n",
        "\n",
        "\n",
        "\n",
        "demo_sentence_batch_it = DemoBatchGenerator(demo_sentence_iter, 'text') # use the wrapper to convert Batch to data. This will put the data in the correct format."
      ],
      "execution_count": null,
      "outputs": [
        {
          "output_type": "error",
          "ename": "NameError",
          "evalue": "ignored",
          "traceback": [
            "\u001b[0;31m---------------------------------------------------------------------------\u001b[0m",
            "\u001b[0;31mNameError\u001b[0m                                 Traceback (most recent call last)",
            "\u001b[0;32m<ipython-input-90-2bd844f3040f>\u001b[0m in \u001b[0;36m<module>\u001b[0;34m()\u001b[0m\n\u001b[1;32m      1\u001b[0m \u001b[0;31m# define the columns that we want to process and how to process\u001b[0m\u001b[0;34m\u001b[0m\u001b[0;34m\u001b[0m\u001b[0;34m\u001b[0m\u001b[0m\n\u001b[1;32m      2\u001b[0m text_field = data.Field(sequential=True, \n\u001b[0;32m----> 3\u001b[0;31m                        \u001b[0mtokenize\u001b[0m\u001b[0;34m=\u001b[0m\u001b[0mtokenize\u001b[0m\u001b[0;34m,\u001b[0m\u001b[0;34m\u001b[0m\u001b[0;34m\u001b[0m\u001b[0m\n\u001b[0m\u001b[1;32m      4\u001b[0m                        \u001b[0minclude_lengths\u001b[0m\u001b[0;34m=\u001b[0m\u001b[0;32mTrue\u001b[0m\u001b[0;34m,\u001b[0m\u001b[0;34m\u001b[0m\u001b[0;34m\u001b[0m\u001b[0m\n\u001b[1;32m      5\u001b[0m                        use_vocab=True)\n",
            "\u001b[0;31mNameError\u001b[0m: name 'tokenize' is not defined"
          ]
        }
      ]
    },
    {
      "cell_type": "markdown",
      "metadata": {
        "id": "Jmuz3k6DX_kt"
      },
      "source": [
        "#### Predict if the \"text\" input is real or fake news"
      ]
    },
    {
      "cell_type": "code",
      "metadata": {
        "colab": {
          "base_uri": "https://localhost:8080/",
          "height": 262
        },
        "id": "USxC3WcGshMK",
        "outputId": "38d1e86d-4dea-49c5-f741-5cd601d1fb25"
      },
      "source": [
        "print(\"The demo sentence is: \", demo_sentence.text)\n",
        "print(demo_sentence_batch_it.x_field)\n",
        "\n",
        "# predict_sentiment(demo_model, demo_sentence_batch_it, vocabulary_pretrained)\n",
        "# t = tqdm(iter(demo_sentence_batch_it), leave=False, total=1) # tqdm lets us print a progress bar, https://stackoverflow.com/questions/42212810/tqdm-in-jupyter-notebook-prints-new-progress-bars-repeatedly\n",
        "\n",
        "i =0\n",
        "enforce_sorted=False\n",
        "for (X,lengths) in tqdm(demo_sentence_batch_it):\n",
        "    lengths = lengths.cpu().numpy()\n",
        "    pred = demo_model(X, lengths)\n",
        "pred = torch.max(pred, 1)[1]\n",
        "\n",
        "print(\"The news article is -\", pred)\n"
      ],
      "execution_count": null,
      "outputs": [
        {
          "output_type": "error",
          "ename": "NameError",
          "evalue": "ignored",
          "traceback": [
            "\u001b[0;31m---------------------------------------------------------------------------\u001b[0m",
            "\u001b[0;31mNameError\u001b[0m                                 Traceback (most recent call last)",
            "\u001b[0;32m<ipython-input-89-80049e66c371>\u001b[0m in \u001b[0;36m<module>\u001b[0;34m()\u001b[0m\n\u001b[0;32m----> 1\u001b[0;31m \u001b[0mprint\u001b[0m\u001b[0;34m(\u001b[0m\u001b[0;34m\"The demo sentence is: \"\u001b[0m\u001b[0;34m,\u001b[0m \u001b[0mdemo_sentence\u001b[0m\u001b[0;34m.\u001b[0m\u001b[0mtext\u001b[0m\u001b[0;34m)\u001b[0m\u001b[0;34m\u001b[0m\u001b[0;34m\u001b[0m\u001b[0m\n\u001b[0m\u001b[1;32m      2\u001b[0m \u001b[0mprint\u001b[0m\u001b[0;34m(\u001b[0m\u001b[0mdemo_sentence_batch_it\u001b[0m\u001b[0;34m.\u001b[0m\u001b[0mx_field\u001b[0m\u001b[0;34m)\u001b[0m\u001b[0;34m\u001b[0m\u001b[0;34m\u001b[0m\u001b[0m\n\u001b[1;32m      3\u001b[0m \u001b[0;34m\u001b[0m\u001b[0m\n\u001b[1;32m      4\u001b[0m \u001b[0;31m# predict_sentiment(demo_model, demo_sentence_batch_it, vocabulary_pretrained)\u001b[0m\u001b[0;34m\u001b[0m\u001b[0;34m\u001b[0m\u001b[0;34m\u001b[0m\u001b[0m\n\u001b[1;32m      5\u001b[0m \u001b[0;31m# t = tqdm(iter(demo_sentence_batch_it), leave=False, total=1) # tqdm lets us print a progress bar, https://stackoverflow.com/questions/42212810/tqdm-in-jupyter-notebook-prints-new-progress-bars-repeatedly\u001b[0m\u001b[0;34m\u001b[0m\u001b[0;34m\u001b[0m\u001b[0;34m\u001b[0m\u001b[0m\n",
            "\u001b[0;31mNameError\u001b[0m: name 'demo_sentence' is not defined"
          ]
        }
      ]
    },
    {
      "cell_type": "code",
      "metadata": {
        "id": "gjJ36pHSEV-L"
      },
      "source": [
        "def predict_article(article):\n",
        "    image_tensor = image_tensor.unsqueeze_(0)\n",
        "    input = Variable(image_tensor)\n",
        "    input = input.to(device)\n",
        "    output = model(input)\n",
        "    index = output.data.cpu().numpy().argmax()\n",
        "    return index"
      ],
      "execution_count": null,
      "outputs": []
    },
    {
      "cell_type": "code",
      "metadata": {
        "id": "vBok1fB1XWDL"
      },
      "source": [
        "\n",
        "# Upload our model\n",
        "torch.manual_seed(8) # set the random seed\n",
        "\n",
        "# model = FakeNewsConcatPoolingGRUAdaptive()\n",
        "# device = torch.device(\"cuda\" if torch.cuda.is_available() \n",
        "#                                   else \"cpu\")\n",
        "# model.to(device)\n",
        "# use_cuda = False\n",
        "# if torch.cuda.is_available():\n",
        "#     model.cuda()\n",
        "# model_path =  \"git/wavechord/SignLanguageDetectionCNN/bs32_lr0.001_epoch29/model_CNN_classifier_bs32_lr0.001_epoch29\"\n",
        "# model.load_state_dict(torch.load(model_path), map_location=torch.device('cpu') )\n",
        "# model.eval()\n",
        "# print our model parameters\n",
        "print(model)\n",
        "#########################################################################\n",
        "\n",
        "#########################################################################\n",
        "# predict our image\n",
        "predict_image(im)\n",
        "\n",
        "def predict_image(image):\n",
        "    text = test_transforms(image).float()\n",
        "    image_tensor = image_tensor.unsqueeze_(0)\n",
        "    input = Variable(image_tensor)\n",
        "    input = input.to(device)\n",
        "    output = model(input)\n",
        "    label = output.data.cpu().numpy().argmax()\n",
        "return label\n",
        "#########################################################################"
      ],
      "execution_count": null,
      "outputs": []
    },
    {
      "cell_type": "code",
      "metadata": {
        "id": "E8Sjh2I-Xyx9"
      },
      "source": [
        ""
      ],
      "execution_count": null,
      "outputs": []
    }
  ]
}